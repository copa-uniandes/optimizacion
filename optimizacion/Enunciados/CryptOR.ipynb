{ 

"cells": [ 

  { 

   "cell_type": "markdown", 

   "metadata": {}, 

   "source": [ 

    "# CryptOR" 

   ] 

  }, 

  { 

   "cell_type": "markdown", 

   "metadata": {}, 

   "source": [ 

    "<b><i style=\"font-size:13px\">Tags: </i></b><i style=\"font-size:11px\">Funciones a trozos</i>" 

   ] 

  }, 

  { 

   "cell_type": "markdown", 

   "metadata": {}, 

   "source": [ 

    "## Enunciado\n", 

    "CryptOR is una compañía que se dedica a minar criptomonedas. El mayor problema de planeación para CryptOR es la compra de energía. Dado el alto consumo de energía, CryptOR debe negociar contratos para los próximos 12 meses con las diferentes empresas de generación eléctrica. El costo por kilovatio-hora (kWh) varía según la cantidad de energía contratada y la empresa generadora. El costo total en función del consumo está representado por funciones no lineales suministradas por cada generadora. Así mismo, cada empresa generadora establece la duración de cada contrato que se firme con la misma y el consumo máximo mensual que pueden suministrar. Los contratos de cada generadora se pueden renovar múltiples veces durante los 12 meses de planeación, pero estos no se deben traslapar. Finalmente, se conoce un pronóstico de la demanda de energía en kWh que se debe satisfacer sin holgura. Las Tablas 1 y 2 resumen toda la información disponible. " 

   ] 

  }, 

  { 

   "cell_type": "markdown", 

   "metadata": {}, 

   "source": [ 

    "### Tabla 1. Términos de los contratos para cada generadora.\n", 

    "\n", 

    "|                     |**Función de costo**                      | **Duración del contrato**| **Consumo máximo mensual**|\n", 

    "|:-------------------:|:----------------------------------------:|:------------------------:|:-------------------------:|\n", 

    "|**Generadora Carbón**|$f_1(x) = 0.0012 x^2$                     | 2 meses                  | 250 kWh                   |\n", 

    "|**Generadora Solar** |$f_2(x) = \\begin{cases}0.0028 x^2 - 0.5x + 35 \\ \\ x>0 \\\\ 0 \\ \\ x=0 \\end{cases}$          | 4 meses                  | 250 kWh                   |\n", 

    "|**Generadora Eólica**|$f_3(x) = \\begin{cases}0.5 x log(\\frac{x}{150}) + 30 \\ \\ x>0 \\\\ 0 \\ \\ x=0 \\end{cases}$  | 3 meses                  | 250 kWh                   |\n", 

    "\n", 

    "### Tabla 2. Demanda mensual en kWh.\n", 

    "|Mes| 1 | 2 | 3 | 4 | 5 | 6 | 7 | 8 | 9 | 10 | 11 | 12|\n", 

    "|:-:|:-:|:-:|:-:|:-:|:-:|:-:|:-:|:-:|:-:|:-:|:-:|:-:|\n", 

    "|demanda| 100| 150| 300| 300| 300| 500| 400| 400| 200| 200| 200| 200|" 

   ] 

  }, 

  { 

   "cell_type": "code", 

   "execution_count": null, 

   "metadata": {}, 

   "outputs": [], 

   "source": [ 

    "import matplotlib.pyplot as plt\n", 

    "import numpy as np\n", 

    "\n", 

    "def f1(x):\n", 

    "    # Función de costo de la generadora carbón\n", 

    "    return 0.0012 * (x ** 2)\n", 

    "def f2(x):\n", 

    "    # Función de costo de la generadora solar\n", 

    "    return 0.0028 * x ** 2 - 0.5*x + 35\n", 

    "def f3(x):\n", 

    "    # Función de costo de la generadora eólica\n", 

    "    return 0.5 * x*np.log(x/150) + 30\n", 

    "\n", 

    "# Puntos de evaluación de la función\n", 

    "kwh = np.arange(1,250)\n", 

    "\n", 

    "fig, axs = plt.subplots(1,3, sharey=False, sharex=True, figsize=(15,5))\n", 

    "axs[0].plot(kwh, f1(kwh))\n", 

    "axs[1].plot(kwh, f2(kwh))\n", 

    "axs[2].plot(kwh, f3(kwh))\n", 

    "for ax_ix, ax in enumerate(axs):\n", 

    "    ax.set_xlabel(\"Consumo en kWh\")\n", 

    "    ax.set_ylabel(f\"f {ax_ix+1} (x)\")\n", 

    "    ax.set_ylim([0,100])\n", 

    "\n" 

   ] 

  }, 

  { 

   "cell_type": "markdown", 

   "metadata": {}, 

   "source": [ 

    "## Linealización a trozos\n", 

    "\n", 

    "Optimizar utilizando las funciones $f_1(x)$, $f_2(x)$ y $f_3(x)$ es computacionalmente más difícil debido a que son funciones no lineales. Sin embrago, dado que son funciones [convexas](https://es.wikipedia.org/wiki/Funci%C3%B3n_convexa) es posible aproximarlas con múltiples funciones lineales. Dada una función convexa $f(x)$, la función $g(x;x_0) = f(x_0) + f'(x_0) * (x-x0)$ es una aproximación de [primer orden](https://es.wikipedia.org/wiki/Serie_de_Taylor), la cual es exacta en $x_0$ y se degrada a medida que $x$ se aleja de $x_0$. Con esta idea en mente, cualquier función convexa se puede aproximar generando múltiples funciones de forma  $g(x;x_0)$ para diferentes valores de $x_0$. La siguiente celda muestra la función $f(x) = (x - 4)^2$ (en azul) y su aproximación (en rojo) utilizando 4 rectas correspondientes a  $g(x;x_0)$ para $x_0=0,3,5,8$." 

   ] 

  }, 

  { 

   "cell_type": "code", 

   "execution_count": null, 

   "metadata": {}, 

   "outputs": [], 

   "source": [ 

    "import matplotlib.pyplot as plt\n", 

    "import numpy as np\n", 

    "\n", 

    "def f(x, orden=0):\n", 

    "    if orden == 0:\n", 

    "        # Función (x-4) ^ 2\n", 

    "        return  (x-4) ** 2 \n", 

    "    else:\n", 

    "        # Derivada evaluada en x\n", 

    "        return 2 *(x - 4)\n", 

    "\n", 

    "# Puntos de evaluacion de la función\n", 

    "dominio = np.arange(-2,10,0.01)\n", 

    "\n", 

    "fig, axs = plt.subplots(1,1, sharey=False, sharex=True, figsize=(15,5))\n", 

    "axs.plot(dominio, f(dominio))\n", 

    "for x_0 in [0, 3, 5, 8]:\n", 

    "    axs.plot(dominio, f(x_0) +  f(x_0,1) * (dominio - x_0), linestyle='dashed', color='red')\n", 

    "    print(f'Función evaluada en {x_0}:  {f(x_0):.1f} + {f(x_0, 1):.1f} * (x - {x_0})')\n", 

    "axs.set_xlabel(\"Consumo en kWh\")\n", 

    "axs.set_ylabel(f\"f(x)\")\n", 

    "axs.set_ylim([-2,40])\n" 

   ] 

  }, 

  { 

   "cell_type": "markdown", 

   "metadata": {}, 

   "source": [ 

    "### Optimizando con la aproximación\n", 

    "Para una función convexa, $f(x)$, los siguientes problemas son equivalentes:\n", 

    " $$\n", 

    "\\begin{align*}\n", 

    "\\min & f(x)      &= \\ \\ \\min \\ \\ &z  \\\\ \n", 

    "&x\\in \\mathbb{R}. &        & z \\geq f(x), \\\\\n", 

    "&                &        & x \\in \\mathbb{R}.\n", 

    "\\end{align*}\n", 

    "$$\n", 

    "Asi mismo, $f(x)\\geq g(x,x_0)$ para cualquier valor de $x_0$. \n", 

    "\n", 

    "Con estas dos observaciones, el problema original, $\\min_{x\\in\\mathbb{R}} (x-4)^2$, lo podemos aproximar con el siguiente modelo:\n", 

    " $$\n", 

    "\\begin{align*}\n", 

    "\\min \\ \\ &z  \\\\ \n", 

    "       & z \\geq 16  -8 * (x - 0) \\\\\n", 

    "       & z \\geq 1  -2 * (x - 3) \\\\\n", 

    "       & z \\geq 1 + 2 * (x - 5) \\\\\n", 

    "       & z \\geq 16 + 8 * (x - 8) \\\\\n", 

    "      & x \\in \\mathbb{R} \n", 

    "\\end{align*}\n", 

    "$$\n" 

   ] 

  }, 

  { 

   "cell_type": "markdown", 

   "metadata": {}, 

   "source": [ 

    "### Funciones de costo aproximadas\n", 

    "Volviendo al problema de cryptOR, una posible aproximación se muestra a continuación. " 

   ] 

  }, 

  { 

   "cell_type": "code", 

   "execution_count": null, 

   "metadata": {}, 

   "outputs": [], 

   "source": [ 

    "import matplotlib.pyplot as plt\n", 

    "import numpy as np\n", 

    "\n", 

    "def f1(x, orden=0):\n", 

    "    if orden == 0:\n", 

    "        # Función de costo de la generadora carbón\n", 

    "        return 0.0012 * (x ** 2) \n", 

    "    else:\n", 

    "        # Derivada evaluada en x\n", 

    "        return 0.0012 * 2 * x\n", 

    "\n", 

    "def f2(x, orden=0):\n", 

    "    if orden == 0:\n", 

    "        # Función de costo de la generadora solar\n", 

    "        return 0.0028 * x ** 2 - 0.5*x + 35\n", 

    "    else:\n", 

    "        # Derivada evaluada en x\n", 

    "        return 2 * 0.0028 * x - 0.5\n", 

    "def f3(x, orden=0):\n", 

    "    if orden == 0:\n", 

    "        # Función de costo de la generadora eólica\n", 

    "        return 0.5 * x*np.log(x/150) + 30\n", 

    "    else:\n", 

    "        # Derivada evaluada en x\n", 

    "        return 0.5 * np.log(x/150) + 0.5\n", 

    "\n", 

    "# Funciones de costo\n", 

    "f = [f1,f2,f3]\n", 

    "# Puntos de evaluación de la función\n", 

    "kwh = np.arange(1,250)\n", 

    "\n", 

    "fig, axs = plt.subplots(1,3, sharey=False, sharex=True, figsize=(15,5))\n", 

    "for i, ax in enumerate(axs):\n", 

    "    axs[i].plot(kwh, f[i](kwh), )\n", 

    "    for x_0 in [20, 50, 100, 200]:\n", 

    "        axs[i].plot(kwh, f[i](x_0) +  f[i](x_0,1) * (kwh - x_0), linestyle='dashed', color='red')\n", 

    "        print(f'Función {i+1} evaluada en {x_0}:  {f[i](x_0):.3f} + {f[i](x_0, 1):.3f} * (x - {x_0})')\n", 

    "    ax.set_xlabel(\"Consumo en kWh\")\n", 

    "    ax.set_ylabel(f\"f {i+1} (x)\")\n", 

    "    ax.set_ylim([-1,100])\n" 

   ] 

  }, 

  { 

   "cell_type": "markdown", 

   "metadata": {}, 

   "source": [ 

    "<div style=\"text-align:justify\">\n", 

    "Formule un modelo general de optimización lineal que le permita a CryptOR satisfacer la demanda de energía al mínimo costo y satisfaciendo las condiciones de los contratos. Para esto usted debe seguir los siguientes pasos: " 

   ] 

  }, 

  { 

   "cell_type": "markdown", 

   "metadata": {}, 

   "source": [ 

    "## Formulación\n", 

    "\n", 

    "**1.** Escriba lo(s) conjunto(s), parámetro(s) y variable(s) de decisión que utilizará en el modelo.  \n", 

    "\n", 

    "### Conjuntos\n", 

    "- $P$: Generadoras\n", 

    "- $T$: Periodos de planeación\n", 

    "\n", 

    "### Parámetros\n", 

    "- $d_t$: demanda de energía en kWh para el mes $t\\in T$\n", 

    "- $b_i$: Consumo máximo mensual de la generadora $i\\in G$\n", 

    "- $m_i$: Duración de cada contrato de la generadora $i\\in G$\n", 

    "- $a_{ik}$: intercepto de la ecuación $k\\in{1,2,3,4}$ para la generadora $i\\in G$\n", 

    "- $p_{ik}$: pendiente de la ecuación $k\\in{1,2,3,4}$ para la generadora $i\\in G$\n", 

    "\n", 

    "### Variables de decisión\n", 

    "- $x_{it}$: cantidad de kWh contratados a la generadora $i\\in G$ para el mes $t\\in T$\n", 

    "- $y_{it}$: variable binaria que indica si un nuevo contrato se firma con la generadora $i\\in G$ en el mes $t\\in T$\n", 

    "- $v_{it}$: variable binaria que indica si un contrato con la generadora $i\\in G$ esta vigente en el mes $t\\in T$\n", 

    "- $z_{it}$: costo total por consumo de energía de la generadora $i\\in G$ en el mes $t\\in T$" 

   ] 

  }, 

  { 

   "cell_type": "markdown", 

   "metadata": {}, 

   "source": [ 

    "### Restricciones\n", 

    "**2.** Escriba la(s) restricción(es) lineal(es) que garantiza(n) que se debe respetar la demanda exacta en cada mes. \n" 

   ] 

  }, 

  { 

   "cell_type": "markdown", 

   "metadata": {}, 

   "source": [ 

    "$$\n", 

    "\\begin{align*}\n", 

    "\\sum_{i \\in G}x_{it} = d_t \\ \\ \\forall t \\in T.\n", 

    "\\end{align*}\n", 

    "$$" 

   ] 

  }, 

  { 

   "cell_type": "markdown", 

   "metadata": {}, 

   "source": [ 

    "**3.** Escriba la(s) restricción(es) lineal(es) que garantiza(n) que la cantidad de kWh contratados no superan el consumo máximo mensual en los meses en donde hay un contrato vigente.\n", 

    "$$\n", 

    "\\begin{align*}\n", 

    "x_{it} \\leq b_i v_{it} \\forall i \\in G, t \\in T.\n", 

    "\\end{align*}\n", 

    "$$" 

   ] 

  }, 

  { 

   "cell_type": "markdown", 

   "metadata": {}, 

   "source": [ 

    "**4.** Escriba la(s) restricción(es) lineal(es) que garantiza(n) que si un contrato se firma, debe estar vigente por la duración estipulada, y que solo se puede haber un contrato vigente si se firmó previamente o en el mismo mes.\n", 

    "$$\n", 

    "\\begin{align*}\n", 

    "\\sum_{t' \\in \\{\\max\\{t-m_i+1, 1\\}, \\ldots, t\\}}y_{it'} \\geq  v_{it} \\ \\ \\forall i \\in G, t \\in T. \\\\ \n", 

    "|\\{t, \\ldots, \\min\\{t+m_i-1,12\\}\\}|y_{it} \\leq  \\sum_{t' \\in \\{t, \\ldots, \\min\\{t+m_i-1,12\\}\\}}v_{it} \\ \\ \\forall i \\in G, t \\in T. \\\\ \n", 

    "\\end{align*}\n", 

    "$$" 

   ] 

  }, 

  { 

   "cell_type": "markdown", 

   "metadata": {}, 

   "source": [ 

    "**4.** Escriba la(s) restricción(es) lineal(es) que garantiza(n) que los contratos con cada generadora no se deben traslapar.\n", 

    "$$\n", 

    "\\begin{align*}\n", 

    "\\sum_{t' \\in \\{t, \\ldots, t+m_i-1\\}}y_{it'} \\leq 1 \\ \\ \\forall i \\in G, t \\in T.\n", 

    "\\end{align*}\n", 

    "$$" 

   ] 

  }, 

  { 

   "cell_type": "markdown", 

   "metadata": {}, 

   "source": [ 

    "**4.** Escriba la(s) restricción(es) lineal(es) que modelan las funciones de costo con expresiones lineales. Note que si no hay un contrato vigente en un mes particular, el costo es cero.\n", 

    "$$\n", 

    "\\begin{align*}\n", 

    "z_{it} \\geq a_{ik} + p_{ik} x_{it} - M(1-v_{it})  \\ \\ \\forall i \\in G, t \\in T, k \\in \\{1,2,3,4\\}\n", 

    "\\end{align*}\n", 

    "$$" 

   ] 

  }, 

  { 

   "cell_type": "markdown", 

   "metadata": {}, 

   "source": [ 

    "**4.** Escriba la(s) restricción(es) que describe(n) matemáticamente el tipo de variable(s) que está utilizando dentro del modelo. \n", 

    "\n", 

    "$$\n", 

    "\\begin{align*}\n", 

    "x_{it} & \\ge 0 \\ \\ &&\\forall i\\in G,t\\in T.\\\\\n", 

    "y_{it} & \\in\\{0,1\\} \\ \\ &&\\forall i\\in G,t\\in T.\\\\\n", 

    "v_{it} & \\in \\{0,1\\} \\ \\  &&\\forall i\\in G,t\\in T.\\\\\n", 

    "z_{it} & \\ge 0 \\ \\ &&\\forall i\\in G,t\\in D.\\\\\n", 

    "\\end{align*}\n", 

    "$$" 

   ] 

  }, 

  { 

   "cell_type": "markdown", 

   "metadata": {}, 

   "source": [ 

    "### Función Objetivo\n", 

    "**5.** Escriba la función objetivo.\n", 

    "\n", 

    "$$\n", 

    "\\text{minimizar }  \\sum_{i\\in P}\\sum_{t\\in T}z_{it}\n", 

    "$$" 

   ] 

  }, 

  { 

   "cell_type": "markdown", 

   "metadata": {}, 

   "source": [ 

    "## Formulación matemática completa" 

   ] 

  }, 

  { 

   "cell_type": "markdown", 

   "metadata": {}, 

   "source": [ 

    "## Formulación\n", 

    "\n", 

    "**1.** Escriba lo(s) conjunto(s), parámetro(s) y variable(s) de decisión que utilizará en el modelo.  \n", 

    "\n", 

    "### Conjuntos\n", 

    "- $P$: Generadoras\n", 

    "- $T$: Periodos de planeación\n", 

    "\n", 

    "### Parámetros\n", 

    "- $d_t$: demanda de energía en kWh para el mes $t\\in T$\n", 

    "- $b_i$: Consumo máximo mensual de la generadora $i\\in G$\n", 

    "- $m_i$: Duración de cada contrato de la generadora $i\\in G$\n", 

    "- $a_{ik}$: intercepto de la ecuación $k\\in{1,2,3,4}$ para la generadora $i\\in G$\n", 

    "- $p_{ik}$: pendiente de la ecuación $k\\in{1,2,3,4}$ para la generadora $i\\in G$\n", 

    "\n", 

    "### Variables de decisión\n", 

    "- $x_{it}$: cantidad de kWh contratados a la generadora $i\\in G$ para el mes $t\\in T$\n", 

    "- $y_{it}$: variable binaria que indica si un nuevo contrato se firma con la generadora $i\\in G$ en el mes $t\\in T$\n", 

    "- $v_{it}$: variable binaria que indica si un contrato con la generadora $i\\in G$ está vigente en el mes $t\\in T$\n", 

    "- $z_{it}$: costo total por consumo de energía de la generadora $i\\in G$ en el mes $t\\in T$\n", 

    "\n", 

    "**Modelo:**\n", 

    "\n", 

    "$$\n", 

    "\\begin{align*}\n", 

    "\n", 

    "&\\text{minimizar } & \\sum_{i\\in P}\\sum_{t\\in T}z_{it} &&(1)\\\\\n", 

    "&\\text{sujeto a}&&& \\\\\n", 

    "&&\\sum_{i \\in G}x_{it} = d_t \\ \\  \\ \\  & \\forall t \\in T; &(2) \\\\\n", 

    "&&x_{it} \\leq b_i v_{it}  \\ \\  \\ \\  & \\forall i \\in G, t \\in T;&(3)\\\\\n", 

    "&&\\sum_{t' \\in \\{\\max\\{t-m_i+1, 1\\}, \\ldots, t\\}}y_{it'} \\geq  v_{it}  \\ \\  \\ \\  & \\forall i \\in G, t \\in T; &(4)\\\\ \n", 

    "&&|\\{t, \\ldots, \\min\\{t+m_i-1,12\\}\\}|y_{it} \\leq  \\sum_{t' \\in \\{t, \\ldots, \\min\\{t+m_i-1,12\\}\\}}v_{it}  \\ \\  \\ \\  & \\forall i \\in G, t \\in T;&(5)\\\\\n", 

    "&&\\sum_{t' \\in \\{t, \\ldots, t+m_i-1\\}}y_{it'} \\leq 1  \\ \\  \\ \\  & \\forall i \\in G, t \\in T;&(6) \\\\ \n", 

    "&&z_{it} \\geq a_{ik} + p_{ik} x_{it} - M(1-v_{it})   \\ \\  \\ \\  & \\forall i \\in G, t \\in T, k \\in \\{1,2,3,4\\};&(7) \\\\\n", 

    "&&x_{it}  \\ge 0  \\ \\  \\ \\  &\\forall i\\in G,t\\in T; &(8)\\\\\n", 

    "&&y_{it}  \\in\\{0,1\\}  \\ \\  \\ \\  &\\forall i\\in G,t\\in T;\\\\\n", 

    "&&v_{it}  \\in \\{0,1\\}   \\ \\  \\ \\  &\\forall i\\in G,t\\in T;\\\\\n", 

    "&&z_{it}  \\ge 0  \\ \\  \\ \\  &\\forall i\\in G,t\\in D.\n", 

    "\\end{align*}\n", 

    "$$" 

   ] 

  }, 

  { 

   "cell_type": "markdown", 

   "metadata": {}, 

   "source": [ 

    "## Implementación\n", 

    "**6.** Resuelva el modelo planteado utilizando la librería de PulP en Python. ¿Cuál es la solución\n", 

    "óptima del problema? " 

   ] 

  }, 

  { 

   "cell_type": "code", 

   "execution_count": null, 

   "metadata": { 

    "scrolled": true 

   }, 

   "outputs": [], 

   "source": [ 

    "#Importar librerías\n", 

    "import pulp as lp\n", 

    "import numpy as np\n", 

    "from itertools import product\n", 

    "\n", 

    "#-----------------\n", 

    "# Conjuntos\n", 

    "#-----------------\n", 

    "# Generadoras\n", 

    "G=[\"Generadora 1\",\"Generadora 2\",\"Generadora 3\",]\n", 

    "\n", 

    "# Periodos de planeación\n", 

    "T = list(range(1,12+1)) # range excluye el final del intervalo.\n", 

    "\n", 

    "# Conjunto de tuplas (i,t) donde i es una generadora\n", 

    "# en G y t es un periodo de tiempo en T. \n", 

    "G_x_T = list(product(G,T))\n", 

    "\n", 

    "#-----------------\n", 

    "# Parámetros\n", 

    "#-----------------\n", 

    "d={# Periodo: demanda en kWh\n", 

    "   1: 100, 2: 150, 3: 150, 4: 200, 5: 100, 6: 100,\n", 

    "   7: 400, 8: 100, 9: 100, 10: 100, 11: 100, 12: 100} \n", 

    "b={# Generadora: consumo maximo en kWh\n", 

    "   \"Generadora 1\":250,\n", 

    "   \"Generadora 2\":250,\n", 

    "   \"Generadora 3\":250}\n", 

    "\n", 

    "m={# Generadora: duración de por contrato en meses\n", 

    "   \"Generadora 1\":2,\n", 

    "   \"Generadora 2\":4,\n", 

    "   \"Generadora 3\":3}\n", 

    "\n", 

    "# Funciones de aproximación\n", 

    "# Función 1 evaluada en 20:  0.480 + 0.048 * (x - 20)\n", 

    "# Función 1 evaluada en 50:  3.000 + 0.120 * (x - 50)\n", 

    "# Función 1 evaluada en 100:  12.000 + 0.240 * (x - 100)\n", 

    "# Función 1 evaluada en 200:  48.000 + 0.480 * (x - 200)\n", 

    "# Función 2 evaluada en 20:  26.120 + -0.388 * (x - 20)\n", 

    "# Función 2 evaluada en 50:  17.000 + -0.220 * (x - 50)\n", 

    "# Función 2 evaluada en 100:  13.000 + 0.060 * (x - 100)\n", 

    "# Función 2 evaluada en 200:  47.000 + 0.620 * (x - 200)\n", 

    "# Función 3 evaluada en 20:  9.851 + -0.507 * (x - 20)\n", 

    "# Función 3 evaluada en 50:  2.535 + -0.049 * (x - 50)\n", 

    "# Función 3 evaluada en 100:  9.727 + 0.297 * (x - 100)\n", 

    "# Función 3 evaluada en 200:  58.768 + 0.644 * (x - 200)\n", 

    "f={#Generadora: lista de tuplas (a,p), donde \"a\" es el \n", 

    "   #            intercepto y \"p\" la pendiente de una función\n", 

    "   #            aproximando el costo de la generadora\n", 

    "   \"Generadora 1\":[(0.48 - 0.048*20, 0.048),\n", 

    "                   (3.0 - 0.12*50, 0.12),\n", 

    "                   (12 - 0.24*100, 0.24),\n", 

    "                   (48 - 0.48*200, 0.48)],\n", 

    "   \"Generadora 2\":[(26.12 + 0.388*20, -0.388),\n", 

    "                   (17 + 0.22*50, -0.22),\n", 

    "                   (13 - 0.06*100, 0.06),\n", 

    "                   (47 - 0.62*200, 0.62)],\n", 

    "   \"Generadora 3\":[(9.851 + 0.507*20, -0.507),\n", 

    "                   (2.535 + 0.049*50, -0.049),\n", 

    "                   (9.727 - 0.297*100 , 0.297),\n", 

    "                   (58.768 - 0.644*200, 0.644)]}\n", 

    "\n", 

    "#-------------------------------------\n", 

    "# Creación del objeto problema en PuLP\n", 

    "#-------------------------------------\n", 

    "#Crea el problema para cargarlo con la instancia \n", 

    "problema=lp.LpProblem(\"CryptOT\",lp.LpMinimize)\n", 

    "\n", 

    "#-----------------------------\n", 

    "# Variables de Decisión\n", 

    "#-----------------------------\n", 

    "# Consumo mensual (en kWh) de la generadora i en G en el periodo\n", 

    "# de tiempo t en T\n", 

    "limite_superior_x = np.max([b[i] for i in G])\n", 

    "x=lp.LpVariable.dicts('x', G_x_T, lowBound=0, upBound=limite_superior_x,\n", 

    "                      cat=lp.const.LpContinuous)\n", 

    "\n", 

    "# Variable binaria que indica si un nuevo contrato es firmado con la\n", 

    "# generadora i en G en el periodo de tiempo t en T\n", 

    "y=lp.LpVariable.dicts('y', G_x_T, cat=lp.const.LpBinary)\n", 

    "\n", 

    "# Variable binaria que indica si hay un contrato vigente con la\n", 

    "# generadora i en G en el periodo de tiempo t en T\n", 

    "v=lp.LpVariable.dicts('v', G_x_T, cat=lp.const.LpBinary)\n", 

    "\n", 

    "\n", 

    "# Variable auxiliar para calcular el costo por consumo asociado\n", 

    "# a la generadora i en G en el periodo de tiempo t en T\n", 

    "z=lp.LpVariable.dicts('z', G_x_T, lowBound=0, cat=lp.const.LpContinuous)\n", 

    "\n", 

    "#-----------------------------\n", 

    "# Función objetivo\n", 

    "#-----------------------------\n", 

    "#Crea la expresión de minimización de costos\n", 

    "problema+=lp.lpSum(z[i,t] for i in G for t in T), \"Costo anual\"\n", 

    "\n", 

    "#-----------------------------\n", 

    "# Restricciones\n", 

    "#-----------------------------\n", 

    "\n", 

    "\n", 

    "# Satisfacción de la demanda\n", 

    "# sum(i in G)x_it = d_t forall t in T\n", 

    "for t in T:\n", 

    "    problema+= lp.lpSum(x[i,t] for i in G) == d[t], f\"Satisfacción de la demanda en el mes {t}\" \n", 

    "\n", 

    "# Relación entre consumo y contratos vigentes\n", 

    "# x_it <= b_i * v_it forall i in G, t in T\n", 

    "for (i,t) in G_x_T:\n", 

    "    problema+= x[i,t] <= b[i]*v[i,t], f\"Consumo de la generadora {i} en el mes {t}\" \n", 

    "\n", 

    "# Duracion de los contratos\n", 

    "for (i,t) in G_x_T:\n", 

    "    # Periodos en los que podría ser firmado un contrato para que este vigente en t.\n", 

    "    T_f = [tt for tt in range(t - m[i] + 1, t + 1) if tt>=1] \n", 

    "    problema+= sum(y[i,tt] for tt in T_f) >= v[i,t], f\"Vigencia en el mes {t} de contratos de la Generadora {i} parte 1\"\n", 

    "    # Periodos vigentes si se firma un contrato en t\n", 

    "    T_v = [tt for tt in range(t, t + m[i]) if tt<=12] \n", 

    "    problema+= len(T_v) * y[i,t] <= sum(v[i,tt] for tt in T_v), f\"Vigencia en el mes {t} de contratos de la Generadora {i} parte 2\"\n", 

    "\n", 

    "# Máximo un contrato vigente por generadora en cada mes\n", 

    "# sum(tt in [t, ..., t+m_i-1])y_i,tt <= 1 forall i in G, t in T\n", 

    "for (i,t) in G_x_T:\n", 

    "    # Periodos vigentes si se firma un contrato en t\n", 

    "    T_v = [tt for tt in range(t, t + m[i]) if tt<=12] \n", 

    "    problema+= lp.lpSum(y[i,tt] for tt in T_v) <= 1, f\"Limite de nuevos contratos de la Generadora {i} firmados en el mes {t}\" \n", 

    "\n", 

    "# Función aproximada a trozos\n", 

    "# z_it >= a_ik * p_ik * x_it - M(1-v_it)forall i in G, t in T, k = 1,...,numero_de_funciones\n", 

    "M = 100\n", 

    "for (i,t) in G_x_T:\n", 

    "    for k, (a,p) in enumerate(f[i]):\n", 

    "        problema+= z[i,t] >= a+ p*x[i,t] - M * (1-v[i,t]), f\"Aproximación {k} del costo por consumo de la generadora {i} en el mes {t}\" \n", 

    "\n", 

    "#-----------------------------\n", 

    "# Imprimir formato LP\n", 

    "#-----------------------------\n", 

    "#Escribe el problema en un archivo con formato LP \n", 

    "problema.writeLP(\"CryptOR.lp\")\n", 

    "\n", 

    "#-----------------------------\n", 

    "# Invocar el optimizador\n", 

    "#-----------------------------\n", 

    "#Optimizar el modelo con CBC (default de PuLP)\n", 

    "problema.solve()\n", 

    "\n", 

    "#-----------------------------\n", 

    "#    Imprimir resultados\n", 

    "#-----------------------------\n", 

    "#Imprimir estado final del optimizador\n", 

    "print(\"Estado (optimizador):\", lp.LpStatus[problema.status],end='\\n')\n", 

    "\n", 

    "#Valor óptimo del plan de transporte  \n", 

    "print(\"\\n Costos totales = $\", round(lp.value(problema.objective),2))\n", 

    "print()\n", 

    "\n", 

    "#Imprimir variables de decisión\n", 

    "print(\"Variables de decisión\")\n", 

    "tap_ = \"\"\n", 

    "print(f'{\"Mes\":10s} {tap_.join(f\"{t:>8d}\" for t in T)}')\n", 

    "    \n", 

    "for i in G:\n", 

    "    print(f'{i:10s} {tap_.join(f\"{x[i,t].value():>8.2f}\" for t in T)}')\n", 

    "    print(f'{\"Nuevo\":10s} {tap_.join(f\"{y[i,t].value():>8.0f}\" for t in T)}')\n", 

    "    print(f'{\"Vigente\":10s} {tap_.join(f\"{v[i,t].value():>8.0f}\" for t in T)}')" 

   ] 

  }, 

  { 

   "cell_type": "markdown", 

   "metadata": {}, 

   "source": [ 

    "## Créditos\n", 

    "Instancia: Daniel Duque<br>\n", 

    "Fecha: 21/12/2021" 

   ] 

  } 

], 

"metadata": { 

  "kernelspec": { 

   "display_name": "Python 3", 

   "language": "python", 

   "name": "python3" 

  }, 

  "language_info": { 

   "codemirror_mode": { 

    "name": "ipython", 

    "version": 3 

   }, 

   "file_extension": ".py", 

   "mimetype": "text/x-python", 

   "name": "python", 

   "nbconvert_exporter": "python", 

   "pygments_lexer": "ipython3", 

   "version": "3.8.5" 

  } 

}, 

"nbformat": 4, 

"nbformat_minor": 4 

} 
