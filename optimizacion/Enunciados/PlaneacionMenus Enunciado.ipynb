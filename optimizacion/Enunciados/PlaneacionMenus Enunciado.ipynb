{
 "cells": [
  {
   "cell_type": "markdown",
   "metadata": {},
   "source": [
    "# Planeación de menús"
   ]
  },
  {
   "cell_type": "markdown",
   "metadata": {},
   "source": [
    "<b><i style=\"font-size:13px\">Tags: </i></b><i style=\"font-size:11px\">Mezcla, Recurso</i>"
   ]
  },
  {
   "cell_type": "markdown",
   "metadata": {},
   "source": [
    "## Enunciado\n",
    "\n",
    "El personal técnico de un hospital quiere desarrollar un sistema computarizado de planificación de\n",
    "menús. Para comenzar, el hospital llevará a cabo la planeación de un menú de prueba para el almuerzo.\n",
    "Este menú debe incluir 100 gramos (g) de cada uno de los siguientes tres grupos alimenticios ($T$): frutas,\n",
    "verduras, y carnes. La siguiente tabla presenta el costo por cada 100 g de algunos alimentos sugeridos ($A$), así\n",
    "como el porcentaje de macronutrientes (carbohidratos, proteínas y grasas) y la cantidad, en\n",
    "miligramos (mg), de vitaminas que contienen 100 g de dichos alimentos."
   ]
  },
  {
   "cell_type": "markdown",
   "metadata": {},
   "source": [
    "\n",
    "| |Por cada 100g |Vitaminas (mg)|Carbohidratos (%)| Proteína (%)| Grasas (%)|Costo (\\$)|\n",
    "|:-:|:-|-:|-:|-:|-:|-:|\n",
    "|**Frutas**|||||||\n",
    "||Naranja|50.00|8.90|0.80|0.00|570.00|\n",
    "||Manzana|5.00|10.50|0.30|0.00|650.00|\n",
    "||Banano|35.00|20.80|1.20|0.30|200.00|\n",
    "||Pera|12.00|11.70|0.40|0.10|550.00|\n",
    "|**Verduras**|||||||\n",
    "||Brócoli|116.00|4.90|3.20|0.20|450.00|\n",
    "||Espinaca|52.00|4.10|2.50|0.30|600.00|\n",
    "||Guisantes|23.00|18.20|7.20|0.40|800.00|\n",
    "||Pepino|9.00|0.70|0.15|2.70|500.00|\n",
    "||Calabacín|21.00|7.30|4.20|0.10|450.00|\n",
    "|**Carnes**|||||||\n",
    "||Pollo|61.00|1.00|23.00|2.00|1,420.00|\n",
    "||Res|31.00|2.00|18.00|20.00|4,800.00|\n",
    "||Cerdo|2.00|1.50|16.00|27.00|2,900.00|"
   ]
  },
  {
   "cell_type": "markdown",
   "metadata": {},
   "source": [
    "\n",
    "El menú del almuerzo debe contener una cantidad mínima de cada uno de los cuatro nutrientes (carbohidratos, proteínas, grasas y vitaminas) mostradas en la tabla. Estas cantidades mínimas son: 100 mg de vitaminas, 25 g de carbohidratos, 17 g de proteínas y 5 g de grasas. El equipo técnico del hospital desea incluir un\n",
    "modelo de optimización en el sistema para planear el menú del almuerzo al menor costo posible, ellos quieren saber cuantas porciones de 100g deberían incluir de cada alimento en el menú. Pueden haber porciones fraccionales. \n",
    "\n",
    "## Formulación\n",
    "**a.** Formule matemáticamente un modelo de optimización de forma general que represente la\n",
    "situación anterior. Defina clara y rigurosamente:  \n",
    "- Conjuntos\n",
    "- Parámetros\n",
    "- Variables de decisión\n",
    "- Función objetivo\n",
    "- Restricciones\n"
   ]
  },
  {
   "cell_type": "markdown",
   "metadata": {},
   "source": [
    "## Implementación\n",
    "\n",
    "**b.** Resuelva el modelo planteado utilizando la librería de PuLP en Python. ¿Cuál es la solución\n",
    "óptima del problema? "
   ]
  },
  {
   "cell_type": "code",
   "execution_count": null,
   "metadata": {},
   "outputs": [],
   "source": [
    "# Implemente en esta celda su formulación del problema\n"
   ]
  },
  {
   "cell_type": "markdown",
   "metadata": {},
   "source": [
    "<div style=\"text-align:justify\"><strong>c.</strong> Varios aspectos prácticos no fueron tenidos en cuenta en el modelo planteado\n",
    "anteriormente. Algunos de estos aspectos son: la inclusión de alimentos de los otros cuatro\n",
    "grupos alimenticios, la planeación de menús para desayunos, almuerzos y cenas; la\n",
    "planeación de menús para que los pacientes reciban menús variados de comida a lo largo\n",
    "de la semana; y menús especiales para pacientes con ciertas restricciones, entre otros.\n",
    "Discuta en detalle cómo podría tener en cuenta estos aspectos dentro de un modelo de\n",
    "optimización en el sistema de planeación del hospital.\n",
    "</div>"
   ]
  },
  {
   "cell_type": "markdown",
   "metadata": {},
   "source": [
    "## Créditos\n",
    "\n",
    "Equipo de Optimización<br>\n",
    "Desarrollo: Cristian Cortés<br>\n",
    "Fecha: 08/09/2020"
   ]
  }
 ],
 "metadata": {
  "kernelspec": {
   "display_name": "Python 3",
   "language": "python",
   "name": "python3"
  },
  "language_info": {
   "codemirror_mode": {
    "name": "ipython",
    "version": 3
   },
   "file_extension": ".py",
   "mimetype": "text/x-python",
   "name": "python",
   "nbconvert_exporter": "python",
   "pygments_lexer": "ipython3",
   "version": "3.8.8"
  }
 },
 "nbformat": 4,
 "nbformat_minor": 4
}
