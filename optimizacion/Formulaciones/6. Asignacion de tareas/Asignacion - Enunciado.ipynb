{
 "cells": [
  {
   "cell_type": "markdown",
   "id": "specific-boulder",
   "metadata": {},
   "source": [
    "# Asignación de tareas - Solución"
   ]
  },
  {
   "cell_type": "markdown",
   "id": "written-elephant",
   "metadata": {},
   "source": [
    "<b><i style=\"font-size:13px\">Tags: </i></b><i style=\"font-size:11px\">Asignación, Variable binaria, Recurso</i>"
   ]
  },
  {
   "cell_type": "code",
   "execution_count": 1,
   "id": "fe8c0d77",
   "metadata": {
    "tags": [
     "hide-input",
     "thebe-init"
    ]
   },
   "outputs": [],
   "source": [
    "import os\n",
    "# Por precaución, cambiamos el directorio activo de Python a aquel que contenga este notebook\n",
    "if \"optimizacion\" in os.listdir():\n",
    "    os.chdir(r\"optimizacion/Formulaciones/6. Asignacion de tareas/\")"
   ]
  },
  {
   "cell_type": "markdown",
   "id": "annoying-circus",
   "metadata": {},
   "source": [
    "## Enunciado\n",
    "\n",
    "<!--  \n",
    "Conjuntos: $Conjunto$\n",
    "Indices: $indice \\in Conjunto$\n",
    "Parámetros/variables: $parametro_{ij}$\n",
    "Tablas: En HTML y los textos de elementos del conjunto en la parte izquierda con alineado a la izquierda. Además a cada tabla se le pone un nombre y su respectiva descripción.\n",
    "-->"
   ]
  },
  {
   "cell_type": "markdown",
   "id": "bd1b893a",
   "metadata": {},
   "source": [
    "El equipo de Principios de Optimización se encuentra realizando un rediseño estructural del curso. Dado el largo trabajo que este rediseño implica, los integrantes del equipo han definido diez responsabilidades que deben ser ejecutadas. Para esto, el equipo debe decidir cuál es la mejor asignación de responsabilidades a los diferentes integrantes del equipo para el periodo intersemestral. "
   ]
  },
  {
   "cell_type": "markdown",
   "id": "121b89d7",
   "metadata": {},
   "source": [
    "Cada uno de los cinco miembros del equipo está en la capacidad de encargarse de cualquiera de estas diez responsabilidades, sin embargo, debido sus preferencias y habilidades, cada uno ha determinado el tiempo (en horas) que le tomará realizar cada una de las responsabilidades que le pueden ser asignadas. Además, cada uno de ellos cuenta con una disponibilidad horaria de acuerdo con su contrato y sus demás compromisos personales. La información descrita anteriormente se encuentra disponible en la Tabla 1. "
   ]
  },
  {
   "cell_type": "markdown",
   "id": "d89526c8",
   "metadata": {},
   "source": [
    "<p style=\"text-align: center;\"><b>Tabla 1. Tiempos de realización y disponibilidad (en horas)</b></p>"
   ]
  },
  {
   "cell_type": "markdown",
   "id": "f0e75259",
   "metadata": {},
   "source": [
    "<table class=\"egt\">\n",
    "    \n",
    "  <tr>  \n",
    "    <th></th> \n",
    "    <th colspan=\"5\";style=\"text-align:center\">Integrantes</th>\n",
    "  </tr>\n",
    "    \n",
    "  <tr>\n",
    "    <th style=\"text-align:center\">Responsabilidades</th>\n",
    "    <th style=\"text-align:center\">1</th>\n",
    "    <th style=\"text-align:center\">2</th>\n",
    "    <th style=\"text-align:center\">3</th>\n",
    "    <th style=\"text-align:center\">4</th>\n",
    "    <th style=\"text-align:center\">5</th>\n",
    "  </tr>\n",
    "\n",
    "  <tr>\n",
    "    <td style=\"text-align:left\"><i>Diseño parciales</i></td>\n",
    "    <td style=\"text-align:center\">25</td>\n",
    "    <td style=\"text-align:center\">75</td>\n",
    "    <td style=\"text-align:center\">125</td>\n",
    "    <td style=\"text-align:center\">200</td>\n",
    "    <td style=\"text-align:center\">250</td>\n",
    "  </tr>\n",
    "    \n",
    "  <tr>\n",
    "    <td style=\"text-align:left\"><i>Diseño tareas</i></td>\n",
    "    <td style=\"text-align:center\">75</td>\n",
    "    <td style=\"text-align:center\">25</td>\n",
    "    <td style=\"text-align:center\">225</td>\n",
    "    <td style=\"text-align:center\">250</td>\n",
    "    <td style=\"text-align:center\">200</td>\n",
    "  </tr>\n",
    "    \n",
    "  <tr>\n",
    "    <td style=\"text-align:left\"><i>Diseño y grabación videos magistrales</i></td>\n",
    "    <td style=\"text-align:center\">50</td>\n",
    "    <td style=\"text-align:center\">125</td>\n",
    "    <td style=\"text-align:center\">100</td>\n",
    "    <td style=\"text-align:center\">175</td>\n",
    "    <td style=\"text-align:center\">225</td>\n",
    "  </tr>\n",
    "    \n",
    "  <tr>\n",
    "    <td style=\"text-align:left\"><i>Diseño talleres magistrales</i></td>\n",
    "    <td style=\"text-align:center\">100</td>\n",
    "    <td style=\"text-align:center\">50</td>\n",
    "    <td style=\"text-align:center\">250</td>\n",
    "    <td style=\"text-align:center\">225</td>\n",
    "    <td style=\"text-align:center\">175</td>\n",
    "  </tr>\n",
    "    \n",
    "  <tr>\n",
    "    <td style=\"text-align:left\"><i>Diseño jupyter notebooks </i></td>\n",
    "    <td style=\"text-align:center\">125</td>\n",
    "    <td style=\"text-align:center\">150</td>\n",
    "    <td style=\"text-align:center\">25</td>\n",
    "    <td style=\"text-align:center\">150</td>\n",
    "    <td style=\"text-align:center\">50</td>\n",
    "  </tr>\n",
    "    \n",
    "  <tr>\n",
    "    <td style=\"text-align:left\"><i>Grabación videos trabajo asistido</i></td>\n",
    "    <td style=\"text-align:center\">175</td>\n",
    "    <td style=\"text-align:center\">175</td>\n",
    "    <td style=\"text-align:center\">50</td>\n",
    "    <td style=\"text-align:center\">100</td>\n",
    "    <td style=\"text-align:center\">75</td>\n",
    "  </tr>\n",
    "    \n",
    "  <tr>\n",
    "    <td style=\"text-align:left\"><i>Edición videos trabajo asistido </i></td>\n",
    "    <td style=\"text-align:center\">225</td>\n",
    "    <td style=\"text-align:center\">200</td>\n",
    "    <td style=\"text-align:center\">175</td>\n",
    "    <td style=\"text-align:center\">25</td>\n",
    "    <td style=\"text-align:center\">150</td>\n",
    "  </tr>\n",
    "    \n",
    "  <tr>\n",
    "    <td style=\"text-align:left\"><i>Diseño talleres trabajo asistido </i></td>\n",
    "    <td style=\"text-align:center\">150</td>\n",
    "    <td style=\"text-align:center\">100</td>\n",
    "    <td style=\"text-align:center\">75</td>\n",
    "    <td style=\"text-align:center\">125</td>\n",
    "    <td style=\"text-align:center\">100</td>\n",
    "  </tr>\n",
    "    \n",
    "  <tr>\n",
    "    <td style=\"text-align:left\"><i>Diseño y grabación videos PulP </i></td>\n",
    "    <td style=\"text-align:center\">200</td>\n",
    "    <td style=\"text-align:center\">225</td>\n",
    "    <td style=\"text-align:center\">150</td>\n",
    "    <td style=\"text-align:center\">75</td>\n",
    "    <td style=\"text-align:center\">50</td>\n",
    "  </tr>\n",
    "    \n",
    "  <tr>\n",
    "    <td style=\"text-align:left\"><i>Edición videos PulP </i></td>\n",
    "    <td style=\"text-align:center\">250</td>\n",
    "    <td style=\"text-align:center\">250</td>\n",
    "    <td style=\"text-align:center\">200</td>\n",
    "    <td style=\"text-align:center\">50</td>\n",
    "    <td style=\"text-align:center\">125</td>\n",
    "  </tr>\n",
    "    \n",
    "  <tr>\n",
    "    <td style=\"text-align:right\"><b>Disponibilidad </b></td>\n",
    "    <td style=\"text-align:center\">200</td>\n",
    "    <td style=\"text-align:center\">150</td>\n",
    "    <td style=\"text-align:center\">150</td>\n",
    "    <td style=\"text-align:center\">100</td>\n",
    "    <td style=\"text-align:center\">75</td>\n",
    "  </tr>\n",
    "\n",
    "\n",
    "</table>"
   ]
  },
  {
   "cell_type": "markdown",
   "id": "32d158d9",
   "metadata": {},
   "source": [
    "Aparte de hacer un curso agradable y productivo para cada uno de los estudiantes, el equipo del curso se siente motivado y a gusto en el proceso de rediseño. Por lo anterior, cada uno ha definido el índice de preferencia asociado a realizar cada una de las responsabilidades. Este índice se encuentra en una escala de 1 a 10, correspondiendo 1 y 10 a la responsabilidad menos deseada y a la preferida, respectivamente. En la Tabla 2 se presenta esta información."
   ]
  },
  {
   "cell_type": "markdown",
   "id": "1224e1ff",
   "metadata": {},
   "source": [
    "<p style=\"text-align: center;\"><b>Tabla 2. Preferencias</b></p>"
   ]
  },
  {
   "cell_type": "markdown",
   "id": "9a6b8836",
   "metadata": {},
   "source": [
    "<table class=\"egt\">\n",
    "    \n",
    "  <tr>  \n",
    "    <th></th> \n",
    "    <th colspan=\"5\";style=\"text-align:center\">Integrantes</th>\n",
    "  </tr>\n",
    "    \n",
    "  <tr>\n",
    "    <th style=\"text-align:center\">Responsabilidades</th>\n",
    "    <th style=\"text-align:center\">1</th>\n",
    "    <th style=\"text-align:center\">2</th>\n",
    "    <th style=\"text-align:center\">3</th>\n",
    "    <th style=\"text-align:center\">4</th>\n",
    "    <th style=\"text-align:center\">5</th>\n",
    "  </tr>\n",
    "\n",
    "  <tr>\n",
    "    <td style=\"text-align:left\"><i>Diseño parciales</i></td>\n",
    "    <td style=\"text-align:center\">1</td>\n",
    "    <td style=\"text-align:center\">3</td>\n",
    "    <td style=\"text-align:center\">5</td>\n",
    "    <td style=\"text-align:center\">8</td>\n",
    "    <td style=\"text-align:center\">10</td>\n",
    "  </tr>\n",
    "    \n",
    "  <tr>\n",
    "    <td style=\"text-align:left\"><i>Diseño tareas</i></td>\n",
    "    <td style=\"text-align:center\">3</td>\n",
    "    <td style=\"text-align:center\">1</td>\n",
    "    <td style=\"text-align:center\">9</td>\n",
    "    <td style=\"text-align:center\">10</td>\n",
    "    <td style=\"text-align:center\">8</td>\n",
    "  </tr>\n",
    "    \n",
    "  <tr>\n",
    "    <td style=\"text-align:left\"><i>Diseño y grabación videos magistrales</i></td>\n",
    "    <td style=\"text-align:center\">2</td>\n",
    "    <td style=\"text-align:center\">5</td>\n",
    "    <td style=\"text-align:center\">4</td>\n",
    "    <td style=\"text-align:center\">7</td>\n",
    "    <td style=\"text-align:center\">9</td>\n",
    "  </tr>\n",
    "    \n",
    "  <tr>\n",
    "    <td style=\"text-align:left\"><i>Diseño talleres magistrales</i></td>\n",
    "    <td style=\"text-align:center\">4</td>\n",
    "    <td style=\"text-align:center\">2</td>\n",
    "    <td style=\"text-align:center\">10</td>\n",
    "    <td style=\"text-align:center\">9</td>\n",
    "    <td style=\"text-align:center\">7</td>\n",
    "  </tr>\n",
    "    \n",
    "  <tr>\n",
    "    <td style=\"text-align:left\"><i>Diseño jupyter notebooks </i></td>\n",
    "    <td style=\"text-align:center\">5</td>\n",
    "    <td style=\"text-align:center\">6</td>\n",
    "    <td style=\"text-align:center\">1</td>\n",
    "    <td style=\"text-align:center\">6</td>\n",
    "    <td style=\"text-align:center\">2</td>\n",
    "  </tr>\n",
    "    \n",
    "  <tr>\n",
    "    <td style=\"text-align:left\"><i>Grabación videos trabajo asistido</i></td>\n",
    "    <td style=\"text-align:center\">7</td>\n",
    "    <td style=\"text-align:center\">7</td>\n",
    "    <td style=\"text-align:center\">2</td>\n",
    "    <td style=\"text-align:center\">4</td>\n",
    "    <td style=\"text-align:center\">3</td>\n",
    "  </tr>\n",
    "    \n",
    "  <tr>\n",
    "    <td style=\"text-align:left\"><i>Edición videos trabajo asistido </i></td>\n",
    "    <td style=\"text-align:center\">9</td>\n",
    "    <td style=\"text-align:center\">8</td>\n",
    "    <td style=\"text-align:center\">7</td>\n",
    "    <td style=\"text-align:center\">1</td>\n",
    "    <td style=\"text-align:center\">6</td>\n",
    "  </tr>\n",
    "    \n",
    "  <tr>\n",
    "    <td style=\"text-align:left\"><i>Diseño talleres trabajo asistido </i></td>\n",
    "    <td style=\"text-align:center\">6</td>\n",
    "    <td style=\"text-align:center\">4</td>\n",
    "    <td style=\"text-align:center\">3</td>\n",
    "    <td style=\"text-align:center\">5</td>\n",
    "    <td style=\"text-align:center\">4</td>\n",
    "  </tr>\n",
    "    \n",
    "  <tr>\n",
    "    <td style=\"text-align:left\"><i>Diseño y grabación videos PulP </i></td>\n",
    "    <td style=\"text-align:center\">8</td>\n",
    "    <td style=\"text-align:center\">9</td>\n",
    "    <td style=\"text-align:center\">6</td>\n",
    "    <td style=\"text-align:center\">3</td>\n",
    "    <td style=\"text-align:center\">1</td>\n",
    "  </tr>\n",
    "    \n",
    "  <tr>\n",
    "    <td style=\"text-align:left\"><i>Edición videos PulP </i></td>\n",
    "    <td style=\"text-align:center\">10</td>\n",
    "    <td style=\"text-align:center\">10</td>\n",
    "    <td style=\"text-align:center\">8</td>\n",
    "    <td style=\"text-align:center\">2</td>\n",
    "    <td style=\"text-align:center\">5</td>\n",
    "  </tr>\n",
    "\n",
    "</table>"
   ]
  },
  {
   "cell_type": "markdown",
   "id": "c9af8f63",
   "metadata": {},
   "source": [
    "El equipo de Principios de Optimización te ha pedido que plantees y resuelvas un modelo matemático que represente la situación."
   ]
  },
  {
   "cell_type": "markdown",
   "id": "linear-shadow",
   "metadata": {},
   "source": [
    "## Formulación\n",
    "\n",
    "<!--  \n",
    "Enumeración alfabetica y en negrilla. En caso de que hayan subliterales, estos van identados, en negrilla y se utiliza \"i.\", \"ii.\", ... \n",
    "Ejemplo:\n",
    "**a.**\n",
    "    **i.**\n",
    "    **ii.**\n",
    "**b.**\n",
    "-->"
   ]
  },
  {
   "cell_type": "markdown",
   "id": "f08dc1b9",
   "metadata": {},
   "source": [
    "**a.** Formula matemáticamente un modelo de optimización de forma general que represente la\n",
    "situación anterior. Defina clara y rigurosamente:  \n",
    "- Conjuntos\n",
    "- Parámetros\n",
    "- Variables de decisión\n",
    "- Restricciones\n",
    "- Naturaleza de las variables\n",
    "- Función objetivo"
   ]
  },
  {
   "cell_type": "markdown",
   "id": "geographic-header",
   "metadata": {},
   "source": [
    "## Implementación"
   ]
  },
  {
   "cell_type": "markdown",
   "id": "4725d708",
   "metadata": {},
   "source": [
    "**b.** Resuelve el modelo planteado utilizando la librería de PuLP en Python. ¿Cuál es la solución óptima del problema? "
   ]
  },
  {
   "cell_type": "markdown",
   "id": "2a1a82c3",
   "metadata": {},
   "source": [
    "### Librerías"
   ]
  },
  {
   "cell_type": "markdown",
   "id": "f597d592",
   "metadata": {},
   "source": [
    "Importa la librería `pulp` para crear y resolver el modelo."
   ]
  },
  {
   "cell_type": "code",
   "execution_count": 2,
   "id": "323a0476",
   "metadata": {},
   "outputs": [],
   "source": [
    "# Escribe en esta celda tu código.\n"
   ]
  },
  {
   "cell_type": "markdown",
   "id": "837873b4",
   "metadata": {},
   "source": [
    "### Conjuntos"
   ]
  },
  {
   "cell_type": "markdown",
   "id": "48fddac0",
   "metadata": {},
   "source": [
    "Define los conjuntos `I` y `R` que representan respectivamente los integrantes y las responsabilidades.\n",
    "\n",
    "Recuerda que por conveniencia de preservar el orden de los elementos de los conjuntos, no siempre deberás definirlos con el tipo `set`."
   ]
  },
  {
   "cell_type": "code",
   "execution_count": 3,
   "id": "d9209bb7",
   "metadata": {},
   "outputs": [],
   "source": [
    "# Escribe en esta celda tu código.\n"
   ]
  },
  {
   "cell_type": "markdown",
   "id": "8c58ff99",
   "metadata": {},
   "source": [
    "### Parámetros"
   ]
  },
  {
   "cell_type": "markdown",
   "id": "d981d80d",
   "metadata": {},
   "source": [
    "Define o importa los parámetros del modelo."
   ]
  },
  {
   "cell_type": "code",
   "execution_count": 4,
   "id": "16df6fb4",
   "metadata": {},
   "outputs": [],
   "source": [
    "# Tiempo que consume i en I en realizar r in R\n",
    "t = {\n",
    "    (1, \"Diseño parciales\"): 25,\n",
    "    (2, \"Diseño parciales\"): 75,\n",
    "    (3, \"Diseño parciales\"): 125,\n",
    "    (4, \"Diseño parciales\"): 200,\n",
    "    (5, \"Diseño parciales\"): 250,\n",
    "    (1, \"Diseño tareas\"): 75,\n",
    "    (2, \"Diseño tareas\"): 25,\n",
    "    (3, \"Diseño tareas\"): 225,\n",
    "    (4, \"Diseño tareas\"): 250,\n",
    "    (5, \"Diseño tareas\"): 200,\n",
    "    (1, \"Diseño y grabación videos magistrales\"): 50,\n",
    "    (2, \"Diseño y grabación videos magistrales\"): 125,\n",
    "    (3, \"Diseño y grabación videos magistrales\"): 100,\n",
    "    (4, \"Diseño y grabación videos magistrales\"): 175,\n",
    "    (5, \"Diseño y grabación videos magistrales\"): 225,\n",
    "    (1, \"Diseño talleres magistrales\"): 100,\n",
    "    (2, \"Diseño talleres magistrales\"): 50,\n",
    "    (3, \"Diseño talleres magistrales\"): 250,\n",
    "    (4, \"Diseño talleres magistrales\"): 225,\n",
    "    (5, \"Diseño talleres magistrales\"): 175,\n",
    "    (1, \"Diseño jupyter notebooks\"): 125,\n",
    "    (2, \"Diseño jupyter notebooks\"): 150,\n",
    "    (3, \"Diseño jupyter notebooks\"): 25,\n",
    "    (4, \"Diseño jupyter notebooks\"): 150,\n",
    "    (5, \"Diseño jupyter notebooks\"): 50,\n",
    "    (1, \"Grabación videos trabajo asistido\"): 175,\n",
    "    (2, \"Grabación videos trabajo asistido\"): 175,\n",
    "    (3, \"Grabación videos trabajo asistido\"): 50,\n",
    "    (4, \"Grabación videos trabajo asistido\"): 100,\n",
    "    (5, \"Grabación videos trabajo asistido\"): 75,\n",
    "    (1, \"Edición videos trabajo asistido\"): 225,\n",
    "    (2, \"Edición videos trabajo asistido\"): 200,\n",
    "    (3, \"Edición videos trabajo asistido\"): 175,\n",
    "    (4, \"Edición videos trabajo asistido\"): 25,\n",
    "    (5, \"Edición videos trabajo asistido\"): 150,\n",
    "    (1, \"Diseño talleres trabajo asistido\"): 150,\n",
    "    (2, \"Diseño talleres trabajo asistido\"): 100,\n",
    "    (3, \"Diseño talleres trabajo asistido\"): 75,\n",
    "    (4, \"Diseño talleres trabajo asistido\"): 125,\n",
    "    (5, \"Diseño talleres trabajo asistido\"): 100,\n",
    "    (1, \"Diseño y grabación videos PuLP\"): 200,\n",
    "    (2, \"Diseño y grabación videos PuLP\"): 225,\n",
    "    (3, \"Diseño y grabación videos PuLP\"): 150,\n",
    "    (4, \"Diseño y grabación videos PuLP\"): 75,\n",
    "    (5, \"Diseño y grabación videos PuLP\"): 25,\n",
    "    (1, \"Edición videos PuLP\"): 250,\n",
    "    (2, \"Edición videos PuLP\"): 250,\n",
    "    (3, \"Edición videos PuLP\"): 200,\n",
    "    (4, \"Edición videos PuLP\"): 50,\n",
    "    (5, \"Edición videos PuLP\"): 125,\n",
    "}\n",
    "\n",
    "# Preferencia de i en I por r en R\n",
    "p = {\n",
    "    (1, \"Diseño parciales\"): 1,\n",
    "    (2, \"Diseño parciales\"): 3,\n",
    "    (3, \"Diseño parciales\"): 5,\n",
    "    (4, \"Diseño parciales\"): 8,\n",
    "    (5, \"Diseño parciales\"): 10,\n",
    "    (1, \"Diseño tareas\"): 3,\n",
    "    (2, \"Diseño tareas\"): 1,\n",
    "    (3, \"Diseño tareas\"): 9,\n",
    "    (4, \"Diseño tareas\"): 10,\n",
    "    (5, \"Diseño tareas\"): 8,\n",
    "    (1, \"Diseño y grabación videos magistrales\"): 2,\n",
    "    (2, \"Diseño y grabación videos magistrales\"): 5,\n",
    "    (3, \"Diseño y grabación videos magistrales\"): 4,\n",
    "    (4, \"Diseño y grabación videos magistrales\"): 7,\n",
    "    (5, \"Diseño y grabación videos magistrales\"): 9,\n",
    "    (1, \"Diseño talleres magistrales\"): 4,\n",
    "    (2, \"Diseño talleres magistrales\"): 2,\n",
    "    (3, \"Diseño talleres magistrales\"): 10,\n",
    "    (4, \"Diseño talleres magistrales\"): 9,\n",
    "    (5, \"Diseño talleres magistrales\"): 7,\n",
    "    (1, \"Diseño jupyter notebooks\"): 5,\n",
    "    (2, \"Diseño jupyter notebooks\"): 6,\n",
    "    (3, \"Diseño jupyter notebooks\"): 1,\n",
    "    (4, \"Diseño jupyter notebooks\"): 6,\n",
    "    (5, \"Diseño jupyter notebooks\"): 2,\n",
    "    (1, \"Grabación videos trabajo asistido\"): 7,\n",
    "    (2, \"Grabación videos trabajo asistido\"): 7,\n",
    "    (3, \"Grabación videos trabajo asistido\"): 2,\n",
    "    (4, \"Grabación videos trabajo asistido\"): 4,\n",
    "    (5, \"Grabación videos trabajo asistido\"): 3,\n",
    "    (1, \"Edición videos trabajo asistido\"): 9,\n",
    "    (2, \"Edición videos trabajo asistido\"): 8,\n",
    "    (3, \"Edición videos trabajo asistido\"): 7,\n",
    "    (4, \"Edición videos trabajo asistido\"): 1,\n",
    "    (5, \"Edición videos trabajo asistido\"): 6,\n",
    "    (1, \"Diseño talleres trabajo asistido\"): 6,\n",
    "    (2, \"Diseño talleres trabajo asistido\"): 4,\n",
    "    (3, \"Diseño talleres trabajo asistido\"): 3,\n",
    "    (4, \"Diseño talleres trabajo asistido\"): 5,\n",
    "    (5, \"Diseño talleres trabajo asistido\"): 4,\n",
    "    (1, \"Diseño y grabación videos PuLP\"): 8,\n",
    "    (2, \"Diseño y grabación videos PuLP\"): 9,\n",
    "    (3, \"Diseño y grabación videos PuLP\"): 6,\n",
    "    (4, \"Diseño y grabación videos PuLP\"): 3,\n",
    "    (5, \"Diseño y grabación videos PuLP\"): 1,\n",
    "    (1, \"Edición videos PuLP\"): 10,\n",
    "    (2, \"Edición videos PuLP\"): 10,\n",
    "    (3, \"Edición videos PuLP\"): 8,\n",
    "    (4, \"Edición videos PuLP\"): 2,\n",
    "    (5, \"Edición videos PuLP\"): 5,\n",
    "}\n",
    "\n",
    "# Disponibilidad en tiempo de i en I\n",
    "d = {\n",
    "    1: 200,\n",
    "    2: 150,\n",
    "    3: 150,\n",
    "    4: 100,\n",
    "    5: 75,\n",
    "}"
   ]
  },
  {
   "cell_type": "markdown",
   "id": "70fd6598",
   "metadata": {},
   "source": [
    "### Objeto del modelo"
   ]
  },
  {
   "cell_type": "markdown",
   "id": "aa975e80",
   "metadata": {},
   "source": [
    "Construye un problema al que luego agregarás las restricciones y la función objetivo."
   ]
  },
  {
   "cell_type": "code",
   "execution_count": 5,
   "id": "a1501b81",
   "metadata": {},
   "outputs": [],
   "source": [
    "# Escribe en esta celda tu código.\n"
   ]
  },
  {
   "cell_type": "markdown",
   "id": "970af788",
   "metadata": {},
   "source": [
    "### Variables de decisión"
   ]
  },
  {
   "cell_type": "markdown",
   "id": "1e670ec8",
   "metadata": {},
   "source": [
    "Define las variables del problema de manera que estén contenidas en diccionarios indexados en los conjuntos de sus variables respectivas."
   ]
  },
  {
   "cell_type": "code",
   "execution_count": 6,
   "id": "e1febe93",
   "metadata": {},
   "outputs": [],
   "source": [
    "# Escribe en esta celda tu código.\n"
   ]
  },
  {
   "cell_type": "markdown",
   "id": "f843462c",
   "metadata": {},
   "source": [
    "### Función objetivo"
   ]
  },
  {
   "cell_type": "markdown",
   "id": "97df9059",
   "metadata": {},
   "source": [
    "Agrega al problema la función objetivo. Recuerda que al definir el problema, ya definiste si este es de maximización o minimización."
   ]
  },
  {
   "cell_type": "code",
   "execution_count": 7,
   "id": "2fd8a365",
   "metadata": {},
   "outputs": [],
   "source": [
    "# Escribe en esta celda tu código.\n"
   ]
  },
  {
   "cell_type": "markdown",
   "id": "89f524db",
   "metadata": {},
   "source": [
    "### Restricciones"
   ]
  },
  {
   "cell_type": "markdown",
   "id": "77e7e409",
   "metadata": {},
   "source": [
    "Agrega al problema las restricciones del modelo."
   ]
  },
  {
   "cell_type": "code",
   "execution_count": 8,
   "id": "f986d5ee",
   "metadata": {},
   "outputs": [],
   "source": [
    "# Escribe en esta celda tu código.\n"
   ]
  },
  {
   "cell_type": "markdown",
   "id": "265a2a10",
   "metadata": {},
   "source": [
    "### Resolver el problema"
   ]
  },
  {
   "cell_type": "markdown",
   "id": "d7661201",
   "metadata": {},
   "source": [
    "Invoca el optimizador. Este paso le asigna un valor a las variables incluidas en las restricciones o función objetivo del modelo."
   ]
  },
  {
   "cell_type": "code",
   "execution_count": 9,
   "id": "ae811704",
   "metadata": {},
   "outputs": [],
   "source": [
    "# Escribe en esta celda tu código.\n"
   ]
  },
  {
   "cell_type": "markdown",
   "id": "655b238a",
   "metadata": {},
   "source": [
    "### Imprimir resultados"
   ]
  },
  {
   "cell_type": "markdown",
   "id": "8a7a8a35",
   "metadata": {},
   "source": [
    "Antes de estudiar el óptimo del modelo, identifica en el estado del optimizador si pudo resolver el problema."
   ]
  },
  {
   "cell_type": "code",
   "execution_count": 10,
   "id": "whole-trust",
   "metadata": {},
   "outputs": [],
   "source": [
    "# Escribe en esta celda tu código.\n"
   ]
  },
  {
   "cell_type": "markdown",
   "id": "ea6fe01e",
   "metadata": {},
   "source": [
    "Identifica también el valor de la función objetivo."
   ]
  },
  {
   "cell_type": "code",
   "execution_count": 11,
   "id": "11b75d2c",
   "metadata": {},
   "outputs": [],
   "source": [
    "# Escribe en esta celda tu código.\n"
   ]
  },
  {
   "cell_type": "markdown",
   "id": "6e59d608",
   "metadata": {},
   "source": [
    "Por último, imprime de manera estructurada el valor de las variables de decisión y otras expresiones de interés."
   ]
  },
  {
   "cell_type": "code",
   "execution_count": 12,
   "id": "ad53e1be",
   "metadata": {},
   "outputs": [],
   "source": [
    "# Escribe en esta celda tu código.\n"
   ]
  },
  {
   "cell_type": "markdown",
   "id": "86a97bde",
   "metadata": {},
   "source": [
    "## Créditos"
   ]
  },
  {
   "cell_type": "markdown",
   "id": "hired-insulation",
   "metadata": {},
   "source": [
    "Equipo Principios de Optimización<br>\n",
    "Autores: Juan Felipe Rengifo<br>\n",
    "Desarrollo: Juan Felipe Rengifo, Alejandro Mantilla<br>\n",
    "Última fecha de modificación: 08/04/2023"
   ]
  }
 ],
 "metadata": {
  "kernelspec": {
   "display_name": "Python 3 (ipykernel)",
   "language": "python",
   "name": "python3"
  },
  "language_info": {
   "codemirror_mode": {
    "name": "ipython",
    "version": 3
   },
   "file_extension": ".py",
   "mimetype": "text/x-python",
   "name": "python",
   "nbconvert_exporter": "python",
   "pygments_lexer": "ipython3",
   "version": "3.11.0"
  }
 },
 "nbformat": 4,
 "nbformat_minor": 5
}
