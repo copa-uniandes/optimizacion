{
 "cells": [
  {
   "cell_type": "markdown",
   "id": "specific-boulder",
   "metadata": {},
   "source": [
    "# Chocolatería - Solución"
   ]
  },
  {
   "cell_type": "markdown",
   "id": "written-elephant",
   "metadata": {},
   "source": [
    "<b><i style=\"font-size:13px\">Tags: </i></b><i style=\"font-size:11px\">Introducción, Dos variables</i>"
   ]
  },
  {
   "cell_type": "code",
   "execution_count": null,
   "id": "fe8c0d77",
   "metadata": {
    "tags": [
     "hide-input",
     "thebe-init"
    ]
   },
   "outputs": [],
   "source": [
    "import os\n",
    "# Por precaución, cambiamos el directorio activo de Python a aquel que contenga este notebook\n",
    "if \"optimizacion\" in os.listdir():\n",
    "    os.chdir(r\"optimizacion/Formulaciones/1. Chocolateria\")"
   ]
  },
  {
   "cell_type": "markdown",
   "id": "annoying-circus",
   "metadata": {},
   "source": [
    "## Enunciado\n",
    "\n",
    "<!--  \n",
    "Conjuntos: $Conjunto$\n",
    "Indices: $indice \\in Conjunto$\n",
    "Parámetros/variables: $parametro_{ij}$\n",
    "Tablas: En HTML y los textos de elementos del conjunto en la parte izquierda con alineado a la izquierda. Además a cada tabla se le pone un nombre y su respectiva descripción.\n",
    "-->"
   ]
  },
  {
   "cell_type": "markdown",
   "id": "8a1d50c9",
   "metadata": {},
   "source": [
    "La chocolatería Perla Caribe es un pequeño emprendimiento que fabrica y comercializa chocolates artesanales con cacao de distintas variedades comprado directamente a agricultores locales. Actualmente producen dos tipos de chocolates: chocolate oscuro y chocolate blanco. Una unidad de cualquier tipo de chocolate pesa 60g. Una unidad de chocolate oscuro se vende a 7,000 COP y una unidad de chocolate blanco se vende a 6,000 COP. Los costos asociados a materia prima, mano de obra y demás costos operacionales equivalen a 3,500 COP por cada unidad de chocolate oscuro y 2,000 COP por cada unidad de chocolate blanco."
   ]
  },
  {
   "cell_type": "markdown",
   "id": "e56138a1",
   "metadata": {},
   "source": [
    "La producción de estos chocolates requiere de dos ingredientes en común: manteca de cacao y azúcar. Por cada unidad de chocolate oscuro se requiere 6g de manteca de cacao y 21 g de azúcar. Por cada unidad de chocolate blanco se requiere 22g de manteca de cacao y 18g de azúcar. Cada semana, la chocolatería Perla Caribe tiene disponible 12kg de manteca de cacao y 20kg de azúcar. La demanda de chocolate oscuro es ilimitada, pero a lo sumo le demandan 315 unidades de chocolate blanco por semana."
   ]
  },
  {
   "cell_type": "markdown",
   "id": "b61464a9",
   "metadata": {},
   "source": [
    "La chocolatería Perla Caribe quiere maximizar su utilidad (ingresos menos costos). Formule un modelo matemático que represente la situación y que les permita cumplir con su objetivo. "
   ]
  },
  {
   "cell_type": "markdown",
   "id": "linear-shadow",
   "metadata": {},
   "source": [
    "## Formulación"
   ]
  },
  {
   "cell_type": "markdown",
   "id": "loaded-equipment",
   "metadata": {},
   "source": [
    "### Variables de decisión"
   ]
  },
  {
   "cell_type": "markdown",
   "id": "21e987f8",
   "metadata": {},
   "source": [
    "**a.** Escriba término a término la(s) variable(s) de decisión que utilizará en el modelo. "
   ]
  },
  {
   "cell_type": "markdown",
   "id": "a3dc77ed",
   "metadata": {},
   "source": [
    "$$\n",
    "\\begin{align*}\n",
    "x_1: \\text{unidades de chocolate oscuro producidos cada semana} \\\\\n",
    "x_2: \\text{unidades de chocolate blanco producidos cada semana}\n",
    "\\end{align*}\n",
    "$$"
   ]
  },
  {
   "cell_type": "markdown",
   "id": "north-language",
   "metadata": {},
   "source": [
    "### Restricciones"
   ]
  },
  {
   "cell_type": "markdown",
   "id": "274287be",
   "metadata": {},
   "source": [
    "**b.** </br>\n",
    "> **i.** Escribe término a término la(s) restricción(es) lineal(es) y descríbala(s)."
   ]
  },
  {
   "cell_type": "markdown",
   "id": "ca89a641",
   "metadata": {},
   "source": [
    "Restricciones asociadas a la disponibilidad de recursos: "
   ]
  },
  {
   "cell_type": "markdown",
   "id": "100abfdf",
   "metadata": {},
   "source": [
    "$$\n",
    "\\begin{align*}\n",
    "    6x_1 + 22x_2 \\leq 12,000\\\\\n",
    "    21x_1 + 18x_2 \\leq 20,000\n",
    "\\end{align*}\n",
    "$$"
   ]
  },
  {
   "cell_type": "markdown",
   "id": "a8c433e5",
   "metadata": {},
   "source": [
    "Restricciones asociadas a la demanda de productos: "
   ]
  },
  {
   "cell_type": "markdown",
   "id": "4a4dee79",
   "metadata": {},
   "source": [
    "$$\n",
    "\\begin{align*}\n",
    "    x_2 \\leq 315\n",
    "\\end{align*}\n",
    "$$"
   ]
  },
  {
   "cell_type": "markdown",
   "id": "descending-testament",
   "metadata": {},
   "source": [
    "### Naturaleza de las Variables"
   ]
  },
  {
   "cell_type": "markdown",
   "id": "8449b4e1",
   "metadata": {},
   "source": [
    "> **ii.** Escribe término a término la naturaleza de las variables."
   ]
  },
  {
   "cell_type": "markdown",
   "id": "ccd67c1b",
   "metadata": {},
   "source": [
    "Restricciones asociadas a la naturaleza de las variables: "
   ]
  },
  {
   "cell_type": "markdown",
   "id": "4dc5be7a",
   "metadata": {},
   "source": [
    "$$\n",
    "\\begin{align*}\n",
    "    x_1 \\geq 0\\\\\n",
    "    x_2 \\geq 0\n",
    "\\end{align*}\n",
    "$$"
   ]
  },
  {
   "cell_type": "markdown",
   "id": "voluntary-couple",
   "metadata": {},
   "source": [
    "### Función objetivo"
   ]
  },
  {
   "cell_type": "markdown",
   "id": "0dcc947f",
   "metadata": {},
   "source": [
    "**c.** Escribe término a término la función objetivo que maximiza la utilidad."
   ]
  },
  {
   "cell_type": "markdown",
   "id": "e1a0fc4a",
   "metadata": {},
   "source": [
    "$$\n",
    "\\operatorname{máx}\\ (\\$7,000 - \\$3,500)x_1 + (\\$6,000-\\$2,000)x_2\n",
    "$$"
   ]
  },
  {
   "cell_type": "markdown",
   "id": "ac90b6ec",
   "metadata": {},
   "source": [
    "## Formulación matemática completa"
   ]
  },
  {
   "cell_type": "markdown",
   "id": "7b98156e",
   "metadata": {},
   "source": [
    "### Variables de decisión"
   ]
  },
  {
   "cell_type": "markdown",
   "id": "cb0f4829",
   "metadata": {},
   "source": [
    "- $x_1$: unidades de chocolate oscuro producidos cada semana\n",
    "- $x_2$: unidades de chocolate blanco producidos cada semana"
   ]
  },
  {
   "cell_type": "markdown",
   "id": "e12b5213",
   "metadata": {},
   "source": [
    "### Modelo"
   ]
  },
  {
   "cell_type": "markdown",
   "id": "a571827a",
   "metadata": {},
   "source": [
    "$$\n",
    "\\operatorname{máx}\\ \\$3,500x_1 + \\$4,000x_2 \\text{ (1)} \n",
    "$$"
   ]
  },
  {
   "cell_type": "markdown",
   "id": "50bddff3",
   "metadata": {},
   "source": [
    "Sujeto a,"
   ]
  },
  {
   "cell_type": "markdown",
   "id": "f21cf13e",
   "metadata": {},
   "source": [
    "$$\n",
    "\\begin{align*}\n",
    "    6x_1 + 22x_2 &\\leq 12,000; &(2)\\\\\n",
    "    21x_1 + 18x_2 &\\leq 20,000; &(3)\\\\\n",
    "    x_2 &\\leq 315; &(4)\\\\\n",
    "    x_1 &\\geq 0; &(5)\\\\\n",
    "    x_2 & \\geq 0. &(6)\n",
    "\\end{align*}\n",
    "$$"
   ]
  },
  {
   "cell_type": "markdown",
   "id": "373f647f",
   "metadata": {},
   "source": [
    "La función objetivo (1) maximiza las utilidades. Las restricciones (2) y (3) describen que se debe respetar la disponibilidad de manteca de cacao y azúcar, respectivamente. La restricción (4) garantiza que no se sobrepase la demanda máxima de chocolate blanco. La restricciones (5) y (6) describen la naturaleza de la variables $x_1$ y $x_2$, respectivamente."
   ]
  },
  {
   "cell_type": "markdown",
   "id": "geographic-header",
   "metadata": {},
   "source": [
    "## Implementación"
   ]
  },
  {
   "cell_type": "markdown",
   "id": "2a1a82c3",
   "metadata": {},
   "source": [
    "### Librerías"
   ]
  },
  {
   "cell_type": "markdown",
   "id": "f597d592",
   "metadata": {},
   "source": [
    "Importa la librería `pulp` para crear y resolver el modelo."
   ]
  },
  {
   "cell_type": "code",
   "execution_count": null,
   "id": "323a0476",
   "metadata": {},
   "outputs": [],
   "source": [
    "import pulp as lp"
   ]
  },
  {
   "cell_type": "markdown",
   "id": "70fd6598",
   "metadata": {},
   "source": [
    "### Objeto del modelo"
   ]
  },
  {
   "cell_type": "markdown",
   "id": "aa975e80",
   "metadata": {},
   "source": [
    "Construye un problema al que luego agregarás las restricciones y la función objetivo."
   ]
  },
  {
   "cell_type": "code",
   "execution_count": null,
   "id": "a1501b81",
   "metadata": {},
   "outputs": [],
   "source": [
    "problema = lp.LpProblem(name=\"Perla_Caribe\", sense=lp.LpMaximize)"
   ]
  },
  {
   "cell_type": "markdown",
   "id": "970af788",
   "metadata": {},
   "source": [
    "### Variables de decisión"
   ]
  },
  {
   "cell_type": "markdown",
   "id": "1e670ec8",
   "metadata": {},
   "source": [
    "Define una a una las variables del problema."
   ]
  },
  {
   "cell_type": "code",
   "execution_count": null,
   "id": "e1febe93",
   "metadata": {},
   "outputs": [],
   "source": [
    "# Unidades de chocolate oscuro producidas cada semana\n",
    "x_1 = lp.LpVariable(\n",
    "    name=\"Choco_oscuro\",\n",
    "    lowBound=0,\n",
    "    upBound=None,\n",
    "    cat=lp.LpContinuous,\n",
    ")\n",
    "\n",
    "# Unidades de chocolate blanco producidas cada semana\n",
    "x_2 = lp.LpVariable(\n",
    "    name=\"Choco_blanco\",\n",
    "    lowBound=0,\n",
    "    upBound=None,\n",
    "    cat=lp.LpContinuous,\n",
    ")"
   ]
  },
  {
   "cell_type": "markdown",
   "id": "f843462c",
   "metadata": {},
   "source": [
    "### Función objetivo"
   ]
  },
  {
   "cell_type": "markdown",
   "id": "97df9059",
   "metadata": {},
   "source": [
    "Agrega al problema la función objetivo. Recuerda que al definir el problema, ya definiste si este es de maximización o minimización."
   ]
  },
  {
   "cell_type": "code",
   "execution_count": null,
   "id": "2fd8a365",
   "metadata": {},
   "outputs": [],
   "source": [
    "problema += 3500 * x_1 + 4000 * x_2, \"Utilidades_totales\""
   ]
  },
  {
   "cell_type": "markdown",
   "id": "89f524db",
   "metadata": {},
   "source": [
    "### Restricciones"
   ]
  },
  {
   "cell_type": "markdown",
   "id": "77e7e409",
   "metadata": {},
   "source": [
    "Agrega al problema las restricciones del modelo."
   ]
  },
  {
   "cell_type": "code",
   "execution_count": null,
   "id": "f986d5ee",
   "metadata": {},
   "outputs": [],
   "source": [
    "# Respeta la disponibilidad de manteca de cacao\n",
    "problema += 6 * x_1 + 22 * x_2 <= 12000, \"Manteca_cacao\"\n",
    "\n",
    "# Respeta la disponibilidad de azucar\n",
    "problema += 21 * x_1 + 18 * x_2 <= 20000, \"Azucar\"\n",
    "\n",
    "# Garantiza que la producción no sobrepase a lo demandado\n",
    "problema += x_2 <= 315, \"Demanda\""
   ]
  },
  {
   "cell_type": "markdown",
   "id": "265a2a10",
   "metadata": {},
   "source": [
    "### Resolver el problema"
   ]
  },
  {
   "cell_type": "markdown",
   "id": "d7661201",
   "metadata": {},
   "source": [
    "Invoca el optimizador. Este paso le asigna un valor a las variables incluidas en las restricciones o función objetivo del modelo."
   ]
  },
  {
   "cell_type": "code",
   "execution_count": null,
   "id": "ae811704",
   "metadata": {},
   "outputs": [],
   "source": [
    "problema.solve()"
   ]
  },
  {
   "cell_type": "markdown",
   "id": "655b238a",
   "metadata": {},
   "source": [
    "### Imprimir resultados"
   ]
  },
  {
   "cell_type": "markdown",
   "id": "8a7a8a35",
   "metadata": {},
   "source": [
    "Antes de estudiar el óptimo del modelo, identifica en el estado del optimizador si pudo resolver el problema."
   ]
  },
  {
   "cell_type": "code",
   "execution_count": null,
   "id": "whole-trust",
   "metadata": {},
   "outputs": [],
   "source": [
    "f\"Estado del optimizador: {lp.LpStatus[problema.status]}\""
   ]
  },
  {
   "cell_type": "markdown",
   "id": "ea6fe01e",
   "metadata": {},
   "source": [
    "Identifica también el valor de la función objetivo."
   ]
  },
  {
   "cell_type": "code",
   "execution_count": null,
   "id": "11b75d2c",
   "metadata": {},
   "outputs": [],
   "source": [
    "f\"Utilidades totales: {lp.value(problema.objective)}\""
   ]
  },
  {
   "cell_type": "markdown",
   "id": "6e59d608",
   "metadata": {},
   "source": [
    "Por último, imprimime de manera estructurada el valor de las variables de decisión y otras expresiones de interés."
   ]
  },
  {
   "cell_type": "code",
   "execution_count": null,
   "id": "ad53e1be",
   "metadata": {},
   "outputs": [],
   "source": [
    "print(f\"Se deben fabricar: {lp.value(x_1)} unidades de chocolate oscuro\")\n",
    "print(f\"Se deben fabricar: {lp.value(x_1)} unidades de chocolate blanco\")"
   ]
  },
  {
   "cell_type": "markdown",
   "id": "hired-insulation",
   "metadata": {},
   "source": [
    "## Créditos\n",
    "\n",
    "Equipo Principios de Optimización<br>\n",
    "Autores: Alfaima Solano<br>\n",
    "Desarrollo: Alfaima Solano, Alejandro Mantilla<br>\n",
    "Última fecha de modificación: 07/04/2023"
   ]
  }
 ],
 "metadata": {
  "kernelspec": {
   "display_name": "Python 3 (ipykernel)",
   "language": "python",
   "name": "python3"
  },
  "language_info": {
   "codemirror_mode": {
    "name": "ipython",
    "version": 3
   },
   "file_extension": ".py",
   "mimetype": "text/x-python",
   "name": "python",
   "nbconvert_exporter": "python",
   "pygments_lexer": "ipython3",
   "version": "3.11.3"
  }
 },
 "nbformat": 4,
 "nbformat_minor": 5
}
