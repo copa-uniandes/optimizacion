{
 "cells": [
  {
   "cell_type": "markdown",
   "id": "specific-boulder",
   "metadata": {},
   "source": [
    "# Transporte de productos lácteos"
   ]
  },
  {
   "cell_type": "markdown",
   "id": "written-elephant",
   "metadata": {},
   "source": [
    "<b><i style=\"font-size:13px\">Tags: </i></b><i style=\"font-size:11px\">Transporte</i>"
   ]
  },
  {
   "cell_type": "code",
   "execution_count": 1,
   "id": "fe8c0d77",
   "metadata": {
    "tags": [
     "hide-input",
     "thebe-init"
    ]
   },
   "outputs": [],
   "source": [
    "import os\n",
    "# Por precaución, cambiamos el directorio activo de Python a aquel que contenga este notebook\n",
    "if \"optimizacion\" in os.listdir():\n",
    "    os.chdir(r\"optimizacion/Formulaciones/4. Transporte de productos lacteos/\")"
   ]
  },
  {
   "cell_type": "markdown",
   "id": "annoying-circus",
   "metadata": {},
   "source": [
    "## Enunciado\n",
    "\n",
    "<!--  \n",
    "Conjuntos: $Conjunto$\n",
    "Indices: $indice \\in Conjunto$\n",
    "Parámetros/variables: $parametro_{ij}$\n",
    "Tablas: En HTML y los textos de elementos del conjunto en la parte izquierda con alineado a la izquierda. Además a cada tabla se le pone un nombre y su respectiva descripción.\n",
    "-->"
   ]
  },
  {
   "cell_type": "markdown",
   "id": "0e33ffa0",
   "metadata": {},
   "source": [
    "La Lechera Ramírez S.A. es una empresa que produce productos lácteos y cuenta con cuatro plantas de producción en Colombia cuyas capacidades de producción mensuales de leche son 1,500, 1,200, 1,400, y 1,000 litros, respectivamente. Estas cuatro plantas suministran leche a los ocho clientes que actualmente tienen, los cuales son distribuidores minoristas de productos. Las demandas mensuales de leche de estos distribuidores son 930, 600, 460, 610, 830, 460, 640 y 240 litros, respectivamente. La Tabla 1 presenta el costo en el que incurre la compañía al enviar un litro de leche desde cada planta hacia cada distribuidor."
   ]
  },
  {
   "cell_type": "markdown",
   "id": "e752b0ac",
   "metadata": {},
   "source": [
    "<p style=\"text-align: center;\"><b>Tabla 1. Costos de distribución</b></p>"
   ]
  },
  {
   "cell_type": "markdown",
   "id": "76e54a97",
   "metadata": {},
   "source": [
    "|            |**Dist. 1**|Dist. 2|Dist. 3|Dist. 4|Dist. 5|Dist. 6|Dist. 7|Dist. 8|\n",
    "|:----------:|----------:|------:|------:|------:|------:|------:|------:|------:|\n",
    "|**Planta 1**|650        |125    |1200   |340    |150    |260    |350    |800    |\n",
    "|**Planta 2**|250        |200    |250    |600    |150    |950    |1050   |1000   |\n",
    "|**Planta 3**|600        |350    |400    |260    |150    |300    |450    |600    |\n",
    "|**Planta 4**|450        |800    |650    |250    |340    |700    |600    |620    |"
   ]
  },
  {
   "cell_type": "markdown",
   "id": "8d3015c9",
   "metadata": {},
   "source": [
    "Formula un modelo general de optimización lineal que le permita a La Lechera Ramírez satisfacer la demanda de sus clientes, al menor costo posible."
   ]
  },
  {
   "cell_type": "markdown",
   "id": "linear-shadow",
   "metadata": {},
   "source": [
    "## Formulación\n",
    "\n",
    "<!--  \n",
    "Enumeración alfabetica y en negrilla. En caso de que hayan subliterales, estos van identados, en negrilla y se utiliza \"i.\", \"ii.\", ... \n",
    "Ejemplo:\n",
    "**a.**\n",
    "    **i.**\n",
    "    **ii.**\n",
    "**b.**\n",
    "-->"
   ]
  },
  {
   "cell_type": "markdown",
   "id": "f08dc1b9",
   "metadata": {},
   "source": [
    "**a.** Formula matemáticamente un modelo de optimización de forma general que represente la\n",
    "situación anterior. Defina clara y rigurosamente:  \n",
    "- Conjuntos\n",
    "- Parámetros\n",
    "- Variables de decisión\n",
    "- Restricciones\n",
    "- Naturaleza de las variables\n",
    "- Función objetivo"
   ]
  },
  {
   "cell_type": "markdown",
   "id": "geographic-header",
   "metadata": {},
   "source": [
    "## Implementación"
   ]
  },
  {
   "cell_type": "markdown",
   "id": "4725d708",
   "metadata": {},
   "source": [
    "**b.** Resuelve el modelo planteado utilizando la librería de PuLP en Python. ¿Cuál es la solución óptima del problema? "
   ]
  },
  {
   "cell_type": "markdown",
   "id": "2a1a82c3",
   "metadata": {},
   "source": [
    "### Librerías"
   ]
  },
  {
   "cell_type": "markdown",
   "id": "f597d592",
   "metadata": {},
   "source": [
    "Importa el módulo `matplotlib.pyplot` para crear gráficas, la librería `networkx` para dibujar grafos (redes) y la librería `pulp` para crear y resolver el modelo."
   ]
  },
  {
   "cell_type": "code",
   "execution_count": 2,
   "id": "323a0476",
   "metadata": {},
   "outputs": [],
   "source": [
    "# Escribe en esta celda tu código.\n"
   ]
  },
  {
   "cell_type": "markdown",
   "id": "837873b4",
   "metadata": {},
   "source": [
    "### Conjuntos"
   ]
  },
  {
   "cell_type": "markdown",
   "id": "48fddac0",
   "metadata": {},
   "source": [
    "Define los conjuntos `P` y `D` que representan respectivamente las plantas y los distribuidores.\n",
    "\n",
    "Recuerda que por conveniencia de preservar el orden de los elementos de los conjuntos, no siempre deberás definirlos con el tipo `set`."
   ]
  },
  {
   "cell_type": "code",
   "execution_count": 3,
   "id": "d9209bb7",
   "metadata": {},
   "outputs": [],
   "source": [
    "# Escribe en esta celda tu código.\n"
   ]
  },
  {
   "cell_type": "markdown",
   "id": "8c58ff99",
   "metadata": {},
   "source": [
    "### Parámetros"
   ]
  },
  {
   "cell_type": "markdown",
   "id": "d981d80d",
   "metadata": {},
   "source": [
    "Define o importa los parámetros del modelo."
   ]
  },
  {
   "cell_type": "code",
   "execution_count": 4,
   "id": "16df6fb4",
   "metadata": {},
   "outputs": [],
   "source": [
    "# Oferta de la planta i en I\n",
    "b = {\n",
    "    \"Planta 1\": 1500,\n",
    "    \"Planta 2\": 1200,\n",
    "    \"Planta 3\": 1400,\n",
    "    \"Planta 4\": 1000,\n",
    "}\n",
    "\n",
    "# Demanda del distribuidor j en D\n",
    "t = {  \n",
    "    \"Distribuidor 1\": 930,\n",
    "    \"Distribuidor 2\": 600,\n",
    "    \"Distribuidor 3\": 460,\n",
    "    \"Distribuidor 4\": 610,\n",
    "    \"Distribuidor 5\": 830,\n",
    "    \"Distribuidor 6\": 460,\n",
    "    \"Distribuidor 7\": 640,\n",
    "    \"Distribuidor 8\": 240,\n",
    "}\n",
    "\n",
    "# Costo de envio de un litro de leche desde la planta i en P al distribuidor j en D.\n",
    "c = {\n",
    "    (\"Planta 1\", \"Distribuidor 1\"): 650,\n",
    "    (\"Planta 1\", \"Distribuidor 2\"): 125,\n",
    "    (\"Planta 1\", \"Distribuidor 3\"): 1200,\n",
    "    (\"Planta 1\", \"Distribuidor 4\"): 340,\n",
    "    (\"Planta 1\", \"Distribuidor 5\"): 150,\n",
    "    (\"Planta 1\", \"Distribuidor 6\"): 260,\n",
    "    (\"Planta 1\", \"Distribuidor 7\"): 350,\n",
    "    (\"Planta 1\", \"Distribuidor 8\"): 800,\n",
    "    (\"Planta 2\", \"Distribuidor 1\"): 250,\n",
    "    (\"Planta 2\", \"Distribuidor 2\"): 200,\n",
    "    (\"Planta 2\", \"Distribuidor 3\"): 250,\n",
    "    (\"Planta 2\", \"Distribuidor 4\"): 600,\n",
    "    (\"Planta 2\", \"Distribuidor 5\"): 150,\n",
    "    (\"Planta 2\", \"Distribuidor 6\"): 950,\n",
    "    (\"Planta 2\", \"Distribuidor 7\"): 1050,\n",
    "    (\"Planta 2\", \"Distribuidor 8\"): 1000,\n",
    "    (\"Planta 3\", \"Distribuidor 1\"): 600,\n",
    "    (\"Planta 3\", \"Distribuidor 2\"): 350,\n",
    "    (\"Planta 3\", \"Distribuidor 3\"): 400,\n",
    "    (\"Planta 3\", \"Distribuidor 4\"): 260,\n",
    "    (\"Planta 3\", \"Distribuidor 5\"): 150,\n",
    "    (\"Planta 3\", \"Distribuidor 6\"): 300,\n",
    "    (\"Planta 3\", \"Distribuidor 7\"): 450,\n",
    "    (\"Planta 3\", \"Distribuidor 8\"): 600,\n",
    "    (\"Planta 4\", \"Distribuidor 1\"): 450,\n",
    "    (\"Planta 4\", \"Distribuidor 2\"): 800,\n",
    "    (\"Planta 4\", \"Distribuidor 3\"): 650,\n",
    "    (\"Planta 4\", \"Distribuidor 4\"): 250,\n",
    "    (\"Planta 4\", \"Distribuidor 5\"): 340,\n",
    "    (\"Planta 4\", \"Distribuidor 6\"): 700,\n",
    "    (\"Planta 4\", \"Distribuidor 7\"): 600,\n",
    "    (\"Planta 4\", \"Distribuidor 8\"): 620,\n",
    "}"
   ]
  },
  {
   "cell_type": "markdown",
   "id": "70fd6598",
   "metadata": {},
   "source": [
    "### Objeto del modelo"
   ]
  },
  {
   "cell_type": "markdown",
   "id": "aa975e80",
   "metadata": {},
   "source": [
    "Construye un problema al que luego agregarás las restricciones y la función objetivo."
   ]
  },
  {
   "cell_type": "code",
   "execution_count": 5,
   "id": "a1501b81",
   "metadata": {},
   "outputs": [],
   "source": [
    "# Escribe en esta celda tu código.\n"
   ]
  },
  {
   "cell_type": "markdown",
   "id": "970af788",
   "metadata": {},
   "source": [
    "### Variables de decisión"
   ]
  },
  {
   "cell_type": "markdown",
   "id": "1e670ec8",
   "metadata": {},
   "source": [
    "Define las variables del problema de manera que estén contenidas en diccionarios indexados en los conjuntos de sus variables respectivas."
   ]
  },
  {
   "cell_type": "code",
   "execution_count": 6,
   "id": "e1febe93",
   "metadata": {},
   "outputs": [],
   "source": [
    "# Escribe en esta celda tu código.\n"
   ]
  },
  {
   "cell_type": "markdown",
   "id": "f843462c",
   "metadata": {},
   "source": [
    "### Función objetivo"
   ]
  },
  {
   "cell_type": "markdown",
   "id": "97df9059",
   "metadata": {},
   "source": [
    "Agrega al problema la función objetivo. Recuerda que al definir el problema, ya definiste si este es de maximización o minimización."
   ]
  },
  {
   "cell_type": "code",
   "execution_count": 7,
   "id": "2fd8a365",
   "metadata": {},
   "outputs": [],
   "source": [
    "# Escribe en esta celda tu código.\n"
   ]
  },
  {
   "cell_type": "markdown",
   "id": "89f524db",
   "metadata": {},
   "source": [
    "### Restricciones"
   ]
  },
  {
   "cell_type": "markdown",
   "id": "77e7e409",
   "metadata": {},
   "source": [
    "Agrega al problema las restricciones del modelo."
   ]
  },
  {
   "cell_type": "code",
   "execution_count": 8,
   "id": "f986d5ee",
   "metadata": {},
   "outputs": [],
   "source": [
    "# Escribe en esta celda tu código.\n"
   ]
  },
  {
   "cell_type": "markdown",
   "id": "265a2a10",
   "metadata": {},
   "source": [
    "### Resolver el problema"
   ]
  },
  {
   "cell_type": "markdown",
   "id": "d7661201",
   "metadata": {},
   "source": [
    "Invoca el optimizador. Este paso le asigna un valor a las variables incluidas en las restricciones o función objetivo del modelo."
   ]
  },
  {
   "cell_type": "code",
   "execution_count": 9,
   "id": "ae811704",
   "metadata": {},
   "outputs": [],
   "source": [
    "# Escribe en esta celda tu código.\n"
   ]
  },
  {
   "cell_type": "markdown",
   "id": "655b238a",
   "metadata": {},
   "source": [
    "### Imprimir resultados"
   ]
  },
  {
   "cell_type": "markdown",
   "id": "8a7a8a35",
   "metadata": {},
   "source": [
    "Antes de estudiar el óptimo del modelo, identifica en el estado del optimizador si pudo resolver el problema."
   ]
  },
  {
   "cell_type": "code",
   "execution_count": 10,
   "id": "whole-trust",
   "metadata": {},
   "outputs": [],
   "source": [
    "# Escribe en esta celda tu código.\n"
   ]
  },
  {
   "cell_type": "markdown",
   "id": "ea6fe01e",
   "metadata": {},
   "source": [
    "Identifica también el valor de la función objetivo."
   ]
  },
  {
   "cell_type": "code",
   "execution_count": 11,
   "id": "11b75d2c",
   "metadata": {},
   "outputs": [],
   "source": [
    "# Escribe en esta celda tu código.\n"
   ]
  },
  {
   "cell_type": "markdown",
   "id": "6e59d608",
   "metadata": {},
   "source": [
    "Por último, imprime de manera estructurada el valor de las variables de decisión y otras expresiones de interés."
   ]
  },
  {
   "cell_type": "code",
   "execution_count": 12,
   "id": "ad53e1be",
   "metadata": {},
   "outputs": [],
   "source": [
    "# Escribe en esta celda tu código.\n"
   ]
  },
  {
   "cell_type": "markdown",
   "id": "1b31089f",
   "metadata": {},
   "source": [
    "### Visualizar resultados"
   ]
  },
  {
   "cell_type": "markdown",
   "id": "8f832f83",
   "metadata": {},
   "source": [
    "Ahora que conoces el valor de las variables de decisión, desarrolla una gráfica que ilustre la red de distribución y los envíos dentro de la misma. Utiliza las ubicaciones definidas a continuación."
   ]
  },
  {
   "cell_type": "code",
   "execution_count": 13,
   "id": "727798d1",
   "metadata": {},
   "outputs": [],
   "source": [
    "# Coordenadas de las plantas\n",
    "coordenadas_plantas = {\n",
    "    \"Planta 1\": (9.5, 12),\n",
    "    \"Planta 2\": (7, 5),\n",
    "    \"Planta 3\": (5, 14),\n",
    "    \"Planta 4\": (2.5, 9.5),\n",
    "}\n",
    "\n",
    "# Coordenadas de los distribuidores\n",
    "coordenadas_distribuidores = {\n",
    "    \"Distribuidor 1\": (5.5, 9),\n",
    "    \"Distribuidor 2\": (8, 9),\n",
    "    \"Distribuidor 3\": (5, 8),\n",
    "    \"Distribuidor 4\": (6, 10),\n",
    "    \"Distribuidor 5\": (7, 10),\n",
    "    \"Distribuidor 6\": (7.5, 15),\n",
    "    \"Distribuidor 7\": (8, 17),\n",
    "    \"Distribuidor 8\": (1, 15),\n",
    "}"
   ]
  },
  {
   "cell_type": "code",
   "execution_count": 14,
   "id": "8028020c",
   "metadata": {},
   "outputs": [],
   "source": [
    "# Escribe en esta celda tu código.\n"
   ]
  },
  {
   "cell_type": "markdown",
   "id": "hired-insulation",
   "metadata": {},
   "source": [
    "## Créditos\n",
    "\n",
    "Equipo Principios de Optimización<br>\n",
    "Autores: Camilo Aguilar, Juan Felipe Rengifo<br>\n",
    "Desarrollo: Camilo Aguilar, Juan Felipe Rengifo, Alejandro Mantilla<br>\n",
    "Última fecha de modificación: 07/04/2023"
   ]
  }
 ],
 "metadata": {
  "kernelspec": {
   "display_name": "Python 3 (ipykernel)",
   "language": "python",
   "name": "python3"
  },
  "language_info": {
   "codemirror_mode": {
    "name": "ipython",
    "version": 3
   },
   "file_extension": ".py",
   "mimetype": "text/x-python",
   "name": "python",
   "nbconvert_exporter": "python",
   "pygments_lexer": "ipython3",
   "version": "3.11.0"
  }
 },
 "nbformat": 4,
 "nbformat_minor": 5
}
