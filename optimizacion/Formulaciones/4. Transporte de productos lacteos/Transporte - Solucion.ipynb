{
 "cells": [
  {
   "cell_type": "markdown",
   "id": "specific-boulder",
   "metadata": {},
   "source": [
    "# Transporte de productos lácteos - Solución"
   ]
  },
  {
   "cell_type": "markdown",
   "id": "written-elephant",
   "metadata": {},
   "source": [
    "<b><i style=\"font-size:13px\">Tags: </i></b><i style=\"font-size:11px\">Transporte</i>"
   ]
  },
  {
   "cell_type": "code",
   "execution_count": 1,
   "id": "fe8c0d77",
   "metadata": {
    "tags": [
     "hide-input",
     "thebe-init"
    ]
   },
   "outputs": [],
   "source": [
    "import os\n",
    "# Por precaución, cambiamos el directorio activo de Python a aquel que contenga este notebook\n",
    "if \"optimizacion\" in os.listdir():\n",
    "    os.chdir(r\"optimizacion/Formulaciones/4. Transporte de productos lacteos/\")"
   ]
  },
  {
   "cell_type": "markdown",
   "id": "annoying-circus",
   "metadata": {},
   "source": [
    "## Enunciado\n",
    "\n",
    "<!--  \n",
    "Conjuntos: $Conjunto$\n",
    "Indices: $indice \\in Conjunto$\n",
    "Parámetros/variables: $parametro_{ij}$\n",
    "Tablas: En HTML y los textos de elementos del conjunto en la parte izquierda con alineado a la izquierda. Además a cada tabla se le pone un nombre y su respectiva descripción.\n",
    "-->"
   ]
  },
  {
   "cell_type": "markdown",
   "id": "a92f46c9",
   "metadata": {},
   "source": [
    "La Lechera Ramírez S.A. es una empresa que produce productos lácteos y cuenta con cuatro plantas de producción en Colombia cuyas capacidades de producción mensuales de leche son 1,500, 1,200, 1,400, y 1,000 litros, respectivamente. Estas cuatro plantas suministran leche a los ocho clientes que actualmente tienen, los cuales son distribuidores minoristas de productos. Las demandas mensuales de leche de estos distribuidores son 930, 600, 460, 610, 830, 460, 640 y 240 litros, respectivamente. La Tabla 1 presenta el costo en el que incurre la compañía al enviar un litro de leche desde cada planta hacia cada distribuidor."
   ]
  },
  {
   "cell_type": "markdown",
   "id": "980acbe7",
   "metadata": {},
   "source": [
    "<p style=\"text-align: center;\"><b>Tabla 1. Costos de distribución</b></p>"
   ]
  },
  {
   "cell_type": "markdown",
   "id": "7b7609f5",
   "metadata": {},
   "source": [
    "|            |**Dist. 1**|Dist. 2|Dist. 3|Dist. 4|Dist. 5|Dist. 6|Dist. 7|Dist. 8|\n",
    "|:----------:|----------:|------:|------:|------:|------:|------:|------:|------:|\n",
    "|**Planta 1**|650        |125    |1200   |340    |150    |260    |350    |800    |\n",
    "|**Planta 2**|250        |200    |250    |600    |150    |950    |1050   |1000   |\n",
    "|**Planta 3**|600        |350    |400    |260    |150    |300    |450    |600    |\n",
    "|**Planta 4**|450        |800    |650    |250    |340    |700    |600    |620    |"
   ]
  },
  {
   "cell_type": "markdown",
   "id": "36889c72",
   "metadata": {},
   "source": [
    "Formula un modelo general de optimización lineal que le permita a La Lechera Ramírez satisfacer la demanda de sus clientes, al menor costo posible."
   ]
  },
  {
   "cell_type": "markdown",
   "id": "linear-shadow",
   "metadata": {},
   "source": [
    "## Formulación\n",
    "\n",
    "<!--  \n",
    "Enumeración alfabetica y en negrilla. En caso de que hayan subliterales, estos van identados, en negrilla y se utiliza \"i.\", \"ii.\", ... \n",
    "Ejemplo:\n",
    "**a.**\n",
    "    **i.**\n",
    "    **ii.**\n",
    "**b.**\n",
    "-->"
   ]
  },
  {
   "cell_type": "markdown",
   "id": "f08dc1b9",
   "metadata": {},
   "source": [
    "**a.** Formula matemáticamente un modelo de optimización de forma general que represente la\n",
    "situación anterior. Defina clara y rigurosamente:  \n",
    "- Conjuntos\n",
    "- Parámetros\n",
    "- Variables de decisión\n",
    "- Restricciones\n",
    "- Naturaleza de las variables\n",
    "- Función objetivo"
   ]
  },
  {
   "cell_type": "markdown",
   "id": "800cfd34",
   "metadata": {},
   "source": [
    "### Conjuntos\n",
    "- $P$: Plantas\n",
    "- $D$: Distribuidores"
   ]
  },
  {
   "cell_type": "markdown",
   "id": "47957594",
   "metadata": {},
   "source": [
    "### Parámetros\n",
    "- $b_i$: oferta de leche de la planta $i\\in P$\n",
    "- $t_j$: demanda de leche del distribuidor $j\\in D$ \n",
    "- $c_{ij}$: costo de envío de un litro de leche de la planta $i\\in P$ al distribuidor $j\\in D$"
   ]
  },
  {
   "cell_type": "markdown",
   "id": "6af5479a",
   "metadata": {},
   "source": [
    "### Variables de decisión\n",
    "- $x_{ij}$: cantidad (en litros) de leche que van de la planta $i\\in P$ al distribuidor $j\\in D$"
   ]
  },
  {
   "cell_type": "markdown",
   "id": "north-language",
   "metadata": {},
   "source": [
    "### Restricciones"
   ]
  },
  {
   "cell_type": "markdown",
   "id": "af49b1dc",
   "metadata": {},
   "source": [
    "Se debe respetar la oferta disponible de las plantas:"
   ]
  },
  {
   "cell_type": "markdown",
   "id": "e6af2859",
   "metadata": {},
   "source": [
    "$$\n",
    "\\sum_{j\\in D}x_{ij} \\le b_i,\\ \\forall i\\in P.\n",
    "$$"
   ]
  },
  {
   "cell_type": "markdown",
   "id": "624ac8da",
   "metadata": {},
   "source": [
    "Se debe satisfacer la demanda de los distribuidores:  "
   ]
  },
  {
   "cell_type": "markdown",
   "id": "f6d0d067",
   "metadata": {},
   "source": [
    "$$\n",
    "\\sum_{i\\in P}x_{ij} \\ge t_j,\\ \\forall j\\in D.\n",
    "$$"
   ]
  },
  {
   "cell_type": "markdown",
   "id": "descending-testament",
   "metadata": {},
   "source": [
    "### Naturaleza de las Variables"
   ]
  },
  {
   "cell_type": "markdown",
   "id": "a3df3ae6",
   "metadata": {},
   "source": [
    "No pueden enviarse cantidades negativas de leche:"
   ]
  },
  {
   "cell_type": "markdown",
   "id": "b5a08fc4",
   "metadata": {},
   "source": [
    "$$\n",
    "x_{ij} \\ge 0,\\ \\forall i\\in P,j\\in D.\n",
    "$$"
   ]
  },
  {
   "cell_type": "markdown",
   "id": "voluntary-couple",
   "metadata": {},
   "source": [
    "### Función objetivo"
   ]
  },
  {
   "cell_type": "markdown",
   "id": "dc9be514",
   "metadata": {},
   "source": [
    "Se debe minimizar el costo total:"
   ]
  },
  {
   "cell_type": "markdown",
   "id": "04dbe548",
   "metadata": {},
   "source": [
    "$$\n",
    "\\operatorname{mín}\\ \\sum_{i\\in P}\\sum_{j\\in D}x_{ij}c_{ij}\n",
    "$$"
   ]
  },
  {
   "cell_type": "markdown",
   "id": "geographic-header",
   "metadata": {},
   "source": [
    "## Implementación"
   ]
  },
  {
   "cell_type": "markdown",
   "id": "4725d708",
   "metadata": {},
   "source": [
    "**b.** Resuelve el modelo planteado utilizando la librería de PuLP en Python. ¿Cuál es la solución óptima del problema? "
   ]
  },
  {
   "cell_type": "markdown",
   "id": "2a1a82c3",
   "metadata": {},
   "source": [
    "### Librerías"
   ]
  },
  {
   "cell_type": "markdown",
   "id": "f597d592",
   "metadata": {},
   "source": [
    "Importa el módulo `matplotlib.pyplot` para crear gráficas, la librería `networkx` para dibujar grafos (redes) y la librería `pulp` para crear y resolver el modelo."
   ]
  },
  {
   "cell_type": "code",
   "execution_count": 2,
   "id": "323a0476",
   "metadata": {},
   "outputs": [],
   "source": [
    "import matplotlib.pyplot as plt\n",
    "import networkx as nx\n",
    "import pulp as lp"
   ]
  },
  {
   "cell_type": "markdown",
   "id": "837873b4",
   "metadata": {},
   "source": [
    "### Conjuntos"
   ]
  },
  {
   "cell_type": "markdown",
   "id": "48fddac0",
   "metadata": {},
   "source": [
    "Define los conjuntos `P` y `D` que representan respectivamente las plantas y los distribuidores.\n",
    "\n",
    "Recuerda que por conveniencia de preservar el orden de los elementos de los conjuntos, no siempre deberás definirlos con el tipo `set`."
   ]
  },
  {
   "cell_type": "code",
   "execution_count": 3,
   "id": "d9209bb7",
   "metadata": {},
   "outputs": [],
   "source": [
    "# Plantas\n",
    "P = [\"Planta 1\", \"Planta 2\", \"Planta 3\", \"Planta 4\"]\n",
    "\n",
    "# Distribuidores\n",
    "D = [\n",
    "    \"Distribuidor 1\",\n",
    "    \"Distribuidor 2\",\n",
    "    \"Distribuidor 3\",\n",
    "    \"Distribuidor 4\",\n",
    "    \"Distribuidor 5\",\n",
    "    \"Distribuidor 6\",\n",
    "    \"Distribuidor 7\",\n",
    "    \"Distribuidor 8\",\n",
    "]"
   ]
  },
  {
   "cell_type": "markdown",
   "id": "8c58ff99",
   "metadata": {},
   "source": [
    "### Parámetros"
   ]
  },
  {
   "cell_type": "markdown",
   "id": "d981d80d",
   "metadata": {},
   "source": [
    "Define o importa los parámetros del modelo."
   ]
  },
  {
   "cell_type": "code",
   "execution_count": 4,
   "id": "16df6fb4",
   "metadata": {},
   "outputs": [],
   "source": [
    "# Oferta de la planta i en I\n",
    "b = {\n",
    "    \"Planta 1\": 1500,\n",
    "    \"Planta 2\": 1200,\n",
    "    \"Planta 3\": 1400,\n",
    "    \"Planta 4\": 1000,\n",
    "}\n",
    "\n",
    "# Demanda del distribuidor j en D\n",
    "t = {  \n",
    "    \"Distribuidor 1\": 930,\n",
    "    \"Distribuidor 2\": 600,\n",
    "    \"Distribuidor 3\": 460,\n",
    "    \"Distribuidor 4\": 610,\n",
    "    \"Distribuidor 5\": 830,\n",
    "    \"Distribuidor 6\": 460,\n",
    "    \"Distribuidor 7\": 640,\n",
    "    \"Distribuidor 8\": 240,\n",
    "}\n",
    "\n",
    "# Costo de envio de un litro de leche desde la planta i en P al distribuidor j en D.\n",
    "c = {\n",
    "    (\"Planta 1\", \"Distribuidor 1\"): 650,\n",
    "    (\"Planta 1\", \"Distribuidor 2\"): 125,\n",
    "    (\"Planta 1\", \"Distribuidor 3\"): 1200,\n",
    "    (\"Planta 1\", \"Distribuidor 4\"): 340,\n",
    "    (\"Planta 1\", \"Distribuidor 5\"): 150,\n",
    "    (\"Planta 1\", \"Distribuidor 6\"): 260,\n",
    "    (\"Planta 1\", \"Distribuidor 7\"): 350,\n",
    "    (\"Planta 1\", \"Distribuidor 8\"): 800,\n",
    "    (\"Planta 2\", \"Distribuidor 1\"): 250,\n",
    "    (\"Planta 2\", \"Distribuidor 2\"): 200,\n",
    "    (\"Planta 2\", \"Distribuidor 3\"): 250,\n",
    "    (\"Planta 2\", \"Distribuidor 4\"): 600,\n",
    "    (\"Planta 2\", \"Distribuidor 5\"): 150,\n",
    "    (\"Planta 2\", \"Distribuidor 6\"): 950,\n",
    "    (\"Planta 2\", \"Distribuidor 7\"): 1050,\n",
    "    (\"Planta 2\", \"Distribuidor 8\"): 1000,\n",
    "    (\"Planta 3\", \"Distribuidor 1\"): 600,\n",
    "    (\"Planta 3\", \"Distribuidor 2\"): 350,\n",
    "    (\"Planta 3\", \"Distribuidor 3\"): 400,\n",
    "    (\"Planta 3\", \"Distribuidor 4\"): 260,\n",
    "    (\"Planta 3\", \"Distribuidor 5\"): 150,\n",
    "    (\"Planta 3\", \"Distribuidor 6\"): 300,\n",
    "    (\"Planta 3\", \"Distribuidor 7\"): 450,\n",
    "    (\"Planta 3\", \"Distribuidor 8\"): 600,\n",
    "    (\"Planta 4\", \"Distribuidor 1\"): 450,\n",
    "    (\"Planta 4\", \"Distribuidor 2\"): 800,\n",
    "    (\"Planta 4\", \"Distribuidor 3\"): 650,\n",
    "    (\"Planta 4\", \"Distribuidor 4\"): 250,\n",
    "    (\"Planta 4\", \"Distribuidor 5\"): 340,\n",
    "    (\"Planta 4\", \"Distribuidor 6\"): 700,\n",
    "    (\"Planta 4\", \"Distribuidor 7\"): 600,\n",
    "    (\"Planta 4\", \"Distribuidor 8\"): 620,\n",
    "}"
   ]
  },
  {
   "cell_type": "markdown",
   "id": "70fd6598",
   "metadata": {},
   "source": [
    "### Objeto del modelo"
   ]
  },
  {
   "cell_type": "markdown",
   "id": "aa975e80",
   "metadata": {},
   "source": [
    "Construye un problema al que luego agregarás las restricciones y la función objetivo."
   ]
  },
  {
   "cell_type": "code",
   "execution_count": 5,
   "id": "a1501b81",
   "metadata": {},
   "outputs": [],
   "source": [
    "problema = lp.LpProblem(name=\"Transporte\", sense=lp.LpMinimize)"
   ]
  },
  {
   "cell_type": "markdown",
   "id": "970af788",
   "metadata": {},
   "source": [
    "### Variables de decisión"
   ]
  },
  {
   "cell_type": "markdown",
   "id": "1e670ec8",
   "metadata": {},
   "source": [
    "Define las variables del problema de manera que estén contenidas en diccionarios indexados en los conjuntos de sus variables respectivas."
   ]
  },
  {
   "cell_type": "code",
   "execution_count": 6,
   "id": "e1febe93",
   "metadata": {},
   "outputs": [],
   "source": [
    "# litros de leche que van de la planta i en P al distribuidor j en D\n",
    "x = {\n",
    "    (i, j): lp.LpVariable(\n",
    "        name=f\"litros_planta_{i}_distribuidor_{j}\",\n",
    "        lowBound=0,\n",
    "        upBound=None,\n",
    "        cat=lp.LpContinuous,\n",
    "    )\n",
    "    for i in P\n",
    "    for j in D\n",
    "}"
   ]
  },
  {
   "cell_type": "markdown",
   "id": "f843462c",
   "metadata": {},
   "source": [
    "### Función objetivo"
   ]
  },
  {
   "cell_type": "markdown",
   "id": "97df9059",
   "metadata": {},
   "source": [
    "Agrega al problema la función objetivo. Recuerda que al definir el problema, ya definiste si este es de maximización o minimización."
   ]
  },
  {
   "cell_type": "code",
   "execution_count": 7,
   "id": "2fd8a365",
   "metadata": {},
   "outputs": [],
   "source": [
    "problema += sum(c[i, j] * x[i, j] for i in P for j in D), \"costos_totales\""
   ]
  },
  {
   "cell_type": "markdown",
   "id": "89f524db",
   "metadata": {},
   "source": [
    "### Restricciones"
   ]
  },
  {
   "cell_type": "markdown",
   "id": "77e7e409",
   "metadata": {},
   "source": [
    "Agrega al problema las restricciones del modelo."
   ]
  },
  {
   "cell_type": "code",
   "execution_count": 8,
   "id": "f986d5ee",
   "metadata": {},
   "outputs": [],
   "source": [
    "# Se respeta la oferta de cada planta\n",
    "for i in P:\n",
    "    problema += (\n",
    "        sum(x[i, j] for j in D) <= b[i],\n",
    "        f\"oferta_planta_{i}\",\n",
    "    )\n",
    "\n",
    "# Se satisface la demanda de cada distribuidor\n",
    "for j in D:\n",
    "    problema += (\n",
    "        sum(x[i, j] for i in P) >= t[j],\n",
    "        f\"demanda_distribuidor_{j}\",\n",
    "    )"
   ]
  },
  {
   "cell_type": "markdown",
   "id": "265a2a10",
   "metadata": {},
   "source": [
    "### Resolver el problema"
   ]
  },
  {
   "cell_type": "markdown",
   "id": "d7661201",
   "metadata": {},
   "source": [
    "Invoca el optimizador. Este paso le asigna un valor a las variables incluidas en las restricciones o función objetivo del modelo."
   ]
  },
  {
   "cell_type": "code",
   "execution_count": 9,
   "id": "ae811704",
   "metadata": {},
   "outputs": [
    {
     "name": "stdout",
     "output_type": "stream",
     "text": [
      "Welcome to the CBC MILP Solver \n",
      "Version: 2.10.8 \n",
      "Build Date: May  6 2022 \n",
      "\n",
      "command line - cbc /tmp/047f7066e5bf481b947955a84f73dfe1-pulp.mps timeMode elapsed branch printingOptions all solution /tmp/047f7066e5bf481b947955a84f73dfe1-pulp.sol (default strategy 1)\n",
      "At line 2 NAME          MODEL\n",
      "At line 3 ROWS\n",
      "At line 17 COLUMNS\n",
      "At line 114 RHS\n",
      "At line 127 BOUNDS\n",
      "At line 128 ENDATA\n",
      "Problem MODEL has 12 rows, 32 columns and 64 elements\n",
      "Coin0008I MODEL read with 0 errors\n",
      "Option for timeMode changed from cpu to elapsed\n",
      "Presolve 12 (0) rows, 32 (0) columns and 64 (0) elements\n",
      "0  Obj 0 Primal inf 4770 (8)\n",
      "13  Obj 1224800\n",
      "Optimal - objective value 1224800\n",
      "Optimal objective 1224800 - 13 iterations time 0.002\n",
      "Option for printingOptions changed from normal to all\n",
      "Total time (CPU seconds):       0.00   (Wallclock seconds):       0.00\n",
      "\n"
     ]
    },
    {
     "data": {
      "text/plain": [
       "1"
      ]
     },
     "execution_count": 9,
     "metadata": {},
     "output_type": "execute_result"
    }
   ],
   "source": [
    "problema.solve()"
   ]
  },
  {
   "cell_type": "markdown",
   "id": "655b238a",
   "metadata": {},
   "source": [
    "### Imprimir resultados"
   ]
  },
  {
   "cell_type": "markdown",
   "id": "8a7a8a35",
   "metadata": {},
   "source": [
    "Antes de estudiar el óptimo del modelo, identifica en el estado del optimizador si pudo resolver el problema."
   ]
  },
  {
   "cell_type": "code",
   "execution_count": 10,
   "id": "whole-trust",
   "metadata": {},
   "outputs": [
    {
     "data": {
      "text/plain": [
       "'Estado del optimizador: Optimal'"
      ]
     },
     "execution_count": 10,
     "metadata": {},
     "output_type": "execute_result"
    }
   ],
   "source": [
    "f\"Estado del optimizador: {lp.LpStatus[problema.status]}\""
   ]
  },
  {
   "cell_type": "markdown",
   "id": "ea6fe01e",
   "metadata": {},
   "source": [
    "Identifica también el valor de la función objetivo."
   ]
  },
  {
   "cell_type": "code",
   "execution_count": 11,
   "id": "11b75d2c",
   "metadata": {},
   "outputs": [
    {
     "data": {
      "text/plain": [
       "'Costo total: 1224800.0'"
      ]
     },
     "execution_count": 11,
     "metadata": {},
     "output_type": "execute_result"
    }
   ],
   "source": [
    "f\"Costo total: {lp.value(problema.objective)}\""
   ]
  },
  {
   "cell_type": "markdown",
   "id": "6e59d608",
   "metadata": {},
   "source": [
    "Por último, imprimime de manera estructurada el valor de las variables de decisión y otras expresiones de interés."
   ]
  },
  {
   "cell_type": "code",
   "execution_count": 12,
   "id": "ad53e1be",
   "metadata": {},
   "outputs": [
    {
     "name": "stdout",
     "output_type": "stream",
     "text": [
      "\tDistribuidor 1\tDistribuidor 2\tDistribuidor 3\tDistribuidor 4\tDistribuidor 5\tDistribuidor 6\tDistribuidor 7\tDistribuidor 8\n",
      "Planta 1\t0.0\t600.0\t0.0\t0.0\t0.0\t260.0\t640.0\t0.0\t\n",
      "Planta 2\t930.0\t0.0\t270.0\t0.0\t0.0\t0.0\t0.0\t0.0\t\n",
      "Planta 3\t0.0\t0.0\t190.0\t0.0\t830.0\t200.0\t0.0\t180.0\t\n",
      "Planta 4\t0.0\t0.0\t0.0\t610.0\t0.0\t0.0\t0.0\t60.0\t\n"
     ]
    }
   ],
   "source": [
    "for j in D:\n",
    "    print(f\"\\t{j}\", end=\"\")\n",
    "print()\n",
    "\n",
    "for i in P:\n",
    "    print(i, end=\"\\t\")\n",
    "    for j in D:\n",
    "        print(lp.value(x[i, j]), end=\"\\t\")\n",
    "    print()"
   ]
  },
  {
   "cell_type": "markdown",
   "id": "1b31089f",
   "metadata": {},
   "source": [
    "### Visualizar resultados"
   ]
  },
  {
   "cell_type": "markdown",
   "id": "8f832f83",
   "metadata": {},
   "source": [
    "Ahora que conoces el valor de las variables de decisión, desarrolla una gráfica que ilustre la red de distribución y los envíos dentro de la misma. Utiliza las ubicaciones definidas a continuación."
   ]
  },
  {
   "cell_type": "code",
   "execution_count": 13,
   "id": "727798d1",
   "metadata": {},
   "outputs": [],
   "source": [
    "# Coordenadas de las plantas\n",
    "coordenadas_plantas = {\n",
    "    \"Planta 1\": (9.5, 12),\n",
    "    \"Planta 2\": (7, 5),\n",
    "    \"Planta 3\": (5, 14),\n",
    "    \"Planta 4\": (2.5, 9.5),\n",
    "}\n",
    "\n",
    "# Coordenadas de los distribuidores\n",
    "coordenadas_distribuidores = {\n",
    "    \"Distribuidor 1\": (5.5, 9),\n",
    "    \"Distribuidor 2\": (8, 9),\n",
    "    \"Distribuidor 3\": (5, 8),\n",
    "    \"Distribuidor 4\": (6, 10),\n",
    "    \"Distribuidor 5\": (7, 10),\n",
    "    \"Distribuidor 6\": (7.5, 15),\n",
    "    \"Distribuidor 7\": (8, 17),\n",
    "    \"Distribuidor 8\": (1, 15),\n",
    "}"
   ]
  },
  {
   "cell_type": "code",
   "execution_count": 14,
   "id": "3b517f96",
   "metadata": {},
   "outputs": [
    {
     "data": {
      "image/png": "[encoded data removed]",
      "text/plain": [
       "<Figure size 1200x800 with 1 Axes>"
      ]
     },
     "metadata": {},
     "output_type": "display_data"
    }
   ],
   "source": [
    "# Se crean dos conjuntos auxiliares para los labels de los nodos de las plantas y distribuidores\n",
    "labels_plantas = {P[i]: i + 1 for i in range(len(P))}\n",
    "labels_distribuidores = {D[j]: j + 1 for j in range(len(D))}\n",
    "\n",
    "# Se crea un conjunto auxiliar para los labels de los arcos\n",
    "coordenadas = coordenadas_plantas\n",
    "coordenadas.update(coordenadas_distribuidores)\n",
    "\n",
    "# Se guarda la solución en un vector\n",
    "xSol = {(i, j): lp.value(x[i, j]) for i in P for j in D if lp.value(x[i, j]) > 0.01}\n",
    "\n",
    "# Se modifican las dimensiones de la visualización\n",
    "plt.rcParams[\"figure.figsize\"] = 6, 4\n",
    "plt.rcParams[\"figure.dpi\"] = 200\n",
    "\n",
    "# Creación de un modelo de grafos dirigidos.\n",
    "G = nx.DiGraph()\n",
    "\n",
    "# Dibujar los nodos de plantas y distribuidores.\n",
    "nx.draw_networkx_nodes(\n",
    "    G, coordenadas_plantas, nodelist=P, node_color=\"skyblue\", node_size=100\n",
    ")\n",
    "nx.draw_networkx_nodes(\n",
    "    G, coordenadas_distribuidores, nodelist=D, node_color=\"lightgray\", node_size=100\n",
    ")\n",
    "\n",
    "# Dibujar los labels de los nodos de plantas y distribuidores.\n",
    "nx.draw_networkx_labels(G, coordenadas_plantas, labels_plantas, font_size=10)\n",
    "nx.draw_networkx_labels(\n",
    "    G, coordenadas_distribuidores, labels_distribuidores, font_size=10\n",
    ")\n",
    "\n",
    "# Dibujar arcos del diagrama con sus respectivos litros de leche enviados.\n",
    "nx.draw_networkx_edges(G, coordenadas, xSol, width=5, edge_color=\"c\", arrows=True)\n",
    "nx.draw_networkx_edge_labels(G, coordenadas, edge_labels=xSol, font_size=6)\n",
    "nx.draw_networkx(G, coordenadas, with_labels=True)\n",
    "\n",
    "# Borrar ejes, agregar titulo y mostrar la ventana del diagrama.\n",
    "plt.axis(\"off\")\n",
    "nx.draw(G)\n",
    "plt.suptitle(\"Distribución La Lechera Ramírez S.A.\", fontsize=20)\n",
    "plt.show()"
   ]
  },
  {
   "cell_type": "markdown",
   "id": "hired-insulation",
   "metadata": {},
   "source": [
    "## Créditos\n",
    "\n",
    "Equipo Principios de Optimización<br>\n",
    "Autores: Camilo Aguilar, Juan Felipe Rengifo<br>\n",
    "Desarrollo: Camilo Aguilar, Juan Felipe Rengifo, Alejandro Mantilla<br>\n",
    "Última fecha de modificación: 07/04/2023"
   ]
  }
 ],
 "metadata": {
  "kernelspec": {
   "display_name": "Python 3 (ipykernel)",
   "language": "python",
   "name": "python3"
  },
  "language_info": {
   "codemirror_mode": {
    "name": "ipython",
    "version": 3
   },
   "file_extension": ".py",
   "mimetype": "text/x-python",
   "name": "python",
   "nbconvert_exporter": "python",
   "pygments_lexer": "ipython3",
   "version": "3.11.0"
  }
 },
 "nbformat": 4,
 "nbformat_minor": 5
}
