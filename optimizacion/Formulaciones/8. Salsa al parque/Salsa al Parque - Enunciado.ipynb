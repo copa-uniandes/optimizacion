{
 "cells": [
  {
   "cell_type": "markdown",
   "metadata": {},
   "source": [
    "# Salsa al Parque"
   ]
  },
  {
   "cell_type": "markdown",
   "metadata": {},
   "source": [
    "<b><i style=\"font-size:13px\">Tags: </i></b><i style=\"font-size:11px\">Parámetro binario, Variable Binaria, Scheduling</i>"
   ]
  },
  {
   "cell_type": "markdown",
   "metadata": {},
   "source": [
    "### Enunciado\n",
    "\n",
    "El comité organizador del festival *Salsa al Parque* lo ha contratado a usted para definir el horario en el  que se presentará cada uno de los cinco artistas principales. El comité le ha indicado que los artistas deben ser asignados a lo largo de una franja de 12 horas. En particular, hay un conjunto $A$ de artistas y un conjunto $H$ de horas. Salsa al Parque ha pronosticado la audiencia $a_{it}$ que tendría cada uno de los  artistas $i\\in A$ en caso de presentarse en cada hora $t \\in T$. Además, el comité estableció la duración $d_{i}$ (horas) que debe tener la presentación de cada uno de estos artistas $i\\in A$. Para generar la planeación se definió la variable binaria $x_{it}$ la cual toma el valor de uno si el artista $i \\in A$ inicia la presentación en la hora $t \\in H$ y cero de lo contrario. También, se decidió sobre la variable $y_{it}$, la cual toma el valor de uno si el artista $i \\in A$ se presenta durante la hora $t \\in H$ y cero de lo contrario. Debido a la importancia de cada uno de estos artistas, el comité enfatizó que todos los artistas se deben presentar una sola vez y que en cada hora se pueden presentar máximo dos artistas en simultaneo. Con el fin de propiciar presentaciones de calidad, el comité organizador le solicitó que garantice que cada artista realiza su presentación completa en horas consecutivas. El comité le ha pedido a usted definir las horas en las que se  presentará cada artista tal que se maximice la audiencia total.  La Tabla 1 presenta la duración de la presentación y la audiencia esperada en cada hora para cada uno de los artistas."
   ]
  },
  {
   "cell_type": "markdown",
   "metadata": {},
   "source": [
    "*Tabla 1:*"
   ]
  },
  {
   "cell_type": "markdown",
   "metadata": {},
   "source": [
    "<table class=\"colwidths-auto table\">\n",
    "<thead>\n",
    "  <tr class=\"row-odd\">\n",
    "    <th colspan=\"2\" rowspan=\"2\" class=\"text-align:center head\"></th>\n",
    "    <th colspan=\"12\" class=\"text-align:center head\">Audiencia (miles de personas)</th>\n",
    "  </tr>\n",
    "  <tr class=\"row-even\">\n",
    "    <th colspan=\"12\" class=\"text-align:center head\">Hora</th>\n",
    "  </tr>\n",
    "</thead>\n",
    "<tbody>\n",
    "  <tr class=\"row-odd\">\n",
    "    <th class=\"text-align:center head\">Artista</th>\n",
    "    <th class=\"text-align:center head\">Duración Presentación (horas)</th>\n",
    "    <td class=\"text-align:center\">1</td>\n",
    "    <td class=\"text-align:center\">2</td>\n",
    "    <td class=\"text-align:center\">3</td>\n",
    "    <td class=\"text-align:center\">4</td>\n",
    "    <td class=\"text-align:center\">5</td>\n",
    "    <td class=\"text-align:center\">6</td>\n",
    "    <td class=\"text-align:center\">7</td>\n",
    "    <td class=\"text-align:center\">8</td>\n",
    "    <td class=\"text-align:center\">9</td>\n",
    "    <td class=\"text-align:center\">10</td>\n",
    "    <td class=\"text-align:center\">11</td>\n",
    "    <td class=\"text-align:center\">12<br></td>\n",
    "  </tr>\n",
    "  <tr class=\"row-even\">\n",
    "    <td class=\"text-align:center\">1</td>\n",
    "    <td class=\"text-align:center\">2</td>\n",
    "    <td class=\"text-align:center\">1197</td>\n",
    "    <td class=\"text-align:center\">2578</td>\n",
    "    <td class=\"text-align:center\">1350</td>\n",
    "    <td class=\"text-align:center\">2729</td>\n",
    "    <td class=\"text-align:center\">2679</td>\n",
    "    <td class=\"text-align:center\">2946</td>\n",
    "    <td class=\"text-align:center\">1563</td>\n",
    "    <td class=\"text-align:center\">2998</td>\n",
    "    <td class=\"text-align:center\">2879</td>\n",
    "    <td class=\"text-align:center\">1126</td>\n",
    "    <td class=\"text-align:center\">2559</td>\n",
    "    <td class=\"text-align:center\">1129</td>\n",
    "  </tr>\n",
    "  <tr class=\"row-odd\">\n",
    "    <td class=\"text-align:center\">2</td>\n",
    "    <td class=\"text-align:center\">3</td>\n",
    "    <td class=\"text-align:center\">1034</td>\n",
    "    <td class=\"text-align:center\">2009</td>\n",
    "    <td class=\"text-align:center\">1515</td>\n",
    "    <td class=\"text-align:center\">2254</td>\n",
    "    <td class=\"text-align:center\">1624</td>\n",
    "    <td class=\"text-align:center\">1277</td>\n",
    "    <td class=\"text-align:center\">2010</td>\n",
    "    <td class=\"text-align:center\">2563</td>\n",
    "    <td class=\"text-align:center\">1384</td>\n",
    "    <td class=\"text-align:center\">2695</td>\n",
    "    <td class=\"text-align:center\">2053</td>\n",
    "    <td class=\"text-align:center\">2585</td>\n",
    "  </tr>\n",
    "  <tr class=\"row-even\">\n",
    "    <td class=\"text-align:center\">3</td>\n",
    "    <td class=\"text-align:center\">2</td>\n",
    "    <td class=\"text-align:center\">1058</td>\n",
    "    <td class=\"text-align:center\">1842</td>\n",
    "    <td class=\"text-align:center\">1443</td>\n",
    "    <td class=\"text-align:center\">1995</td>\n",
    "    <td class=\"text-align:center\">2819</td>\n",
    "    <td class=\"text-align:center\">1998</td>\n",
    "    <td class=\"text-align:center\">1401</td>\n",
    "    <td class=\"text-align:center\">1708</td>\n",
    "    <td class=\"text-align:center\">1346</td>\n",
    "    <td class=\"text-align:center\">1674</td>\n",
    "    <td class=\"text-align:center\">1816</td>\n",
    "    <td class=\"text-align:center\">1032</td>\n",
    "  </tr>\n",
    "  <tr class=\"row-odd\">\n",
    "    <td class=\"text-align:center\">4</td>\n",
    "    <td class=\"text-align:center\">3</td>\n",
    "    <td class=\"text-align:center\">1082</td>\n",
    "    <td class=\"text-align:center\">1206</td>\n",
    "    <td class=\"text-align:center\">2366</td>\n",
    "    <td class=\"text-align:center\">1013</td>\n",
    "    <td class=\"text-align:center\">2762</td>\n",
    "    <td class=\"text-align:center\">1479</td>\n",
    "    <td class=\"text-align:center\">2496</td>\n",
    "    <td class=\"text-align:center\">1509</td>\n",
    "    <td class=\"text-align:center\">1673</td>\n",
    "    <td class=\"text-align:center\">1350</td>\n",
    "    <td class=\"text-align:center\">1128</td>\n",
    "    <td class=\"text-align:center\">2669</td>\n",
    "  </tr>\n",
    "  <tr class=\"row-even\">\n",
    "    <td class=\"text-align:center\">5</td>\n",
    "    <td class=\"text-align:center\">2</td>\n",
    "    <td class=\"text-align:center\">2801</td>\n",
    "    <td class=\"text-align:center\">1003</td>\n",
    "    <td class=\"text-align:center\">2965</td>\n",
    "    <td class=\"text-align:center\">2295</td>\n",
    "    <td class=\"text-align:center\">1147</td>\n",
    "    <td class=\"text-align:center\">2156</td>\n",
    "    <td class=\"text-align:center\">1058</td>\n",
    "    <td class=\"text-align:center\">2857</td>\n",
    "    <td class=\"text-align:center\">1968</td>\n",
    "    <td class=\"text-align:center\">2764</td>\n",
    "    <td class=\"text-align:center\">2153</td>\n",
    "    <td class=\"text-align:center\">1518</td>\n",
    "  </tr>\n",
    "</tbody>\n",
    "</table>"
   ]
  },
  {
   "cell_type": "markdown",
   "metadata": {},
   "source": [
    "La siguiente es una solución factible para la situación planteada anteriormente\n",
    "\n",
    "*Ilustración 1*\n",
    "\n",
    "<table class=\"colwidths-auto table\">\n",
    "<thead>\n",
    "  <tr class=\"row-odd\">\n",
    "    <th class=\"text-align:center head\"></th>\n",
    "    <th colspan=\"12\" class=\"text-align:center head\">Hora</th>\n",
    "  </tr>\n",
    "</thead>\n",
    "<tbody>\n",
    "  <tr class=\"row-even\">\n",
    "    <th class=\"text-align:center head\">Artista</th>\n",
    "    <td class=\"text-align:center\">1</td>\n",
    "    <td class=\"text-align:center\">2</td>\n",
    "    <td class=\"text-align:center\">3</td>\n",
    "    <td class=\"text-align:center\">4</td>\n",
    "    <td class=\"text-align:center\">5</td>\n",
    "    <td class=\"text-align:center\">6</td>\n",
    "    <td class=\"text-align:center\">7</td>\n",
    "    <td class=\"text-align:center\">8</td>\n",
    "    <td class=\"text-align:center\">9</td>\n",
    "    <td class=\"text-align:center\">10</td>\n",
    "    <td class=\"text-align:center\">11</td>\n",
    "    <td class=\"text-align:center\">12<br></td>\n",
    "  </tr>\n",
    "  <tr class=\"row-odd\">\n",
    "    <td class=\"text-align:center\">1</td>\n",
    "    <td class=\"text-align:center\"></td>\n",
    "    <td class=\"text-align:center\">✓</td>\n",
    "    <td class=\"text-align:center\">✓</td>\n",
    "    <td class=\"text-align:center\"></td>\n",
    "    <td class=\"text-align:center\"></td>\n",
    "    <td class=\"text-align:center\"></td>\n",
    "    <td class=\"text-align:center\"></td>\n",
    "    <td class=\"text-align:center\"></td>\n",
    "    <td class=\"text-align:center\"></td>\n",
    "    <td class=\"text-align:center\"></td>\n",
    "    <td class=\"text-align:center\"></td>\n",
    "    <td class=\"text-align:center\"></td>\n",
    "  </tr>\n",
    "  <tr class=\"row-even\">\n",
    "    <td class=\"text-align:center\">2</td>\n",
    "    <td class=\"text-align:center\"></td>\n",
    "    <td class=\"text-align:center\"></td>\n",
    "    <td class=\"text-align:center\"></td>\n",
    "    <td class=\"text-align:center\"></td>\n",
    "    <td class=\"text-align:center\">✓</td>\n",
    "    <td class=\"text-align:center\">✓</td>\n",
    "    <td class=\"text-align:center\">✓</td>\n",
    "    <td class=\"text-align:center\"></td>\n",
    "    <td class=\"text-align:center\"></td>\n",
    "    <td class=\"text-align:center\"></td>\n",
    "    <td class=\"text-align:center\"></td>\n",
    "    <td class=\"text-align:center\"></td>\n",
    "  </tr>\n",
    "  <tr class=\"row-odd\">\n",
    "    <td class=\"text-align:center\">3</td>\n",
    "    <td class=\"text-align:center\"></td>\n",
    "    <td class=\"text-align:center\"></td>\n",
    "    <td class=\"text-align:center\"></td>\n",
    "    <td class=\"text-align:center\"></td>\n",
    "    <td class=\"text-align:center\"></td>\n",
    "    <td class=\"text-align:center\"></td>\n",
    "    <td class=\"text-align:center\"></td>\n",
    "    <td class=\"text-align:center\"></td>\n",
    "    <td class=\"text-align:center\"></td>\n",
    "    <td class=\"text-align:center\"></td>\n",
    "    <td class=\"text-align:center\">✓</td>\n",
    "    <td class=\"text-align:center\">✓</td>\n",
    "  </tr>\n",
    "  <tr class=\"row-even\">\n",
    "    <td class=\"text-align:center\">4</td>\n",
    "    <td class=\"text-align:center\"></td>\n",
    "    <td class=\"text-align:center\"></td>\n",
    "    <td class=\"text-align:center\"></td>\n",
    "    <td class=\"text-align:center\">✓</td>\n",
    "    <td class=\"text-align:center\">✓</td>\n",
    "    <td class=\"text-align:center\">✓</td>\n",
    "    <td class=\"text-align:center\"></td>\n",
    "    <td class=\"text-align:center\"></td>\n",
    "    <td class=\"text-align:center\"></td>\n",
    "    <td class=\"text-align:center\"></td>\n",
    "    <td class=\"text-align:center\"></td>\n",
    "    <td class=\"text-align:center\"></td>\n",
    "  </tr>\n",
    "  <tr class=\"row-odd\">\n",
    "    <td class=\"text-align:center\">5</td>\n",
    "    <td class=\"text-align:center\"></td>\n",
    "    <td class=\"text-align:center\"></td>\n",
    "    <td class=\"text-align:center\"></td>\n",
    "    <td class=\"text-align:center\"></td>\n",
    "    <td class=\"text-align:center\"></td>\n",
    "    <td class=\"text-align:center\"></td>\n",
    "    <td class=\"text-align:center\"></td>\n",
    "    <td class=\"text-align:center\"></td>\n",
    "    <td class=\"text-align:center\"></td>\n",
    "    <td class=\"text-align:center\">✓</td>\n",
    "    <td class=\"text-align:center\">✓</td>\n",
    "    <td class=\"text-align:center\"></td>\n",
    "  </tr>\n",
    "</tbody>\n",
    "</table>"
   ]
  },
  {
   "cell_type": "markdown",
   "metadata": {},
   "source": [
    "### Notación:\n",
    "\n",
    "#### Conjuntos\n",
    "\n",
    "* $A$: artistas\n",
    "* $H$: horas\n",
    "\n",
    "#### Parámetros\n",
    "\n",
    "* $d_{i}$: duración de la presentación del artista $i\\in A$\n",
    "* $a_{it}$: audiencia del artista $i\\in A$ durante la hora $t\\in H$\n",
    "* $k$: máxima cantidad de artistas que pueden presentarse en simultaneo.\n",
    "\n",
    "#### Variables\n",
    "\n",
    "* $x_{it}:\\begin{cases}1\\text{,}&\\text{ si el arttista }i\\in A\\text{ inicia su presentación en la hora }t\\in H \\\\ 0\\text{,}& \\text{ d.l.c.}  \\end{cases}$\n",
    "* $y_{it}:\\begin{cases}1\\text{,}&\\text{ si el arttista }i\\in A\\text{ se presenta durante la hora }t\\in H \\\\ 0\\text{,}& \\text{ d.l.c.}  \\end{cases}$\n"
   ]
  },
  {
   "cell_type": "markdown",
   "metadata": {},
   "source": [
    "### Formulación"
   ]
  },
  {
   "cell_type": "markdown",
   "metadata": {},
   "source": [
    "**a.** Escriba la(s) restricción(es) lineal(es) que garantiza(n) que la cantidad de artistas presentandose en simultaneo a cada hora $h \\in H$ sea menor o igual a $k$.\n"
   ]
  },
  {
   "cell_type": "markdown",
   "metadata": {},
   "source": [
    "**b.** Escriba la(s) restricción(es) lineal(es) que garantiza(n) que cada artista $i \\in A$ inicia su presentación.\n"
   ]
  },
  {
   "cell_type": "markdown",
   "metadata": {},
   "source": [
    "**c.** Escriba la(s) restricción(es) lineal(es) que garantiza(n) que cada artista $i \\in A$ se presenta en horas consecutivas y que no presente durante horas previas a la hora de inicio.\n"
   ]
  },
  {
   "cell_type": "markdown",
   "metadata": {},
   "source": [
    "**d.** Escriba la(s) restricción(es) que describe(n) la naturaleza de la(s) variable(s) incluida(s) en el modelo."
   ]
  },
  {
   "cell_type": "markdown",
   "metadata": {},
   "source": [
    "**e.** Escriba la función objetivo.\n"
   ]
  },
  {
   "cell_type": "markdown",
   "metadata": {},
   "source": [
    "### Implementación\n",
    "**f.** Resuelva el modelo planteado utilizando la librería de PulP en Python. ¿Cuál es la solución\n",
    "óptima del problema? "
   ]
  },
  {
   "cell_type": "code",
   "execution_count": 1,
   "metadata": {},
   "outputs": [],
   "source": [
    "# Escriba aquí el código en python de su formulación.\n"
   ]
  },
  {
   "cell_type": "markdown",
   "metadata": {},
   "source": [
    "## Créditos\n",
    "\n",
    "Equipo de Optimización<br>\n",
    "Autores: Ariadna De Ávila, Alejandro Mantilla y Alfaima Solano<br>\n",
    "Fecha: 30/09/2020"
   ]
  }
 ],
 "metadata": {
  "kernelspec": {
   "display_name": "Python 3",
   "language": "python",
   "name": "python3"
  },
  "language_info": {
   "codemirror_mode": {
    "name": "ipython",
    "version": 3
   },
   "file_extension": ".py",
   "mimetype": "text/x-python",
   "name": "python",
   "nbconvert_exporter": "python",
   "pygments_lexer": "ipython3",
   "version": "3.8.8"
  }
 },
 "nbformat": 4,
 "nbformat_minor": 4
}
