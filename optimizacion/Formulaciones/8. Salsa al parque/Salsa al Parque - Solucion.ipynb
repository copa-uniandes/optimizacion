{
 "cells": [
  {
   "cell_type": "markdown",
   "id": "specific-boulder",
   "metadata": {},
   "source": [
    "# Salsa al Parque - Solución"
   ]
  },
  {
   "cell_type": "markdown",
   "id": "written-elephant",
   "metadata": {},
   "source": [
    "<b><i style=\"font-size:13px\">Tags: </i></b><i style=\"font-size:11px\">Parámetro binario, Variable Binaria, Scheduling</i>"
   ]
  },
  {
   "cell_type": "code",
   "execution_count": 1,
   "id": "fe8c0d77",
   "metadata": {
    "tags": [
     "hide-input",
     "thebe-init"
    ]
   },
   "outputs": [],
   "source": [
    "import os\n",
    "# Por precaución, cambiamos el directorio activo de Python a aquel que contenga este notebook\n",
    "if \"optimizacion\" in os.listdir():\n",
    "    os.chdir(r\"optimizacion/Formulaciones/8. Salsa al parque/\")"
   ]
  },
  {
   "cell_type": "markdown",
   "id": "annoying-circus",
   "metadata": {},
   "source": [
    "## Enunciado\n",
    "\n",
    "<!--  \n",
    "Conjuntos: $Conjunto$\n",
    "Indices: $indice \\in Conjunto$\n",
    "Parámetros/variables: $parametro_{ij}$\n",
    "Tablas: En HTML y los textos de elementos del conjunto en la parte izquierda con alineado a la izquierda. Además a cada tabla se le pone un nombre y su respectiva descripción.\n",
    "-->"
   ]
  },
  {
   "cell_type": "markdown",
   "id": "01476fd4",
   "metadata": {},
   "source": [
    "El comité organizador del festival *Salsa al Parque* te ha contratado para definir el horario en el que se presentará cada uno de los cinco artistas principales. El comité le ha indicado que los artistas deben ser asignados a lo largo de una franja de 12 horas. En particular, hay un conjunto $A$ de artistas y un conjunto $H$ de horas. Salsa al Parque ha pronosticado la audiencia $a_{it}$ que tendría cada uno de los  artistas $i\\in A$ en caso de presentarse en cada hora $t \\in T$. Además, el comité estableció la duración $d_{i}$ (horas) que debe tener la presentación de cada uno de estos artistas $i\\in A$. Para generar la planeación se definió la variable binaria $x_{it}$ la cual toma el valor de uno si el artista $i \\in A$ inicia la presentación en la hora $t \\in H$ y cero de lo contrario. También, se decidió sobre la variable $y_{it}$, la cual toma el valor de uno si el artista $i \\in A$ se presenta durante la hora $t \\in H$ y cero de lo contrario."
   ]
  },
  {
   "cell_type": "markdown",
   "id": "fb8be63d",
   "metadata": {},
   "source": [
    "Debido a la importancia de cada uno de estos artistas, el comité enfatizó que todos los artistas se deben presentar una sola vez y que en cada hora se pueden presentar máximo dos artistas en simultaneo. Con el fin de propiciar presentaciones de calidad, el comité organizador te solicitó garantizar que cada artista realiza su presentación completa en horas consecutivas. El comité ha pedido definir las horas en las que se presentará cada artista de manera que se maximice la audiencia total. La Tabla 1 presenta la duración de la presentación y la audiencia esperada en cada hora para cada uno de los artistas."
   ]
  },
  {
   "cell_type": "markdown",
   "id": "9d1b2564",
   "metadata": {},
   "source": [
    "<p style=\"text-align: center;\"><b>Tabla 1. Audiencia esperada para cada artista en cada horario</b></p>"
   ]
  },
  {
   "cell_type": "markdown",
   "id": "0c1715e9",
   "metadata": {},
   "source": [
    "<table class=\"colwidths-auto table\">\n",
    "<thead>\n",
    "  <tr class=\"row-odd\">\n",
    "    <th colspan=\"2\" rowspan=\"2\" class=\"text-align:center head\"></th>\n",
    "    <th colspan=\"12\" class=\"text-align:center head\">Audiencia (miles de personas)</th>\n",
    "  </tr>\n",
    "  <tr class=\"row-even\">\n",
    "    <th colspan=\"12\" class=\"text-align:center head\">Hora</th>\n",
    "  </tr>\n",
    "</thead>\n",
    "<tbody>\n",
    "  <tr class=\"row-odd\">\n",
    "    <th class=\"text-align:center head\">Artista</th>\n",
    "    <th class=\"text-align:center head\">Duración Presentación (horas)</th>\n",
    "    <td class=\"text-align:center\">1</td>\n",
    "    <td class=\"text-align:center\">2</td>\n",
    "    <td class=\"text-align:center\">3</td>\n",
    "    <td class=\"text-align:center\">4</td>\n",
    "    <td class=\"text-align:center\">5</td>\n",
    "    <td class=\"text-align:center\">6</td>\n",
    "    <td class=\"text-align:center\">7</td>\n",
    "    <td class=\"text-align:center\">8</td>\n",
    "    <td class=\"text-align:center\">9</td>\n",
    "    <td class=\"text-align:center\">10</td>\n",
    "    <td class=\"text-align:center\">11</td>\n",
    "    <td class=\"text-align:center\">12<br></td>\n",
    "  </tr>\n",
    "  <tr class=\"row-even\">\n",
    "    <td class=\"text-align:center\">1</td>\n",
    "    <td class=\"text-align:center\">2</td>\n",
    "    <td class=\"text-align:center\">1197</td>\n",
    "    <td class=\"text-align:center\">2578</td>\n",
    "    <td class=\"text-align:center\">1350</td>\n",
    "    <td class=\"text-align:center\">2729</td>\n",
    "    <td class=\"text-align:center\">2679</td>\n",
    "    <td class=\"text-align:center\">2946</td>\n",
    "    <td class=\"text-align:center\">1563</td>\n",
    "    <td class=\"text-align:center\">2998</td>\n",
    "    <td class=\"text-align:center\">2879</td>\n",
    "    <td class=\"text-align:center\">1126</td>\n",
    "    <td class=\"text-align:center\">2559</td>\n",
    "    <td class=\"text-align:center\">1129</td>\n",
    "  </tr>\n",
    "  <tr class=\"row-odd\">\n",
    "    <td class=\"text-align:center\">2</td>\n",
    "    <td class=\"text-align:center\">3</td>\n",
    "    <td class=\"text-align:center\">1034</td>\n",
    "    <td class=\"text-align:center\">2009</td>\n",
    "    <td class=\"text-align:center\">1515</td>\n",
    "    <td class=\"text-align:center\">2254</td>\n",
    "    <td class=\"text-align:center\">1624</td>\n",
    "    <td class=\"text-align:center\">1277</td>\n",
    "    <td class=\"text-align:center\">2010</td>\n",
    "    <td class=\"text-align:center\">2563</td>\n",
    "    <td class=\"text-align:center\">1384</td>\n",
    "    <td class=\"text-align:center\">2695</td>\n",
    "    <td class=\"text-align:center\">2053</td>\n",
    "    <td class=\"text-align:center\">2585</td>\n",
    "  </tr>\n",
    "  <tr class=\"row-even\">\n",
    "    <td class=\"text-align:center\">3</td>\n",
    "    <td class=\"text-align:center\">2</td>\n",
    "    <td class=\"text-align:center\">1058</td>\n",
    "    <td class=\"text-align:center\">1842</td>\n",
    "    <td class=\"text-align:center\">1443</td>\n",
    "    <td class=\"text-align:center\">1995</td>\n",
    "    <td class=\"text-align:center\">2819</td>\n",
    "    <td class=\"text-align:center\">1998</td>\n",
    "    <td class=\"text-align:center\">1401</td>\n",
    "    <td class=\"text-align:center\">1708</td>\n",
    "    <td class=\"text-align:center\">1346</td>\n",
    "    <td class=\"text-align:center\">1674</td>\n",
    "    <td class=\"text-align:center\">1816</td>\n",
    "    <td class=\"text-align:center\">1032</td>\n",
    "  </tr>\n",
    "  <tr class=\"row-odd\">\n",
    "    <td class=\"text-align:center\">4</td>\n",
    "    <td class=\"text-align:center\">3</td>\n",
    "    <td class=\"text-align:center\">1082</td>\n",
    "    <td class=\"text-align:center\">1206</td>\n",
    "    <td class=\"text-align:center\">2366</td>\n",
    "    <td class=\"text-align:center\">1013</td>\n",
    "    <td class=\"text-align:center\">2762</td>\n",
    "    <td class=\"text-align:center\">1479</td>\n",
    "    <td class=\"text-align:center\">2496</td>\n",
    "    <td class=\"text-align:center\">1509</td>\n",
    "    <td class=\"text-align:center\">1673</td>\n",
    "    <td class=\"text-align:center\">1350</td>\n",
    "    <td class=\"text-align:center\">1128</td>\n",
    "    <td class=\"text-align:center\">2669</td>\n",
    "  </tr>\n",
    "  <tr class=\"row-even\">\n",
    "    <td class=\"text-align:center\">5</td>\n",
    "    <td class=\"text-align:center\">2</td>\n",
    "    <td class=\"text-align:center\">2801</td>\n",
    "    <td class=\"text-align:center\">1003</td>\n",
    "    <td class=\"text-align:center\">2965</td>\n",
    "    <td class=\"text-align:center\">2295</td>\n",
    "    <td class=\"text-align:center\">1147</td>\n",
    "    <td class=\"text-align:center\">2156</td>\n",
    "    <td class=\"text-align:center\">1058</td>\n",
    "    <td class=\"text-align:center\">2857</td>\n",
    "    <td class=\"text-align:center\">1968</td>\n",
    "    <td class=\"text-align:center\">2764</td>\n",
    "    <td class=\"text-align:center\">2153</td>\n",
    "    <td class=\"text-align:center\">1518</td>\n",
    "  </tr>\n",
    "</tbody>\n",
    "</table>"
   ]
  },
  {
   "cell_type": "markdown",
   "id": "9061e7aa",
   "metadata": {},
   "source": [
    "La siguiente tabla presenta una solución factible, aunque subóptima, para la situación planteada anteriormente:"
   ]
  },
  {
   "cell_type": "markdown",
   "id": "081012c1",
   "metadata": {},
   "source": [
    "<p style=\"text-align: center;\"><b>Tabla 1. Configuración factible de los itinerarios.</b></p>"
   ]
  },
  {
   "cell_type": "markdown",
   "id": "af90e97a",
   "metadata": {},
   "source": [
    "<table class=\"colwidths-auto table\">\n",
    "<thead>\n",
    "  <tr class=\"row-odd\">\n",
    "    <th class=\"text-align:center head\"></th>\n",
    "    <th colspan=\"12\" class=\"text-align:center head\">Hora</th>\n",
    "  </tr>\n",
    "</thead>\n",
    "<tbody>\n",
    "  <tr class=\"row-even\">\n",
    "    <th class=\"text-align:center head\">Artista</th>\n",
    "    <td class=\"text-align:center\">1</td>\n",
    "    <td class=\"text-align:center\">2</td>\n",
    "    <td class=\"text-align:center\">3</td>\n",
    "    <td class=\"text-align:center\">4</td>\n",
    "    <td class=\"text-align:center\">5</td>\n",
    "    <td class=\"text-align:center\">6</td>\n",
    "    <td class=\"text-align:center\">7</td>\n",
    "    <td class=\"text-align:center\">8</td>\n",
    "    <td class=\"text-align:center\">9</td>\n",
    "    <td class=\"text-align:center\">10</td>\n",
    "    <td class=\"text-align:center\">11</td>\n",
    "    <td class=\"text-align:center\">12<br></td>\n",
    "  </tr>\n",
    "  <tr class=\"row-odd\">\n",
    "    <td class=\"text-align:center\">1</td>\n",
    "    <td class=\"text-align:center\"></td>\n",
    "    <td class=\"text-align:center\">✓</td>\n",
    "    <td class=\"text-align:center\">✓</td>\n",
    "    <td class=\"text-align:center\"></td>\n",
    "    <td class=\"text-align:center\"></td>\n",
    "    <td class=\"text-align:center\"></td>\n",
    "    <td class=\"text-align:center\"></td>\n",
    "    <td class=\"text-align:center\"></td>\n",
    "    <td class=\"text-align:center\"></td>\n",
    "    <td class=\"text-align:center\"></td>\n",
    "    <td class=\"text-align:center\"></td>\n",
    "    <td class=\"text-align:center\"></td>\n",
    "  </tr>\n",
    "  <tr class=\"row-even\">\n",
    "    <td class=\"text-align:center\">2</td>\n",
    "    <td class=\"text-align:center\"></td>\n",
    "    <td class=\"text-align:center\"></td>\n",
    "    <td class=\"text-align:center\"></td>\n",
    "    <td class=\"text-align:center\"></td>\n",
    "    <td class=\"text-align:center\">✓</td>\n",
    "    <td class=\"text-align:center\">✓</td>\n",
    "    <td class=\"text-align:center\">✓</td>\n",
    "    <td class=\"text-align:center\"></td>\n",
    "    <td class=\"text-align:center\"></td>\n",
    "    <td class=\"text-align:center\"></td>\n",
    "    <td class=\"text-align:center\"></td>\n",
    "    <td class=\"text-align:center\"></td>\n",
    "  </tr>\n",
    "  <tr class=\"row-odd\">\n",
    "    <td class=\"text-align:center\">3</td>\n",
    "    <td class=\"text-align:center\"></td>\n",
    "    <td class=\"text-align:center\"></td>\n",
    "    <td class=\"text-align:center\"></td>\n",
    "    <td class=\"text-align:center\"></td>\n",
    "    <td class=\"text-align:center\"></td>\n",
    "    <td class=\"text-align:center\"></td>\n",
    "    <td class=\"text-align:center\"></td>\n",
    "    <td class=\"text-align:center\"></td>\n",
    "    <td class=\"text-align:center\"></td>\n",
    "    <td class=\"text-align:center\"></td>\n",
    "    <td class=\"text-align:center\">✓</td>\n",
    "    <td class=\"text-align:center\">✓</td>\n",
    "  </tr>\n",
    "  <tr class=\"row-even\">\n",
    "    <td class=\"text-align:center\">4</td>\n",
    "    <td class=\"text-align:center\"></td>\n",
    "    <td class=\"text-align:center\"></td>\n",
    "    <td class=\"text-align:center\"></td>\n",
    "    <td class=\"text-align:center\">✓</td>\n",
    "    <td class=\"text-align:center\">✓</td>\n",
    "    <td class=\"text-align:center\">✓</td>\n",
    "    <td class=\"text-align:center\"></td>\n",
    "    <td class=\"text-align:center\"></td>\n",
    "    <td class=\"text-align:center\"></td>\n",
    "    <td class=\"text-align:center\"></td>\n",
    "    <td class=\"text-align:center\"></td>\n",
    "    <td class=\"text-align:center\"></td>\n",
    "  </tr>\n",
    "  <tr class=\"row-odd\">\n",
    "    <td class=\"text-align:center\">5</td>\n",
    "    <td class=\"text-align:center\"></td>\n",
    "    <td class=\"text-align:center\"></td>\n",
    "    <td class=\"text-align:center\"></td>\n",
    "    <td class=\"text-align:center\"></td>\n",
    "    <td class=\"text-align:center\"></td>\n",
    "    <td class=\"text-align:center\"></td>\n",
    "    <td class=\"text-align:center\"></td>\n",
    "    <td class=\"text-align:center\"></td>\n",
    "    <td class=\"text-align:center\"></td>\n",
    "    <td class=\"text-align:center\">✓</td>\n",
    "    <td class=\"text-align:center\">✓</td>\n",
    "    <td class=\"text-align:center\"></td>\n",
    "  </tr>\n",
    "</tbody>\n",
    "</table>"
   ]
  },
  {
   "cell_type": "markdown",
   "id": "linear-shadow",
   "metadata": {},
   "source": [
    "## Formulación\n",
    "\n",
    "<!--  \n",
    "Enumeración alfabetica y en negrilla. En caso de que hayan subliterales, estos van identados, en negrilla y se utiliza \"i.\", \"ii.\", ... \n",
    "Ejemplo:\n",
    "**a.**\n",
    "    **i.**\n",
    "    **ii.**\n",
    "**b.**\n",
    "-->"
   ]
  },
  {
   "cell_type": "markdown",
   "id": "f08dc1b9",
   "metadata": {},
   "source": [
    "**a.** Formula matemáticamente un modelo de optimización de forma general que represente la\n",
    "situación anterior. Defina clara y rigurosamente:  \n",
    "- Conjuntos\n",
    "- Parámetros\n",
    "- Variables de decisión\n",
    "- Restricciones\n",
    "- Naturaleza de las variables\n",
    "- Función objetivo"
   ]
  },
  {
   "cell_type": "markdown",
   "id": "0c1bf4f5",
   "metadata": {},
   "source": [
    "### Conjuntos"
   ]
  },
  {
   "cell_type": "markdown",
   "id": "00d69792",
   "metadata": {},
   "source": [
    "* $A$: artistas\n",
    "* $H$: horas"
   ]
  },
  {
   "cell_type": "markdown",
   "id": "d480aa18",
   "metadata": {},
   "source": [
    "### Parámetros"
   ]
  },
  {
   "cell_type": "markdown",
   "id": "87b6b55e",
   "metadata": {},
   "source": [
    "* $d_{i}$: duración de la presentación del artista $i\\in A$\n",
    "* $a_{it}$: audiencia del artista $i\\in A$ durante la hora $t\\in H$"
   ]
  },
  {
   "cell_type": "markdown",
   "id": "ababdcab",
   "metadata": {},
   "source": [
    "### Variables de decisión"
   ]
  },
  {
   "cell_type": "markdown",
   "id": "6c365f2a",
   "metadata": {},
   "source": [
    "* $x_{it}:\\begin{cases}1\\text{,}&\\text{ si el artista }i\\in A\\text{ inicia su presentación en la hora }t\\in H \\\\ 0\\text{,}& \\text{ d.l.c.}  \\end{cases}$\n",
    "* $y_{it}:\\begin{cases}1\\text{,}&\\text{ si el artista }i\\in A\\text{ se presenta durante la hora }t\\in H \\\\ 0\\text{,}& \\text{ d.l.c.}  \\end{cases}$"
   ]
  },
  {
   "cell_type": "markdown",
   "id": "north-language",
   "metadata": {},
   "source": [
    "### Restricciones"
   ]
  },
  {
   "cell_type": "markdown",
   "id": "7f295b86",
   "metadata": {},
   "source": [
    "Se garantiza que la cantidad de artistas presentandose en simultaneo a cada hora $h \\in H$ sea menor o igual a $k$:"
   ]
  },
  {
   "cell_type": "markdown",
   "id": "bc5b5764",
   "metadata": {},
   "source": [
    "$$\n",
    "    \\sum_{i \\in A}y_{i,t} \\leq k,\\ \\forall t \\in H;\n",
    "$$"
   ]
  },
  {
   "cell_type": "markdown",
   "id": "dd23e0d4",
   "metadata": {},
   "source": [
    "Se garantiza que cada artista $i \\in A$ inicie su presentación una única vez:"
   ]
  },
  {
   "cell_type": "markdown",
   "id": "386f40a4",
   "metadata": {},
   "source": [
    "$$\n",
    "    \\sum_{t \\in H}x_{i,t} = 1,\\ \\forall i \\in A;\n",
    "$$"
   ]
  },
  {
   "cell_type": "markdown",
   "id": "05537834",
   "metadata": {},
   "source": [
    "Se garantiza que cada artista $i \\in A$ se presenta en horas consecutivas y no presenta durante horas previas a la hora de inicio."
   ]
  },
  {
   "cell_type": "markdown",
   "id": "2d87f083",
   "metadata": {},
   "source": [
    "- El artista $i \\in A$ se presenta en horas consecutivas desde el inicio de su presentación:"
   ]
  },
  {
   "cell_type": "markdown",
   "id": "0f6b8502",
   "metadata": {},
   "source": [
    "$$\n",
    "    \\sum_{j = t}^{t+d_{i}-1}y_{i,j} \\geq d_{i}x_{i,t},\\ \\forall i \\in A, t \\in H \\ \\vert\\  t + d(i) - 1 \\leq |H|;\n",
    "$$"
   ]
  },
  {
   "cell_type": "markdown",
   "id": "f947e8dc",
   "metadata": {},
   "source": [
    "- El artista $i \\in A$ se presenta exactamente las horas que dura su presentación:"
   ]
  },
  {
   "cell_type": "markdown",
   "id": "67a0ac83",
   "metadata": {},
   "source": [
    "$$\n",
    "    \\sum_{t \\in H}y_{i,t} = d_{i},\\ \\forall i \\in A;\n",
    "$$"
   ]
  },
  {
   "cell_type": "markdown",
   "id": "7b4ce993",
   "metadata": {},
   "source": [
    "- El artista $i \\in A$ no puede iniciar su presentación si el tiempo restante es insuficiente:"
   ]
  },
  {
   "cell_type": "markdown",
   "id": "9bb0fbe3",
   "metadata": {},
   "source": [
    "$$\n",
    "    x_{i,t} = 0,\\ \\forall i \\in A, t \\in H \\ \\vert \\ t + d_{i} - 1 > |H|;\n",
    "$$"
   ]
  },
  {
   "cell_type": "markdown",
   "id": "descending-testament",
   "metadata": {},
   "source": [
    "### Naturaleza de las Variables"
   ]
  },
  {
   "cell_type": "markdown",
   "id": "cc592cc3",
   "metadata": {},
   "source": [
    "En cualquier instante $t \\in H$ un artista $i\\in A$ puede o no iniciar su presentación y puede o no estarse presentando."
   ]
  },
  {
   "cell_type": "markdown",
   "id": "99bac883",
   "metadata": {},
   "source": [
    "$$\n",
    "    x_{it}, y_{it} \\in \\{0,1\\},\\ \\forall i \\in A, t \\in H;\n",
    "$$"
   ]
  },
  {
   "cell_type": "markdown",
   "id": "voluntary-couple",
   "metadata": {},
   "source": [
    "### Función objetivo"
   ]
  },
  {
   "cell_type": "markdown",
   "id": "5d8b38f1",
   "metadata": {},
   "source": [
    "Se debe maximizar la audiencia total alcanzada."
   ]
  },
  {
   "cell_type": "markdown",
   "id": "47089664",
   "metadata": {},
   "source": [
    "$$\n",
    "    \\operatorname{máx}\\ \\sum_{i \\in A} \\sum_{t \\in H} a_{it}y_{it}\n",
    "$$"
   ]
  },
  {
   "cell_type": "markdown",
   "id": "geographic-header",
   "metadata": {},
   "source": [
    "## Implementación"
   ]
  },
  {
   "cell_type": "markdown",
   "id": "4725d708",
   "metadata": {},
   "source": [
    "**b.** Resuelve el modelo planteado utilizando la librería de PuLP en Python. ¿Cuál es la solución óptima del problema? "
   ]
  },
  {
   "cell_type": "markdown",
   "id": "2a1a82c3",
   "metadata": {},
   "source": [
    "### Librerías"
   ]
  },
  {
   "cell_type": "markdown",
   "id": "f597d592",
   "metadata": {},
   "source": [
    "Importa el módulo `matplotlib.pyplot` para crear gráficas y la librería `pulp` para crear y resolver el modelo."
   ]
  },
  {
   "cell_type": "code",
   "execution_count": 17,
   "id": "323a0476",
   "metadata": {},
   "outputs": [],
   "source": [
    "import matplotlib.pyplot as plt\n",
    "import pulp as lp"
   ]
  },
  {
   "cell_type": "markdown",
   "id": "837873b4",
   "metadata": {},
   "source": [
    "### Conjuntos"
   ]
  },
  {
   "cell_type": "markdown",
   "id": "48fddac0",
   "metadata": {},
   "source": [
    "Define los conjuntos `A` y `H` que representan respectivamente los artistas y las horas.\n",
    "\n",
    "Recuerda que por conveniencia de preservar el orden de los elementos de los conjuntos, no siempre deberás definirlos con el tipo `set`."
   ]
  },
  {
   "cell_type": "code",
   "execution_count": 3,
   "id": "d9209bb7",
   "metadata": {},
   "outputs": [],
   "source": [
    "# Artistas\n",
    "A = [f\"A_{i}\" for i in range(1, 6)]\n",
    "\n",
    "# Horas\n",
    "H = list(range(1, 13))"
   ]
  },
  {
   "cell_type": "markdown",
   "id": "8c58ff99",
   "metadata": {},
   "source": [
    "### Parámetros"
   ]
  },
  {
   "cell_type": "markdown",
   "id": "d981d80d",
   "metadata": {},
   "source": [
    "Define o importa los parámetros del modelo."
   ]
  },
  {
   "cell_type": "code",
   "execution_count": 4,
   "id": "16df6fb4",
   "metadata": {},
   "outputs": [],
   "source": [
    "# Duración de la presentación de cada artista\n",
    "d = {\"A_1\": 2, \"A_2\": 3, \"A_3\": 2, \"A_4\": 3, \"A_5\": 2}\n",
    "\n",
    "# Audiencia de cada artista en cada hora\n",
    "a = {\n",
    "    (\"A_1\", 1): 1197,\n",
    "    (\"A_1\", 2): 2578,\n",
    "    (\"A_1\", 3): 1350,\n",
    "    (\"A_1\", 4): 2729,\n",
    "    (\"A_1\", 5): 2679,\n",
    "    (\"A_1\", 6): 2946,\n",
    "    (\"A_1\", 7): 1563,\n",
    "    (\"A_1\", 8): 2998,\n",
    "    (\"A_1\", 9): 2879,\n",
    "    (\"A_1\", 10): 1126,\n",
    "    (\"A_1\", 11): 2559,\n",
    "    (\"A_1\", 12): 1129,\n",
    "    (\"A_2\", 1): 1034,\n",
    "    (\"A_2\", 2): 2009,\n",
    "    (\"A_2\", 3): 1515,\n",
    "    (\"A_2\", 4): 2254,\n",
    "    (\"A_2\", 5): 1624,\n",
    "    (\"A_2\", 6): 1277,\n",
    "    (\"A_2\", 7): 2010,\n",
    "    (\"A_2\", 8): 2563,\n",
    "    (\"A_2\", 9): 1384,\n",
    "    (\"A_2\", 10): 2695,\n",
    "    (\"A_2\", 11): 2053,\n",
    "    (\"A_2\", 12): 2585,\n",
    "    (\"A_3\", 1): 1058,\n",
    "    (\"A_3\", 2): 1842,\n",
    "    (\"A_3\", 3): 1443,\n",
    "    (\"A_3\", 4): 1995,\n",
    "    (\"A_3\", 5): 2819,\n",
    "    (\"A_3\", 6): 1998,\n",
    "    (\"A_3\", 7): 1401,\n",
    "    (\"A_3\", 8): 1708,\n",
    "    (\"A_3\", 9): 1346,\n",
    "    (\"A_3\", 10): 1674,\n",
    "    (\"A_3\", 11): 1816,\n",
    "    (\"A_3\", 12): 1032,\n",
    "    (\"A_4\", 1): 1082,\n",
    "    (\"A_4\", 2): 1206,\n",
    "    (\"A_4\", 3): 2366,\n",
    "    (\"A_4\", 4): 1013,\n",
    "    (\"A_4\", 5): 2762,\n",
    "    (\"A_4\", 6): 1479,\n",
    "    (\"A_4\", 7): 2496,\n",
    "    (\"A_4\", 8): 1509,\n",
    "    (\"A_4\", 9): 1673,\n",
    "    (\"A_4\", 10): 1350,\n",
    "    (\"A_4\", 11): 1128,\n",
    "    (\"A_4\", 12): 2669,\n",
    "    (\"A_5\", 1): 2801,\n",
    "    (\"A_5\", 2): 1003,\n",
    "    (\"A_5\", 3): 2965,\n",
    "    (\"A_5\", 4): 2295,\n",
    "    (\"A_5\", 5): 1147,\n",
    "    (\"A_5\", 6): 2156,\n",
    "    (\"A_5\", 7): 1058,\n",
    "    (\"A_5\", 8): 2857,\n",
    "    (\"A_5\", 9): 1968,\n",
    "    (\"A_5\", 10): 2764,\n",
    "    (\"A_5\", 11): 2153,\n",
    "    (\"A_5\", 12): 1518,\n",
    "}\n",
    "\n",
    "# Máxima cantidad de artistas presentando en simultaneo\n",
    "k = 2"
   ]
  },
  {
   "cell_type": "markdown",
   "id": "70fd6598",
   "metadata": {},
   "source": [
    "### Objeto del modelo"
   ]
  },
  {
   "cell_type": "markdown",
   "id": "aa975e80",
   "metadata": {},
   "source": [
    "Construye un problema al que luego agregarás las restricciones y la función objetivo."
   ]
  },
  {
   "cell_type": "code",
   "execution_count": 5,
   "id": "a1501b81",
   "metadata": {},
   "outputs": [],
   "source": [
    "problema = lp.LpProblem(name=\"scheduling-salsa-al-parque\", sense=lp.LpMaximize)"
   ]
  },
  {
   "cell_type": "markdown",
   "id": "970af788",
   "metadata": {},
   "source": [
    "### Variables de decisión"
   ]
  },
  {
   "cell_type": "markdown",
   "id": "1e670ec8",
   "metadata": {},
   "source": [
    "Define las variables del problema de manera que estén contenidas en diccionarios indexados en los conjuntos de sus variables respectivas."
   ]
  },
  {
   "cell_type": "code",
   "execution_count": 6,
   "id": "e1febe93",
   "metadata": {},
   "outputs": [],
   "source": [
    "# Si el artista a en A inicia su presentación en t en H\n",
    "x = {\n",
    "    (i, t): lp.LpVariable(\n",
    "        name=f\"inicia_{i}_en_hora_{t}\", lowBound=0, upBound=None, cat=lp.LpBinary\n",
    "    )\n",
    "    for i in A\n",
    "    for t in H\n",
    "}\n",
    "\n",
    "# Si el artista a en A se presenta durante la hora t in H\n",
    "y = {\n",
    "    (i, t): lp.LpVariable(\n",
    "        name=f\"presenta_{i}_en_hora_{t}\", lowBound=0, upBound=None, cat=lp.LpBinary\n",
    "    )\n",
    "    for i in A\n",
    "    for t in H\n",
    "}"
   ]
  },
  {
   "cell_type": "markdown",
   "id": "f843462c",
   "metadata": {},
   "source": [
    "### Función objetivo"
   ]
  },
  {
   "cell_type": "markdown",
   "id": "97df9059",
   "metadata": {},
   "source": [
    "Agrega al problema la función objetivo. Recuerda que al definir el problema, ya definiste si este es de maximización o minimización."
   ]
  },
  {
   "cell_type": "code",
   "execution_count": 7,
   "id": "2fd8a365",
   "metadata": {},
   "outputs": [],
   "source": [
    "problema += sum(a[i, t] * y[i, t] for i in A for t in H), \"audiencia_total\""
   ]
  },
  {
   "cell_type": "markdown",
   "id": "89f524db",
   "metadata": {},
   "source": [
    "### Restricciones"
   ]
  },
  {
   "cell_type": "markdown",
   "id": "77e7e409",
   "metadata": {},
   "source": [
    "Agrega al problema las restricciones del modelo."
   ]
  },
  {
   "cell_type": "code",
   "execution_count": 8,
   "id": "f986d5ee",
   "metadata": {},
   "outputs": [],
   "source": [
    "# Los artistas presentandose durante h en H son menos que k\n",
    "for t in H:\n",
    "    problema += sum(y[(i, t)] for i in A) <= k\n",
    "\n",
    "# Cada artista i en A inicia su presentación una única vez\n",
    "for i in A:\n",
    "    problema += sum(x[(i, t)] for t in H) == 1\n",
    "\n",
    "# Cada artista se presenta en horas consecutivas luego de su inicio\n",
    "for i in A:\n",
    "    for t in H:\n",
    "        if t + d[i] - 1 <= max(H):\n",
    "            problema += sum(y[i, j] for j in range(t, t + d[i])) >= d[i] * x[i, t]\n",
    "\n",
    "# cada artista debe presentarse exactamente la cantidad de horas que le corresponden\n",
    "for i in A:\n",
    "    problema += sum(y[i, t] for t in H) == d[i]\n",
    "\n",
    "# Cada artista no puede iniciar su presentación si el tiempo es insuficiente\n",
    "for i in A:\n",
    "    for t in H:\n",
    "        if t + d[i] - 1 > max(H):\n",
    "            problema += x[i, t] == 0"
   ]
  },
  {
   "cell_type": "markdown",
   "id": "265a2a10",
   "metadata": {},
   "source": [
    "### Resolver el problema"
   ]
  },
  {
   "cell_type": "markdown",
   "id": "d7661201",
   "metadata": {},
   "source": [
    "Invoca el optimizador. Este paso le asigna un valor a las variables incluidas en las restricciones o función objetivo del modelo."
   ]
  },
  {
   "cell_type": "code",
   "execution_count": 9,
   "id": "ae811704",
   "metadata": {},
   "outputs": [
    {
     "name": "stdout",
     "output_type": "stream",
     "text": [
      "Welcome to the CBC MILP Solver \n",
      "Version: 2.10.8 \n",
      "Build Date: May  6 2022 \n",
      "\n",
      "command line - cbc /tmp/7d34ed252fae452a9efc83a95cb59077-pulp.mps max timeMode elapsed branch printingOptions all solution /tmp/7d34ed252fae452a9efc83a95cb59077-pulp.sol (default strategy 1)\n",
      "At line 2 NAME          MODEL\n",
      "At line 3 ROWS\n",
      "At line 87 COLUMNS\n",
      "At line 754 RHS\n",
      "At line 837 BOUNDS\n",
      "At line 958 ENDATA\n",
      "Problem MODEL has 82 rows, 120 columns and 366 elements\n",
      "Coin0008I MODEL read with 0 errors\n",
      "Option for timeMode changed from cpu to elapsed\n",
      "Continuous objective value is 32297 - 0.00 seconds\n",
      "Cgl0002I 7 variables fixed\n",
      "Cgl0003I 0 fixed, 0 tightened bounds, 53 strengthened rows, 0 substitutions\n",
      "Cgl0003I 0 fixed, 0 tightened bounds, 47 strengthened rows, 0 substitutions\n",
      "Cgl0003I 0 fixed, 0 tightened bounds, 16 strengthened rows, 0 substitutions\n",
      "Cgl0003I 0 fixed, 0 tightened bounds, 12 strengthened rows, 0 substitutions\n",
      "Cgl0004I processed model has 75 rows, 113 columns (113 integer (113 of which binary)) and 480 elements\n",
      "Cbc0038I Initial state - 5 integers unsatisfied sum - 2\n",
      "Cbc0038I Pass   1: suminf.    0.00000 (0) obj. -29428 iterations 38\n",
      "Cbc0038I Solution found of -29428\n",
      "Cbc0038I Before mini branch and bound, 107 integers at bound fixed and 0 continuous\n",
      "Cbc0038I Full problem 75 rows 113 columns, reduced to 0 rows 0 columns\n",
      "Cbc0038I Mini branch and bound did not improve solution (0.01 seconds)\n",
      "Cbc0038I Round again with cutoff of -29525.5\n",
      "Cbc0038I Reduced cost fixing fixed 18 variables on major pass 2\n",
      "Cbc0038I Pass   2: suminf.    1.66667 (5) obj. -29904 iterations 8\n",
      "Cbc0038I Pass   3: suminf.    1.66667 (5) obj. -29904 iterations 5\n",
      "Cbc0038I Pass   4: suminf.    1.66667 (5) obj. -29904 iterations 4\n",
      "Cbc0038I Pass   5: suminf.    2.14888 (10) obj. -29525.5 iterations 32\n",
      "Cbc0038I Pass   6: suminf.    0.00000 (0) obj. -29681 iterations 19\n",
      "Cbc0038I Solution found of -29681\n",
      "Cbc0038I Before mini branch and bound, 92 integers at bound fixed and 0 continuous\n",
      "Cbc0038I Full problem 75 rows 113 columns, reduced to 7 rows 5 columns\n",
      "Cbc0038I Mini branch and bound improved solution from -29681 to -30024 (0.02 seconds)\n",
      "Cbc0038I Round again with cutoff of -30099.7\n",
      "Cbc0038I Reduced cost fixing fixed 42 variables on major pass 3\n",
      "Cbc0038I Pass   7: suminf.    2.00000 (6) obj. -30155.8 iterations 1\n",
      "Cbc0038I Pass   8: suminf.    1.66667 (5) obj. -30144.3 iterations 7\n",
      "Cbc0038I Pass   9: suminf.    1.66667 (5) obj. -30144.3 iterations 2\n",
      "Cbc0038I Pass  10: suminf.    1.90453 (9) obj. -30099.7 iterations 5\n",
      "Cbc0038I Pass  11: suminf.    3.90354 (14) obj. -30099.7 iterations 33\n",
      "Cbc0038I Pass  12: suminf.    2.00000 (8) obj. -30099.7 iterations 23\n",
      "Cbc0038I Pass  13: suminf.    1.66667 (5) obj. -30099.7 iterations 5\n",
      "Cbc0038I Pass  14: suminf.    2.17745 (9) obj. -30099.7 iterations 8\n",
      "Cbc0038I Pass  15: suminf.    1.99482 (9) obj. -30099.7 iterations 11\n",
      "Cbc0038I Pass  16: suminf.    2.00000 (8) obj. -30099.7 iterations 3\n",
      "Cbc0038I Pass  17: suminf.    3.53805 (13) obj. -30099.7 iterations 14\n",
      "Cbc0038I Pass  18: suminf.    2.00000 (8) obj. -30293.7 iterations 11\n",
      "Cbc0038I Pass  19: suminf.    2.00000 (8) obj. -30293.7 iterations 1\n",
      "Cbc0038I Pass  20: suminf.    2.22092 (9) obj. -30099.7 iterations 4\n",
      "Cbc0038I Pass  21: suminf.    1.99482 (9) obj. -30099.7 iterations 1\n",
      "Cbc0038I Pass  22: suminf.    2.00000 (8) obj. -30099.7 iterations 3\n",
      "Cbc0038I Pass  23: suminf.    2.00000 (8) obj. -30099.7 iterations 4\n",
      "Cbc0038I Pass  24: suminf.    1.66667 (5) obj. -30099.7 iterations 5\n",
      "Cbc0038I Pass  25: suminf.    1.66667 (5) obj. -30144.3 iterations 3\n",
      "Cbc0038I Pass  26: suminf.    1.90453 (9) obj. -30099.7 iterations 6\n",
      "Cbc0038I Pass  27: suminf.    1.66667 (5) obj. -30144.3 iterations 16\n",
      "Cbc0038I Pass  28: suminf.    4.00000 (11) obj. -30099.7 iterations 30\n",
      "Cbc0038I Pass  29: suminf.    3.48328 (10) obj. -30099.7 iterations 8\n",
      "Cbc0038I Pass  30: suminf.    3.48328 (10) obj. -30099.7 iterations 4\n",
      "Cbc0038I Pass  31: suminf.    3.48328 (10) obj. -30099.7 iterations 3\n",
      "Cbc0038I Pass  32: suminf.    2.00000 (6) obj. -30155.8 iterations 17\n",
      "Cbc0038I Pass  33: suminf.    2.00000 (6) obj. -30155.8 iterations 9\n",
      "Cbc0038I Pass  34: suminf.    1.66667 (5) obj. -30144.3 iterations 4\n",
      "Cbc0038I Pass  35: suminf.    1.66667 (5) obj. -30144.3 iterations 3\n",
      "Cbc0038I Pass  36: suminf.    1.90453 (9) obj. -30099.7 iterations 4\n",
      "Cbc0038I No solution found this major pass\n",
      "Cbc0038I Before mini branch and bound, 87 integers at bound fixed and 0 continuous\n",
      "Cbc0038I Mini branch and bound did not improve solution (0.03 seconds)\n",
      "Cbc0038I After 0.03 seconds - Feasibility pump exiting with objective of -30024 - took 0.04 seconds\n",
      "Cbc0012I Integer solution of -30024 found by feasibility pump after 0 iterations and 0 nodes (0.03 seconds)\n",
      "Cbc0038I Full problem 75 rows 113 columns, reduced to 0 rows 0 columns\n",
      "Cbc0001I Search completed - best objective -30024, took 1 iterations and 0 nodes (0.03 seconds)\n",
      "Cbc0035I Maximum depth 0, 38 variables fixed on reduced cost\n",
      "Cuts at root node changed objective from -30402.5 to -28393.3\n",
      "Probing was tried 0 times and created 0 cuts of which 0 were active after adding rounds of cuts (0.000 seconds)\n",
      "Gomory was tried 0 times and created 0 cuts of which 0 were active after adding rounds of cuts (0.000 seconds)\n",
      "Knapsack was tried 0 times and created 0 cuts of which 0 were active after adding rounds of cuts (0.000 seconds)\n",
      "Clique was tried 0 times and created 0 cuts of which 0 were active after adding rounds of cuts (0.000 seconds)\n",
      "MixedIntegerRounding2 was tried 0 times and created 0 cuts of which 0 were active after adding rounds of cuts (0.000 seconds)\n",
      "FlowCover was tried 0 times and created 0 cuts of which 0 were active after adding rounds of cuts (0.000 seconds)\n",
      "TwoMirCuts was tried 0 times and created 0 cuts of which 0 were active after adding rounds of cuts (0.000 seconds)\n",
      "ZeroHalf was tried 0 times and created 0 cuts of which 0 were active after adding rounds of cuts (0.000 seconds)\n",
      "\n",
      "Result - Optimal solution found\n",
      "\n",
      "Objective value:                30024.00000000\n",
      "Enumerated nodes:               0\n",
      "Total iterations:               1\n",
      "Time (CPU seconds):             0.06\n",
      "Time (Wallclock seconds):       0.04\n",
      "\n",
      "Option for printingOptions changed from normal to all\n",
      "Total time (CPU seconds):       0.06   (Wallclock seconds):       0.04\n",
      "\n"
     ]
    },
    {
     "data": {
      "text/plain": [
       "1"
      ]
     },
     "execution_count": 9,
     "metadata": {},
     "output_type": "execute_result"
    }
   ],
   "source": [
    "problema.solve()"
   ]
  },
  {
   "cell_type": "markdown",
   "id": "655b238a",
   "metadata": {},
   "source": [
    "### Imprimir resultados"
   ]
  },
  {
   "cell_type": "markdown",
   "id": "8a7a8a35",
   "metadata": {},
   "source": [
    "Antes de estudiar el óptimo del modelo, identifica en el estado del optimizador si pudo resolver el problema."
   ]
  },
  {
   "cell_type": "code",
   "execution_count": 10,
   "id": "whole-trust",
   "metadata": {},
   "outputs": [
    {
     "data": {
      "text/plain": [
       "'Estado del optimizador: Optimal'"
      ]
     },
     "execution_count": 10,
     "metadata": {},
     "output_type": "execute_result"
    }
   ],
   "source": [
    "f\"Estado del optimizador: {lp.LpStatus[problema.status]}\""
   ]
  },
  {
   "cell_type": "markdown",
   "id": "ea6fe01e",
   "metadata": {},
   "source": [
    "Identifica también el valor de la función objetivo."
   ]
  },
  {
   "cell_type": "code",
   "execution_count": 11,
   "id": "11b75d2c",
   "metadata": {},
   "outputs": [
    {
     "data": {
      "text/plain": [
       "'Audiencia alcanzada: 30024000.0'"
      ]
     },
     "execution_count": 11,
     "metadata": {},
     "output_type": "execute_result"
    }
   ],
   "source": [
    "f\"Audiencia alcanzada: {lp.value(problema.objective) * 1000}\""
   ]
  },
  {
   "cell_type": "markdown",
   "id": "6e59d608",
   "metadata": {},
   "source": [
    "Por último, imprime de manera estructurada el valor de las variables de decisión y otras expresiones de interés."
   ]
  },
  {
   "cell_type": "code",
   "execution_count": 14,
   "id": "ad53e1be",
   "metadata": {},
   "outputs": [
    {
     "name": "stdout",
     "output_type": "stream",
     "text": [
      "\t1\t2\t3\t4\t5\t6\t7\t8\t9\t10\t11\t12\n",
      "A_1\t 0\t 0\t 0\t 0\t 0\t 0\t 0\t 1\t 1\t 0\t 0\t 0\n",
      "A_2\t 0\t 0\t 0\t 0\t 0\t 0\t 0\t 0\t 0\t 1\t 1\t 1\n",
      "A_3\t 0\t 0\t 0\t 0\t 1\t 1\t 0\t 0\t 0\t 0\t 0\t 0\n",
      "A_4\t 0\t 0\t 0\t 0\t 1\t 1\t 1\t 0\t 0\t 0\t 0\t 0\n",
      "A_5\t 0\t 0\t 1\t 1\t 0\t 0\t 0\t 0\t 0\t 0\t 0\t 0\n"
     ]
    }
   ],
   "source": [
    "for t in H:\n",
    "    print(f\"\\t{t}\", end=\"\")\n",
    "print()\n",
    "\n",
    "for i in A:\n",
    "    print(i, end=\"\")\n",
    "    for t in H:\n",
    "        print(f\"\\t{lp.value(y[i, t]): .0f}\", end=\"\")\n",
    "    print()"
   ]
  },
  {
   "cell_type": "markdown",
   "id": "1b31089f",
   "metadata": {},
   "source": [
    "### Visualizar resultados"
   ]
  },
  {
   "cell_type": "markdown",
   "id": "8f832f83",
   "metadata": {},
   "source": [
    "Ahora que conoces el valor de las variables de decisión, desarrolla una gráfica..."
   ]
  },
  {
   "cell_type": "code",
   "execution_count": 19,
   "id": "727798d1",
   "metadata": {},
   "outputs": [
    {
     "data": {
      "image/png": "[encoded data removed]",
      "text/plain": [
       "<Figure size 640x480 with 1 Axes>"
      ]
     },
     "metadata": {},
     "output_type": "display_data"
    }
   ],
   "source": [
    "# Hora de inicio y hora de fin de cada artista.\n",
    "comienzo = [sum(t * lp.value(x[i, t]) for t in H) for i in A]\n",
    "fin = [comienzo[i] + d[f\"A_{i + 1}\"] for i in range(len(A))]\n",
    "\n",
    "# Grafica de la solución\n",
    "plt.hlines(A, comienzo, fin, linewidth=35)\n",
    "\n",
    "# Etiqueta del eje x\n",
    "plt.xlabel(xlabel=\"Hora\")\n",
    "\n",
    "# Etiqueta del eje y\n",
    "plt.ylabel(ylabel=\"Artista\")\n",
    "\n",
    "# Título de la gráfica\n",
    "plt.title(\"Itinerario de Presentaciones\")\n",
    "\n",
    "# Rango del eje x\n",
    "plt.xlim([0.9, 13.1])\n",
    "\n",
    "# Dígitos del eje x\n",
    "plt.xticks(H + [13])\n",
    "\n",
    "# Borde vacío al rededor de las barras\n",
    "plt.margins(0.1)"
   ]
  },
  {
   "cell_type": "markdown",
   "id": "2c390f8b",
   "metadata": {},
   "source": [
    "## Créditos"
   ]
  },
  {
   "cell_type": "markdown",
   "id": "hired-insulation",
   "metadata": {},
   "source": [
    "Equipo Principios de Optimización<br>\n",
    "Autores: Alejandro Mantilla, Ariadna De Ávila, Alfaima Solano<br>\n",
    "Desarrollo: Alejandro Mantilla, Alfaima Solano<br>\n",
    "Última fecha de modificación: 08/04/2023"
   ]
  }
 ],
 "metadata": {
  "kernelspec": {
   "display_name": "Python 3 (ipykernel)",
   "language": "python",
   "name": "python3"
  },
  "language_info": {
   "codemirror_mode": {
    "name": "ipython",
    "version": 3
   },
   "file_extension": ".py",
   "mimetype": "text/x-python",
   "name": "python",
   "nbconvert_exporter": "python",
   "pygments_lexer": "ipython3",
   "version": "3.11.0"
  }
 },
 "nbformat": 4,
 "nbformat_minor": 5
}
