{
  "cells": [
    {
      "cell_type": "markdown",
      "id": "specific-boulder",
      "metadata": {},
      "source": [
        "# Planeación de menús - Solución"
      ]
    },
    {
      "cell_type": "markdown",
      "id": "written-elephant",
      "metadata": {},
      "source": [
        "<b><i style=\"font-size:13px\">Tags: </i></b><i style=\"font-size:11px\">Mezcla, Recurso</i>"
      ]
    },
    {
      "cell_type": "code",
      "execution_count": 1,
      "id": "fe8c0d77",
      "metadata": {
        "tags": [
          "hide-input",
          "thebe-init"
        ]
      },
      "outputs": [],
      "source": [
        "import os\n",
        "# Por precaución, cambiamos el directorio activo de Python a aquel que contenga este notebook\n",
        "if \"optimizacion\" in os.listdir():\n",
        "    os.chdir(r\"optimizacion/Formularios/2. Planeacion de menus\")"
      ]
    },
    {
      "cell_type": "markdown",
      "id": "annoying-circus",
      "metadata": {},
      "source": [
        "## Enunciado"
      ]
    },
    {
      "cell_type": "markdown",
      "id": "d047dcdb",
      "metadata": {},
      "source": [
        "El personal técnico de un hospital quiere desarrollar un sistema computarizado de planificación de\n",
        "menús. Para comenzar, el hospital llevará a cabo la planeación de un menú de prueba para el almuerzo.\n",
        "Este menú debe incluir 100 gramos (g) de cada uno de los siguientes tres grupos alimenticios ($T$): frutas,\n",
        "verduras, y carnes. La siguiente tabla presenta el costo por cada 100 g de algunos alimentos sugeridos ($A$), así como el porcentaje de macronutrientes (carbohidratos, proteínas y grasas) y la cantidad, en\n",
        "miligramos (mg), de vitaminas que contienen 100 g de dichos alimentos."
      ]
    },
    {
      "cell_type": "markdown",
      "id": "efb1e635",
      "metadata": {},
      "source": [
        "| |Por cada 100g |Vitaminas (mg)|Carbohidratos (%)| Proteína (%)| Grasas (%)|Costo (\\$)|\n",
        "|:-:|:-|-:|-:|-:|-:|-:|\n",
        "|**Frutas**|||||||\n",
        "||Naranja|50.00|8.90|0.80|0.00|570.00|\n",
        "||Manzana|5.00|10.50|0.30|0.00|650.00|\n",
        "||Banano|35.00|20.80|1.20|0.30|200.00|\n",
        "||Pera|12.00|11.70|0.40|0.10|550.00|\n",
        "|**Verduras**|||||||\n",
        "||Brócoli|116.00|4.90|3.20|0.20|450.00|\n",
        "||Espinaca|52.00|4.10|2.50|0.30|600.00|\n",
        "||Guisantes|23.00|18.20|7.20|0.40|800.00|\n",
        "||Pepino|9.00|0.70|0.15|2.70|500.00|\n",
        "||Calabacín|21.00|7.30|4.20|0.10|450.00|\n",
        "|**Carnes**|||||||\n",
        "||Pollo|61.00|1.00|23.00|2.00|1,420.00|\n",
        "||Res|31.00|2.00|18.00|20.00|4,800.00|\n",
        "||Cerdo|2.00|1.50|16.00|27.00|2,900.00|"
      ]
    },
    {
      "cell_type": "markdown",
      "id": "40666f64",
      "metadata": {},
      "source": [
        "El menú del almuerzo debe contener una cantidad mínima de cada uno de los cuatro nutrientes (carbohidratos, proteínas, grasas y vitaminas) mostradas en la tabla. Estas cantidades mínimas son: 100 mg de vitaminas, 25 g de carbohidratos, 17 g de proteínas y 5 g de grasas. El equipo técnico del hospital desea incluir un modelo de optimización en el sistema para planear el menú del almuerzo al menor costo posible, ellos quieren saber cuantas porciones de 100g deberían incluir de cada alimento en el menú. Pueden haber porciones fraccionales."
      ]
    },
    {
      "cell_type": "markdown",
      "id": "linear-shadow",
      "metadata": {},
      "source": [
        "## Formulación"
      ]
    },
    {
      "cell_type": "markdown",
      "id": "b8cc13b0",
      "metadata": {},
      "source": [
        "**a.** Formula matemáticamente un modelo de optimización de forma general que represente la\n",
        "situación anterior. Defina y explique clara y rigurosamente:  \n",
        "- Conjuntos\n",
        "- Parámetros\n",
        "- Variables de decisión\n",
        "- Restricciones\n",
        "- Naturaleza de las variables\n",
        "- Función objetivo"
      ]
    },
    {
      "cell_type": "markdown",
      "id": "6af5479a",
      "metadata": {},
      "source": [
        "### Conjuntos"
      ]
    },
    {
      "cell_type": "markdown",
      "id": "2c3f0bb2",
      "metadata": {},
      "source": [
        "- $T$: conjunto de tipos de alimentos\n",
        "- $A$: conjunto de alimentos\n",
        "- $N$: conjunto de nutrientes"
      ]
    },
    {
      "cell_type": "markdown",
      "id": "c475ff6e",
      "metadata": {},
      "source": [
        "### Parámetros"
      ]
    },
    {
      "cell_type": "markdown",
      "id": "d1618f18",
      "metadata": {},
      "source": [
        "- $l_n$: contenido mínimo del nutriente $n\\in N$ que debe tener el menú\n",
        "- $k_{an}$: cantidad del nutriente $n\\in N$ que contiene 100 g del alimento $a\\in A$\n",
        "- $c_a$: costo por porción de 100g del alimento $a\\in A$\n",
        "- $p_{at}: \\begin{cases}1\\text{,}&\\text{si el alimento }a\\in A\\text{ pertenece al tipo de alimento }t\\in T\\text{;} \\\\ 0\\text{,}& \\text{d.l.c.}  \\end{cases}$ "
      ]
    },
    {
      "cell_type": "markdown",
      "id": "loaded-equipment",
      "metadata": {},
      "source": [
        "### Variables de decisión"
      ]
    },
    {
      "cell_type": "markdown",
      "id": "599bac19",
      "metadata": {},
      "source": [
        "- $x_a$: cantidad de porciones de 100g del alimento $a\\in A$ incluidas en el menú"
      ]
    },
    {
      "cell_type": "markdown",
      "id": "north-language",
      "metadata": {},
      "source": [
        "### Restricciones"
      ]
    },
    {
      "cell_type": "markdown",
      "id": "c0a49430",
      "metadata": {},
      "source": [
        "Debe incluirse en total exactamente una porción de 100g, de entre los alimentos que pertenecen a cada tipo de alimento $t \\in T$:"
      ]
    },
    {
      "cell_type": "markdown",
      "id": "6f1f554b",
      "metadata": {},
      "source": [
        "$$\n",
        "\\sum_{a\\in A|p_{at}=1}x_a = 1, \\ \\forall t\\in T\n",
        "$$"
      ]
    },
    {
      "cell_type": "markdown",
      "id": "a12a5033",
      "metadata": {},
      "source": [
        "En el menú, la cantidad de cada nutriente $n\\in N$ incluida debe ser mayor al límite inferior $l_n$:"
      ]
    },
    {
      "cell_type": "markdown",
      "id": "e7666cd7",
      "metadata": {},
      "source": [
        "$$\n",
        "\\sum_{a\\in A}k_{an}\\cdot x_a \\ge l_n, \\ \\forall n\\in N;\n",
        "$$"
      ]
    },
    {
      "cell_type": "markdown",
      "id": "descending-testament",
      "metadata": {},
      "source": [
        "### Naturaleza de las Variables"
      ]
    },
    {
      "cell_type": "markdown",
      "id": "f2a50066",
      "metadata": {},
      "source": [
        "Solo pueden incluirse cantidades positivas de cada alimento:"
      ]
    },
    {
      "cell_type": "markdown",
      "id": "8640aa72",
      "metadata": {},
      "source": [
        "$$\n",
        " x_a \\ge 0, \\ \\forall a\\in A;\n",
        "$$"
      ]
    },
    {
      "cell_type": "markdown",
      "id": "voluntary-couple",
      "metadata": {},
      "source": [
        "### Función objetivo"
      ]
    },
    {
      "cell_type": "markdown",
      "id": "4b3c6bcd",
      "metadata": {},
      "source": [
        "Debe minimizarse el costo total del menú:"
      ]
    },
    {
      "cell_type": "markdown",
      "id": "c510e992",
      "metadata": {},
      "source": [
        "$$\n",
        "\\operatorname{mín}\\ \\sum_{a\\in A}c_a\\cdot x_a\n",
        "$$"
      ]
    },
    {
      "cell_type": "markdown",
      "id": "geographic-header",
      "metadata": {},
      "source": [
        "## Implementación"
      ]
    },
    {
      "cell_type": "markdown",
      "id": "9637ef69",
      "metadata": {},
      "source": [
        "**b.** Resuelve el modelo planteado utilizando la librería de PuLP en Python. ¿Cuál es la solución\n",
        "óptima del problema? "
      ]
    },
    {
      "cell_type": "markdown",
      "id": "2a1a82c3",
      "metadata": {},
      "source": [
        "### Librerías"
      ]
    },
    {
      "cell_type": "markdown",
      "id": "f597d592",
      "metadata": {},
      "source": [
        "Importa la librería `pulp` para crear y resolver el modelo."
      ]
    },
    {
      "cell_type": "code",
      "execution_count": 2,
      "id": "323a0476",
      "metadata": {},
      "outputs": [],
      "source": [
        "import pulp as lp"
      ]
    },
    {
      "cell_type": "markdown",
      "id": "837873b4",
      "metadata": {},
      "source": [
        "### Conjuntos"
      ]
    },
    {
      "cell_type": "markdown",
      "id": "48fddac0",
      "metadata": {},
      "source": [
        "Define los conjuntos `T`, `A` y `N` que representan respectivamente los tipos de alimento, los alimentos y los nutrientes.\n",
        "\n",
        "Recuerda que por conveniencia de preservar el orden de los elementos de los conjuntos, no siempre deberás definirlos con el tipo `set`."
      ]
    },
    {
      "cell_type": "code",
      "execution_count": 3,
      "id": "d9209bb7",
      "metadata": {},
      "outputs": [],
      "source": [
        "# Tipos de Alimentos\n",
        "T = [\"Frutas\", \"Verduras\", \"Carnes\"]\n",
        "\n",
        "# Alimentos\n",
        "A = [\n",
        "    \"Naranja\",\n",
        "    \"Manzana\",\n",
        "    \"Banano\",\n",
        "    \"Pera\",\n",
        "    \"Brócoli\",\n",
        "    \"Espinaca\",\n",
        "    \"Guisantes\",\n",
        "    \"Pepino\",\n",
        "    \"Calabacín\",\n",
        "    \"Pollo\",\n",
        "    \"Res\",\n",
        "    \"Cerdo\",\n",
        "]\n",
        "\n",
        "# Nutrientes\n",
        "N = [\"Vitaminas\", \"Carbohidratos\", \"Proteína\", \"Grasas\"]"
      ]
    },
    {
      "cell_type": "markdown",
      "id": "8c58ff99",
      "metadata": {},
      "source": [
        "### Parámetros"
      ]
    },
    {
      "cell_type": "markdown",
      "id": "d981d80d",
      "metadata": {},
      "source": [
        "Define o importa los parámetros del modelo."
      ]
    },
    {
      "cell_type": "code",
      "execution_count": 4,
      "id": "16df6fb4",
      "metadata": {},
      "outputs": [],
      "source": [
        "# Contenido minimo del nutriente n en N que debe tener el menú\n",
        "l = {\"Vitaminas\": 100 / 1000, \"Carbohidratos\": 25, \"Proteína\": 17, \"Grasas\": 5}\n",
        "\n",
        "# Cantidad del nutriente n en N que tiene el alimento a en A\n",
        "k = {\n",
        "    (\"Naranja\", \"Vitaminas\"): 50,\n",
        "    (\"Naranja\", \"Carbohidratos\"): 8.9,\n",
        "    (\"Naranja\", \"Proteína\"): 0.8,\n",
        "    (\"Naranja\", \"Grasas\"): 0,\n",
        "    (\"Manzana\", \"Vitaminas\"): 5,\n",
        "    (\"Manzana\", \"Carbohidratos\"): 10.5,\n",
        "    (\"Manzana\", \"Proteína\"): 0.3,\n",
        "    (\"Manzana\", \"Grasas\"): 0,\n",
        "    (\"Banano\", \"Vitaminas\"): 35,\n",
        "    (\"Banano\", \"Carbohidratos\"): 20.8,\n",
        "    (\"Banano\", \"Proteína\"): 1.2,\n",
        "    (\"Banano\", \"Grasas\"): 0.3,\n",
        "    (\"Pera\", \"Vitaminas\"): 12,\n",
        "    (\"Pera\", \"Carbohidratos\"): 11.7,\n",
        "    (\"Pera\", \"Proteína\"): 0.4,\n",
        "    (\"Pera\", \"Grasas\"): 0.1,\n",
        "    (\"Brócoli\", \"Vitaminas\"): 116,\n",
        "    (\"Brócoli\", \"Carbohidratos\"): 4.9,\n",
        "    (\"Brócoli\", \"Proteína\"): 3.2,\n",
        "    (\"Brócoli\", \"Grasas\"): 0.2,\n",
        "    (\"Espinaca\", \"Vitaminas\"): 52,\n",
        "    (\"Espinaca\", \"Carbohidratos\"): 4.1,\n",
        "    (\"Espinaca\", \"Proteína\"): 2.5,\n",
        "    (\"Espinaca\", \"Grasas\"): 0.3,\n",
        "    (\"Guisantes\", \"Vitaminas\"): 23,\n",
        "    (\"Guisantes\", \"Carbohidratos\"): 18.2,\n",
        "    (\"Guisantes\", \"Proteína\"): 7.2,\n",
        "    (\"Guisantes\", \"Grasas\"): 0.4,\n",
        "    (\"Pepino\", \"Vitaminas\"): 9,\n",
        "    (\"Pepino\", \"Carbohidratos\"): 0.7,\n",
        "    (\"Pepino\", \"Proteína\"): 0.15,\n",
        "    (\"Pepino\", \"Grasas\"): 2.7,\n",
        "    (\"Calabacín\", \"Vitaminas\"): 21,\n",
        "    (\"Calabacín\", \"Carbohidratos\"): 7.3,\n",
        "    (\"Calabacín\", \"Proteína\"): 4.2,\n",
        "    (\"Calabacín\", \"Grasas\"): 0.1,\n",
        "    (\"Pollo\", \"Vitaminas\"): 61,\n",
        "    (\"Pollo\", \"Carbohidratos\"): 1,\n",
        "    (\"Pollo\", \"Proteína\"): 23,\n",
        "    (\"Pollo\", \"Grasas\"): 2,\n",
        "    (\"Res\", \"Vitaminas\"): 31,\n",
        "    (\"Res\", \"Carbohidratos\"): 2,\n",
        "    (\"Res\", \"Proteína\"): 18,\n",
        "    (\"Res\", \"Grasas\"): 20,\n",
        "    (\"Cerdo\", \"Vitaminas\"): 2,\n",
        "    (\"Cerdo\", \"Carbohidratos\"): 1.5,\n",
        "    (\"Cerdo\", \"Proteína\"): 16,\n",
        "    (\"Cerdo\", \"Grasas\"): 27,\n",
        "}\n",
        "\n",
        "# Costo por porción (100g) de alimento a en A\n",
        "c = {\n",
        "    \"Naranja\": 570,\n",
        "    \"Manzana\": 650,\n",
        "    \"Banano\": 200,\n",
        "    \"Pera\": 550,\n",
        "    \"Brócoli\": 450,\n",
        "    \"Espinaca\": 600,\n",
        "    \"Guisantes\": 800,\n",
        "    \"Pepino\": 500,\n",
        "    \"Calabacín\": 450,\n",
        "    \"Pollo\": 1420,\n",
        "    \"Res\": 4800,\n",
        "    \"Cerdo\": 2900,\n",
        "}\n",
        "\n",
        "# Si el alimento a pertenece al tipo de alimento t en T\n",
        "p = {\n",
        "    (\"Naranja\", \"Frutas\"): 1,\n",
        "    (\"Naranja\", \"Verduras\"): 0,\n",
        "    (\"Naranja\", \"Carnes\"): 0,\n",
        "    (\"Manzana\", \"Frutas\"): 1,\n",
        "    (\"Manzana\", \"Verduras\"): 0,\n",
        "    (\"Manzana\", \"Carnes\"): 0,\n",
        "    (\"Banano\", \"Frutas\"): 1,\n",
        "    (\"Banano\", \"Verduras\"): 0,\n",
        "    (\"Banano\", \"Carnes\"): 0,\n",
        "    (\"Pera\", \"Frutas\"): 1,\n",
        "    (\"Pera\", \"Verduras\"): 0,\n",
        "    (\"Pera\", \"Carnes\"): 0,\n",
        "    (\"Brócoli\", \"Frutas\"): 0,\n",
        "    (\"Brócoli\", \"Verduras\"): 1,\n",
        "    (\"Brócoli\", \"Carnes\"): 0,\n",
        "    (\"Espinaca\", \"Frutas\"): 0,\n",
        "    (\"Espinaca\", \"Verduras\"): 1,\n",
        "    (\"Espinaca\", \"Carnes\"): 0,\n",
        "    (\"Guisantes\", \"Frutas\"): 0,\n",
        "    (\"Guisantes\", \"Verduras\"): 1,\n",
        "    (\"Guisantes\", \"Carnes\"): 0,\n",
        "    (\"Pepino\", \"Frutas\"): 0,\n",
        "    (\"Pepino\", \"Verduras\"): 1,\n",
        "    (\"Pepino\", \"Carnes\"): 0,\n",
        "    (\"Calabacín\", \"Frutas\"): 0,\n",
        "    (\"Calabacín\", \"Verduras\"): 1,\n",
        "    (\"Calabacín\", \"Carnes\"): 0,\n",
        "    (\"Pollo\", \"Frutas\"): 0,\n",
        "    (\"Pollo\", \"Verduras\"): 0,\n",
        "    (\"Pollo\", \"Carnes\"): 1,\n",
        "    (\"Res\", \"Frutas\"): 0,\n",
        "    (\"Res\", \"Verduras\"): 0,\n",
        "    (\"Res\", \"Carnes\"): 1,\n",
        "    (\"Cerdo\", \"Frutas\"): 0,\n",
        "    (\"Cerdo\", \"Verduras\"): 0,\n",
        "    (\"Cerdo\", \"Carnes\"): 1,\n",
        "}"
      ]
    },
    {
      "cell_type": "markdown",
      "id": "f257086c",
      "metadata": {},
      "source": [
        "Para obtener resultados consistentes en unidades, adaptamos los valores del parámetro `k` para las vitaminas contenidas en 100 g de alimento."
      ]
    },
    {
      "cell_type": "code",
      "execution_count": 5,
      "id": "1061cac1",
      "metadata": {},
      "outputs": [],
      "source": [
        "for a in A:\n",
        "    k[a, \"Vitaminas\"] /= 1000"
      ]
    },
    {
      "cell_type": "markdown",
      "id": "70fd6598",
      "metadata": {},
      "source": [
        "### Objeto del modelo"
      ]
    },
    {
      "cell_type": "markdown",
      "id": "aa975e80",
      "metadata": {},
      "source": [
        "Construye un problema al que luego agregarás las restricciones y la función objetivo."
      ]
    },
    {
      "cell_type": "code",
      "execution_count": 6,
      "id": "a1501b81",
      "metadata": {},
      "outputs": [],
      "source": [
        "problema = lp.LpProblem(name=\"Planeacion_menus\", sense=lp.LpMinimize)"
      ]
    },
    {
      "cell_type": "markdown",
      "id": "970af788",
      "metadata": {},
      "source": [
        "### Variables de decisión"
      ]
    },
    {
      "cell_type": "markdown",
      "id": "1e670ec8",
      "metadata": {},
      "source": [
        "Define las variables del problema de manera que estén contenidas en diccionarios indexados en los conjuntos de sus variables respectivas."
      ]
    },
    {
      "cell_type": "code",
      "execution_count": 7,
      "id": "e1febe93",
      "metadata": {},
      "outputs": [],
      "source": [
        "# Porción del alimento a en A\n",
        "x = {\n",
        "    a: lp.LpVariable(\n",
        "        name=f\"porcion_alimento_{a}\", lowBound=0, upBound=None, cat=lp.LpContinuous\n",
        "    )\n",
        "    for a in A\n",
        "}"
      ]
    },
    {
      "cell_type": "markdown",
      "id": "f843462c",
      "metadata": {},
      "source": [
        "### Función objetivo"
      ]
    },
    {
      "cell_type": "markdown",
      "id": "97df9059",
      "metadata": {},
      "source": [
        "Agrega al problema la función objetivo. Recuerda que al definir el problema, ya definiste si este es de maximización o minimización."
      ]
    },
    {
      "cell_type": "code",
      "execution_count": 8,
      "id": "2fd8a365",
      "metadata": {},
      "outputs": [],
      "source": [
        "problema += sum(c[a] * x[a] for a in A), \"costo_alimentos\""
      ]
    },
    {
      "cell_type": "markdown",
      "id": "89f524db",
      "metadata": {},
      "source": [
        "### Restricciones"
      ]
    },
    {
      "cell_type": "markdown",
      "id": "77e7e409",
      "metadata": {},
      "source": [
        "Agrega al problema las restricciones del modelo."
      ]
    },
    {
      "cell_type": "code",
      "execution_count": 9,
      "id": "f986d5ee",
      "metadata": {},
      "outputs": [],
      "source": [
        "# Se garantizan 100 gramos por cada tipo de alimento\n",
        "for t in T:\n",
        "    problema += (\n",
        "        sum(x[a] for a in A if p[a, t] == 1) == 1,\n",
        "        f\"100_gramos_tipo_alimento_{t}\",\n",
        "    )\n",
        "\n",
        "# Se garantiza el requerimiento mínimo de cada nutriente\n",
        "for n in N:\n",
        "    problema += (\n",
        "        sum(k[a, n] * x[a] for a in A) >= l[n],\n",
        "        f\"minimo_nutriente_{n}\",\n",
        "    )"
      ]
    },
    {
      "cell_type": "markdown",
      "id": "265a2a10",
      "metadata": {},
      "source": [
        "### Resolver el problema"
      ]
    },
    {
      "cell_type": "markdown",
      "id": "d7661201",
      "metadata": {},
      "source": [
        "Invoca el optimizador. Este paso le asigna un valor a las variables incluidas en las restricciones o función objetivo del modelo."
      ]
    },
    {
      "cell_type": "code",
      "execution_count": 10,
      "id": "ae811704",
      "metadata": {},
      "outputs": [
        {
          "name": "stdout",
          "output_type": "stream",
          "text": [
            "Welcome to the CBC MILP Solver \n",
            "Version: 2.10.8 \n",
            "Build Date: May  6 2022 \n",
            "\n",
            "command line - cbc /tmp/47dc96b476b84f68a636d862e06fb80c-pulp.mps timeMode elapsed branch printingOptions all solution /tmp/47dc96b476b84f68a636d862e06fb80c-pulp.sol (default strategy 1)\n",
            "At line 2 NAME          MODEL\n",
            "At line 3 ROWS\n",
            "At line 12 COLUMNS\n",
            "At line 83 RHS\n",
            "At line 91 BOUNDS\n",
            "At line 92 ENDATA\n",
            "Problem MODEL has 7 rows, 12 columns and 58 elements\n",
            "Coin0008I MODEL read with 0 errors\n",
            "Option for timeMode changed from cpu to elapsed\n",
            "Presolve 7 (0) rows, 12 (0) columns and 58 (0) elements\n",
            "0  Obj 0 Primal inf 27.497304 (7)\n",
            "8  Obj 2159.0559\n",
            "Optimal - objective value 2159.0559\n",
            "Optimal objective 2159.055923 - 8 iterations time 0.002\n",
            "Option for printingOptions changed from normal to all\n",
            "Total time (CPU seconds):       0.00   (Wallclock seconds):       0.00\n",
            "\n"
          ]
        },
        {
          "data": {
            "text/plain": [
              "1"
            ]
          },
          "execution_count": 10,
          "metadata": {},
          "output_type": "execute_result"
        }
      ],
      "source": [
        "problema.solve()"
      ]
    },
    {
      "cell_type": "markdown",
      "id": "655b238a",
      "metadata": {},
      "source": [
        "### Imprimir resultados"
      ]
    },
    {
      "cell_type": "markdown",
      "id": "8a7a8a35",
      "metadata": {},
      "source": [
        "Antes de estudiar el óptimo del modelo, identifica en el estado del optimizador si pudo resolver el problema."
      ]
    },
    {
      "cell_type": "code",
      "execution_count": 11,
      "id": "whole-trust",
      "metadata": {},
      "outputs": [
        {
          "data": {
            "text/plain": [
              "'Estado del optimizador: Optimal'"
            ]
          },
          "execution_count": 11,
          "metadata": {},
          "output_type": "execute_result"
        }
      ],
      "source": [
        "f\"Estado del optimizador: {lp.LpStatus[problema.status]}\""
      ]
    },
    {
      "cell_type": "markdown",
      "id": "ea6fe01e",
      "metadata": {},
      "source": [
        "Identifica también el valor de la función objetivo."
      ]
    },
    {
      "cell_type": "code",
      "execution_count": 12,
      "id": "11b75d2c",
      "metadata": {},
      "outputs": [
        {
          "data": {
            "text/plain": [
              "'Costo total de alimentos: 2159.0559213'"
            ]
          },
          "execution_count": 12,
          "metadata": {},
          "output_type": "execute_result"
        }
      ],
      "source": [
        "f\"<Significado FO>: {lp.value(problema.objective)}\""
      ]
    },
    {
      "cell_type": "markdown",
      "id": "6e59d608",
      "metadata": {},
      "source": [
        "Por último, imprimime de manera estructurada el valor de las variables de decisión y otras expresiones de interés."
      ]
    },
    {
      "cell_type": "code",
      "execution_count": 13,
      "id": "ad53e1be",
      "metadata": {},
      "outputs": [
        {
          "name": "stdout",
          "output_type": "stream",
          "text": [
            "Frutas\n",
            "\t Naranja : 0.0 gramos\n",
            "\t Manzana : 0.0 gramos\n",
            "\t Banano : 100.0 gramos\n",
            "\t Pera : 0.0 gramos\n",
            "Verduras\n",
            "\t Brócoli : 0.0 gramos\n",
            "\t Espinaca : 0.0 gramos\n",
            "\t Guisantes : 0.0 gramos\n",
            "\t Pepino : 62.4 gramos\n",
            "\t Calabacín : 37.6 gramos\n",
            "Carnes\n",
            "\t Pollo : 96.1 gramos\n",
            "\t Res : 0.0 gramos\n",
            "\t Cerdo : 3.9 gramos\n"
          ]
        }
      ],
      "source": [
        "for t in T:\n",
        "    print(t)\n",
        "    for a in A:\n",
        "        if p[a, t] == 1:\n",
        "            print(\"\\t\", a, \":\", round(x[a].value() * 100, 1), \"gramos\")"
      ]
    },
    {
      "cell_type": "markdown",
      "id": "7d1dcf11",
      "metadata": {},
      "source": [
        "**c.** Varios aspectos prácticos no fueron tenidos en cuenta en el modelo planteado anteriormente. Algunos de estos aspectos son: la inclusión de alimentos de los otros cuatro grupos alimenticios, la planeación de menús para desayunos, almuerzos y cenas; la planeación de menús para que los pacientes reciban menús variados de comida a lo largo de la semana; y menús especiales para pacientes con ciertas restricciones, entre otros. Discute en detalle cómo podría tener en cuenta estos aspectos dentro de un modelo de optimización en el sistema de planeación del hospital."
      ]
    },
    {
      "cell_type": "markdown",
      "id": "hired-insulation",
      "metadata": {},
      "source": [
        "## Créditos\n",
        "\n",
        "Equipo Principios de Optimización<br>\n",
        "Autores: Camilo Aguilar<br>\n",
        "Desarrollo: Camilo Aguilar, Alejandro Mantilla<br>\n",
        "Última fecha de modificación: 07/04/2023 "
      ]
    }
  ],
  "metadata": {
    "kernelspec": {
      "display_name": "Python 3 (ipykernel)",
      "language": "python",
      "name": "python3"
    },
    "language_info": {
      "codemirror_mode": {
        "name": "ipython",
        "version": 3
      },
      "file_extension": ".py",
      "mimetype": "text/x-python",
      "name": "python",
      "nbconvert_exporter": "python",
      "pygments_lexer": "ipython3",
      "version": "3.11.3"
    }
  },
  "nbformat": 4,
  "nbformat_minor": 5
}
