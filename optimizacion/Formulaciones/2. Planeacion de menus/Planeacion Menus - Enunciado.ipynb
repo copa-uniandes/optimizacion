{
 "cells": [
  {
   "cell_type": "markdown",
   "id": "specific-boulder",
   "metadata": {},
   "source": [
    "# Planeación de menús Solución"
   ]
  },
  {
   "cell_type": "markdown",
   "id": "written-elephant",
   "metadata": {},
   "source": [
    "<b><i style=\"font-size:13px\">Tags: </i></b><i style=\"font-size:11px\">Mezcla, Recurso</i>"
   ]
  },
  {
   "cell_type": "code",
   "execution_count": null,
   "id": "fe8c0d77",
   "metadata": {
    "tags": [
     "hide-input",
     "thebe-init"
    ]
   },
   "outputs": [],
   "source": [
    "import os\n",
    "# Por precaución, cambiamos el directorio activo de Python a aquel que contenga este notebook\n",
    "if \"optimizacion\" in os.listdir():\n",
    "    os.chdir(r\"optimizacion/Formularios/2. Planeacion de menus\")"
   ]
  },
  {
   "cell_type": "markdown",
   "id": "annoying-circus",
   "metadata": {},
   "source": [
    "## Enunciado"
   ]
  },
  {
   "cell_type": "markdown",
   "id": "d047dcdb",
   "metadata": {},
   "source": [
    "El personal técnico de un hospital quiere desarrollar un sistema computarizado de planificación de\n",
    "menús. Para comenzar, el hospital llevará a cabo la planeación de un menú de prueba para el almuerzo.\n",
    "Este menú debe incluir 100 gramos (g) de cada uno de los siguientes tres grupos alimenticios ($T$): frutas,\n",
    "verduras, y carnes. La siguiente tabla presenta el costo por cada 100 g de algunos alimentos sugeridos ($A$), así como el porcentaje de macronutrientes (carbohidratos, proteínas y grasas) y la cantidad, en\n",
    "miligramos (mg), de vitaminas que contienen 100 g de dichos alimentos."
   ]
  },
  {
   "cell_type": "markdown",
   "id": "efb1e635",
   "metadata": {},
   "source": [
    "| |Por cada 100g |Vitaminas (mg)|Carbohidratos (%)| Proteína (%)| Grasas (%)|Costo (\\$)|\n",
    "|:-:|:-|-:|-:|-:|-:|-:|\n",
    "|**Frutas**|||||||\n",
    "||Naranja|50.00|8.90|0.80|0.00|570.00|\n",
    "||Manzana|5.00|10.50|0.30|0.00|650.00|\n",
    "||Banano|35.00|20.80|1.20|0.30|200.00|\n",
    "||Pera|12.00|11.70|0.40|0.10|550.00|\n",
    "|**Verduras**|||||||\n",
    "||Brócoli|116.00|4.90|3.20|0.20|450.00|\n",
    "||Espinaca|52.00|4.10|2.50|0.30|600.00|\n",
    "||Guisantes|23.00|18.20|7.20|0.40|800.00|\n",
    "||Pepino|9.00|0.70|0.15|2.70|500.00|\n",
    "||Calabacín|21.00|7.30|4.20|0.10|450.00|\n",
    "|**Carnes**|||||||\n",
    "||Pollo|61.00|1.00|23.00|2.00|1,420.00|\n",
    "||Res|31.00|2.00|18.00|20.00|4,800.00|\n",
    "||Cerdo|2.00|1.50|16.00|27.00|2,900.00|"
   ]
  },
  {
   "cell_type": "markdown",
   "id": "40666f64",
   "metadata": {},
   "source": [
    "El menú del almuerzo debe contener una cantidad mínima de cada uno de los cuatro nutrientes (carbohidratos, proteínas, grasas y vitaminas) mostradas en la tabla. Estas cantidades mínimas son: 100 mg de vitaminas, 25 g de carbohidratos, 17 g de proteínas y 5 g de grasas. El equipo técnico del hospital desea incluir un modelo de optimización en el sistema para planear el menú del almuerzo al menor costo posible, ellos quieren saber cuantas porciones de 100g deberían incluir de cada alimento en el menú. Pueden haber porciones fraccionales."
   ]
  },
  {
   "cell_type": "markdown",
   "id": "linear-shadow",
   "metadata": {},
   "source": [
    "## Formulación"
   ]
  },
  {
   "cell_type": "markdown",
   "id": "b8cc13b0",
   "metadata": {},
   "source": [
    "**a.** Formula matemáticamente un modelo de optimización de forma general que represente la\n",
    "situación anterior. Defina y explique clara y rigurosamente:  \n",
    "- Conjuntos\n",
    "- Parámetros\n",
    "- Variables de decisión\n",
    "- Restricciones\n",
    "- Naturaleza de las variables\n",
    "- Función objetivo"
   ]
  },
  {
   "cell_type": "markdown",
   "id": "geographic-header",
   "metadata": {},
   "source": [
    "## Implementación"
   ]
  },
  {
   "cell_type": "markdown",
   "id": "9637ef69",
   "metadata": {},
   "source": [
    "**b.** Resuelve el modelo planteado utilizando la librería de PuLP en Python. ¿Cuál es la solución\n",
    "óptima del problema? "
   ]
  },
  {
   "cell_type": "markdown",
   "id": "2a1a82c3",
   "metadata": {},
   "source": [
    "### Librerías"
   ]
  },
  {
   "cell_type": "markdown",
   "id": "f597d592",
   "metadata": {},
   "source": [
    "Importa la librería `pulp` para crear y resolver el modelo."
   ]
  },
  {
   "cell_type": "code",
   "execution_count": null,
   "id": "323a0476",
   "metadata": {},
   "outputs": [],
   "source": [
    "# Escribe en esta celda tu código.\n"
   ]
  },
  {
   "cell_type": "markdown",
   "id": "837873b4",
   "metadata": {},
   "source": [
    "### Conjuntos"
   ]
  },
  {
   "cell_type": "markdown",
   "id": "48fddac0",
   "metadata": {},
   "source": [
    "Define los conjuntos `T`, `A` y `N` que representan respectivamente los tipos de alimento, los alimentos y los nutrientes.\n",
    "\n",
    "Recuerda que por conveniencia de preservar el orden de los elementos de los conjuntos, no siempre deberás definirlos con el tipo `set`."
   ]
  },
  {
   "cell_type": "code",
   "execution_count": null,
   "id": "d9209bb7",
   "metadata": {},
   "outputs": [],
   "source": [
    "# Escribe en esta celda tu código.\n"
   ]
  },
  {
   "cell_type": "markdown",
   "id": "8c58ff99",
   "metadata": {},
   "source": [
    "### Parámetros"
   ]
  },
  {
   "cell_type": "markdown",
   "id": "d981d80d",
   "metadata": {},
   "source": [
    "Define o importa los parámetros del modelo."
   ]
  },
  {
   "cell_type": "code",
   "execution_count": null,
   "id": "16df6fb4",
   "metadata": {},
   "outputs": [],
   "source": [
    "# Escribe en esta celda tu código.\n"
   ]
  },
  {
   "cell_type": "markdown",
   "id": "f257086c",
   "metadata": {},
   "source": [
    "Para obtener resultados consistentes en unidades, adapta los valores del parámetro `k` para las vitaminas contenidas en 100 g de alimento."
   ]
  },
  {
   "cell_type": "code",
   "execution_count": null,
   "id": "1061cac1",
   "metadata": {},
   "outputs": [],
   "source": [
    "# Escribe en esta celda tu código.\n"
   ]
  },
  {
   "cell_type": "markdown",
   "id": "70fd6598",
   "metadata": {},
   "source": [
    "### Objeto del modelo"
   ]
  },
  {
   "cell_type": "markdown",
   "id": "aa975e80",
   "metadata": {},
   "source": [
    "Construye un problema al que luego agregarás las restricciones y la función objetivo."
   ]
  },
  {
   "cell_type": "code",
   "execution_count": null,
   "id": "a1501b81",
   "metadata": {},
   "outputs": [],
   "source": [
    "# Escribe en esta celda tu código.\n"
   ]
  },
  {
   "cell_type": "markdown",
   "id": "970af788",
   "metadata": {},
   "source": [
    "### Variables de decisión"
   ]
  },
  {
   "cell_type": "markdown",
   "id": "1e670ec8",
   "metadata": {},
   "source": [
    "Define las variables del problema de manera que estén contenidas en diccionarios indexados en los conjuntos de sus variables respectivas."
   ]
  },
  {
   "cell_type": "code",
   "execution_count": null,
   "id": "e1febe93",
   "metadata": {},
   "outputs": [],
   "source": [
    "# Escribe en esta celda tu código.\n"
   ]
  },
  {
   "cell_type": "markdown",
   "id": "f843462c",
   "metadata": {},
   "source": [
    "### Función objetivo"
   ]
  },
  {
   "cell_type": "markdown",
   "id": "97df9059",
   "metadata": {},
   "source": [
    "Agrega al problema la función objetivo. Recuerda que al definir el problema, ya definiste si este es de maximización o minimización."
   ]
  },
  {
   "cell_type": "code",
   "execution_count": null,
   "id": "2fd8a365",
   "metadata": {},
   "outputs": [],
   "source": [
    "# Escribe en esta celda tu código.\n"
   ]
  },
  {
   "cell_type": "markdown",
   "id": "89f524db",
   "metadata": {},
   "source": [
    "### Restricciones"
   ]
  },
  {
   "cell_type": "markdown",
   "id": "77e7e409",
   "metadata": {},
   "source": [
    "Agrega al problema las restricciones del modelo."
   ]
  },
  {
   "cell_type": "code",
   "execution_count": null,
   "id": "f986d5ee",
   "metadata": {},
   "outputs": [],
   "source": [
    "# Escribe en esta celda tu código.\n"
   ]
  },
  {
   "cell_type": "markdown",
   "id": "265a2a10",
   "metadata": {},
   "source": [
    "### Resolver el problema"
   ]
  },
  {
   "cell_type": "markdown",
   "id": "d7661201",
   "metadata": {},
   "source": [
    "Invoca el optimizador. Este paso le asigna un valor a las variables incluidas en las restricciones o función objetivo del modelo."
   ]
  },
  {
   "cell_type": "code",
   "execution_count": null,
   "id": "ae811704",
   "metadata": {},
   "outputs": [],
   "source": [
    "# Escribe en esta celda tu código.\n"
   ]
  },
  {
   "cell_type": "markdown",
   "id": "655b238a",
   "metadata": {},
   "source": [
    "### Imprimir resultados"
   ]
  },
  {
   "cell_type": "markdown",
   "id": "8a7a8a35",
   "metadata": {},
   "source": [
    "Antes de estudiar el óptimo del modelo, identifica en el estado del optimizador si pudo resolver el problema."
   ]
  },
  {
   "cell_type": "code",
   "execution_count": null,
   "id": "whole-trust",
   "metadata": {},
   "outputs": [],
   "source": [
    "# Escribe en esta celda tu código.\n"
   ]
  },
  {
   "cell_type": "markdown",
   "id": "ea6fe01e",
   "metadata": {},
   "source": [
    "Identifica también el valor de la función objetivo."
   ]
  },
  {
   "cell_type": "code",
   "execution_count": null,
   "id": "11b75d2c",
   "metadata": {},
   "outputs": [],
   "source": [
    "# Escribe en esta celda tu código.\n"
   ]
  },
  {
   "cell_type": "markdown",
   "id": "6e59d608",
   "metadata": {},
   "source": [
    "Por último, imprimime de manera estructurada el valor de las variables de decisión y otras expresiones de interés."
   ]
  },
  {
   "cell_type": "code",
   "execution_count": null,
   "id": "ad53e1be",
   "metadata": {},
   "outputs": [],
   "source": [
    "# Escribe en esta celda tu código.\n"
   ]
  },
  {
   "cell_type": "markdown",
   "id": "7d1dcf11",
   "metadata": {},
   "source": [
    "**c.** Varios aspectos prácticos no fueron tenidos en cuenta en el modelo planteado anteriormente. Algunos de estos aspectos son: la inclusión de alimentos de los otros cuatro grupos alimenticios, la planeación de menús para desayunos, almuerzos y cenas; la planeación de menús para que los pacientes reciban menús variados de comida a lo largo de la semana; y menús especiales para pacientes con ciertas restricciones, entre otros. Discute en detalle cómo podría tener en cuenta estos aspectos dentro de un modelo de optimización en el sistema de planeación del hospital."
   ]
  },
  {
   "cell_type": "markdown",
   "id": "hired-insulation",
   "metadata": {},
   "source": [
    "## Créditos\n",
    "\n",
    "Equipo Principios de Optimización<br>\n",
    "Autores: Camilo Aguilar<br>\n",
    "Desarrollo: Camilo Aguilar, Alejandro Mantilla<br>\n",
    "Última fecha de modificación: 07/04/2023 "
   ]
  }
 ],
 "metadata": {
  "kernelspec": {
   "display_name": "Python 3 (ipykernel)",
   "language": "python",
   "name": "python3"
  },
  "language_info": {
   "codemirror_mode": {
    "name": "ipython",
    "version": 3
   },
   "file_extension": ".py",
   "mimetype": "text/x-python",
   "name": "python",
   "nbconvert_exporter": "python",
   "pygments_lexer": "ipython3",
   "version": "3.11.3"
  }
 },
 "nbformat": 4,
 "nbformat_minor": 5
}
