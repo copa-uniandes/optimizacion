{
 "cells": [
  {
   "cell_type": "markdown",
   "metadata": {},
   "source": [
    "# Producción de cemento"
   ]
  },
  {
   "cell_type": "markdown",
   "metadata": {},
   "source": [
    "<b><i style=\"font-size:13px\">Tags: </i></b><i style=\"font-size:11px\">Inventario</i>"
   ]
  },
  {
   "cell_type": "markdown",
   "metadata": {},
   "source": [
    "## Enunciado\n",
    "Artos S.A. es una empresa dedicada a la producción de cemento que cuenta con una única planta en la ciudad de Barranquilla. La empresa debe determinar la cantidad de toneladas de cemento a producir en cada una de las siguientes 12 semanas. Los costos de producción, costos de almacenamiento, así como la demanda y el precio por tonelada de cemento, varían semana a semana y se presentan en la siguiente tabla. \n",
    "\n"
   ]
  },
  {
   "cell_type": "markdown",
   "metadata": {},
   "source": [
    "|Semana|Costo de producción \\[Miles de COP/ton\\]|Costo de almacenamiento \\[Miles de COP/ton\\]|Demanda \\[ton\\]|Precio \\[Miles de COP/ton\\]|\n",
    "|:---:|:---:|:---:|:---:|:---:|\n",
    "|1|172.8|6.9|95,000|432.0|\n",
    "|2|178.7|7.2|99,750|440.6|\n",
    "|3|174.6|8.0|104,738|449.5|\n",
    "|4|181.4|8.9|109,974|458.4|\n",
    "|5|183.0|9.0|109,974|467.6|\n",
    "|6|177.7|7.8|109,974|477.0|\n",
    "|7|182.8|6.7|120,972|486.5|\n",
    "|8|186.8|7.3|120,972|496.2|\n",
    "|9|181.8|7.8|108,875|506.2|\n",
    "|10|178.3|8.8|97,987|516.3|\n",
    "|11|173.4|9.2|78,390|526.6|\n",
    "|12|168.8|8.4|94,068|537.1|"
   ]
  },
  {
   "cell_type": "markdown",
   "metadata": {},
   "source": [
    "Tenga en cuenta que, al inicio de la planeación, se cuenta con 12,000 toneladas de cemento y que, por especificaciones de la maquinaria, no se puede producir más de 110,000 toneladas ni menos de 85,000 toneladas en una semana cualquiera.\n",
    "\n",
    "## Formulación \n",
    "**1.** Formule el problema de optimización lineal con el fin de determinar la producción semanal de Artos y lograr la mayor utilidad posible. Para esto usted debe seguir los siguientes pasos: <br>\n"
   ]
  },
  {
   "cell_type": "markdown",
   "metadata": {},
   "source": [
    "\n",
    "**a.** Escriba lo(s) conjunto(s), parámetro(s) y variable(s) de decisión que utilizará en el modelo.\n"
   ]
  },
  {
   "cell_type": "markdown",
   "metadata": {},
   "source": [
    "**b.** Escriba la(s) restricción(es) lineal(es) que describe(n) que se deben respetar los límites de producción\n"
   ]
  },
  {
   "cell_type": "markdown",
   "metadata": {},
   "source": [
    "**c.** Escriba la(s) restricción(es) lineal(es) que contabiliza(n) el inventario de cada semana\n"
   ]
  },
  {
   "cell_type": "markdown",
   "metadata": {},
   "source": [
    "**d.** Escriba la(s) restricción(es) que describe(n) matemáticamente el tipo de variable(s) que está utilizando dentro del modelo\n"
   ]
  },
  {
   "cell_type": "markdown",
   "metadata": {},
   "source": [
    "**e.** Escriba la función objetivo\n"
   ]
  },
  {
   "cell_type": "markdown",
   "metadata": {},
   "source": [
    "## Implementación\n",
    "**2.** Resuelva su modelo. Reporte sus resultados de una manera amigable"
   ]
  },
  {
   "cell_type": "code",
   "execution_count": null,
   "metadata": {},
   "outputs": [],
   "source": [
    "# Implemente en esta celda su formulación del problema\n"
   ]
  },
  {
   "cell_type": "markdown",
   "metadata": {},
   "source": [
    "## Créditos\n",
    "\n",
    "Equipo de Optimización<br>\n",
    "Desarrollo: Andrés Galvis<br>\n",
    "Fecha: 25/09/2020"
   ]
  }
 ],
 "metadata": {
  "kernelspec": {
   "display_name": "Python 3",
   "language": "python",
   "name": "python3"
  },
  "language_info": {
   "codemirror_mode": {
    "name": "ipython",
    "version": 3
   },
   "file_extension": ".py",
   "mimetype": "text/x-python",
   "name": "python",
   "nbconvert_exporter": "python",
   "pygments_lexer": "ipython3",
   "version": "3.8.8"
  }
 },
 "nbformat": 4,
 "nbformat_minor": 4
}
