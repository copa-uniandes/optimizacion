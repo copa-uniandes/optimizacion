{
  "cells": [
    {
      "cell_type": "markdown",
      "id": "specific-boulder",
      "metadata": {},
      "source": [
        "# Producción de cemento"
      ]
    },
    {
      "cell_type": "markdown",
      "id": "written-elephant",
      "metadata": {},
      "source": [
        "<b><i style=\"font-size:13px\">Tags: </i></b><i style=\"font-size:11px\">Inventario</i>"
      ]
    },
    {
      "cell_type": "code",
      "execution_count": 1,
      "id": "fe8c0d77",
      "metadata": {
        "tags": [
          "hide-input",
          "thebe-init"
        ]
      },
      "outputs": [],
      "source": [
        "import os\n",
        "# Por precaución, cambiamos el directorio activo de Python a aquel que contenga este notebook\n",
        "if \"optimizacion\" in os.listdir():\n",
        "    os.chdir(r\"optimizacion/Formulaciones/5. Produccion de cemento/\")"
      ]
    },
    {
      "cell_type": "markdown",
      "id": "annoying-circus",
      "metadata": {},
      "source": [
        "## Enunciado\n",
        "\n",
        "<!--  \n",
        "Conjuntos: $Conjunto$\n",
        "Indices: $indice \\in Conjunto$\n",
        "Parámetros/variables: $parametro_{ij}$\n",
        "Tablas: En HTML y los textos de elementos del conjunto en la parte izquierda con alineado a la izquierda. Además a cada tabla se le pone un nombre y su respectiva descripción.\n",
        "-->"
      ]
    },
    {
      "cell_type": "markdown",
      "id": "6878c75e",
      "metadata": {},
      "source": [
        "Artos S.A. es una empresa dedicada a la producción de cemento que cuenta con una única planta en la ciudad de Barranquilla. La empresa debe determinar la cantidad de toneladas de cemento a producir en cada una de las siguientes 12 semanas. Los costos de producción, costos de almacenamiento, así como la demanda y el precio por tonelada de cemento, varían semana a semana y se presentan en la siguiente tabla."
      ]
    },
    {
      "cell_type": "markdown",
      "id": "674091a5",
      "metadata": {},
      "source": [
        "<p style=\"text-align: center;\"><b>Tabla 1. Estructura de costos y precio</b></p>"
      ]
    },
    {
      "cell_type": "markdown",
      "id": "03590f38",
      "metadata": {},
      "source": [
        "|Semana|Costo de producción \\[Miles de COP/ton\\]|Costo de almacenamiento \\[Miles de COP/ton\\]|Demanda \\[ton\\]|Precio \\[Miles de COP/ton\\]|\n",
        "|:---:|:---:|:---:|:---:|:---:|\n",
        "|1|172.8|6.9|95,000|432.0|\n",
        "|2|178.7|7.2|99,750|440.6|\n",
        "|3|174.6|8.0|104,738|449.5|\n",
        "|4|181.4|8.9|109,974|458.4|\n",
        "|5|183.0|9.0|109,974|467.6|\n",
        "|6|177.7|7.8|109,974|477.0|\n",
        "|7|182.8|6.7|120,972|486.5|\n",
        "|8|186.8|7.3|120,972|496.2|\n",
        "|9|181.8|7.8|108,875|506.2|\n",
        "|10|178.3|8.8|97,987|516.3|\n",
        "|11|173.4|9.2|78,390|526.6|\n",
        "|12|168.8|8.4|94,068|537.1|"
      ]
    },
    {
      "cell_type": "markdown",
      "id": "b8013041",
      "metadata": {},
      "source": [
        "Tenga en cuenta que, al inicio de la planeación, se cuenta con 12,000 toneladas de cemento y que, por especificaciones de la maquinaria, no se puede producir más de 110,000 toneladas ni menos de 85,000 toneladas en una semana cualquiera. El objetivo de Artos S.A. es maximizar su utilidad."
      ]
    },
    {
      "cell_type": "markdown",
      "id": "linear-shadow",
      "metadata": {},
      "source": [
        "## Formulación\n",
        "\n",
        "<!--  \n",
        "Enumeración alfabetica y en negrilla. En caso de que hayan subliterales, estos van identados, en negrilla y se utiliza \"i.\", \"ii.\", ... \n",
        "Ejemplo:\n",
        "**a.**\n",
        "    **i.**\n",
        "    **ii.**\n",
        "**b.**\n",
        "-->"
      ]
    },
    {
      "cell_type": "markdown",
      "id": "f08dc1b9",
      "metadata": {},
      "source": [
        "**a.** Formula matemáticamente un modelo de optimización de forma general que represente la\n",
        "situación anterior. Defina clara y rigurosamente:  \n",
        "- Conjuntos\n",
        "- Parámetros\n",
        "- Variables de decisión\n",
        "- Restricciones\n",
        "- Naturaleza de las variables\n",
        "- Función objetivo"
      ]
    },
    {
      "cell_type": "markdown",
      "id": "geographic-header",
      "metadata": {},
      "source": [
        "## Implementación"
      ]
    },
    {
      "cell_type": "markdown",
      "id": "4725d708",
      "metadata": {},
      "source": [
        "**b.** Resuelve el modelo planteado utilizando la librería de PuLP en Python. ¿Cuál es la solución óptima del problema? "
      ]
    },
    {
      "cell_type": "markdown",
      "id": "2a1a82c3",
      "metadata": {},
      "source": [
        "### Librerías"
      ]
    },
    {
      "cell_type": "markdown",
      "id": "f597d592",
      "metadata": {},
      "source": [
        "Importa el módulo `matplotlib.pyplot` para crear gráficas y la librería `pulp` para crear y resolver el modelo."
      ]
    },
    {
      "cell_type": "code",
      "execution_count": 2,
      "id": "323a0476",
      "metadata": {},
      "outputs": [],
      "source": [
        "# Escribe en esta celda tu código.\n"
      ]
    },
    {
      "cell_type": "markdown",
      "id": "837873b4",
      "metadata": {},
      "source": [
        "### Conjuntos"
      ]
    },
    {
      "cell_type": "markdown",
      "id": "48fddac0",
      "metadata": {},
      "source": [
        "Define el conjuntos `S` que representa las semanas del horizonte de planeación.\n",
        "\n",
        "Recuerda que por conveniencia de preservar el orden de los elementos de los conjuntos, no siempre deberás definirlos con el tipo `set`."
      ]
    },
    {
      "cell_type": "code",
      "execution_count": 3,
      "id": "d9209bb7",
      "metadata": {},
      "outputs": [],
      "source": [
        "# Escribe en esta celda tu código.\n"
      ]
    },
    {
      "cell_type": "markdown",
      "id": "8c58ff99",
      "metadata": {},
      "source": [
        "### Parámetros"
      ]
    },
    {
      "cell_type": "markdown",
      "id": "d981d80d",
      "metadata": {},
      "source": [
        "Define o importa los parámetros del modelo."
      ]
    },
    {
      "cell_type": "code",
      "execution_count": 4,
      "id": "16df6fb4",
      "metadata": {},
      "outputs": [],
      "source": [
        "# Costo de producción por tonelada en la semana i in S\n",
        "c = {\n",
        "    1: 172.8,\n",
        "    2: 178.7,\n",
        "    3: 174.6,\n",
        "    4: 181.4,\n",
        "    5: 183.0,\n",
        "    6: 177.7,\n",
        "    7: 182.8,\n",
        "    8: 186.8,\n",
        "    9: 181.8,\n",
        "    10: 178.3,\n",
        "    11: 173.4,\n",
        "    12: 168.8,\n",
        "}\n",
        "\n",
        "# Costo de almacenamiento por tonelada en la semana i in S\n",
        "h = {\n",
        "    1: 6.9,\n",
        "    2: 7.2,\n",
        "    3: 8.0,\n",
        "    4: 8.9,\n",
        "    5: 9.0,\n",
        "    6: 7.8,\n",
        "    7: 6.7,\n",
        "    8: 7.3,\n",
        "    9: 7.8,\n",
        "    10: 8.8,\n",
        "    11: 9.2,\n",
        "    12: 8.4,\n",
        "}\n",
        "\n",
        "# Demanda de la semana i in S\n",
        "d = {\n",
        "    1: 95000,\n",
        "    2: 99750,\n",
        "    3: 104738,\n",
        "    4: 109974,\n",
        "    5: 109974,\n",
        "    6: 109974,\n",
        "    7: 120972,\n",
        "    8: 120972,\n",
        "    9: 108875,\n",
        "    10: 97987,\n",
        "    11: 78390,\n",
        "    12: 94068,\n",
        "}\n",
        "\n",
        "# Precio por tonelada en la semana i in S\n",
        "p = {\n",
        "    1: 432.0,\n",
        "    2: 440.6,\n",
        "    3: 449.5,\n",
        "    4: 458.4,\n",
        "    5: 467.6,\n",
        "    6: 477.0,\n",
        "    7: 486.5,\n",
        "    8: 496.2,\n",
        "    9: 506.2,\n",
        "    10: 516.3,\n",
        "    11: 526.6,\n",
        "    12: 537.1,\n",
        "}\n",
        "\n",
        "# Inventario inicial de toneladas de cemento\n",
        "I0 = 12000"
      ]
    },
    {
      "cell_type": "markdown",
      "id": "70fd6598",
      "metadata": {},
      "source": [
        "### Objeto del modelo"
      ]
    },
    {
      "cell_type": "markdown",
      "id": "aa975e80",
      "metadata": {},
      "source": [
        "Construye un problema al que luego agregarás las restricciones y la función objetivo."
      ]
    },
    {
      "cell_type": "code",
      "execution_count": 5,
      "id": "a1501b81",
      "metadata": {},
      "outputs": [],
      "source": [
        "# Escribe en esta celda tu código.\n"
      ]
    },
    {
      "cell_type": "markdown",
      "id": "970af788",
      "metadata": {},
      "source": [
        "### Variables de decisión"
      ]
    },
    {
      "cell_type": "markdown",
      "id": "1e670ec8",
      "metadata": {},
      "source": [
        "Define las variables del problema de manera que estén contenidas en diccionarios indexados en los conjuntos de sus variables respectivas."
      ]
    },
    {
      "cell_type": "code",
      "execution_count": 6,
      "id": "e1febe93",
      "metadata": {},
      "outputs": [],
      "source": [
        "# Escribe en esta celda tu código.\n"
      ]
    },
    {
      "cell_type": "markdown",
      "id": "f843462c",
      "metadata": {},
      "source": [
        "### Función objetivo"
      ]
    },
    {
      "cell_type": "markdown",
      "id": "97df9059",
      "metadata": {},
      "source": [
        "Agrega al problema la función objetivo. Recuerda que al definir el problema, ya definiste si este es de maximización o minimización."
      ]
    },
    {
      "cell_type": "code",
      "execution_count": 7,
      "id": "2fd8a365",
      "metadata": {},
      "outputs": [],
      "source": [
        "# Escribe en esta celda tu código.\n"
      ]
    },
    {
      "cell_type": "markdown",
      "id": "89f524db",
      "metadata": {},
      "source": [
        "### Restricciones"
      ]
    },
    {
      "cell_type": "markdown",
      "id": "77e7e409",
      "metadata": {},
      "source": [
        "Agrega al problema las restricciones del modelo."
      ]
    },
    {
      "cell_type": "code",
      "execution_count": 8,
      "id": "f986d5ee",
      "metadata": {},
      "outputs": [],
      "source": [
        "# Escribe en esta celda tu código.\n"
      ]
    },
    {
      "cell_type": "markdown",
      "id": "265a2a10",
      "metadata": {},
      "source": [
        "### Resolver el problema"
      ]
    },
    {
      "cell_type": "markdown",
      "id": "d7661201",
      "metadata": {},
      "source": [
        "Invoca el optimizador. Este paso le asigna un valor a las variables incluidas en las restricciones o función objetivo del modelo."
      ]
    },
    {
      "cell_type": "code",
      "execution_count": 9,
      "id": "ae811704",
      "metadata": {},
      "outputs": [],
      "source": [
        "# Escribe en esta celda tu código.\n"
      ]
    },
    {
      "cell_type": "markdown",
      "id": "655b238a",
      "metadata": {},
      "source": [
        "### Imprimir resultados"
      ]
    },
    {
      "cell_type": "markdown",
      "id": "8a7a8a35",
      "metadata": {},
      "source": [
        "Antes de estudiar el óptimo del modelo, identifica en el estado del optimizador si pudo resolver el problema."
      ]
    },
    {
      "cell_type": "code",
      "execution_count": 10,
      "id": "whole-trust",
      "metadata": {},
      "outputs": [],
      "source": [
        "# Escribe en esta celda tu código.\n"
      ]
    },
    {
      "cell_type": "markdown",
      "id": "ea6fe01e",
      "metadata": {},
      "source": [
        "Identifica también el valor de la función objetivo."
      ]
    },
    {
      "cell_type": "code",
      "execution_count": 11,
      "id": "11b75d2c",
      "metadata": {},
      "outputs": [],
      "source": [
        "# Escribe en esta celda tu código.\n"
      ]
    },
    {
      "cell_type": "markdown",
      "id": "6e59d608",
      "metadata": {},
      "source": [
        "Por último, imprime de manera estructurada el valor de las variables de decisión y otras expresiones de interés."
      ]
    },
    {
      "cell_type": "code",
      "execution_count": 12,
      "id": "ad53e1be",
      "metadata": {},
      "outputs": [],
      "source": [
        "# Escribe en esta celda tu código.\n"
      ]
    },
    {
      "cell_type": "markdown",
      "id": "1b31089f",
      "metadata": {},
      "source": [
        "### Visualizar resultados"
      ]
    },
    {
      "cell_type": "markdown",
      "id": "af6939bd",
      "metadata": {},
      "source": [
        "Ahora que conoces el valor de las variables de decisión, desarrolla las siguientes visualizaciones del resultado."
      ]
    },
    {
      "cell_type": "markdown",
      "id": "03e94468",
      "metadata": {},
      "source": [
        "Desarrolla una gráfica que ilustre el nivel de inventario final a lo largo del horizonte de planeación."
      ]
    },
    {
      "cell_type": "code",
      "execution_count": 15,
      "id": "18a034d3",
      "metadata": {},
      "outputs": [],
      "source": [
        "# Escribe en esta celda tu código.\n"
      ]
    },
    {
      "cell_type": "markdown",
      "id": "0f1936fe",
      "metadata": {},
      "source": [
        "Desarrolla una gráfica que ilustre el nivel de producción a lo largo del horizonte de planeación."
      ]
    },
    {
      "cell_type": "code",
      "execution_count": 14,
      "id": "5b3c31d7",
      "metadata": {},
      "outputs": [],
      "source": [
        "# Escribe en esta celda tu código.\n"
      ]
    },
    {
      "cell_type": "markdown",
      "id": "8f832f83",
      "metadata": {},
      "source": [
        "Desarrolla una gráfica que ilustre el nivel de inventario inicial, la producción y la demanda a lo largo del horizonte de planeación."
      ]
    },
    {
      "cell_type": "code",
      "execution_count": 13,
      "id": "727798d1",
      "metadata": {},
      "outputs": [],
      "source": [
        "# Escribe en esta celda tu código.\n"
      ]
    },
    {
      "cell_type": "markdown",
      "id": "hired-insulation",
      "metadata": {},
      "source": [
        "## Créditos\n",
        "\n",
        "Equipo Principios de Optimización<br>\n",
        "Autores: Camilo Aguilar, Juan Felipe Rengifo<br>\n",
        "Desarrollo: Camilo Aguilar, Juan Felipe Rengifo, Alejandro Mantilla<br>\n",
        "Última fecha de modificación: 07/04/2023"
      ]
    }
  ],
  "metadata": {
    "kernelspec": {
      "display_name": "Python 3 (ipykernel)",
      "language": "python",
      "name": "python3"
    },
    "language_info": {
      "codemirror_mode": {
        "name": "ipython",
        "version": 3
      },
      "file_extension": ".py",
      "mimetype": "text/x-python",
      "name": "python",
      "nbconvert_exporter": "python",
      "pygments_lexer": "ipython3",
      "version": "3.11.0"
    }
  },
  "nbformat": 4,
  "nbformat_minor": 5
}
