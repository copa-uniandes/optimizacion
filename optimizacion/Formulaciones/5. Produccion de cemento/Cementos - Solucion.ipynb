{
 "cells": [
  {
   "cell_type": "markdown",
   "id": "specific-boulder",
   "metadata": {},
   "source": [
    "# Producción de cemento - Solución"
   ]
  },
  {
   "cell_type": "markdown",
   "id": "written-elephant",
   "metadata": {},
   "source": [
    "<b><i style=\"font-size:13px\">Tags: </i></b><i style=\"font-size:11px\">Inventario</i>"
   ]
  },
  {
   "cell_type": "code",
   "execution_count": 1,
   "id": "fe8c0d77",
   "metadata": {
    "tags": [
     "hide-input",
     "thebe-init"
    ]
   },
   "outputs": [],
   "source": [
    "import os\n",
    "# Por precaución, cambiamos el directorio activo de Python a aquel que contenga este notebook\n",
    "if \"optimizacion\" in os.listdir():\n",
    "    os.chdir(r\"optimizacion/Formulaciones/5. Produccion de cemento/\")"
   ]
  },
  {
   "cell_type": "markdown",
   "id": "annoying-circus",
   "metadata": {},
   "source": [
    "## Enunciado\n",
    "\n",
    "<!--  \n",
    "Conjuntos: $Conjunto$\n",
    "Indices: $indice \\in Conjunto$\n",
    "Parámetros/variables: $parametro_{ij}$\n",
    "Tablas: En HTML y los textos de elementos del conjunto en la parte izquierda con alineado a la izquierda. Además a cada tabla se le pone un nombre y su respectiva descripción.\n",
    "-->"
   ]
  },
  {
   "cell_type": "markdown",
   "id": "e964eb11",
   "metadata": {},
   "source": [
    "Artos S.A. es una empresa dedicada a la producción de cemento que cuenta con una única planta en la ciudad de Barranquilla. La empresa debe determinar la cantidad de toneladas de cemento a producir en cada una de las siguientes 12 semanas. Los costos de producción, costos de almacenamiento, así como la demanda y el precio por tonelada de cemento, varían semana a semana y se presentan en la siguiente tabla."
   ]
  },
  {
   "cell_type": "markdown",
   "id": "9a34ace1",
   "metadata": {},
   "source": [
    "<p style=\"text-align: center;\"><b>Tabla 1. Estructura de costos y precio</b></p>"
   ]
  },
  {
   "cell_type": "markdown",
   "id": "8f334b73",
   "metadata": {},
   "source": [
    "|Semana|Costo de producción \\[Miles de COP/ton\\]|Costo de almacenamiento \\[Miles de COP/ton\\]|Demanda \\[ton\\]|Precio \\[Miles de COP/ton\\]|\n",
    "|:---:|:---:|:---:|:---:|:---:|\n",
    "|1|172.8|6.9|95,000|432.0|\n",
    "|2|178.7|7.2|99,750|440.6|\n",
    "|3|174.6|8.0|104,738|449.5|\n",
    "|4|181.4|8.9|109,974|458.4|\n",
    "|5|183.0|9.0|109,974|467.6|\n",
    "|6|177.7|7.8|109,974|477.0|\n",
    "|7|182.8|6.7|120,972|486.5|\n",
    "|8|186.8|7.3|120,972|496.2|\n",
    "|9|181.8|7.8|108,875|506.2|\n",
    "|10|178.3|8.8|97,987|516.3|\n",
    "|11|173.4|9.2|78,390|526.6|\n",
    "|12|168.8|8.4|94,068|537.1|"
   ]
  },
  {
   "cell_type": "markdown",
   "id": "3e17fc26",
   "metadata": {},
   "source": [
    "Tenga en cuenta que, al inicio de la planeación, se cuenta con 12,000 toneladas de cemento y que, por especificaciones de la maquinaria, no se puede producir más de 110,000 toneladas ni menos de 85,000 toneladas en una semana cualquiera. El objetivo de Artos S.A. es maximizar su utilidad."
   ]
  },
  {
   "cell_type": "markdown",
   "id": "linear-shadow",
   "metadata": {},
   "source": [
    "## Formulación\n",
    "\n",
    "<!--  \n",
    "Enumeración alfabetica y en negrilla. En caso de que hayan subliterales, estos van identados, en negrilla y se utiliza \"i.\", \"ii.\", ... \n",
    "Ejemplo:\n",
    "**a.**\n",
    "    **i.**\n",
    "    **ii.**\n",
    "**b.**\n",
    "-->"
   ]
  },
  {
   "cell_type": "markdown",
   "id": "f08dc1b9",
   "metadata": {},
   "source": [
    "**a.** Formula matemáticamente un modelo de optimización de forma general que represente la\n",
    "situación anterior. Defina clara y rigurosamente:  \n",
    "- Conjuntos\n",
    "- Parámetros\n",
    "- Variables de decisión\n",
    "- Restricciones\n",
    "- Naturaleza de las variables\n",
    "- Función objetivo"
   ]
  },
  {
   "cell_type": "markdown",
   "id": "0a4eb25b",
   "metadata": {},
   "source": [
    "### Conjuntos"
   ]
  },
  {
   "cell_type": "markdown",
   "id": "8bccbebd",
   "metadata": {},
   "source": [
    "- $S$: Conjunto de semanas"
   ]
  },
  {
   "cell_type": "markdown",
   "id": "94533fe4",
   "metadata": {},
   "source": [
    "### Parámetros"
   ]
  },
  {
   "cell_type": "markdown",
   "id": "780d692a",
   "metadata": {},
   "source": [
    "- $d_{i}$: demanda de la semana $i\\in S$\n",
    "- $p_{i}$: precio por tonelada de cemento en la semana $i\\in S$\n",
    "- $c_i$: costo de producir una tonelada de cemento en la semana $i\\in S$\n",
    "- $h_i$: costo de almacenamiento de una tonelada de cemento en la semana $i\\in S$\n",
    "- $I_0$: inventario inicial de toneladas de cemento"
   ]
  },
  {
   "cell_type": "markdown",
   "id": "1fc79e7e",
   "metadata": {},
   "source": [
    "### Variables de decisión"
   ]
  },
  {
   "cell_type": "markdown",
   "id": "719fff8e",
   "metadata": {},
   "source": [
    "- $x_{i}$: toneladas de cemento a producir en la semana $i\\in S$\n",
    "- $I_i$: toneladas de cemento que se tienen en inventario al final de la semana $i\\in S$"
   ]
  },
  {
   "cell_type": "markdown",
   "id": "north-language",
   "metadata": {},
   "source": [
    "### Restricciones"
   ]
  },
  {
   "cell_type": "markdown",
   "id": "54b7fa3d",
   "metadata": {},
   "source": [
    "Se deben respetar los límites de producción:"
   ]
  },
  {
   "cell_type": "markdown",
   "id": "b721d512",
   "metadata": {},
   "source": [
    "$$\n",
    "\\begin{align*}\n",
    "x_i&\\leq 110000, &&\\forall i \\in S;\\\\\n",
    "x_i&\\geq 85000, &&\\forall i \\in S;\\\\\n",
    "\\end{align*}\n",
    "$$"
   ]
  },
  {
   "cell_type": "markdown",
   "id": "09c8b584",
   "metadata": {},
   "source": [
    "Restricción que contabiliza el inventario de cada semana:"
   ]
  },
  {
   "cell_type": "markdown",
   "id": "559a5af0",
   "metadata": {},
   "source": [
    "$$\n",
    "\\begin{align*}\n",
    "I_1&=I_0+x_1-d_1;\\\\\n",
    "I_i&=I_{i-1}+x_i-d_i,  &&\\forall i \\in S|i\\ge 1;\n",
    "\\end{align*}\n",
    "$$"
   ]
  },
  {
   "cell_type": "markdown",
   "id": "descending-testament",
   "metadata": {},
   "source": [
    "### Naturaleza de las Variables"
   ]
  },
  {
   "cell_type": "markdown",
   "id": "fb5a1ff6",
   "metadata": {},
   "source": [
    "Solo pueden producirse y almacenarse cantidades positivas de cemento:"
   ]
  },
  {
   "cell_type": "markdown",
   "id": "3ea0c7dd",
   "metadata": {},
   "source": [
    "$$\n",
    "\\begin{align*}\n",
    "x_i&\\geq 0,&&\\forall i \\in S;\\\\\n",
    "I_i&\\geq 0,&&\\forall i \\in S;\n",
    "\\end{align*}\n",
    "$$"
   ]
  },
  {
   "cell_type": "markdown",
   "id": "voluntary-couple",
   "metadata": {},
   "source": [
    "### Función objetivo"
   ]
  },
  {
   "cell_type": "markdown",
   "id": "4314bf81",
   "metadata": {},
   "source": [
    "Debe maximizarse la utilidad."
   ]
  },
  {
   "cell_type": "markdown",
   "id": "dbbcb746",
   "metadata": {},
   "source": [
    "$$\n",
    "    \\operatorname{máx}\\ \\sum_{i\\in S}p_{i}d_{i} - c_{i}x_{i} - h_{i}I_{i}.\n",
    "$$"
   ]
  },
  {
   "cell_type": "markdown",
   "id": "6c61e572",
   "metadata": {},
   "source": [
    "Ya que los ingresos no dependen de las variables de decisión, minimizar los costos es equivalente."
   ]
  },
  {
   "cell_type": "markdown",
   "id": "407952ec",
   "metadata": {},
   "source": [
    "$$\n",
    "    \\operatorname{mín}\\ \\sum_{i\\in S}c_{i}x_{i} + h_{i}I_{i}.\n",
    "$$"
   ]
  },
  {
   "cell_type": "markdown",
   "id": "geographic-header",
   "metadata": {},
   "source": [
    "## Implementación"
   ]
  },
  {
   "cell_type": "markdown",
   "id": "4725d708",
   "metadata": {},
   "source": [
    "**b.** Resuelve el modelo planteado utilizando la librería de PuLP en Python. ¿Cuál es la solución óptima del problema? "
   ]
  },
  {
   "cell_type": "markdown",
   "id": "2a1a82c3",
   "metadata": {},
   "source": [
    "### Librerías"
   ]
  },
  {
   "cell_type": "markdown",
   "id": "f597d592",
   "metadata": {},
   "source": [
    "Importa el módulo `matplotlib.pyplot` para crear gráficas y la librería `pulp` para crear y resolver el modelo."
   ]
  },
  {
   "cell_type": "code",
   "execution_count": 14,
   "id": "323a0476",
   "metadata": {},
   "outputs": [],
   "source": [
    "import matplotlib.pyplot as plt\n",
    "import pulp as lp"
   ]
  },
  {
   "cell_type": "markdown",
   "id": "837873b4",
   "metadata": {},
   "source": [
    "### Conjuntos"
   ]
  },
  {
   "cell_type": "markdown",
   "id": "48fddac0",
   "metadata": {},
   "source": [
    "Define el conjuntos `S` que representa las semanas del horizonte de planeación.\n",
    "\n",
    "Recuerda que por conveniencia de preservar el orden de los elementos de los conjuntos, no siempre deberás definirlos con el tipo `set`."
   ]
  },
  {
   "cell_type": "code",
   "execution_count": 3,
   "id": "d9209bb7",
   "metadata": {},
   "outputs": [],
   "source": [
    "# Semanas\n",
    "S = list(range(1, 13))"
   ]
  },
  {
   "cell_type": "markdown",
   "id": "8c58ff99",
   "metadata": {},
   "source": [
    "### Parámetros"
   ]
  },
  {
   "cell_type": "markdown",
   "id": "d981d80d",
   "metadata": {},
   "source": [
    "Define o importa los parámetros del modelo."
   ]
  },
  {
   "cell_type": "code",
   "execution_count": 4,
   "id": "16df6fb4",
   "metadata": {},
   "outputs": [],
   "source": [
    "# Costo de producción por tonelada en la semana i in S\n",
    "c = {\n",
    "    1: 172.8,\n",
    "    2: 178.7,\n",
    "    3: 174.6,\n",
    "    4: 181.4,\n",
    "    5: 183.0,\n",
    "    6: 177.7,\n",
    "    7: 182.8,\n",
    "    8: 186.8,\n",
    "    9: 181.8,\n",
    "    10: 178.3,\n",
    "    11: 173.4,\n",
    "    12: 168.8,\n",
    "}\n",
    "\n",
    "# Costo de almacenamiento por tonelada en la semana i in S\n",
    "h = {\n",
    "    1: 6.9,\n",
    "    2: 7.2,\n",
    "    3: 8.0,\n",
    "    4: 8.9,\n",
    "    5: 9.0,\n",
    "    6: 7.8,\n",
    "    7: 6.7,\n",
    "    8: 7.3,\n",
    "    9: 7.8,\n",
    "    10: 8.8,\n",
    "    11: 9.2,\n",
    "    12: 8.4,\n",
    "}\n",
    "\n",
    "# Demanda de la semana i in S\n",
    "d = {\n",
    "    1: 95000,\n",
    "    2: 99750,\n",
    "    3: 104738,\n",
    "    4: 109974,\n",
    "    5: 109974,\n",
    "    6: 109974,\n",
    "    7: 120972,\n",
    "    8: 120972,\n",
    "    9: 108875,\n",
    "    10: 97987,\n",
    "    11: 78390,\n",
    "    12: 94068,\n",
    "}\n",
    "\n",
    "# Precio por tonelada en la semana i in S\n",
    "p = {\n",
    "    1: 432.0,\n",
    "    2: 440.6,\n",
    "    3: 449.5,\n",
    "    4: 458.4,\n",
    "    5: 467.6,\n",
    "    6: 477.0,\n",
    "    7: 486.5,\n",
    "    8: 496.2,\n",
    "    9: 506.2,\n",
    "    10: 516.3,\n",
    "    11: 526.6,\n",
    "    12: 537.1,\n",
    "}\n",
    "\n",
    "# Inventario inicial de toneladas de cemento\n",
    "I0 = 12000"
   ]
  },
  {
   "cell_type": "markdown",
   "id": "70fd6598",
   "metadata": {},
   "source": [
    "### Objeto del modelo"
   ]
  },
  {
   "cell_type": "markdown",
   "id": "aa975e80",
   "metadata": {},
   "source": [
    "Construye un problema al que luego agregarás las restricciones y la función objetivo."
   ]
  },
  {
   "cell_type": "code",
   "execution_count": 5,
   "id": "a1501b81",
   "metadata": {},
   "outputs": [],
   "source": [
    "problema = lp.LpProblem(name=\"inventarios\", sense=lp.LpMaximize)"
   ]
  },
  {
   "cell_type": "markdown",
   "id": "970af788",
   "metadata": {},
   "source": [
    "### Variables de decisión"
   ]
  },
  {
   "cell_type": "markdown",
   "id": "1e670ec8",
   "metadata": {},
   "source": [
    "Define las variables del problema de manera que estén contenidas en diccionarios indexados en los conjuntos de sus variables respectivas."
   ]
  },
  {
   "cell_type": "code",
   "execution_count": 6,
   "id": "e1febe93",
   "metadata": {},
   "outputs": [],
   "source": [
    "# Toneladas de cemento a producir en cada semana\n",
    "x = {\n",
    "    i: lp.LpVariable(\n",
    "        name=f\"produccion_{i}\", lowBound=0, upBound=None, cat=lp.LpContinuous\n",
    "    )\n",
    "    for i in S\n",
    "}\n",
    "\n",
    "# Toneladas de cemento en inventario al final de cada semana\n",
    "I = {\n",
    "    i: lp.LpVariable(\n",
    "        name=f\"inventario_{i}\", lowBound=0, upBound=None, cat=lp.LpContinuous\n",
    "    )\n",
    "    for i in S\n",
    "}"
   ]
  },
  {
   "cell_type": "markdown",
   "id": "f843462c",
   "metadata": {},
   "source": [
    "### Función objetivo"
   ]
  },
  {
   "cell_type": "markdown",
   "id": "97df9059",
   "metadata": {},
   "source": [
    "Agrega al problema la función objetivo. Recuerda que al definir el problema, ya definiste si este es de maximización o minimización."
   ]
  },
  {
   "cell_type": "code",
   "execution_count": 7,
   "id": "2fd8a365",
   "metadata": {},
   "outputs": [],
   "source": [
    "problema += (\n",
    "    sum(d[i] * p[i] - x[i] * c[i] - I[i] * h[i] for i in S),\n",
    "    \"utilidad_total\",\n",
    ")"
   ]
  },
  {
   "cell_type": "markdown",
   "id": "89f524db",
   "metadata": {},
   "source": [
    "### Restricciones"
   ]
  },
  {
   "cell_type": "markdown",
   "id": "77e7e409",
   "metadata": {},
   "source": [
    "Agrega al problema las restricciones del modelo."
   ]
  },
  {
   "cell_type": "code",
   "execution_count": 8,
   "id": "f986d5ee",
   "metadata": {},
   "outputs": [],
   "source": [
    "# Se garantiza que se respeten los limites de producción\n",
    "for i in S:\n",
    "    problema += x[i] <= 110000, f\"produccion_max_{i}\"\n",
    "    problema += x[i] >= 85000, f\"produccin_min_{i}\"\n",
    "\n",
    "# Contabilizar los inventarios de cada semana\n",
    "problema += I[1] == I0 + x[1] - d[1], \"inventario_semana_1\"\n",
    "for i in S:\n",
    "    if i > 1:\n",
    "        problema += I[i] == I[i - 1] + x[i] - d[i], f\"inventario_semana_{i}\""
   ]
  },
  {
   "cell_type": "markdown",
   "id": "265a2a10",
   "metadata": {},
   "source": [
    "### Resolver el problema"
   ]
  },
  {
   "cell_type": "markdown",
   "id": "d7661201",
   "metadata": {},
   "source": [
    "Invoca el optimizador. Este paso le asigna un valor a las variables incluidas en las restricciones o función objetivo del modelo."
   ]
  },
  {
   "cell_type": "code",
   "execution_count": 9,
   "id": "ae811704",
   "metadata": {},
   "outputs": [
    {
     "name": "stdout",
     "output_type": "stream",
     "text": [
      "Welcome to the CBC MILP Solver \n",
      "Version: 2.10.8 \n",
      "Build Date: May  6 2022 \n",
      "\n",
      "command line - cbc /tmp/a2923ffd22404ecf825033030c2b7b98-pulp.mps max timeMode elapsed branch printingOptions all solution /tmp/a2923ffd22404ecf825033030c2b7b98-pulp.sol (default strategy 1)\n",
      "At line 2 NAME          MODEL\n",
      "At line 3 ROWS\n",
      "At line 41 COLUMNS\n",
      "At line 125 RHS\n",
      "At line 162 BOUNDS\n",
      "At line 163 ENDATA\n",
      "Problem MODEL has 36 rows, 24 columns and 59 elements\n",
      "Coin0008I MODEL read with 0 errors\n",
      "Option for timeMode changed from cpu to elapsed\n",
      "Presolve 4 (-32) rows, 16 (-8) columns and 19 (-40) elements\n",
      "0  Obj -1.8735107e+08 Primal inf 180613.97 (4)\n",
      "4  Obj -2.2239275e+08\n",
      "Optimal - objective value -2.2239275e+08\n",
      "After Postsolve, objective -2.2239275e+08, infeasibilities - dual 0 (0), primal 0 (0)\n",
      "Optimal objective -222392746.5 - 4 iterations time 0.002, Presolve 0.00\n",
      "Option for printingOptions changed from normal to all\n",
      "Total time (CPU seconds):       0.00   (Wallclock seconds):       0.00\n",
      "\n"
     ]
    },
    {
     "data": {
      "text/plain": [
       "1"
      ]
     },
     "execution_count": 9,
     "metadata": {},
     "output_type": "execute_result"
    }
   ],
   "source": [
    "problema.solve()"
   ]
  },
  {
   "cell_type": "markdown",
   "id": "655b238a",
   "metadata": {},
   "source": [
    "### Imprimir resultados"
   ]
  },
  {
   "cell_type": "markdown",
   "id": "8a7a8a35",
   "metadata": {},
   "source": [
    "Antes de estudiar el óptimo del modelo, identifica en el estado del optimizador si pudo resolver el problema."
   ]
  },
  {
   "cell_type": "code",
   "execution_count": 10,
   "id": "whole-trust",
   "metadata": {},
   "outputs": [
    {
     "data": {
      "text/plain": [
       "'Estado del optimizador: Optimal'"
      ]
     },
     "execution_count": 10,
     "metadata": {},
     "output_type": "execute_result"
    }
   ],
   "source": [
    "f\"Estado del optimizador: {lp.LpStatus[problema.status]}\""
   ]
  },
  {
   "cell_type": "markdown",
   "id": "ea6fe01e",
   "metadata": {},
   "source": [
    "Identifica también el valor de la función objetivo."
   ]
  },
  {
   "cell_type": "code",
   "execution_count": 11,
   "id": "11b75d2c",
   "metadata": {},
   "outputs": [
    {
     "data": {
      "text/plain": [
       "'Utilidad total: 380356850.79999995'"
      ]
     },
     "execution_count": 11,
     "metadata": {},
     "output_type": "execute_result"
    }
   ],
   "source": [
    "f\"Utilidad total: {lp.value(problema.objective)}\""
   ]
  },
  {
   "cell_type": "markdown",
   "id": "6e59d608",
   "metadata": {},
   "source": [
    "Por último, imprime de manera estructurada el valor de las variables de decisión y otras expresiones de interés."
   ]
  },
  {
   "cell_type": "code",
   "execution_count": 12,
   "id": "ad53e1be",
   "metadata": {},
   "outputs": [
    {
     "name": "stdout",
     "output_type": "stream",
     "text": [
      "Semana\tProducción (ton)\tInventario (ton)\n",
      "1\t 89354.00\t 6354.00\n",
      "2\t 110000.00\t 16604.00\n",
      "3\t 110000.00\t 21866.00\n",
      "4\t 110000.00\t 21892.00\n",
      "5\t 110000.00\t 21918.00\n",
      "6\t 110000.00\t 21944.00\n",
      "7\t 110000.00\t 10972.00\n",
      "8\t 110000.00\t 0.00\n",
      "9\t 108875.00\t 0.00\n",
      "10\t 97987.00\t 0.00\n",
      "11\t 85000.00\t 6610.00\n",
      "12\t 87458.00\t 0.00\n"
     ]
    }
   ],
   "source": [
    "print(\"Semana\", \"Producción (ton)\", \"Inventario (ton)\", sep=\"\\t\")\n",
    "for i in S:\n",
    "    print(i, f\"{lp.value(x[i]): .2f}\", f\"{lp.value(I[i]): .2f}\", sep=\"\\t\")"
   ]
  },
  {
   "cell_type": "markdown",
   "id": "1b31089f",
   "metadata": {},
   "source": [
    "### Visualizar resultados"
   ]
  },
  {
   "cell_type": "markdown",
   "id": "e226634c",
   "metadata": {},
   "source": [
    "Ahora que conoces el valor de las variables de decisión, desarrolla las siguientes visualizaciones del resultado."
   ]
  },
  {
   "cell_type": "markdown",
   "id": "eb0ffde9",
   "metadata": {},
   "source": [
    "Desarrolla una gráfica que ilustre el nivel de inventario final a lo largo del horizonte de planeación."
   ]
  },
  {
   "cell_type": "code",
   "execution_count": 19,
   "id": "0701b3f5",
   "metadata": {},
   "outputs": [
    {
     "data": {
      "text/plain": [
       "[]"
      ]
     },
     "execution_count": 19,
     "metadata": {},
     "output_type": "execute_result"
    },
    {
     "data": {
      "image/png": "[encoded data removed]",
      "text/plain": [
       "<Figure size 1500x800 with 1 Axes>"
      ]
     },
     "metadata": {},
     "output_type": "display_data"
    }
   ],
   "source": [
    "# Listas de producción, inventario final e inventario inicial de cada semana\n",
    "Prod = [lp.value(x[i]) for i in S]\n",
    "Inv_F = [lp.value(I[i]) for i in S]\n",
    "Inv_I = [I0] + Inv_F[:-1]\n",
    "\n",
    "# Gráfica inventario final de cada semana\n",
    "fig2, ax3 = plt.subplots(figsize=(15, 8))\n",
    "\n",
    "# Añadir barras a la gráfica\n",
    "rects2 = ax3.bar(S, Inv_F, width=0.6, tick_label=S, color=\"orange\")\n",
    "\n",
    "# Etiquetar cada barra con toneladas de cemento en inventario\n",
    "for rect in rects2:\n",
    "    height = rect.get_height()\n",
    "    ax3.text(\n",
    "        rect.get_x() + rect.get_width() / 2.0,\n",
    "        1.05 * height,\n",
    "        \"%d\" % int(height),\n",
    "        ha=\"center\",\n",
    "        va=\"bottom\",\n",
    "    )\n",
    "\n",
    "# Título de la gráfica\n",
    "ax3.set_title(\"Inventario de cemento al final de cada semana\")\n",
    "\n",
    "# Etiqueta eje x\n",
    "ax3.set_xlabel(\"Semana\")\n",
    "\n",
    "# Etiqueta eje y\n",
    "ax3.set_ylabel(\"Toneladas de cemento\")\n",
    "\n",
    "# Rango eje y\n",
    "ax3.set_ylim([0, 25000])\n",
    "\n",
    "# Remover dígitos del eje y\n",
    "ax3.set_yticks([])"
   ]
  },
  {
   "cell_type": "markdown",
   "id": "1cdeb9d2",
   "metadata": {},
   "source": [
    "Desarrolla una gráfica que ilustre el nivel de producción a lo largo del horizonte de planeación."
   ]
  },
  {
   "cell_type": "code",
   "execution_count": 17,
   "id": "9bb01636",
   "metadata": {},
   "outputs": [
    {
     "data": {
      "text/plain": [
       "[]"
      ]
     },
     "execution_count": 17,
     "metadata": {},
     "output_type": "execute_result"
    },
    {
     "data": {
      "image/png": "[encoded data removed]",
      "text/plain": [
       "<Figure size 1500x800 with 1 Axes>"
      ]
     },
     "metadata": {},
     "output_type": "display_data"
    }
   ],
   "source": [
    "# Gráfica del plan de producción\n",
    "fig1, ax2 = plt.subplots(figsize=(15, 8))\n",
    "\n",
    "# Añadir barras a la gráfica\n",
    "rects1 = ax2.bar(S, Prod, width=0.6, tick_label=S)\n",
    "\n",
    "# Añadir los labels a cada barra con las toneladas de cemento producidas\n",
    "for rect in rects1:\n",
    "    height = rect.get_height()\n",
    "    ax2.text(\n",
    "        rect.get_x() + rect.get_width() / 2.0,\n",
    "        1.05 * height,\n",
    "        \"%d\" % int(height),\n",
    "        ha=\"center\",\n",
    "        va=\"bottom\",\n",
    "    )\n",
    "\n",
    "# Añadir el titulo de la gráfica\n",
    "ax2.set_title(\"Producción de cemento en cada semana\")\n",
    "\n",
    "# Etiqueta eje x\n",
    "ax2.set_xlabel(\"Semana\")\n",
    "\n",
    "# Etiqueta eje y\n",
    "ax2.set_ylabel(\"Toneladas de cemento\")\n",
    "\n",
    "# Rango eje y\n",
    "ax2.set_ylim([0, 150000])\n",
    "\n",
    "# Remover dígitos del eje y\n",
    "ax2.set_yticks([])"
   ]
  },
  {
   "cell_type": "markdown",
   "id": "8f832f83",
   "metadata": {},
   "source": [
    "Desarrolla una gráfica que ilustre el nivel de inventario inicial, la producción y la demanda a lo largo del horizonte de planeación."
   ]
  },
  {
   "cell_type": "code",
   "execution_count": 16,
   "id": "727798d1",
   "metadata": {},
   "outputs": [
    {
     "data": {
      "text/plain": [
       "<matplotlib.legend.Legend at 0x7fcab3fdb450>"
      ]
     },
     "execution_count": 16,
     "metadata": {},
     "output_type": "execute_result"
    },
    {
     "data": {
      "image/png": "[encoded data removed]",
      "text/plain": [
       "<Figure size 1500x800 with 1 Axes>"
      ]
     },
     "metadata": {},
     "output_type": "display_data"
    }
   ],
   "source": [
    "# Gráfica del plan de producción, demanda e inventario al inicio de cada semana\n",
    "fig3, ax1 = plt.subplots(figsize=(15, 8))\n",
    "\n",
    "# Añadir las barras de producción a la gráfica\n",
    "p1 = ax1.bar(S, Prod, width=0.6, tick_label=S)\n",
    "\n",
    "# Añadir las barras de inventario inicial a la gráfica\n",
    "p2 = ax1.bar(S, Inv_I, bottom=Prod, width=0.6, tick_label=S)\n",
    "\n",
    "# Añadir una línea a la gráfica que represente la demanda\n",
    "l1 = ax1.plot(S, d.values(), color=\"black\")\n",
    "\n",
    "# Rellenae el área bajo la curva de demanda\n",
    "ax1.fill_between(S, d.values(), color=\"black\", alpha=0.1)\n",
    "\n",
    "# Título de la gráfica\n",
    "ax1.set_title(\"Plan de producción\")\n",
    "\n",
    "# Etiqueta eje x\n",
    "ax1.set_xlabel(\"Semana\")\n",
    "\n",
    "# Etiqueta eje y\n",
    "ax1.set_ylabel(\"Toneladas de cemento\")\n",
    "\n",
    "# Rango eje y\n",
    "ax1.set_ylim([0, 150000])\n",
    "\n",
    "# Etiquetas de cada componente de la gráfica\n",
    "ax1.legend((l1[0], p1[0], p2[0]), (\"Demanda\", \"Producción\", \"Inventario Inicial\"))\n"
   ]
  },
  {
   "cell_type": "markdown",
   "id": "05ad4e75",
   "metadata": {},
   "source": [
    "## Créditos"
   ]
  },
  {
   "cell_type": "markdown",
   "id": "hired-insulation",
   "metadata": {},
   "source": [
    "Equipo Principios de Optimización<br>\n",
    "Autores: Camilo Aguilar, Juan Felipe Rengifo<br>\n",
    "Desarrollo: Camilo Aguilar, Juan Felipe Rengifo, Alejandro Mantilla<br>\n",
    "Última fecha de modificación: 07/04/2023"
   ]
  }
 ],
 "metadata": {
  "kernelspec": {
   "display_name": "Python 3 (ipykernel)",
   "language": "python",
   "name": "python3"
  },
  "language_info": {
   "codemirror_mode": {
    "name": "ipython",
    "version": 3
   },
   "file_extension": ".py",
   "mimetype": "text/x-python",
   "name": "python",
   "nbconvert_exporter": "python",
   "pygments_lexer": "ipython3",
   "version": "3.11.0"
  }
 },
 "nbformat": 4,
 "nbformat_minor": 5
}
