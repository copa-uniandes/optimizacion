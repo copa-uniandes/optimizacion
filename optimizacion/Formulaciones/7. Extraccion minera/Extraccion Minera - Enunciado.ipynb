{
 "cells": [
  {
   "cell_type": "markdown",
   "id": "specific-boulder",
   "metadata": {},
   "source": [
    "# Extracción minera"
   ]
  },
  {
   "cell_type": "markdown",
   "id": "written-elephant",
   "metadata": {},
   "source": [
    "<b><i style=\"font-size:13px\">Tags: </i></b><i style=\"font-size:11px\">Parámetro binario, Mezcla, Recurso</i>"
   ]
  },
  {
   "cell_type": "code",
   "execution_count": 1,
   "id": "fe8c0d77",
   "metadata": {
    "tags": [
     "hide-input",
     "thebe-init"
    ]
   },
   "outputs": [],
   "source": [
    "import os\n",
    "# Por precaución, cambiamos el directorio activo de Python a aquel que contenga este notebook\n",
    "if \"optimizacion\" in os.listdir():\n",
    "    os.chdir(r\"optimizacion/Formulaciones/7. Extraccion minera/\")"
   ]
  },
  {
   "cell_type": "markdown",
   "id": "annoying-circus",
   "metadata": {},
   "source": [
    "## Enunciado\n",
    "\n",
    "<!--  \n",
    "Conjuntos: $Conjunto$\n",
    "Indices: $indice \\in Conjunto$\n",
    "Parámetros/variables: $parametro_{ij}$\n",
    "Tablas: En HTML y los textos de elementos del conjunto en la parte izquierda con alineado a la izquierda. Además a cada tabla se le pone un nombre y su respectiva descripción.\n",
    "-->"
   ]
  },
  {
   "cell_type": "markdown",
   "id": "364de178",
   "metadata": {},
   "source": [
    "La minería de cielo abierto es una actividad industrial que consiste en remover grandes cantidades de suelo para extraer el mineral deseado. Este tipo de minas son comunes en la extracción de materiales como: arena, arcilla, cobre y carbón. Las directivas de una empresa de extracción minera desean explotar un conjunto de zonas ($M$), de las cuales se puede extraer un conjunto de diferentes tipos de carbón ($K:\\{1$: Antracita, $2$: Hulla, $3$: Turba, $4$: Lignito$\\})$. Se sabe que de la zona $i\\in M$ sólo puede extraerse el carbón tipo $j\\in K$. Para ello, suponga que $a_{ij}$ es un parámetro binario que toma el valor de 1 si en la zona $i\\in M$ se puede extraer carbón del tipo $j\\in K$ y 0 en el caso contrario. La Figura 1 presenta un ejemplo en el cual hay 36 zonas y 4 tipos de carbón. Por ejemplo, para la zona uno se tiene que $a_{11}=0$, $a_{12}=1$, $a_{13}=0$ y $a_{14}=0$ ya que de la zona 1 sólo puede extraerse el tipo de carbón 2 (hulla)."
   ]
  },
  {
   "cell_type": "markdown",
   "id": "bb8b1f24",
   "metadata": {},
   "source": [
    "$$\n",
    "\\bbox[5px, border:2px solid black]{\n",
    "\\begin{array} {cccccc}\n",
    "    \\bbox[SkyBlue, 5px, border:2px solid SkyBlue]{\\ 1\\ } & \\bbox[SkyBlue, 5px, border:2px solid SkyBlue]{\\ 2\\ } & \\bbox[PaleGreen, 5px, border:2px solid PaleGreen]{\\ 3\\ } & \\bbox[PaleGreen, 5px, border:2px solid PaleGreen]{\\ 4\\ } & \\bbox[SkyBlue, 5px, border:2px solid SkyBlue]{\\ 5\\ } & \\bbox[PaleGreen, 5px, border:2px solid PaleGreen]{\\ 6\\ } \\\\\n",
    "    \\bbox[SkyBlue, 5px, border:2px solid SkyBlue]{\\ 7\\ } & \\bbox[SkyBlue, 5px, border:2px solid SkyBlue]{\\ 8\\ } & \\bbox[Plum, 5px, border:2px solid Plum]{\\ 9\\ } & \\bbox[Plum, 5px, border:2px solid Plum]{10} & \\bbox[SkyBlue, 5px, border:2px solid SkyBlue]{11} & \\bbox[PaleGreen, 5px, border:2px solid PaleGreen]{12} \\\\\n",
    "    \\bbox[Plum, 5px, border:2px solid Plum]{13} & \\bbox[PaleGreen, 5px, border:2px solid PaleGreen]{14} & \\bbox[PaleGreen, 5px, border:2px solid PaleGreen]{15} & \\bbox[SkyBlue, 5px, border:2px solid SkyBlue]{16} & \\bbox[SkyBlue, 5px, border:2px solid SkyBlue]{17} & \\bbox[PaleGreen, 5px, border:2px solid PaleGreen]{18} \\\\\n",
    "    \\bbox[Plum, 5px, border:2px solid Plum]{19} & \\bbox[LightGoldenRodYellow, 5px, border:2px solid LightGoldenRodYellow]{20} & \\bbox[PaleGreen, 5px, border:2px solid PaleGreen]{21} & \\bbox[Plum, 5px, border:2px solid Plum]{22} & \\bbox[Plum, 5px, border:2px solid Plum]{23} & \\bbox[Plum, 5px, border:2px solid Plum]{24} \\\\\n",
    "    \\bbox[Plum, 5px, border:2px solid Plum]{25} & \\bbox[PaleGreen, 5px, border:2px solid PaleGreen]{26} & \\bbox[PaleGreen, 5px, border:2px solid PaleGreen]{27} & \\bbox[LightGoldenRodYellow, 5px, border:2px solid LightGoldenRodYellow]{28} & \\bbox[LightGoldenRodYellow, 5px, border:2px solid LightGoldenRodYellow]{29} & \\bbox[LightGoldenRodYellow, 5px, border:2px solid LightGoldenRodYellow]{30} \\\\\n",
    "    \\bbox[SkyBlue, 5px, border:2px solid SkyBlue]{31} & \\bbox[PaleGreen, 5px, border:2px solid PaleGreen]{32} & \\bbox[SkyBlue, 5px, border:2px solid SkyBlue]{33} & \\bbox[Plum, 5px, border:2px solid Plum]{34} & \\bbox[LightGoldenRodYellow, 5px, border:2px solid LightGoldenRodYellow]{35} & \\bbox[Plum, 5px, border:2px solid Plum]{36} \\\\\n",
    "\\end{array}\n",
    "}\n",
    "$$"
   ]
  },
  {
   "cell_type": "markdown",
   "id": "06af9a5a",
   "metadata": {},
   "source": [
    "$$\n",
    "\\bbox[5px, border:2px solid black]{\n",
    "\\begin{array} {cccc}\n",
    "    \\bbox[Plum, 5px, border:2px solid Plum]{\\ \\text{1: Antracita}\\ } & \\bbox[SkyBlue, 5px, border:2px solid SkyBlue]{\\ \\text{2: Hulla}\\ } & \\bbox[PaleGreen, 5px, border:2px solid PaleGreen]{\\ \\text{3: Turba}\\ } & \\bbox[LightGoldenRodYellow, 5px, border:2px solid LightGoldenRodYellow]{\\ \\text{4: Lignito}\\ }\n",
    "\\end{array}\n",
    "}\n",
    "$$"
   ]
  },
  {
   "cell_type": "markdown",
   "id": "10c9a8ce",
   "metadata": {},
   "source": [
    "Cada tonelada de carbón extraída de la zona $i\\in M$ le cuesta a la empresa $c_i$ pesos.  Adicionalmente, cada zona tiene una capacidad máxima de extracción de carbón de $n_i$ toneladas. La Tabla 1 muestra la información de capacidades máximas y costos para cada zona."
   ]
  },
  {
   "cell_type": "markdown",
   "id": "7840665a",
   "metadata": {},
   "source": [
    "<p style=\"text-align: center;\"><b>Tabla 1. Información de extracción de cada zona</b></p>"
   ]
  },
  {
   "cell_type": "markdown",
   "id": "7cca91ae",
   "metadata": {},
   "source": [
    "|Zona|Capacidad máxima de extracción de carbón (ton)|Costo por tonelada de carbón extraído ($)|\n",
    "|:--:|:--------------------------------------------:|:--------------------------------------:|\n",
    "|1|189|16|\n",
    "|2|196|6|\n",
    "|3|143|11|\n",
    "|4|136|8|\n",
    "|5|106|5|\n",
    "|6|151|25|\n",
    "|7|170|16|\n",
    "|8|129|17|\n",
    "|9|184|25|\n",
    "|10|122|8|\n",
    "|11|146|15|\n",
    "|12|190|8|\n",
    "|13|160|10|\n",
    "|14|109|20|\n",
    "|15|133|6|\n",
    "|16|198|17|\n",
    "|17|138|6|\n",
    "|18|107|20|\n",
    "|19|117|5|\n",
    "|20|150|8|\n",
    "|21|171|25|\n",
    "|22|103|11|\n",
    "|23|157|8|\n",
    "|24|143|7|\n",
    "|25|170|7|\n",
    "|26|130|28|\n",
    "|27|140|26|\n",
    "|28|126|27|\n",
    "|29|180|9|\n",
    "|30|153|24|\n",
    "|31|108|15|\n",
    "|32|132|14|\n",
    "|33|105|22|\n",
    "|34|145|20|\n",
    "|35|145|19|\n",
    "|36|114|8|"
   ]
  },
  {
   "cell_type": "markdown",
   "id": "c5cc2303",
   "metadata": {},
   "source": [
    "Por último. Supon que las directivas desean explotar un mínimo de $b_j$ toneladas de cada tipo de carbón $j\\in K$. La Tabla 2 presenta dichas cantidades."
   ]
  },
  {
   "cell_type": "markdown",
   "id": "1cf110d2",
   "metadata": {},
   "source": [
    "<p style=\"text-align: center;\"><b>Tabla 2. Requerimiento mínimo de cada tipo de carbón</b></p>"
   ]
  },
  {
   "cell_type": "markdown",
   "id": "e838e320",
   "metadata": {},
   "source": [
    "|Tipo de carbón|Mínimo de toneladas a explotar|\n",
    "|:------------:|:----------------------------:|\n",
    "|Antracita|862|\n",
    "|Huila|898|\n",
    "|Turba|562|\n",
    "|Lignito|742|"
   ]
  },
  {
   "cell_type": "markdown",
   "id": "4019aa1e",
   "metadata": {},
   "source": [
    "Formula un programa lineal que le permita a la empresa decidir cuánto deben extraer en cada zona de manera que se cumplan los requerimientos a un mínimo costo."
   ]
  },
  {
   "cell_type": "markdown",
   "id": "linear-shadow",
   "metadata": {},
   "source": [
    "## Formulación\n",
    "\n",
    "<!--  \n",
    "Enumeración alfabetica y en negrilla. En caso de que hayan subliterales, estos van identados, en negrilla y se utiliza \"i.\", \"ii.\", ... \n",
    "Ejemplo:\n",
    "**a.**\n",
    "    **i.**\n",
    "    **ii.**\n",
    "**b.**\n",
    "-->"
   ]
  },
  {
   "cell_type": "markdown",
   "id": "f08dc1b9",
   "metadata": {},
   "source": [
    "**a.** Formula matemáticamente un modelo de optimización de forma general que represente la\n",
    "situación anterior. Defina clara y rigurosamente:  \n",
    "- Conjuntos\n",
    "- Parámetros\n",
    "- Variables de decisión\n",
    "- Restricciones\n",
    "- Naturaleza de las variables\n",
    "- Función objetivo"
   ]
  },
  {
   "cell_type": "markdown",
   "id": "geographic-header",
   "metadata": {},
   "source": [
    "## Implementación"
   ]
  },
  {
   "cell_type": "markdown",
   "id": "4725d708",
   "metadata": {},
   "source": [
    "**b.** Resuelve el modelo planteado utilizando la librería de PuLP en Python. ¿Cuál es la solución óptima del problema? "
   ]
  },
  {
   "cell_type": "markdown",
   "id": "2a1a82c3",
   "metadata": {},
   "source": [
    "### Librerías"
   ]
  },
  {
   "cell_type": "markdown",
   "id": "f597d592",
   "metadata": {},
   "source": [
    "Importa la librería `pulp` para crear y resolver el modelo."
   ]
  },
  {
   "cell_type": "code",
   "execution_count": 2,
   "id": "323a0476",
   "metadata": {},
   "outputs": [],
   "source": [
    "# Escribe en esta celda tu código.\n"
   ]
  },
  {
   "cell_type": "markdown",
   "id": "837873b4",
   "metadata": {},
   "source": [
    "### Conjuntos"
   ]
  },
  {
   "cell_type": "markdown",
   "id": "48fddac0",
   "metadata": {},
   "source": [
    "Define los conjuntos `M` y `K` que representan las zonas y los tipos de carbón respectivamente.\n",
    "\n",
    "Recuerda que por conveniencia de preservar el orden de los elementos de los conjuntos, no siempre deberás definirlos con el tipo `set`."
   ]
  },
  {
   "cell_type": "code",
   "execution_count": 3,
   "id": "d9209bb7",
   "metadata": {},
   "outputs": [],
   "source": [
    "# Zonas\n",
    "M = list(range(1, 37))\n",
    "\n",
    "# Tipos de carbón\n",
    "K = [\"Antracita\", \"Hulla\", \"Turba\", \"Lignito\"]"
   ]
  },
  {
   "cell_type": "markdown",
   "id": "8c58ff99",
   "metadata": {},
   "source": [
    "### Parámetros"
   ]
  },
  {
   "cell_type": "markdown",
   "id": "d981d80d",
   "metadata": {},
   "source": [
    "Define o importa los parámetros del modelo."
   ]
  },
  {
   "cell_type": "code",
   "execution_count": 4,
   "id": "16df6fb4",
   "metadata": {},
   "outputs": [],
   "source": [
    "# Si en la zona i en M se puede extraer carbón tipo j en K\n",
    "a = {\n",
    "    (1, \"Hulla\"): 1,\n",
    "    (2, \"Hulla\"): 1,\n",
    "    (3, \"Turba\"): 1,\n",
    "    (4, \"Turba\"): 1,\n",
    "    (5, \"Hulla\"): 1,\n",
    "    (6, \"Turba\"): 1,\n",
    "    (7, \"Hulla\"): 1,\n",
    "    (8, \"Hulla\"): 1,\n",
    "    (9, \"Antracita\"): 1,\n",
    "    (10, \"Antracita\"): 1,\n",
    "    (11, \"Hulla\"): 1,\n",
    "    (12, \"Turba\"): 1,\n",
    "    (13, \"Antracita\"): 1,\n",
    "    (14, \"Turba\"): 1,\n",
    "    (15, \"Turba\"): 1,\n",
    "    (16, \"Hulla\"): 1,\n",
    "    (17, \"Hulla\"): 1,\n",
    "    (18, \"Turba\"): 1,\n",
    "    (19, \"Antracita\"): 1,\n",
    "    (20, \"Lignito\"): 1,\n",
    "    (21, \"Turba\"): 1,\n",
    "    (22, \"Antracita\"): 1,\n",
    "    (23, \"Antracita\"): 1,\n",
    "    (24, \"Antracita\"): 1,\n",
    "    (25, \"Antracita\"): 1,\n",
    "    (26, \"Turba\"): 1,\n",
    "    (27, \"Turba\"): 1,\n",
    "    (28, \"Lignito\"): 1,\n",
    "    (29, \"Lignito\"): 1,\n",
    "    (30, \"Lignito\"): 1,\n",
    "    (31, \"Hulla\"): 1,\n",
    "    (32, \"Turba\"): 1,\n",
    "    (33, \"Hulla\"): 1,\n",
    "    (34, \"Antracita\"): 1,\n",
    "    (35, \"Lignito\"): 1,\n",
    "    (36, \"Antracita\"): 1,\n",
    "}\n",
    "\n",
    "for i in M:\n",
    "    for j in K:\n",
    "        if (i, j) not in a:\n",
    "            a[i, j] = 0\n",
    "\n",
    "# Costo por tonelada de carbón en la zona i en M\n",
    "c = {\n",
    "    1: 16,\n",
    "    2: 6,\n",
    "    3: 11,\n",
    "    4: 8,\n",
    "    5: 5,\n",
    "    6: 25,\n",
    "    7: 16,\n",
    "    8: 17,\n",
    "    9: 25,\n",
    "    10: 8,\n",
    "    11: 15,\n",
    "    12: 8,\n",
    "    13: 10,\n",
    "    14: 20,\n",
    "    15: 6,\n",
    "    16: 17,\n",
    "    17: 6,\n",
    "    18: 20,\n",
    "    19: 5,\n",
    "    20: 8,\n",
    "    21: 25,\n",
    "    22: 11,\n",
    "    23: 8,\n",
    "    24: 7,\n",
    "    25: 7,\n",
    "    26: 28,\n",
    "    27: 26,\n",
    "    28: 27,\n",
    "    29: 9,\n",
    "    30: 24,\n",
    "    31: 15,\n",
    "    32: 14,\n",
    "    33: 22,\n",
    "    34: 20,\n",
    "    35: 19,\n",
    "    36: 8,\n",
    "}\n",
    "\n",
    "# Máximas toneladas a extraer de la zona i en M\n",
    "n = {\n",
    "    1: 189,\n",
    "    2: 196,\n",
    "    3: 143,\n",
    "    4: 136,\n",
    "    5: 106,\n",
    "    6: 151,\n",
    "    7: 170,\n",
    "    8: 129,\n",
    "    9: 184,\n",
    "    10: 122,\n",
    "    11: 146,\n",
    "    12: 190,\n",
    "    13: 160,\n",
    "    14: 109,\n",
    "    15: 133,\n",
    "    16: 198,\n",
    "    17: 138,\n",
    "    18: 107,\n",
    "    19: 117,\n",
    "    20: 150,\n",
    "    21: 171,\n",
    "    22: 103,\n",
    "    23: 157,\n",
    "    24: 143,\n",
    "    25: 170,\n",
    "    26: 130,\n",
    "    27: 140,\n",
    "    28: 126,\n",
    "    29: 180,\n",
    "    30: 153,\n",
    "    31: 108,\n",
    "    32: 132,\n",
    "    33: 105,\n",
    "    34: 145,\n",
    "    35: 145,\n",
    "    36: 114,\n",
    "}\n",
    "\n",
    "# Mínimo de toneladas a explotar del tipo de carbón j en K\n",
    "b = {\n",
    "    \"Antracita\": 862,\n",
    "    \"Hulla\": 898,\n",
    "    \"Turba\": 562,\n",
    "    \"Lignito\": 742,\n",
    "}"
   ]
  },
  {
   "cell_type": "markdown",
   "id": "70fd6598",
   "metadata": {},
   "source": [
    "### Objeto del modelo"
   ]
  },
  {
   "cell_type": "markdown",
   "id": "aa975e80",
   "metadata": {},
   "source": [
    "Construye un problema al que luego agregarás las restricciones y la función objetivo."
   ]
  },
  {
   "cell_type": "code",
   "execution_count": 5,
   "id": "a1501b81",
   "metadata": {},
   "outputs": [],
   "source": [
    "# Escribe en esta celda tu código.\n"
   ]
  },
  {
   "cell_type": "markdown",
   "id": "970af788",
   "metadata": {},
   "source": [
    "### Variables de decisión"
   ]
  },
  {
   "cell_type": "markdown",
   "id": "1e670ec8",
   "metadata": {},
   "source": [
    "Define las variables del problema de manera que estén contenidas en diccionarios indexados en los conjuntos de sus variables respectivas."
   ]
  },
  {
   "cell_type": "code",
   "execution_count": 6,
   "id": "e1febe93",
   "metadata": {},
   "outputs": [],
   "source": [
    "# Escribe en esta celda tu código.\n"
   ]
  },
  {
   "cell_type": "markdown",
   "id": "f843462c",
   "metadata": {},
   "source": [
    "### Función objetivo"
   ]
  },
  {
   "cell_type": "markdown",
   "id": "97df9059",
   "metadata": {},
   "source": [
    "Agrega al problema la función objetivo. Recuerda que al definir el problema, ya definiste si este es de maximización o minimización."
   ]
  },
  {
   "cell_type": "code",
   "execution_count": 7,
   "id": "2fd8a365",
   "metadata": {},
   "outputs": [],
   "source": [
    "# Escribe en esta celda tu código.\n"
   ]
  },
  {
   "cell_type": "markdown",
   "id": "89f524db",
   "metadata": {},
   "source": [
    "### Restricciones"
   ]
  },
  {
   "cell_type": "markdown",
   "id": "77e7e409",
   "metadata": {},
   "source": [
    "Agrega al problema las restricciones del modelo."
   ]
  },
  {
   "cell_type": "code",
   "execution_count": 8,
   "id": "f986d5ee",
   "metadata": {},
   "outputs": [],
   "source": [
    "# Escribe en esta celda tu código.\n"
   ]
  },
  {
   "cell_type": "markdown",
   "id": "265a2a10",
   "metadata": {},
   "source": [
    "### Resolver el problema"
   ]
  },
  {
   "cell_type": "markdown",
   "id": "d7661201",
   "metadata": {},
   "source": [
    "Invoca el optimizador. Este paso le asigna un valor a las variables incluidas en las restricciones o función objetivo del modelo."
   ]
  },
  {
   "cell_type": "code",
   "execution_count": 9,
   "id": "ae811704",
   "metadata": {},
   "outputs": [],
   "source": [
    "# Escribe en esta celda tu código.\n"
   ]
  },
  {
   "cell_type": "markdown",
   "id": "655b238a",
   "metadata": {},
   "source": [
    "### Imprimir resultados"
   ]
  },
  {
   "cell_type": "markdown",
   "id": "8a7a8a35",
   "metadata": {},
   "source": [
    "Antes de estudiar el óptimo del modelo, identifica en el estado del optimizador si pudo resolver el problema."
   ]
  },
  {
   "cell_type": "code",
   "execution_count": 10,
   "id": "whole-trust",
   "metadata": {},
   "outputs": [],
   "source": [
    "# Escribe en esta celda tu código.\n"
   ]
  },
  {
   "cell_type": "markdown",
   "id": "ea6fe01e",
   "metadata": {},
   "source": [
    "Identifica también el valor de la función objetivo."
   ]
  },
  {
   "cell_type": "code",
   "execution_count": 11,
   "id": "11b75d2c",
   "metadata": {},
   "outputs": [],
   "source": [
    "# Escribe en esta celda tu código.\n"
   ]
  },
  {
   "cell_type": "markdown",
   "id": "6e59d608",
   "metadata": {},
   "source": [
    "Por último, imprime de manera estructurada el valor de las variables de decisión y otras expresiones de interés."
   ]
  },
  {
   "cell_type": "code",
   "execution_count": 12,
   "id": "ad53e1be",
   "metadata": {},
   "outputs": [],
   "source": [
    "# Escribe en esta celda tu código.\n"
   ]
  },
  {
   "cell_type": "markdown",
   "id": "2c390f8b",
   "metadata": {},
   "source": [
    "## Créditos"
   ]
  },
  {
   "cell_type": "markdown",
   "id": "hired-insulation",
   "metadata": {},
   "source": [
    "Equipo Principios de Optimización<br>\n",
    "Autores: Alfaima Solano, Alejandro Mantilla<br>\n",
    "Desarrollo:Alfaima Solano, Alejandro Mantilla, Juan Felipe Rengifo<br>\n",
    "Última fecha de modificación: 08/04/2023"
   ]
  }
 ],
 "metadata": {
  "kernelspec": {
   "display_name": "Python 3 (ipykernel)",
   "language": "python",
   "name": "python3"
  },
  "language_info": {
   "codemirror_mode": {
    "name": "ipython",
    "version": 3
   },
   "file_extension": ".py",
   "mimetype": "text/x-python",
   "name": "python",
   "nbconvert_exporter": "python",
   "pygments_lexer": "ipython3",
   "version": "3.11.0"
  }
 },
 "nbformat": 4,
 "nbformat_minor": 5
}
