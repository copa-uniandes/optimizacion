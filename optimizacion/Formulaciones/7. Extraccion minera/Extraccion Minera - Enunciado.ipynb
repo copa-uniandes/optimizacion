{
 "cells": [
  {
   "cell_type": "markdown",
   "id": "specific-boulder",
   "metadata": {},
   "source": [
    "# Extracción minera"
   ]
  },
  {
   "cell_type": "markdown",
   "id": "written-elephant",
   "metadata": {},
   "source": [
    "<b><i style=\"font-size:13px\">Tags: </i></b><i style=\"font-size:11px\">Parámetro binario, Mezcla, Recurso</i>"
   ]
  },
  {
   "cell_type": "code",
   "execution_count": 1,
   "id": "fe8c0d77",
   "metadata": {
    "tags": [
     "hide-input",
     "thebe-init"
    ]
   },
   "outputs": [],
   "source": [
    "import os\n",
    "# Por precaución, cambiamos el directorio activo de Python a aquel que contenga este notebook\n",
    "if \"optimizacion\" in os.listdir():\n",
    "    os.chdir(r\"optimizacion/Formulaciones/7. Extraccion minera/\")"
   ]
  },
  {
   "cell_type": "markdown",
   "id": "annoying-circus",
   "metadata": {},
   "source": [
    "## Enunciado - Punto 1\n",
    "\n",
    "<!--  \n",
    "Conjuntos: $Conjunto$\n",
    "Indices: $indice \\in Conjunto$\n",
    "Parámetros/variables: $parametro_{ij}$\n",
    "Tablas: En HTML y los textos de elementos del conjunto en la parte izquierda con alineado a la izquierda. Además a cada tabla se le pone un nombre y su respectiva descripción.\n",
    "-->"
   ]
  },
  {
   "cell_type": "markdown",
   "id": "5ea09848",
   "metadata": {},
   "source": [
    "La minería de cielo abierto es una actividad industrial que consiste en remover grandes cantidades de suelo para extraer el mineral deseado. Este tipo de minas son comunes en la extracción de materiales como: arena, arcilla, cobre y carbón. Las directivas de una empresa de extracción minera desean explotar un conjunto de zonas ($M$), de las cuales se puede extraer un conjunto de diferentes tipos de carbón ($K:\\{1$: Antracita, $2$: Hulla, $3$: Turba, $4$: Lignito$\\})$. Se sabe que de la zona $i\\in M$ sólo puede extraerse el carbón tipo $j\\in K$. Para ello, suponga que $a_{ij}$ es un parámetro binario que toma el valor de 1 si en la zona $i\\in M$ se puede extraer carbón del tipo $j\\in K$ y 0 en el caso contrario. La Figura 1 presenta un ejemplo en el cual hay 36 zonas y 4 tipos de carbón. Por ejemplo, para la zona uno se tiene que $a_{11}=0$, $a_{12}=1$, $a_{13}=0$ y $a_{14}=0$ ya que de la zona 1 sólo puede extraerse el tipo de carbón 2 (hulla)."
   ]
  },
  {
   "cell_type": "markdown",
   "id": "d862bf13",
   "metadata": {},
   "source": [
    "$$\n",
    "\\bbox[5px, border:2px solid black]{\n",
    "\\begin{array} {cccccc}\n",
    "    \\bbox[SkyBlue, 5px, border:2px solid SkyBlue]{\\ 1\\ } & \\bbox[SkyBlue, 5px, border:2px solid SkyBlue]{\\ 2\\ } & \\bbox[PaleGreen, 5px, border:2px solid PaleGreen]{\\ 3\\ } & \\bbox[PaleGreen, 5px, border:2px solid PaleGreen]{\\ 4\\ } & \\bbox[SkyBlue, 5px, border:2px solid SkyBlue]{\\ 5\\ } & \\bbox[PaleGreen, 5px, border:2px solid PaleGreen]{\\ 6\\ } \\\\\n",
    "    \\bbox[SkyBlue, 5px, border:2px solid SkyBlue]{\\ 7\\ } & \\bbox[SkyBlue, 5px, border:2px solid SkyBlue]{\\ 8\\ } & \\bbox[Plum, 5px, border:2px solid Plum]{\\ 9\\ } & \\bbox[Plum, 5px, border:2px solid Plum]{10} & \\bbox[SkyBlue, 5px, border:2px solid SkyBlue]{11} & \\bbox[PaleGreen, 5px, border:2px solid PaleGreen]{12} \\\\\n",
    "    \\bbox[Plum, 5px, border:2px solid Plum]{13} & \\bbox[PaleGreen, 5px, border:2px solid PaleGreen]{14} & \\bbox[PaleGreen, 5px, border:2px solid PaleGreen]{15} & \\bbox[SkyBlue, 5px, border:2px solid SkyBlue]{16} & \\bbox[SkyBlue, 5px, border:2px solid SkyBlue]{17} & \\bbox[PaleGreen, 5px, border:2px solid PaleGreen]{18} \\\\\n",
    "    \\bbox[Plum, 5px, border:2px solid Plum]{19} & \\bbox[LightGoldenRodYellow, 5px, border:2px solid LightGoldenRodYellow]{20} & \\bbox[PaleGreen, 5px, border:2px solid PaleGreen]{21} & \\bbox[Plum, 5px, border:2px solid Plum]{22} & \\bbox[Plum, 5px, border:2px solid Plum]{23} & \\bbox[Plum, 5px, border:2px solid Plum]{24} \\\\\n",
    "    \\bbox[Plum, 5px, border:2px solid Plum]{25} & \\bbox[PaleGreen, 5px, border:2px solid PaleGreen]{26} & \\bbox[PaleGreen, 5px, border:2px solid PaleGreen]{27} & \\bbox[LightGoldenRodYellow, 5px, border:2px solid LightGoldenRodYellow]{28} & \\bbox[LightGoldenRodYellow, 5px, border:2px solid LightGoldenRodYellow]{29} & \\bbox[LightGoldenRodYellow, 5px, border:2px solid LightGoldenRodYellow]{30} \\\\\n",
    "    \\bbox[SkyBlue, 5px, border:2px solid SkyBlue]{31} & \\bbox[PaleGreen, 5px, border:2px solid PaleGreen]{32} & \\bbox[SkyBlue, 5px, border:2px solid SkyBlue]{33} & \\bbox[Plum, 5px, border:2px solid Plum]{34} & \\bbox[LightGoldenRodYellow, 5px, border:2px solid LightGoldenRodYellow]{35} & \\bbox[Plum, 5px, border:2px solid Plum]{36} \\\\\n",
    "\\end{array}\n",
    "}\n",
    "$$"
   ]
  },
  {
   "cell_type": "markdown",
   "id": "39cf3deb",
   "metadata": {},
   "source": [
    "$$\n",
    "\\bbox[5px, border:2px solid black]{\n",
    "\\begin{array} {cccc}\n",
    "    \\bbox[Plum, 5px, border:2px solid Plum]{\\ \\text{1: Antracita}\\ } & \\bbox[SkyBlue, 5px, border:2px solid SkyBlue]{\\ \\text{2: Hulla}\\ } & \\bbox[PaleGreen, 5px, border:2px solid PaleGreen]{\\ \\text{3: Turba}\\ } & \\bbox[LightGoldenRodYellow, 5px, border:2px solid LightGoldenRodYellow]{\\ \\text{4: Lignito}\\ }\n",
    "\\end{array}\n",
    "}\n",
    "$$"
   ]
  },
  {
   "cell_type": "markdown",
   "id": "be67b3f5",
   "metadata": {},
   "source": [
    "Cada tonelada de carbón extraída de la zona $i\\in M$ le cuesta a la empresa $c_i$ pesos.  Adicionalmente, cada zona tiene una capacidad máxima de extracción de carbón de $n_i$ toneladas. La Tabla 1 muestra la información de capacidades máximas y costos para cada zona."
   ]
  },
  {
   "cell_type": "markdown",
   "id": "066570b5",
   "metadata": {},
   "source": [
    "<p style=\"text-align: center;\"><b>Tabla 1. Información de extracción de cada zona</b></p>"
   ]
  },
  {
   "cell_type": "markdown",
   "id": "4d195459",
   "metadata": {},
   "source": [
    "|Zona|Capacidad máxima de extracción de carbón (ton)|Costo por tonelada de carbón extraído ($)|\n",
    "|:--:|:--------------------------------------------:|:--------------------------------------:|\n",
    "|1|189|16|\n",
    "|2|196|6|\n",
    "|3|143|11|\n",
    "|4|136|8|\n",
    "|5|106|5|\n",
    "|6|151|25|\n",
    "|7|170|16|\n",
    "|8|129|17|\n",
    "|9|184|25|\n",
    "|10|122|8|\n",
    "|11|146|15|\n",
    "|12|190|8|\n",
    "|13|160|10|\n",
    "|14|109|20|\n",
    "|15|133|6|\n",
    "|16|198|17|\n",
    "|17|138|6|\n",
    "|18|107|20|\n",
    "|19|117|5|\n",
    "|20|150|8|\n",
    "|21|171|25|\n",
    "|22|103|11|\n",
    "|23|157|8|\n",
    "|24|143|7|\n",
    "|25|170|7|\n",
    "|26|130|28|\n",
    "|27|140|26|\n",
    "|28|126|27|\n",
    "|29|180|9|\n",
    "|30|153|24|\n",
    "|31|108|15|\n",
    "|32|132|14|\n",
    "|33|105|22|\n",
    "|34|145|20|\n",
    "|35|145|19|\n",
    "|36|114|8|"
   ]
  },
  {
   "cell_type": "markdown",
   "id": "3135e930",
   "metadata": {},
   "source": [
    "Por último. Supon que las directivas desean explotar un mínimo de $b_j$ toneladas de cada tipo de carbón $j\\in K$. La Tabla 2 presenta dichas cantidades."
   ]
  },
  {
   "cell_type": "markdown",
   "id": "d70b7fc3",
   "metadata": {},
   "source": [
    "<p style=\"text-align: center;\"><b>Tabla 2. Requerimiento mínimo de cada tipo de carbón</b></p>"
   ]
  },
  {
   "cell_type": "markdown",
   "id": "ae6b3cd2",
   "metadata": {},
   "source": [
    "|Tipo de carbón|Mínimo de toneladas a explotar|\n",
    "|:------------:|:----------------------------:|\n",
    "|Antracita|862|\n",
    "|Huila|898|\n",
    "|Turba|562|\n",
    "|Lignito|742|"
   ]
  },
  {
   "cell_type": "markdown",
   "id": "f5227b1b",
   "metadata": {},
   "source": [
    "Formula un programa lineal que le permita a la empresa decidir cuánto deben extraer en cada zona de manera que se cumplan los requerimientos a un mínimo costo."
   ]
  },
  {
   "cell_type": "markdown",
   "id": "linear-shadow",
   "metadata": {},
   "source": [
    "### Formulación"
   ]
  },
  {
   "cell_type": "markdown",
   "id": "f08dc1b9",
   "metadata": {},
   "source": [
    "**a.** Formula matemáticamente un modelo de optimización de forma general que represente la\n",
    "situación anterior. Defina clara y rigurosamente:\n",
    "- Conjuntos\n",
    "- Parámetros\n",
    "- Variables de decisión\n",
    "- Restricciones\n",
    "- Naturaleza de las variables\n",
    "- Función objetivo"
   ]
  },
  {
   "cell_type": "markdown",
   "id": "geographic-header",
   "metadata": {},
   "source": [
    "### Implementación"
   ]
  },
  {
   "cell_type": "markdown",
   "id": "4725d708",
   "metadata": {},
   "source": [
    "**b.** Resuelve el modelo planteado utilizando la librería de PuLP en Python. ¿Cuál es la solución óptima del problema? "
   ]
  },
  {
   "cell_type": "markdown",
   "id": "2a1a82c3",
   "metadata": {},
   "source": [
    "#### Librerías"
   ]
  },
  {
   "cell_type": "markdown",
   "id": "f597d592",
   "metadata": {},
   "source": [
    "Importa la librería `pulp` para crear y resolver el modelo."
   ]
  },
  {
   "cell_type": "code",
   "execution_count": 2,
   "id": "323a0476",
   "metadata": {},
   "outputs": [],
   "source": [
    "# Escriba aquí el código en python de su formulación.\n"
   ]
  },
  {
   "cell_type": "markdown",
   "id": "837873b4",
   "metadata": {},
   "source": [
    "#### Conjuntos"
   ]
  },
  {
   "cell_type": "markdown",
   "id": "48fddac0",
   "metadata": {},
   "source": [
    "Define los conjuntos `M` y `K` que representan las zonas y los tipos de carbón respectivamente.\n",
    "\n",
    "Recuerda que por conveniencia de preservar el orden de los elementos de los conjuntos, no siempre deberás definirlos con el tipo `set`."
   ]
  },
  {
   "cell_type": "code",
   "execution_count": 3,
   "id": "d9209bb7",
   "metadata": {},
   "outputs": [],
   "source": [
    "# Escriba aquí el código en python de su formulación.\n"
   ]
  },
  {
   "cell_type": "markdown",
   "id": "8c58ff99",
   "metadata": {},
   "source": [
    "#### Parámetros"
   ]
  },
  {
   "cell_type": "markdown",
   "id": "d981d80d",
   "metadata": {},
   "source": [
    "Define o importa los parámetros del modelo."
   ]
  },
  {
   "cell_type": "code",
   "execution_count": 4,
   "id": "16df6fb4",
   "metadata": {},
   "outputs": [
    {
     "ename": "NameError",
     "evalue": "name 'M' is not defined",
     "output_type": "error",
     "traceback": [
      "\u001b[0;31m---------------------------------------------------------------------------\u001b[0m",
      "\u001b[0;31mNameError\u001b[0m                                 Traceback (most recent call last)",
      "Cell \u001b[0;32mIn[4], line 41\u001b[0m\n\u001b[1;32m      1\u001b[0m \u001b[38;5;66;03m# Si en la zona i en M se puede extraer carbón tipo j en K\u001b[39;00m\n\u001b[1;32m      2\u001b[0m a \u001b[38;5;241m=\u001b[39m {\n\u001b[1;32m      3\u001b[0m     (\u001b[38;5;241m1\u001b[39m, \u001b[38;5;124m\"\u001b[39m\u001b[38;5;124mHulla\u001b[39m\u001b[38;5;124m\"\u001b[39m): \u001b[38;5;241m1\u001b[39m,\n\u001b[1;32m      4\u001b[0m     (\u001b[38;5;241m2\u001b[39m, \u001b[38;5;124m\"\u001b[39m\u001b[38;5;124mHulla\u001b[39m\u001b[38;5;124m\"\u001b[39m): \u001b[38;5;241m1\u001b[39m,\n\u001b[0;32m   (...)\u001b[0m\n\u001b[1;32m     38\u001b[0m     (\u001b[38;5;241m36\u001b[39m, \u001b[38;5;124m\"\u001b[39m\u001b[38;5;124mAntracita\u001b[39m\u001b[38;5;124m\"\u001b[39m): \u001b[38;5;241m1\u001b[39m,\n\u001b[1;32m     39\u001b[0m }\n\u001b[0;32m---> 41\u001b[0m \u001b[38;5;28;01mfor\u001b[39;00m i \u001b[38;5;129;01min\u001b[39;00m \u001b[43mM\u001b[49m:\n\u001b[1;32m     42\u001b[0m     \u001b[38;5;28;01mfor\u001b[39;00m j \u001b[38;5;129;01min\u001b[39;00m K:\n\u001b[1;32m     43\u001b[0m         \u001b[38;5;28;01mif\u001b[39;00m (i, j) \u001b[38;5;129;01mnot\u001b[39;00m \u001b[38;5;129;01min\u001b[39;00m a:\n",
      "\u001b[0;31mNameError\u001b[0m: name 'M' is not defined"
     ]
    }
   ],
   "source": [
    "# Si en la zona i en M se puede extraer carbón tipo j en K\n",
    "a = {\n",
    "    (1, \"Hulla\"): 1,\n",
    "    (2, \"Hulla\"): 1,\n",
    "    (3, \"Turba\"): 1,\n",
    "    (4, \"Turba\"): 1,\n",
    "    (5, \"Hulla\"): 1,\n",
    "    (6, \"Turba\"): 1,\n",
    "    (7, \"Hulla\"): 1,\n",
    "    (8, \"Hulla\"): 1,\n",
    "    (9, \"Antracita\"): 1,\n",
    "    (10, \"Antracita\"): 1,\n",
    "    (11, \"Hulla\"): 1,\n",
    "    (12, \"Turba\"): 1,\n",
    "    (13, \"Antracita\"): 1,\n",
    "    (14, \"Turba\"): 1,\n",
    "    (15, \"Turba\"): 1,\n",
    "    (16, \"Hulla\"): 1,\n",
    "    (17, \"Hulla\"): 1,\n",
    "    (18, \"Turba\"): 1,\n",
    "    (19, \"Antracita\"): 1,\n",
    "    (20, \"Lignito\"): 1,\n",
    "    (21, \"Turba\"): 1,\n",
    "    (22, \"Antracita\"): 1,\n",
    "    (23, \"Antracita\"): 1,\n",
    "    (24, \"Antracita\"): 1,\n",
    "    (25, \"Antracita\"): 1,\n",
    "    (26, \"Turba\"): 1,\n",
    "    (27, \"Turba\"): 1,\n",
    "    (28, \"Lignito\"): 1,\n",
    "    (29, \"Lignito\"): 1,\n",
    "    (30, \"Lignito\"): 1,\n",
    "    (31, \"Hulla\"): 1,\n",
    "    (32, \"Turba\"): 1,\n",
    "    (33, \"Hulla\"): 1,\n",
    "    (34, \"Antracita\"): 1,\n",
    "    (35, \"Lignito\"): 1,\n",
    "    (36, \"Antracita\"): 1,\n",
    "}\n",
    "\n",
    "for i in M:\n",
    "    for j in K:\n",
    "        if (i, j) not in a:\n",
    "            a[i, j] = 0\n",
    "\n",
    "# Costo por tonelada de carbón en la zona i en M\n",
    "c = {\n",
    "    1: 16,\n",
    "    2: 6,\n",
    "    3: 11,\n",
    "    4: 8,\n",
    "    5: 5,\n",
    "    6: 25,\n",
    "    7: 16,\n",
    "    8: 17,\n",
    "    9: 25,\n",
    "    10: 8,\n",
    "    11: 15,\n",
    "    12: 8,\n",
    "    13: 10,\n",
    "    14: 20,\n",
    "    15: 6,\n",
    "    16: 17,\n",
    "    17: 6,\n",
    "    18: 20,\n",
    "    19: 5,\n",
    "    20: 8,\n",
    "    21: 25,\n",
    "    22: 11,\n",
    "    23: 8,\n",
    "    24: 7,\n",
    "    25: 7,\n",
    "    26: 28,\n",
    "    27: 26,\n",
    "    28: 27,\n",
    "    29: 9,\n",
    "    30: 24,\n",
    "    31: 15,\n",
    "    32: 14,\n",
    "    33: 22,\n",
    "    34: 20,\n",
    "    35: 19,\n",
    "    36: 8,\n",
    "}\n",
    "\n",
    "# Máximas toneladas a extraer de la zona i en M\n",
    "n = {\n",
    "    1: 189,\n",
    "    2: 196,\n",
    "    3: 143,\n",
    "    4: 136,\n",
    "    5: 106,\n",
    "    6: 151,\n",
    "    7: 170,\n",
    "    8: 129,\n",
    "    9: 184,\n",
    "    10: 122,\n",
    "    11: 146,\n",
    "    12: 190,\n",
    "    13: 160,\n",
    "    14: 109,\n",
    "    15: 133,\n",
    "    16: 198,\n",
    "    17: 138,\n",
    "    18: 107,\n",
    "    19: 117,\n",
    "    20: 150,\n",
    "    21: 171,\n",
    "    22: 103,\n",
    "    23: 157,\n",
    "    24: 143,\n",
    "    25: 170,\n",
    "    26: 130,\n",
    "    27: 140,\n",
    "    28: 126,\n",
    "    29: 180,\n",
    "    30: 153,\n",
    "    31: 108,\n",
    "    32: 132,\n",
    "    33: 105,\n",
    "    34: 145,\n",
    "    35: 145,\n",
    "    36: 114,\n",
    "}\n",
    "\n",
    "# Mínimo de toneladas a explotar del tipo de carbón j en K\n",
    "b = {\n",
    "    \"Antracita\": 862,\n",
    "    \"Hulla\": 898,\n",
    "    \"Turba\": 562,\n",
    "    \"Lignito\": 742,\n",
    "}"
   ]
  },
  {
   "cell_type": "markdown",
   "id": "70fd6598",
   "metadata": {},
   "source": [
    "#### Objeto del modelo"
   ]
  },
  {
   "cell_type": "markdown",
   "id": "aa975e80",
   "metadata": {},
   "source": [
    "Construye un problema al que luego agregarás las restricciones y la función objetivo."
   ]
  },
  {
   "cell_type": "code",
   "execution_count": null,
   "id": "a1501b81",
   "metadata": {},
   "outputs": [],
   "source": [
    "# Escriba aquí el código en python de su formulación.\n"
   ]
  },
  {
   "cell_type": "markdown",
   "id": "970af788",
   "metadata": {},
   "source": [
    "#### Variables de decisión"
   ]
  },
  {
   "cell_type": "markdown",
   "id": "1e670ec8",
   "metadata": {},
   "source": [
    "Define las variables del problema de manera que estén contenidas en diccionarios indexados en los conjuntos de sus variables respectivas."
   ]
  },
  {
   "cell_type": "code",
   "execution_count": null,
   "id": "e1febe93",
   "metadata": {},
   "outputs": [],
   "source": [
    "# Escriba aquí el código en python de su formulación.\n"
   ]
  },
  {
   "cell_type": "markdown",
   "id": "f843462c",
   "metadata": {},
   "source": [
    "#### Función objetivo"
   ]
  },
  {
   "cell_type": "markdown",
   "id": "97df9059",
   "metadata": {},
   "source": [
    "Agrega al problema la función objetivo. Recuerda que al definir el problema, ya definiste si este es de maximización o minimización."
   ]
  },
  {
   "cell_type": "code",
   "execution_count": null,
   "id": "2fd8a365",
   "metadata": {},
   "outputs": [],
   "source": [
    "# Escriba aquí el código en python de su formulación.\n"
   ]
  },
  {
   "cell_type": "markdown",
   "id": "89f524db",
   "metadata": {},
   "source": [
    "#### Restricciones"
   ]
  },
  {
   "cell_type": "markdown",
   "id": "77e7e409",
   "metadata": {},
   "source": [
    "Agrega al problema las restricciones del modelo."
   ]
  },
  {
   "cell_type": "code",
   "execution_count": null,
   "id": "f986d5ee",
   "metadata": {},
   "outputs": [],
   "source": [
    "# Escriba aquí el código en python de su formulación.\n"
   ]
  },
  {
   "cell_type": "markdown",
   "id": "265a2a10",
   "metadata": {},
   "source": [
    "#### Resolver el problema"
   ]
  },
  {
   "cell_type": "markdown",
   "id": "d7661201",
   "metadata": {},
   "source": [
    "Invoca el optimizador. Este paso le asigna un valor a las variables incluidas en las restricciones o función objetivo del modelo."
   ]
  },
  {
   "cell_type": "code",
   "execution_count": null,
   "id": "ae811704",
   "metadata": {},
   "outputs": [],
   "source": [
    "# Escriba aquí el código en python de su formulación.\n"
   ]
  },
  {
   "cell_type": "markdown",
   "id": "655b238a",
   "metadata": {},
   "source": [
    "#### Imprimir resultados"
   ]
  },
  {
   "cell_type": "markdown",
   "id": "8a7a8a35",
   "metadata": {},
   "source": [
    "Antes de estudiar el óptimo del modelo, identifica en el estado del optimizador si pudo resolver el problema."
   ]
  },
  {
   "cell_type": "code",
   "execution_count": null,
   "id": "whole-trust",
   "metadata": {},
   "outputs": [],
   "source": [
    "# Escriba aquí el código en python de su formulación.\n"
   ]
  },
  {
   "cell_type": "markdown",
   "id": "ea6fe01e",
   "metadata": {},
   "source": [
    "Identifica también el valor de la función objetivo."
   ]
  },
  {
   "cell_type": "code",
   "execution_count": null,
   "id": "11b75d2c",
   "metadata": {},
   "outputs": [],
   "source": [
    "# Escriba aquí el código en python de su formulación.\n"
   ]
  },
  {
   "cell_type": "markdown",
   "id": "6e59d608",
   "metadata": {},
   "source": [
    "Por último, imprime de manera estructurada el valor de las variables de decisión y otras expresiones de interés."
   ]
  },
  {
   "cell_type": "code",
   "execution_count": null,
   "id": "ad53e1be",
   "metadata": {},
   "outputs": [],
   "source": [
    "# Escriba aquí el código en python de su formulación.\n"
   ]
  },
  {
   "cell_type": "markdown",
   "id": "b9cbb6c3",
   "metadata": {},
   "source": [
    "## Enunciado - Punto 2"
   ]
  },
  {
   "cell_type": "markdown",
   "id": "ebd8f59a",
   "metadata": {},
   "source": [
    "Ahora considera el escenario en que la empresa incurre en un costo fijo de $q_i$ pesos cuando decide extraer carbón de la zona $i\\in M$. Por lo tanto, si se decide explotar la mina $i\\in M$, no se pueden extraer más de ($n_i$) toneladas de carbón. Pero si no se decide explotar, la extracción de carbón en esa zona debe ser igual a cero (0). La Tabla 3 presenta la información sobre los costos fijos de extraer cada zona."
   ]
  },
  {
   "cell_type": "markdown",
   "id": "f2ba62c0",
   "metadata": {},
   "source": [
    "<p style=\"text-align: center;\"><b>Tabla 3. Costo fijo por extracción para cada zona</b></p>"
   ]
  },
  {
   "cell_type": "markdown",
   "id": "fe645d52",
   "metadata": {},
   "source": [
    "|Zona|Costo fijo de extracción en la zona|\n",
    "|:--:|:---------------------------------:|\n",
    "|1|240|\n",
    "|2|155|\n",
    "|3|240|\n",
    "|4|125|\n",
    "|5|177|\n",
    "|6|342|\n",
    "|7|157|\n",
    "|8|457|\n",
    "|9|396|\n",
    "|10|411|\n",
    "|11|341|\n",
    "|12|469|\n",
    "|13|402|\n",
    "|14|186|\n",
    "|15|404|\n",
    "|16|344|\n",
    "|17|290|\n",
    "|18|340|\n",
    "|19|482|\n",
    "|20|472|\n",
    "|21|394|\n",
    "|22|102|\n",
    "|23|330|\n",
    "|24|433|\n",
    "|25|205|\n",
    "|26|394|\n",
    "|27|156|\n",
    "|28|298|\n",
    "|29|134|\n",
    "|30|462|\n",
    "|31|432|\n",
    "|32|362|\n",
    "|33|127|\n",
    "|34|203|\n",
    "|35|417|\n",
    "|36|215|"
   ]
  },
  {
   "cell_type": "markdown",
   "id": "191f29f2",
   "metadata": {},
   "source": [
    "### Formulación"
   ]
  },
  {
   "cell_type": "markdown",
   "id": "a18f6486",
   "metadata": {},
   "source": [
    "**a.** Agrega a la formulación matemática los componentes de un modelo de optimización de forma general que represente la nueva situación. Defina clara y rigurosamente:\n",
    "- Conjuntos\n",
    "- Parámetros\n",
    "- Variables de decisión\n",
    "- Restricciones\n",
    "- Naturaleza de las variables\n",
    "- Función objetivo"
   ]
  },
  {
   "cell_type": "markdown",
   "id": "552c3bcd",
   "metadata": {},
   "source": [
    "### Implementación"
   ]
  },
  {
   "cell_type": "markdown",
   "id": "1144378e",
   "metadata": {},
   "source": [
    "**b.** Resuelve el nuevo modelo planteado utilizando la librería de PuLP en Python. ¿Cuál es la solución óptima del problema? "
   ]
  },
  {
   "cell_type": "markdown",
   "id": "4048c1f0",
   "metadata": {},
   "source": [
    "#### Librerías"
   ]
  },
  {
   "cell_type": "markdown",
   "id": "fbb93c28",
   "metadata": {},
   "source": [
    "Importa la librería `pulp` para crear y resolver el modelo."
   ]
  },
  {
   "cell_type": "code",
   "execution_count": null,
   "id": "8fbb6b6a",
   "metadata": {},
   "outputs": [],
   "source": [
    "# Escriba aquí el código en python de su formulación.\n"
   ]
  },
  {
   "cell_type": "markdown",
   "id": "5d1f5d4c",
   "metadata": {},
   "source": [
    "#### Conjuntos"
   ]
  },
  {
   "cell_type": "markdown",
   "id": "ef0d0c19",
   "metadata": {},
   "source": [
    "Define los conjuntos `M` y `K` que representan las zonas y los tipos de carbón respectivamente.\n",
    "\n",
    "Recuerda que por conveniencia de preservar el orden de los elementos de los conjuntos, no siempre deberás definirlos con el tipo `set`."
   ]
  },
  {
   "cell_type": "code",
   "execution_count": null,
   "id": "250a631e",
   "metadata": {},
   "outputs": [],
   "source": [
    "# Escriba aquí el código en python de su formulación.\n"
   ]
  },
  {
   "cell_type": "markdown",
   "id": "db406139",
   "metadata": {},
   "source": [
    "#### Parámetros"
   ]
  },
  {
   "cell_type": "markdown",
   "id": "9bb7318b",
   "metadata": {},
   "source": [
    "Define o importa los parámetros del modelo."
   ]
  },
  {
   "cell_type": "code",
   "execution_count": null,
   "id": "aca03a41",
   "metadata": {},
   "outputs": [],
   "source": [
    "# Si en la zona i en M se puede extraer carbón tipo j en K\n",
    "a = {\n",
    "    (1, \"Hulla\"): 1,\n",
    "    (2, \"Hulla\"): 1,\n",
    "    (3, \"Turba\"): 1,\n",
    "    (4, \"Turba\"): 1,\n",
    "    (5, \"Hulla\"): 1,\n",
    "    (6, \"Turba\"): 1,\n",
    "    (7, \"Hulla\"): 1,\n",
    "    (8, \"Hulla\"): 1,\n",
    "    (9, \"Antracita\"): 1,\n",
    "    (10, \"Antracita\"): 1,\n",
    "    (11, \"Hulla\"): 1,\n",
    "    (12, \"Turba\"): 1,\n",
    "    (13, \"Antracita\"): 1,\n",
    "    (14, \"Turba\"): 1,\n",
    "    (15, \"Turba\"): 1,\n",
    "    (16, \"Hulla\"): 1,\n",
    "    (17, \"Hulla\"): 1,\n",
    "    (18, \"Turba\"): 1,\n",
    "    (19, \"Antracita\"): 1,\n",
    "    (20, \"Lignito\"): 1,\n",
    "    (21, \"Turba\"): 1,\n",
    "    (22, \"Antracita\"): 1,\n",
    "    (23, \"Antracita\"): 1,\n",
    "    (24, \"Antracita\"): 1,\n",
    "    (25, \"Antracita\"): 1,\n",
    "    (26, \"Turba\"): 1,\n",
    "    (27, \"Turba\"): 1,\n",
    "    (28, \"Lignito\"): 1,\n",
    "    (29, \"Lignito\"): 1,\n",
    "    (30, \"Lignito\"): 1,\n",
    "    (31, \"Hulla\"): 1,\n",
    "    (32, \"Turba\"): 1,\n",
    "    (33, \"Hulla\"): 1,\n",
    "    (34, \"Antracita\"): 1,\n",
    "    (35, \"Lignito\"): 1,\n",
    "    (36, \"Antracita\"): 1,\n",
    "}\n",
    "\n",
    "for i in M:\n",
    "    for j in K:\n",
    "        if (i, j) not in a:\n",
    "            a[i, j] = 0\n",
    "\n",
    "# Costo por tonelada de carbón en la zona i en M\n",
    "c = {\n",
    "    1: 16,\n",
    "    2: 6,\n",
    "    3: 11,\n",
    "    4: 8,\n",
    "    5: 5,\n",
    "    6: 25,\n",
    "    7: 16,\n",
    "    8: 17,\n",
    "    9: 25,\n",
    "    10: 8,\n",
    "    11: 15,\n",
    "    12: 8,\n",
    "    13: 10,\n",
    "    14: 20,\n",
    "    15: 6,\n",
    "    16: 17,\n",
    "    17: 6,\n",
    "    18: 20,\n",
    "    19: 5,\n",
    "    20: 8,\n",
    "    21: 25,\n",
    "    22: 11,\n",
    "    23: 8,\n",
    "    24: 7,\n",
    "    25: 7,\n",
    "    26: 28,\n",
    "    27: 26,\n",
    "    28: 27,\n",
    "    29: 9,\n",
    "    30: 24,\n",
    "    31: 15,\n",
    "    32: 14,\n",
    "    33: 22,\n",
    "    34: 20,\n",
    "    35: 19,\n",
    "    36: 8,\n",
    "}\n",
    "\n",
    "# Máximas toneladas a extraer de la zona i en M\n",
    "n = {\n",
    "    1: 189,\n",
    "    2: 196,\n",
    "    3: 143,\n",
    "    4: 136,\n",
    "    5: 106,\n",
    "    6: 151,\n",
    "    7: 170,\n",
    "    8: 129,\n",
    "    9: 184,\n",
    "    10: 122,\n",
    "    11: 146,\n",
    "    12: 190,\n",
    "    13: 160,\n",
    "    14: 109,\n",
    "    15: 133,\n",
    "    16: 198,\n",
    "    17: 138,\n",
    "    18: 107,\n",
    "    19: 117,\n",
    "    20: 150,\n",
    "    21: 171,\n",
    "    22: 103,\n",
    "    23: 157,\n",
    "    24: 143,\n",
    "    25: 170,\n",
    "    26: 130,\n",
    "    27: 140,\n",
    "    28: 126,\n",
    "    29: 180,\n",
    "    30: 153,\n",
    "    31: 108,\n",
    "    32: 132,\n",
    "    33: 105,\n",
    "    34: 145,\n",
    "    35: 145,\n",
    "    36: 114,\n",
    "}\n",
    "\n",
    "# Mínimo de toneladas a explotar del tipo de carbón j en K\n",
    "b = {\n",
    "    \"Antracita\": 862,\n",
    "    \"Hulla\": 898,\n",
    "    \"Turba\": 562,\n",
    "    \"Lignito\": 742,\n",
    "}\n",
    "\n",
    "# Costo fijo de explotación de la zona i en M\n",
    "q = {\n",
    "    1: 240,\n",
    "    2: 155,\n",
    "    3: 240,\n",
    "    4: 125,\n",
    "    5: 177,\n",
    "    6: 342,\n",
    "    7: 157,\n",
    "    8: 457,\n",
    "    9: 396,\n",
    "    10: 411,\n",
    "    11: 341,\n",
    "    12: 469,\n",
    "    13: 402,\n",
    "    14: 186,\n",
    "    15: 404,\n",
    "    16: 344,\n",
    "    17: 290,\n",
    "    18: 340,\n",
    "    19: 482,\n",
    "    20: 472,\n",
    "    21: 394,\n",
    "    22: 102,\n",
    "    23: 330,\n",
    "    24: 433,\n",
    "    25: 205,\n",
    "    26: 394,\n",
    "    27: 156,\n",
    "    28: 298,\n",
    "    29: 134,\n",
    "    30: 462,\n",
    "    31: 432,\n",
    "    32: 362,\n",
    "    33: 127,\n",
    "    34: 203,\n",
    "    35: 417,\n",
    "    36: 215,\n",
    "}"
   ]
  },
  {
   "cell_type": "markdown",
   "id": "f680b8bd",
   "metadata": {},
   "source": [
    "#### Objeto del modelo"
   ]
  },
  {
   "cell_type": "markdown",
   "id": "13e21489",
   "metadata": {},
   "source": [
    "Construye un problema al que luego agregarás las restricciones y la función objetivo."
   ]
  },
  {
   "cell_type": "code",
   "execution_count": null,
   "id": "de091f94",
   "metadata": {},
   "outputs": [],
   "source": [
    "# Escriba aquí el código en python de su formulación.\n"
   ]
  },
  {
   "cell_type": "markdown",
   "id": "131b6b81",
   "metadata": {},
   "source": [
    "#### Variables de decisión"
   ]
  },
  {
   "cell_type": "markdown",
   "id": "6821b58e",
   "metadata": {},
   "source": [
    "Define las variables del problema de manera que estén contenidas en diccionarios indexados en los conjuntos de sus variables respectivas."
   ]
  },
  {
   "cell_type": "code",
   "execution_count": null,
   "id": "daa37aa8",
   "metadata": {},
   "outputs": [],
   "source": [
    "# Escriba aquí el código en python de su formulación.\n"
   ]
  },
  {
   "cell_type": "markdown",
   "id": "c5540dea",
   "metadata": {},
   "source": [
    "#### Función objetivo"
   ]
  },
  {
   "cell_type": "markdown",
   "id": "086afbc8",
   "metadata": {},
   "source": [
    "Agrega al problema la función objetivo. Recuerda que al definir el problema, ya definiste si este es de maximización o minimización."
   ]
  },
  {
   "cell_type": "code",
   "execution_count": null,
   "id": "f90792f5",
   "metadata": {},
   "outputs": [],
   "source": [
    "# Escriba aquí el código en python de su formulación.\n"
   ]
  },
  {
   "cell_type": "markdown",
   "id": "eb9ebe06",
   "metadata": {},
   "source": [
    "#### Restricciones"
   ]
  },
  {
   "cell_type": "markdown",
   "id": "763d2cc8",
   "metadata": {},
   "source": [
    "Agrega al problema las restricciones del modelo."
   ]
  },
  {
   "cell_type": "code",
   "execution_count": null,
   "id": "b18b28fa",
   "metadata": {},
   "outputs": [],
   "source": [
    "# Escriba aquí el código en python de su formulación.\n"
   ]
  },
  {
   "cell_type": "markdown",
   "id": "72e1c0b9",
   "metadata": {},
   "source": [
    "#### Resolver el problema"
   ]
  },
  {
   "cell_type": "markdown",
   "id": "d120a7d9",
   "metadata": {},
   "source": [
    "Invoca el optimizador. Este paso le asigna un valor a las variables incluidas en las restricciones o función objetivo del modelo."
   ]
  },
  {
   "cell_type": "code",
   "execution_count": null,
   "id": "b572d1ef",
   "metadata": {},
   "outputs": [],
   "source": [
    "# Escriba aquí el código en python de su formulación.\n"
   ]
  },
  {
   "cell_type": "markdown",
   "id": "465fa2de",
   "metadata": {},
   "source": [
    "#### Imprimir resultados"
   ]
  },
  {
   "cell_type": "markdown",
   "id": "1c5b9be1",
   "metadata": {},
   "source": [
    "Antes de estudiar el óptimo del modelo, identifica en el estado del optimizador si pudo resolver el problema."
   ]
  },
  {
   "cell_type": "code",
   "execution_count": null,
   "id": "ace80682",
   "metadata": {},
   "outputs": [],
   "source": [
    "# Escriba aquí el código en python de su formulación.\n"
   ]
  },
  {
   "cell_type": "markdown",
   "id": "6d814536",
   "metadata": {},
   "source": [
    "Identifica también el valor de la función objetivo."
   ]
  },
  {
   "cell_type": "code",
   "execution_count": null,
   "id": "7842bb93",
   "metadata": {},
   "outputs": [],
   "source": [
    "# Escriba aquí el código en python de su formulación.\n"
   ]
  },
  {
   "cell_type": "markdown",
   "id": "dbe41a5d",
   "metadata": {},
   "source": [
    "Por último, imprime de manera estructurada el valor de las variables de decisión y otras expresiones de interés."
   ]
  },
  {
   "cell_type": "code",
   "execution_count": null,
   "id": "d7ad02aa",
   "metadata": {},
   "outputs": [],
   "source": [
    "# Escriba aquí el código en python de su formulación.\n"
   ]
  },
  {
   "cell_type": "markdown",
   "id": "2c390f8b",
   "metadata": {},
   "source": [
    "## Créditos"
   ]
  },
  {
   "cell_type": "markdown",
   "id": "hired-insulation",
   "metadata": {},
   "source": [
    "Equipo Principios de Optimización<br>\n",
    "Autores: Alfaima Solano, Alejandro Mantilla<br>\n",
    "Desarrollo:Alfaima Solano, Alejandro Mantilla, Juan Felipe Rengifo<br>\n",
    "Última fecha de modificación: 08/04/2023"
   ]
  }
 ],
 "metadata": {
  "kernelspec": {
   "display_name": "Python 3 (ipykernel)",
   "language": "python",
   "name": "python3"
  },
  "language_info": {
   "codemirror_mode": {
    "name": "ipython",
    "version": 3
   },
   "file_extension": ".py",
   "mimetype": "text/x-python",
   "name": "python",
   "nbconvert_exporter": "python",
   "pygments_lexer": "ipython3",
   "version": "3.11.0"
  }
 },
 "nbformat": 4,
 "nbformat_minor": 5
}
