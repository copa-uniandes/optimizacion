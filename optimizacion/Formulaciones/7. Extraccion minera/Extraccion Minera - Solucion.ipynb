{
 "cells": [
  {
   "cell_type": "markdown",
   "id": "specific-boulder",
   "metadata": {},
   "source": [
    "# Extracción minera - Solución"
   ]
  },
  {
   "cell_type": "markdown",
   "id": "written-elephant",
   "metadata": {},
   "source": [
    "<b><i style=\"font-size:13px\">Tags: </i></b><i style=\"font-size:11px\">Parámetro binario, Mezcla, Recurso</i>"
   ]
  },
  {
   "cell_type": "code",
   "execution_count": 1,
   "id": "fe8c0d77",
   "metadata": {
    "tags": [
     "hide-input",
     "thebe-init"
    ]
   },
   "outputs": [],
   "source": [
    "import os\n",
    "# Por precaución, cambiamos el directorio activo de Python a aquel que contenga este notebook\n",
    "if \"optimizacion\" in os.listdir():\n",
    "    os.chdir(r\"optimizacion/Formulaciones/7. Extraccion minera/\")"
   ]
  },
  {
   "cell_type": "markdown",
   "id": "annoying-circus",
   "metadata": {},
   "source": [
    "## Enunciado - Punto 1\n",
    "\n",
    "<!--  \n",
    "Conjuntos: $Conjunto$\n",
    "Indices: $indice \\in Conjunto$\n",
    "Parámetros/variables: $parametro_{ij}$\n",
    "Tablas: En HTML y los textos de elementos del conjunto en la parte izquierda con alineado a la izquierda. Además a cada tabla se le pone un nombre y su respectiva descripción.\n",
    "-->"
   ]
  },
  {
   "cell_type": "markdown",
   "id": "5ea09848",
   "metadata": {},
   "source": [
    "La minería de cielo abierto es una actividad industrial que consiste en remover grandes cantidades de suelo para extraer el mineral deseado. Este tipo de minas son comunes en la extracción de materiales como: arena, arcilla, cobre y carbón. Las directivas de una empresa de extracción minera desean explotar un conjunto de zonas ($M$), de las cuales se puede extraer un conjunto de diferentes tipos de carbón ($K:\\{1$: Antracita, $2$: Hulla, $3$: Turba, $4$: Lignito$\\})$. Se sabe que de la zona $i\\in M$ sólo puede extraerse el carbón tipo $j\\in K$. Para ello, suponga que $a_{ij}$ es un parámetro binario que toma el valor de 1 si en la zona $i\\in M$ se puede extraer carbón del tipo $j\\in K$ y 0 en el caso contrario. La Figura 1 presenta un ejemplo en el cual hay 36 zonas y 4 tipos de carbón. Por ejemplo, para la zona uno se tiene que $a_{11}=0$, $a_{12}=1$, $a_{13}=0$ y $a_{14}=0$ ya que de la zona 1 sólo puede extraerse el tipo de carbón 2 (hulla)."
   ]
  },
  {
   "cell_type": "markdown",
   "id": "d862bf13",
   "metadata": {},
   "source": [
    "$$\n",
    "\\bbox[5px, border:2px solid black]{\n",
    "\\begin{array} {cccccc}\n",
    "    \\bbox[SkyBlue, 5px, border:2px solid SkyBlue]{\\ 1\\ } & \\bbox[SkyBlue, 5px, border:2px solid SkyBlue]{\\ 2\\ } & \\bbox[PaleGreen, 5px, border:2px solid PaleGreen]{\\ 3\\ } & \\bbox[PaleGreen, 5px, border:2px solid PaleGreen]{\\ 4\\ } & \\bbox[SkyBlue, 5px, border:2px solid SkyBlue]{\\ 5\\ } & \\bbox[PaleGreen, 5px, border:2px solid PaleGreen]{\\ 6\\ } \\\\\n",
    "    \\bbox[SkyBlue, 5px, border:2px solid SkyBlue]{\\ 7\\ } & \\bbox[SkyBlue, 5px, border:2px solid SkyBlue]{\\ 8\\ } & \\bbox[Plum, 5px, border:2px solid Plum]{\\ 9\\ } & \\bbox[Plum, 5px, border:2px solid Plum]{10} & \\bbox[SkyBlue, 5px, border:2px solid SkyBlue]{11} & \\bbox[PaleGreen, 5px, border:2px solid PaleGreen]{12} \\\\\n",
    "    \\bbox[Plum, 5px, border:2px solid Plum]{13} & \\bbox[PaleGreen, 5px, border:2px solid PaleGreen]{14} & \\bbox[PaleGreen, 5px, border:2px solid PaleGreen]{15} & \\bbox[SkyBlue, 5px, border:2px solid SkyBlue]{16} & \\bbox[SkyBlue, 5px, border:2px solid SkyBlue]{17} & \\bbox[PaleGreen, 5px, border:2px solid PaleGreen]{18} \\\\\n",
    "    \\bbox[Plum, 5px, border:2px solid Plum]{19} & \\bbox[LightGoldenRodYellow, 5px, border:2px solid LightGoldenRodYellow]{20} & \\bbox[PaleGreen, 5px, border:2px solid PaleGreen]{21} & \\bbox[Plum, 5px, border:2px solid Plum]{22} & \\bbox[Plum, 5px, border:2px solid Plum]{23} & \\bbox[Plum, 5px, border:2px solid Plum]{24} \\\\\n",
    "    \\bbox[Plum, 5px, border:2px solid Plum]{25} & \\bbox[PaleGreen, 5px, border:2px solid PaleGreen]{26} & \\bbox[PaleGreen, 5px, border:2px solid PaleGreen]{27} & \\bbox[LightGoldenRodYellow, 5px, border:2px solid LightGoldenRodYellow]{28} & \\bbox[LightGoldenRodYellow, 5px, border:2px solid LightGoldenRodYellow]{29} & \\bbox[LightGoldenRodYellow, 5px, border:2px solid LightGoldenRodYellow]{30} \\\\\n",
    "    \\bbox[SkyBlue, 5px, border:2px solid SkyBlue]{31} & \\bbox[PaleGreen, 5px, border:2px solid PaleGreen]{32} & \\bbox[SkyBlue, 5px, border:2px solid SkyBlue]{33} & \\bbox[Plum, 5px, border:2px solid Plum]{34} & \\bbox[LightGoldenRodYellow, 5px, border:2px solid LightGoldenRodYellow]{35} & \\bbox[Plum, 5px, border:2px solid Plum]{36} \\\\\n",
    "\\end{array}\n",
    "}\n",
    "$$"
   ]
  },
  {
   "cell_type": "markdown",
   "id": "39cf3deb",
   "metadata": {},
   "source": [
    "$$\n",
    "\\bbox[5px, border:2px solid black]{\n",
    "\\begin{array} {cccc}\n",
    "    \\bbox[Plum, 5px, border:2px solid Plum]{\\ \\text{1: Antracita}\\ } & \\bbox[SkyBlue, 5px, border:2px solid SkyBlue]{\\ \\text{2: Hulla}\\ } & \\bbox[PaleGreen, 5px, border:2px solid PaleGreen]{\\ \\text{3: Turba}\\ } & \\bbox[LightGoldenRodYellow, 5px, border:2px solid LightGoldenRodYellow]{\\ \\text{4: Lignito}\\ }\n",
    "\\end{array}\n",
    "}\n",
    "$$"
   ]
  },
  {
   "cell_type": "markdown",
   "id": "be67b3f5",
   "metadata": {},
   "source": [
    "Cada tonelada de carbón extraída de la zona $i\\in M$ le cuesta a la empresa $c_i$ pesos.  Adicionalmente, cada zona tiene una capacidad máxima de extracción de carbón de $n_i$ toneladas. La Tabla 1 muestra la información de capacidades máximas y costos para cada zona."
   ]
  },
  {
   "cell_type": "markdown",
   "id": "066570b5",
   "metadata": {},
   "source": [
    "<p style=\"text-align: center;\"><b>Tabla 1. Información de extracción de cada zona</b></p>"
   ]
  },
  {
   "cell_type": "markdown",
   "id": "4d195459",
   "metadata": {},
   "source": [
    "|Zona|Capacidad máxima de extracción de carbón (ton)|Costo por tonelada de carbón extraído ($)|\n",
    "|:--:|:--------------------------------------------:|:--------------------------------------:|\n",
    "|1|189|16|\n",
    "|2|196|6|\n",
    "|3|143|11|\n",
    "|4|136|8|\n",
    "|5|106|5|\n",
    "|6|151|25|\n",
    "|7|170|16|\n",
    "|8|129|17|\n",
    "|9|184|25|\n",
    "|10|122|8|\n",
    "|11|146|15|\n",
    "|12|190|8|\n",
    "|13|160|10|\n",
    "|14|109|20|\n",
    "|15|133|6|\n",
    "|16|198|17|\n",
    "|17|138|6|\n",
    "|18|107|20|\n",
    "|19|117|5|\n",
    "|20|150|8|\n",
    "|21|171|25|\n",
    "|22|103|11|\n",
    "|23|157|8|\n",
    "|24|143|7|\n",
    "|25|170|7|\n",
    "|26|130|28|\n",
    "|27|140|26|\n",
    "|28|126|27|\n",
    "|29|180|9|\n",
    "|30|153|24|\n",
    "|31|108|15|\n",
    "|32|132|14|\n",
    "|33|105|22|\n",
    "|34|145|20|\n",
    "|35|145|19|\n",
    "|36|114|8|"
   ]
  },
  {
   "cell_type": "markdown",
   "id": "3135e930",
   "metadata": {},
   "source": [
    "Por último. Supon que las directivas desean explotar un mínimo de $b_j$ toneladas de cada tipo de carbón $j\\in K$. La Tabla 2 presenta dichas cantidades."
   ]
  },
  {
   "cell_type": "markdown",
   "id": "d70b7fc3",
   "metadata": {},
   "source": [
    "<p style=\"text-align: center;\"><b>Tabla 2. Requerimiento mínimo de cada tipo de carbón</b></p>"
   ]
  },
  {
   "cell_type": "markdown",
   "id": "ae6b3cd2",
   "metadata": {},
   "source": [
    "|Tipo de carbón|Mínimo de toneladas a explotar|\n",
    "|:------------:|:----------------------------:|\n",
    "|Antracita|862|\n",
    "|Huila|898|\n",
    "|Turba|562|\n",
    "|Lignito|742|"
   ]
  },
  {
   "cell_type": "markdown",
   "id": "f5227b1b",
   "metadata": {},
   "source": [
    "Formula un programa lineal que le permita a la empresa decidir cuánto deben extraer en cada zona de manera que se cumplan los requerimientos a un mínimo costo."
   ]
  },
  {
   "cell_type": "markdown",
   "id": "linear-shadow",
   "metadata": {},
   "source": [
    "### Formulación"
   ]
  },
  {
   "cell_type": "markdown",
   "id": "f08dc1b9",
   "metadata": {},
   "source": [
    "**a.** Formula matemáticamente un modelo de optimización de forma general que represente la\n",
    "situación anterior. Defina clara y rigurosamente:\n",
    "- Conjuntos\n",
    "- Parámetros\n",
    "- Variables de decisión\n",
    "- Restricciones\n",
    "- Naturaleza de las variables\n",
    "- Función objetivo"
   ]
  },
  {
   "cell_type": "markdown",
   "id": "6af5479a",
   "metadata": {},
   "source": [
    "#### Conjuntos"
   ]
  },
  {
   "cell_type": "markdown",
   "id": "13a72a2d",
   "metadata": {},
   "source": [
    "- $M$: Zonas\n",
    "- $K$: Tipos de carbón"
   ]
  },
  {
   "cell_type": "markdown",
   "id": "c475ff6e",
   "metadata": {},
   "source": [
    "#### Parámetros"
   ]
  },
  {
   "cell_type": "markdown",
   "id": "8f29ae07",
   "metadata": {},
   "source": [
    "- $a_{ij}:\\begin{cases}1\\text{,}&\\text{ si en la zona }i\\in M\\text{ se puede extraer carbón del tipo }j\\in K \\\\ 0\\text{,}& \\text{ d.l.c}  \\end{cases}$\n",
    "- $c_i$: costo por cada tonelada de carbón extraída en la zona $i\\in M$  \n",
    "- $n_i$: capacidad máxima de extracción de carbón (en toneladas) en la zona $i\\in M$\n",
    "- $b_j$: mínimo de toneladas a explotar del tipo de carbón $j\\in K$"
   ]
  },
  {
   "cell_type": "markdown",
   "id": "loaded-equipment",
   "metadata": {},
   "source": [
    "#### Variables de decisión"
   ]
  },
  {
   "cell_type": "markdown",
   "id": "1bc25043",
   "metadata": {},
   "source": [
    "- $x_i$: toneladas de carbón extraído en la zona $i\\in M$"
   ]
  },
  {
   "cell_type": "markdown",
   "id": "north-language",
   "metadata": {},
   "source": [
    "#### Restricciones"
   ]
  },
  {
   "cell_type": "markdown",
   "id": "4f32dcfb",
   "metadata": {},
   "source": [
    "Se garantiza que la cantidad de carbón extraído del tipo $j\\in K$ sea como mínimo $b_j$:"
   ]
  },
  {
   "cell_type": "markdown",
   "id": "30421633",
   "metadata": {},
   "source": [
    "$$\n",
    "\\sum_{i\\in M\\vert a_{ij} = 1}x_i \\ge b_j,\\ \\forall j\\in K;\n",
    "$$"
   ]
  },
  {
   "cell_type": "markdown",
   "id": "b887c1df",
   "metadata": {},
   "source": [
    "Se garantiza que no se puedan extraer más de $n_i$ toneladas de carbón en la zona $i\\in M$:"
   ]
  },
  {
   "cell_type": "markdown",
   "id": "b25a0914",
   "metadata": {},
   "source": [
    "$$\n",
    "x_i \\le n_i,\\ \\forall i\\in M;\n",
    "$$"
   ]
  },
  {
   "cell_type": "markdown",
   "id": "descending-testament",
   "metadata": {},
   "source": [
    "#### Naturaleza de las Variables"
   ]
  },
  {
   "cell_type": "markdown",
   "id": "3afe878f",
   "metadata": {},
   "source": [
    "Solo pueden extraerse cantidades positivas de carbón de cada zona $i\\in M$:"
   ]
  },
  {
   "cell_type": "markdown",
   "id": "ab683fc4",
   "metadata": {},
   "source": [
    "$$\n",
    "x_i \\ge 0,\\ \\forall i\\in M;\n",
    "$$"
   ]
  },
  {
   "cell_type": "markdown",
   "id": "voluntary-couple",
   "metadata": {},
   "source": [
    "#### Función objetivo"
   ]
  },
  {
   "cell_type": "markdown",
   "id": "654e3236",
   "metadata": {},
   "source": [
    "Debe minimizarse el costo total de extracción:"
   ]
  },
  {
   "cell_type": "markdown",
   "id": "04f2072f",
   "metadata": {},
   "source": [
    "$$\n",
    "\\operatorname{mín}\\ \\sum_{i\\in M}c_{i}x_{i}\n",
    "$$"
   ]
  },
  {
   "cell_type": "markdown",
   "id": "geographic-header",
   "metadata": {},
   "source": [
    "### Implementación"
   ]
  },
  {
   "cell_type": "markdown",
   "id": "4725d708",
   "metadata": {},
   "source": [
    "**b.** Resuelve el modelo planteado utilizando la librería de PuLP en Python. ¿Cuál es la solución óptima del problema? "
   ]
  },
  {
   "cell_type": "markdown",
   "id": "2a1a82c3",
   "metadata": {},
   "source": [
    "#### Librerías"
   ]
  },
  {
   "cell_type": "markdown",
   "id": "f597d592",
   "metadata": {},
   "source": [
    "Importa la librería `pulp` para crear y resolver el modelo."
   ]
  },
  {
   "cell_type": "code",
   "execution_count": 2,
   "id": "323a0476",
   "metadata": {},
   "outputs": [],
   "source": [
    "import pulp as lp"
   ]
  },
  {
   "cell_type": "markdown",
   "id": "837873b4",
   "metadata": {},
   "source": [
    "#### Conjuntos"
   ]
  },
  {
   "cell_type": "markdown",
   "id": "48fddac0",
   "metadata": {},
   "source": [
    "Define los conjuntos `M` y `K` que representan las zonas y los tipos de carbón respectivamente.\n",
    "\n",
    "Recuerda que por conveniencia de preservar el orden de los elementos de los conjuntos, no siempre deberás definirlos con el tipo `set`."
   ]
  },
  {
   "cell_type": "code",
   "execution_count": 3,
   "id": "d9209bb7",
   "metadata": {},
   "outputs": [],
   "source": [
    "# Zonas\n",
    "M = list(range(1, 37))\n",
    "\n",
    "# Tipos de carbón\n",
    "K = [\"Antracita\", \"Hulla\", \"Turba\", \"Lignito\"]"
   ]
  },
  {
   "cell_type": "markdown",
   "id": "8c58ff99",
   "metadata": {},
   "source": [
    "#### Parámetros"
   ]
  },
  {
   "cell_type": "markdown",
   "id": "d981d80d",
   "metadata": {},
   "source": [
    "Define o importa los parámetros del modelo."
   ]
  },
  {
   "cell_type": "code",
   "execution_count": 4,
   "id": "16df6fb4",
   "metadata": {},
   "outputs": [],
   "source": [
    "# Si en la zona i en M se puede extraer carbón tipo j en K\n",
    "a = {\n",
    "    (1, \"Hulla\"): 1,\n",
    "    (2, \"Hulla\"): 1,\n",
    "    (3, \"Turba\"): 1,\n",
    "    (4, \"Turba\"): 1,\n",
    "    (5, \"Hulla\"): 1,\n",
    "    (6, \"Turba\"): 1,\n",
    "    (7, \"Hulla\"): 1,\n",
    "    (8, \"Hulla\"): 1,\n",
    "    (9, \"Antracita\"): 1,\n",
    "    (10, \"Antracita\"): 1,\n",
    "    (11, \"Hulla\"): 1,\n",
    "    (12, \"Turba\"): 1,\n",
    "    (13, \"Antracita\"): 1,\n",
    "    (14, \"Turba\"): 1,\n",
    "    (15, \"Turba\"): 1,\n",
    "    (16, \"Hulla\"): 1,\n",
    "    (17, \"Hulla\"): 1,\n",
    "    (18, \"Turba\"): 1,\n",
    "    (19, \"Antracita\"): 1,\n",
    "    (20, \"Lignito\"): 1,\n",
    "    (21, \"Turba\"): 1,\n",
    "    (22, \"Antracita\"): 1,\n",
    "    (23, \"Antracita\"): 1,\n",
    "    (24, \"Antracita\"): 1,\n",
    "    (25, \"Antracita\"): 1,\n",
    "    (26, \"Turba\"): 1,\n",
    "    (27, \"Turba\"): 1,\n",
    "    (28, \"Lignito\"): 1,\n",
    "    (29, \"Lignito\"): 1,\n",
    "    (30, \"Lignito\"): 1,\n",
    "    (31, \"Hulla\"): 1,\n",
    "    (32, \"Turba\"): 1,\n",
    "    (33, \"Hulla\"): 1,\n",
    "    (34, \"Antracita\"): 1,\n",
    "    (35, \"Lignito\"): 1,\n",
    "    (36, \"Antracita\"): 1,\n",
    "}\n",
    "\n",
    "for i in M:\n",
    "    for j in K:\n",
    "        if (i, j) not in a:\n",
    "            a[i, j] = 0\n",
    "\n",
    "# Costo por tonelada de carbón en la zona i en M\n",
    "c = {\n",
    "    1: 16,\n",
    "    2: 6,\n",
    "    3: 11,\n",
    "    4: 8,\n",
    "    5: 5,\n",
    "    6: 25,\n",
    "    7: 16,\n",
    "    8: 17,\n",
    "    9: 25,\n",
    "    10: 8,\n",
    "    11: 15,\n",
    "    12: 8,\n",
    "    13: 10,\n",
    "    14: 20,\n",
    "    15: 6,\n",
    "    16: 17,\n",
    "    17: 6,\n",
    "    18: 20,\n",
    "    19: 5,\n",
    "    20: 8,\n",
    "    21: 25,\n",
    "    22: 11,\n",
    "    23: 8,\n",
    "    24: 7,\n",
    "    25: 7,\n",
    "    26: 28,\n",
    "    27: 26,\n",
    "    28: 27,\n",
    "    29: 9,\n",
    "    30: 24,\n",
    "    31: 15,\n",
    "    32: 14,\n",
    "    33: 22,\n",
    "    34: 20,\n",
    "    35: 19,\n",
    "    36: 8,\n",
    "}\n",
    "\n",
    "# Máximas toneladas a extraer de la zona i en M\n",
    "n = {\n",
    "    1: 189,\n",
    "    2: 196,\n",
    "    3: 143,\n",
    "    4: 136,\n",
    "    5: 106,\n",
    "    6: 151,\n",
    "    7: 170,\n",
    "    8: 129,\n",
    "    9: 184,\n",
    "    10: 122,\n",
    "    11: 146,\n",
    "    12: 190,\n",
    "    13: 160,\n",
    "    14: 109,\n",
    "    15: 133,\n",
    "    16: 198,\n",
    "    17: 138,\n",
    "    18: 107,\n",
    "    19: 117,\n",
    "    20: 150,\n",
    "    21: 171,\n",
    "    22: 103,\n",
    "    23: 157,\n",
    "    24: 143,\n",
    "    25: 170,\n",
    "    26: 130,\n",
    "    27: 140,\n",
    "    28: 126,\n",
    "    29: 180,\n",
    "    30: 153,\n",
    "    31: 108,\n",
    "    32: 132,\n",
    "    33: 105,\n",
    "    34: 145,\n",
    "    35: 145,\n",
    "    36: 114,\n",
    "}\n",
    "\n",
    "# Mínimo de toneladas a explotar del tipo de carbón j en K\n",
    "b = {\n",
    "    \"Antracita\": 862,\n",
    "    \"Hulla\": 898,\n",
    "    \"Turba\": 562,\n",
    "    \"Lignito\": 742,\n",
    "}"
   ]
  },
  {
   "cell_type": "markdown",
   "id": "70fd6598",
   "metadata": {},
   "source": [
    "#### Objeto del modelo"
   ]
  },
  {
   "cell_type": "markdown",
   "id": "aa975e80",
   "metadata": {},
   "source": [
    "Construye un problema al que luego agregarás las restricciones y la función objetivo."
   ]
  },
  {
   "cell_type": "code",
   "execution_count": 5,
   "id": "a1501b81",
   "metadata": {},
   "outputs": [],
   "source": [
    "problema = lp.LpProblem(name=\"extraccion_minera\", sense=lp.LpMinimize)"
   ]
  },
  {
   "cell_type": "markdown",
   "id": "970af788",
   "metadata": {},
   "source": [
    "#### Variables de decisión"
   ]
  },
  {
   "cell_type": "markdown",
   "id": "1e670ec8",
   "metadata": {},
   "source": [
    "Define las variables del problema de manera que estén contenidas en diccionarios indexados en los conjuntos de sus variables respectivas."
   ]
  },
  {
   "cell_type": "code",
   "execution_count": 6,
   "id": "e1febe93",
   "metadata": {},
   "outputs": [],
   "source": [
    "# Toneladas a extraer de la zona i en M\n",
    "x = {\n",
    "    i: lp.LpVariable(\n",
    "        name=f\"extraccion_zona_{i}\", lowBound=0, upBound=None, cat=lp.LpContinuous\n",
    "    )\n",
    "    for i in M\n",
    "}"
   ]
  },
  {
   "cell_type": "markdown",
   "id": "f843462c",
   "metadata": {},
   "source": [
    "#### Función objetivo"
   ]
  },
  {
   "cell_type": "markdown",
   "id": "97df9059",
   "metadata": {},
   "source": [
    "Agrega al problema la función objetivo. Recuerda que al definir el problema, ya definiste si este es de maximización o minimización."
   ]
  },
  {
   "cell_type": "code",
   "execution_count": 7,
   "id": "2fd8a365",
   "metadata": {},
   "outputs": [],
   "source": [
    "problema += sum(c[i] * x[i] for i in M), \"costo_total\""
   ]
  },
  {
   "cell_type": "markdown",
   "id": "89f524db",
   "metadata": {},
   "source": [
    "#### Restricciones"
   ]
  },
  {
   "cell_type": "markdown",
   "id": "77e7e409",
   "metadata": {},
   "source": [
    "Agrega al problema las restricciones del modelo."
   ]
  },
  {
   "cell_type": "code",
   "execution_count": 8,
   "id": "f986d5ee",
   "metadata": {},
   "outputs": [],
   "source": [
    "# Garantiza el mínimo de toneladas extraidas del tipo de carbón j en K\n",
    "for j in K:\n",
    "    problema += (\n",
    "        sum(x[i] for i in M if a[i, j] == 1) >= b[j],\n",
    "        f\"minimo_toneladas_extracción_carbon_{j}\",\n",
    "    )\n",
    "\n",
    "# Garantiza el máximo de toneladas de carbón que se pueden extraer de la zona i en M\n",
    "for i in M:\n",
    "    problema += x[i] <= n[i], f\"maximo_toneladas_extraccion_zona_{i}\""
   ]
  },
  {
   "cell_type": "markdown",
   "id": "265a2a10",
   "metadata": {},
   "source": [
    "#### Resolver el problema"
   ]
  },
  {
   "cell_type": "markdown",
   "id": "d7661201",
   "metadata": {},
   "source": [
    "Invoca el optimizador. Este paso le asigna un valor a las variables incluidas en las restricciones o función objetivo del modelo."
   ]
  },
  {
   "cell_type": "code",
   "execution_count": 9,
   "id": "ae811704",
   "metadata": {},
   "outputs": [
    {
     "name": "stdout",
     "output_type": "stream",
     "text": [
      "Welcome to the CBC MILP Solver \n",
      "Version: 2.10.8 \n",
      "Build Date: May  6 2022 \n",
      "\n",
      "command line - cbc /tmp/8c75363cf96c403e9e83a497a39444a7-pulp.mps timeMode elapsed branch printingOptions all solution /tmp/8c75363cf96c403e9e83a497a39444a7-pulp.sol (default strategy 1)\n",
      "At line 2 NAME          MODEL\n",
      "At line 3 ROWS\n",
      "At line 45 COLUMNS\n",
      "At line 154 RHS\n",
      "At line 195 BOUNDS\n",
      "At line 196 ENDATA\n",
      "Problem MODEL has 40 rows, 36 columns and 72 elements\n",
      "Coin0008I MODEL read with 0 errors\n",
      "Option for timeMode changed from cpu to elapsed\n",
      "Presolve 4 (-36) rows, 33 (-3) columns and 33 (-39) elements\n",
      "0  Obj 11596.299 Primal inf 2370.5 (4)\n",
      "5  Obj 32782\n",
      "Optimal - objective value 32782\n",
      "After Postsolve, objective 32782, infeasibilities - dual 0 (0), primal 0 (0)\n",
      "Optimal objective 32782 - 5 iterations time 0.002, Presolve 0.00\n",
      "Option for printingOptions changed from normal to all\n",
      "Total time (CPU seconds):       0.00   (Wallclock seconds):       0.00\n",
      "\n"
     ]
    },
    {
     "data": {
      "text/plain": [
       "1"
      ]
     },
     "execution_count": 9,
     "metadata": {},
     "output_type": "execute_result"
    }
   ],
   "source": [
    "problema.solve()"
   ]
  },
  {
   "cell_type": "markdown",
   "id": "655b238a",
   "metadata": {},
   "source": [
    "#### Imprimir resultados"
   ]
  },
  {
   "cell_type": "markdown",
   "id": "8a7a8a35",
   "metadata": {},
   "source": [
    "Antes de estudiar el óptimo del modelo, identifica en el estado del optimizador si pudo resolver el problema."
   ]
  },
  {
   "cell_type": "code",
   "execution_count": 10,
   "id": "whole-trust",
   "metadata": {},
   "outputs": [
    {
     "data": {
      "text/plain": [
       "'Estado del optimizador: Optimal'"
      ]
     },
     "execution_count": 10,
     "metadata": {},
     "output_type": "execute_result"
    }
   ],
   "source": [
    "f\"Estado del optimizador: {lp.LpStatus[problema.status]}\""
   ]
  },
  {
   "cell_type": "markdown",
   "id": "ea6fe01e",
   "metadata": {},
   "source": [
    "Identifica también el valor de la función objetivo."
   ]
  },
  {
   "cell_type": "code",
   "execution_count": 11,
   "id": "11b75d2c",
   "metadata": {},
   "outputs": [
    {
     "data": {
      "text/plain": [
       "'Costo total: 32782.0'"
      ]
     },
     "execution_count": 11,
     "metadata": {},
     "output_type": "execute_result"
    }
   ],
   "source": [
    "f\"Costo total: {lp.value(problema.objective)}\""
   ]
  },
  {
   "cell_type": "markdown",
   "id": "6e59d608",
   "metadata": {},
   "source": [
    "Por último, imprime de manera estructurada el valor de las variables de decisión y otras expresiones de interés."
   ]
  },
  {
   "cell_type": "code",
   "execution_count": 12,
   "id": "ad53e1be",
   "metadata": {},
   "outputs": [
    {
     "name": "stdout",
     "output_type": "stream",
     "text": [
      "1: 189.0 toneladas de Hulla\n",
      "2: 196.0 toneladas de Hulla\n",
      "3: 103.0 toneladas de Turba\n",
      "4: 136.0 toneladas de Turba\n",
      "5: 106.0 toneladas de Hulla\n",
      "7: 15.0 toneladas de Hulla\n",
      "10: 122.0 toneladas de Antracita\n",
      "11: 146.0 toneladas de Hulla\n",
      "12: 190.0 toneladas de Turba\n",
      "13: 39.0 toneladas de Antracita\n",
      "15: 133.0 toneladas de Turba\n",
      "17: 138.0 toneladas de Hulla\n",
      "19: 117.0 toneladas de Antracita\n",
      "20: 150.0 toneladas de Lignito\n",
      "23: 157.0 toneladas de Antracita\n",
      "24: 143.0 toneladas de Antracita\n",
      "25: 170.0 toneladas de Antracita\n",
      "28: 114.0 toneladas de Lignito\n",
      "29: 180.0 toneladas de Lignito\n",
      "30: 153.0 toneladas de Lignito\n",
      "31: 108.0 toneladas de Hulla\n",
      "35: 145.0 toneladas de Lignito\n",
      "36: 114.0 toneladas de Antracita\n"
     ]
    }
   ],
   "source": [
    "for i in M:\n",
    "    if lp.value(x[i]) >= 0.1:\n",
    "        for j in K:\n",
    "            if a[i, j] == 1:\n",
    "                print(f\"{i}: {lp.value(x[i])} toneladas de {j}\")"
   ]
  },
  {
   "cell_type": "markdown",
   "id": "b9cbb6c3",
   "metadata": {},
   "source": [
    "## Enunciado - Punto 2"
   ]
  },
  {
   "cell_type": "markdown",
   "id": "ebd8f59a",
   "metadata": {},
   "source": [
    "Ahora considera el escenario en que la empresa incurre en un costo fijo de $q_i$ pesos cuando decide extraer carbón de la zona $i\\in M$. Por lo tanto, si se decide explotar la mina $i\\in M$, no se pueden extraer más de ($n_i$) toneladas de carbón. Pero si no se decide explotar, la extracción de carbón en esa zona debe ser igual a cero (0). La Tabla 3 presenta la información sobre los costos fijos de extraer cada zona."
   ]
  },
  {
   "cell_type": "markdown",
   "id": "f2ba62c0",
   "metadata": {},
   "source": [
    "<p style=\"text-align: center;\"><b>Tabla 3. Costo fijo por extracción para cada zona</b></p>"
   ]
  },
  {
   "cell_type": "markdown",
   "id": "fe645d52",
   "metadata": {},
   "source": [
    "|Zona|Costo fijo de extracción en la zona|\n",
    "|:--:|:---------------------------------:|\n",
    "|1|240|\n",
    "|2|155|\n",
    "|3|240|\n",
    "|4|125|\n",
    "|5|177|\n",
    "|6|342|\n",
    "|7|157|\n",
    "|8|457|\n",
    "|9|396|\n",
    "|10|411|\n",
    "|11|341|\n",
    "|12|469|\n",
    "|13|402|\n",
    "|14|186|\n",
    "|15|404|\n",
    "|16|344|\n",
    "|17|290|\n",
    "|18|340|\n",
    "|19|482|\n",
    "|20|472|\n",
    "|21|394|\n",
    "|22|102|\n",
    "|23|330|\n",
    "|24|433|\n",
    "|25|205|\n",
    "|26|394|\n",
    "|27|156|\n",
    "|28|298|\n",
    "|29|134|\n",
    "|30|462|\n",
    "|31|432|\n",
    "|32|362|\n",
    "|33|127|\n",
    "|34|203|\n",
    "|35|417|\n",
    "|36|215|"
   ]
  },
  {
   "cell_type": "markdown",
   "id": "191f29f2",
   "metadata": {},
   "source": [
    "### Formulación"
   ]
  },
  {
   "cell_type": "markdown",
   "id": "a18f6486",
   "metadata": {},
   "source": [
    "**a.** Agrega a la formulación matemática los componentes de un modelo de optimización de forma general que represente la nueva situación. Defina clara y rigurosamente:\n",
    "- Conjuntos\n",
    "- Parámetros\n",
    "- Variables de decisión\n",
    "- Restricciones\n",
    "- Naturaleza de las variables\n",
    "- Función objetivo"
   ]
  },
  {
   "cell_type": "markdown",
   "id": "dcdd3cb0",
   "metadata": {},
   "source": [
    "#### Conjuntos"
   ]
  },
  {
   "cell_type": "markdown",
   "id": "6d02c000",
   "metadata": {},
   "source": [
    "- $M$: Zonas\n",
    "- $K$: Tipos de carbón"
   ]
  },
  {
   "cell_type": "markdown",
   "id": "9a7d52b3",
   "metadata": {},
   "source": [
    "#### Parámetros"
   ]
  },
  {
   "cell_type": "markdown",
   "id": "da442f02",
   "metadata": {},
   "source": [
    "- $a_{ij}:\\begin{cases}1\\text{,}&\\text{ si en la zona }i\\in M\\text{ se puede extraer carbón del tipo }j\\in K \\\\ 0\\text{,}& \\text{ d.l.c}  \\end{cases}$\n",
    "- $c_i$: costo por cada tonelada de carbón extraída en la zona $i\\in M$  \n",
    "- $n_i$: capacidad máxima de extracción de carbón (en toneladas) en la zona $i\\in M$\n",
    "- $b_j$: mínimo de toneladas a explotar del tipo de carbón $j\\in K$\n",
    "- $q_i$: costo fijo si se decide extraer carbón de la zona $i\\in M$"
   ]
  },
  {
   "cell_type": "markdown",
   "id": "7c1e4bb9",
   "metadata": {},
   "source": [
    "#### Variables de decisión"
   ]
  },
  {
   "cell_type": "markdown",
   "id": "52ff0e8a",
   "metadata": {},
   "source": [
    "- $x_i$: toneladas de carbón extraído en la zona $i\\in M$\n",
    "- $y_i:\\begin{cases}\n",
    "    1\\text{,}&\\text{si se decide explotar la zona }i\\in M \\\\ 0\\text{,}& \\text{d.l.c}\n",
    "\\end{cases}$"
   ]
  },
  {
   "cell_type": "markdown",
   "id": "ea176cd4",
   "metadata": {},
   "source": [
    "#### Restricciones"
   ]
  },
  {
   "cell_type": "markdown",
   "id": "e4348a40",
   "metadata": {},
   "source": [
    "Se garantiza que la cantidad de carbón extraído del tipo $j\\in K$ sea como mínimo $b_j$:"
   ]
  },
  {
   "cell_type": "markdown",
   "id": "d8042f2a",
   "metadata": {},
   "source": [
    "$$\n",
    "\\sum_{i\\in M\\vert a_{ij} = 1}x_i \\ge b_j,\\ \\forall j\\in K;\n",
    "$$"
   ]
  },
  {
   "cell_type": "markdown",
   "id": "c943cd87",
   "metadata": {},
   "source": [
    "Se garantiza que no se puedan extraer más de $n_i$ toneladas de carbón en la zona $i\\in M$, 0 si  no se decide explotar la zona:"
   ]
  },
  {
   "cell_type": "markdown",
   "id": "ef0fc171",
   "metadata": {},
   "source": [
    "$$\n",
    "x_i \\le n_{i}y_{i},\\ \\forall i\\in M;\n",
    "$$"
   ]
  },
  {
   "cell_type": "markdown",
   "id": "6d247869",
   "metadata": {},
   "source": [
    "#### Naturaleza de las Variables"
   ]
  },
  {
   "cell_type": "markdown",
   "id": "230fc664",
   "metadata": {},
   "source": [
    "Solo pueden extraerse cantidades positivas de carbón de cada zona $i\\in M$:"
   ]
  },
  {
   "cell_type": "markdown",
   "id": "5c06bcb1",
   "metadata": {},
   "source": [
    "$$\n",
    "x_i \\ge 0,\\ \\forall i\\in M;\n",
    "$$"
   ]
  },
  {
   "cell_type": "markdown",
   "id": "462deb54",
   "metadata": {},
   "source": [
    "Cada zona $i\\in M$ puede o no ser explotada:"
   ]
  },
  {
   "cell_type": "markdown",
   "id": "915400f8",
   "metadata": {},
   "source": [
    "$$\n",
    "    y_{i} \\in \\{0, 1\\},\\ \\forall i \\in M;\n",
    "$$"
   ]
  },
  {
   "cell_type": "markdown",
   "id": "d298d25d",
   "metadata": {},
   "source": [
    "#### Función objetivo"
   ]
  },
  {
   "cell_type": "markdown",
   "id": "8a13db21",
   "metadata": {},
   "source": [
    "Debe minimizarse el costo total de extracción y explotación:"
   ]
  },
  {
   "cell_type": "markdown",
   "id": "a48b6f07",
   "metadata": {},
   "source": [
    "$$\n",
    "    \\operatorname{mín}\\ \\sum_{i\\in M}c_{i}x_{i} + q_{i}y_{i}.\n",
    "$$"
   ]
  },
  {
   "cell_type": "markdown",
   "id": "552c3bcd",
   "metadata": {},
   "source": [
    "### Implementación"
   ]
  },
  {
   "cell_type": "markdown",
   "id": "1144378e",
   "metadata": {},
   "source": [
    "**b.** Resuelve el nuevo modelo planteado utilizando la librería de PuLP en Python. ¿Cuál es la solución óptima del problema? "
   ]
  },
  {
   "cell_type": "markdown",
   "id": "4048c1f0",
   "metadata": {},
   "source": [
    "#### Librerías"
   ]
  },
  {
   "cell_type": "markdown",
   "id": "fbb93c28",
   "metadata": {},
   "source": [
    "Importa la librería `pulp` para crear y resolver el modelo."
   ]
  },
  {
   "cell_type": "code",
   "execution_count": 13,
   "id": "8fbb6b6a",
   "metadata": {},
   "outputs": [],
   "source": [
    "import pulp as lp"
   ]
  },
  {
   "cell_type": "markdown",
   "id": "5d1f5d4c",
   "metadata": {},
   "source": [
    "#### Conjuntos"
   ]
  },
  {
   "cell_type": "markdown",
   "id": "ef0d0c19",
   "metadata": {},
   "source": [
    "Define los conjuntos `M` y `K` que representan las zonas y los tipos de carbón respectivamente.\n",
    "\n",
    "Recuerda que por conveniencia de preservar el orden de los elementos de los conjuntos, no siempre deberás definirlos con el tipo `set`."
   ]
  },
  {
   "cell_type": "code",
   "execution_count": 14,
   "id": "250a631e",
   "metadata": {},
   "outputs": [],
   "source": [
    "# Zonas\n",
    "M = list(range(1, 37))\n",
    "\n",
    "# Tipos de carbón\n",
    "K = [\"Antracita\", \"Hulla\", \"Turba\", \"Lignito\"]"
   ]
  },
  {
   "cell_type": "markdown",
   "id": "db406139",
   "metadata": {},
   "source": [
    "#### Parámetros"
   ]
  },
  {
   "cell_type": "markdown",
   "id": "9bb7318b",
   "metadata": {},
   "source": [
    "Define o importa los parámetros del modelo."
   ]
  },
  {
   "cell_type": "code",
   "execution_count": 15,
   "id": "aca03a41",
   "metadata": {},
   "outputs": [],
   "source": [
    "# Si en la zona i en M se puede extraer carbón tipo j en K\n",
    "a = {\n",
    "    (1, \"Hulla\"): 1,\n",
    "    (2, \"Hulla\"): 1,\n",
    "    (3, \"Turba\"): 1,\n",
    "    (4, \"Turba\"): 1,\n",
    "    (5, \"Hulla\"): 1,\n",
    "    (6, \"Turba\"): 1,\n",
    "    (7, \"Hulla\"): 1,\n",
    "    (8, \"Hulla\"): 1,\n",
    "    (9, \"Antracita\"): 1,\n",
    "    (10, \"Antracita\"): 1,\n",
    "    (11, \"Hulla\"): 1,\n",
    "    (12, \"Turba\"): 1,\n",
    "    (13, \"Antracita\"): 1,\n",
    "    (14, \"Turba\"): 1,\n",
    "    (15, \"Turba\"): 1,\n",
    "    (16, \"Hulla\"): 1,\n",
    "    (17, \"Hulla\"): 1,\n",
    "    (18, \"Turba\"): 1,\n",
    "    (19, \"Antracita\"): 1,\n",
    "    (20, \"Lignito\"): 1,\n",
    "    (21, \"Turba\"): 1,\n",
    "    (22, \"Antracita\"): 1,\n",
    "    (23, \"Antracita\"): 1,\n",
    "    (24, \"Antracita\"): 1,\n",
    "    (25, \"Antracita\"): 1,\n",
    "    (26, \"Turba\"): 1,\n",
    "    (27, \"Turba\"): 1,\n",
    "    (28, \"Lignito\"): 1,\n",
    "    (29, \"Lignito\"): 1,\n",
    "    (30, \"Lignito\"): 1,\n",
    "    (31, \"Hulla\"): 1,\n",
    "    (32, \"Turba\"): 1,\n",
    "    (33, \"Hulla\"): 1,\n",
    "    (34, \"Antracita\"): 1,\n",
    "    (35, \"Lignito\"): 1,\n",
    "    (36, \"Antracita\"): 1,\n",
    "}\n",
    "\n",
    "for i in M:\n",
    "    for j in K:\n",
    "        if (i, j) not in a:\n",
    "            a[i, j] = 0\n",
    "\n",
    "# Costo por tonelada de carbón en la zona i en M\n",
    "c = {\n",
    "    1: 16,\n",
    "    2: 6,\n",
    "    3: 11,\n",
    "    4: 8,\n",
    "    5: 5,\n",
    "    6: 25,\n",
    "    7: 16,\n",
    "    8: 17,\n",
    "    9: 25,\n",
    "    10: 8,\n",
    "    11: 15,\n",
    "    12: 8,\n",
    "    13: 10,\n",
    "    14: 20,\n",
    "    15: 6,\n",
    "    16: 17,\n",
    "    17: 6,\n",
    "    18: 20,\n",
    "    19: 5,\n",
    "    20: 8,\n",
    "    21: 25,\n",
    "    22: 11,\n",
    "    23: 8,\n",
    "    24: 7,\n",
    "    25: 7,\n",
    "    26: 28,\n",
    "    27: 26,\n",
    "    28: 27,\n",
    "    29: 9,\n",
    "    30: 24,\n",
    "    31: 15,\n",
    "    32: 14,\n",
    "    33: 22,\n",
    "    34: 20,\n",
    "    35: 19,\n",
    "    36: 8,\n",
    "}\n",
    "\n",
    "# Máximas toneladas a extraer de la zona i en M\n",
    "n = {\n",
    "    1: 189,\n",
    "    2: 196,\n",
    "    3: 143,\n",
    "    4: 136,\n",
    "    5: 106,\n",
    "    6: 151,\n",
    "    7: 170,\n",
    "    8: 129,\n",
    "    9: 184,\n",
    "    10: 122,\n",
    "    11: 146,\n",
    "    12: 190,\n",
    "    13: 160,\n",
    "    14: 109,\n",
    "    15: 133,\n",
    "    16: 198,\n",
    "    17: 138,\n",
    "    18: 107,\n",
    "    19: 117,\n",
    "    20: 150,\n",
    "    21: 171,\n",
    "    22: 103,\n",
    "    23: 157,\n",
    "    24: 143,\n",
    "    25: 170,\n",
    "    26: 130,\n",
    "    27: 140,\n",
    "    28: 126,\n",
    "    29: 180,\n",
    "    30: 153,\n",
    "    31: 108,\n",
    "    32: 132,\n",
    "    33: 105,\n",
    "    34: 145,\n",
    "    35: 145,\n",
    "    36: 114,\n",
    "}\n",
    "\n",
    "# Mínimo de toneladas a explotar del tipo de carbón j en K\n",
    "b = {\n",
    "    \"Antracita\": 862,\n",
    "    \"Hulla\": 898,\n",
    "    \"Turba\": 562,\n",
    "    \"Lignito\": 742,\n",
    "}\n",
    "\n",
    "# Costo fijo de explotación de la zona i en M\n",
    "q = {\n",
    "    1: 240,\n",
    "    2: 155,\n",
    "    3: 240,\n",
    "    4: 125,\n",
    "    5: 177,\n",
    "    6: 342,\n",
    "    7: 157,\n",
    "    8: 457,\n",
    "    9: 396,\n",
    "    10: 411,\n",
    "    11: 341,\n",
    "    12: 469,\n",
    "    13: 402,\n",
    "    14: 186,\n",
    "    15: 404,\n",
    "    16: 344,\n",
    "    17: 290,\n",
    "    18: 340,\n",
    "    19: 482,\n",
    "    20: 472,\n",
    "    21: 394,\n",
    "    22: 102,\n",
    "    23: 330,\n",
    "    24: 433,\n",
    "    25: 205,\n",
    "    26: 394,\n",
    "    27: 156,\n",
    "    28: 298,\n",
    "    29: 134,\n",
    "    30: 462,\n",
    "    31: 432,\n",
    "    32: 362,\n",
    "    33: 127,\n",
    "    34: 203,\n",
    "    35: 417,\n",
    "    36: 215,\n",
    "}"
   ]
  },
  {
   "cell_type": "markdown",
   "id": "f680b8bd",
   "metadata": {},
   "source": [
    "#### Objeto del modelo"
   ]
  },
  {
   "cell_type": "markdown",
   "id": "13e21489",
   "metadata": {},
   "source": [
    "Construye un problema al que luego agregarás las restricciones y la función objetivo."
   ]
  },
  {
   "cell_type": "code",
   "execution_count": 16,
   "id": "de091f94",
   "metadata": {},
   "outputs": [],
   "source": [
    "problema = lp.LpProblem(name=\"extraccion_minera\", sense=lp.LpMinimize)"
   ]
  },
  {
   "cell_type": "markdown",
   "id": "131b6b81",
   "metadata": {},
   "source": [
    "#### Variables de decisión"
   ]
  },
  {
   "cell_type": "markdown",
   "id": "6821b58e",
   "metadata": {},
   "source": [
    "Define las variables del problema de manera que estén contenidas en diccionarios indexados en los conjuntos de sus variables respectivas."
   ]
  },
  {
   "cell_type": "code",
   "execution_count": 17,
   "id": "daa37aa8",
   "metadata": {},
   "outputs": [],
   "source": [
    "# Toneladas a extraer de la zona i en M\n",
    "x = {\n",
    "    i: lp.LpVariable(\n",
    "        name=f\"extraccion_zona_{i}\", lowBound=0, upBound=None, cat=lp.LpContinuous\n",
    "    )\n",
    "    for i in M\n",
    "}\n",
    "\n",
    "# Si se explota la zona i en M\n",
    "y = {\n",
    "    i: lp.LpVariable(\n",
    "        name=f\"binaria_zona_{i}\", lowBound=0, upBound=None, cat=lp.LpBinary\n",
    "    )\n",
    "    for i in M\n",
    "}"
   ]
  },
  {
   "cell_type": "markdown",
   "id": "c5540dea",
   "metadata": {},
   "source": [
    "#### Función objetivo"
   ]
  },
  {
   "cell_type": "markdown",
   "id": "086afbc8",
   "metadata": {},
   "source": [
    "Agrega al problema la función objetivo. Recuerda que al definir el problema, ya definiste si este es de maximización o minimización."
   ]
  },
  {
   "cell_type": "code",
   "execution_count": 18,
   "id": "f90792f5",
   "metadata": {},
   "outputs": [],
   "source": [
    "problema += sum(c[i] * x[i] + q[i] * y[i] for i in M), \"costo_total\""
   ]
  },
  {
   "cell_type": "markdown",
   "id": "eb9ebe06",
   "metadata": {},
   "source": [
    "#### Restricciones"
   ]
  },
  {
   "cell_type": "markdown",
   "id": "763d2cc8",
   "metadata": {},
   "source": [
    "Agrega al problema las restricciones del modelo."
   ]
  },
  {
   "cell_type": "code",
   "execution_count": 19,
   "id": "b18b28fa",
   "metadata": {},
   "outputs": [],
   "source": [
    "# Garantiza el mínimo de toneladas extraidas del tipo de carbón j en K\n",
    "for j in K:\n",
    "    problema += (\n",
    "        sum(x[i] for i in M if a[i, j] == 1) >= b[j],\n",
    "        f\"minimo_toneladas_extracción_carbon_{j}\",\n",
    "    )\n",
    "\n",
    "# Garantiza el máximo de toneladas de carbón que se pueden extraer de la zona i en M\n",
    "for i in M:\n",
    "    problema += x[i] <= n[i] * y[i], f\"maximo_toneladas_extraccion_zona_{i}\""
   ]
  },
  {
   "cell_type": "markdown",
   "id": "72e1c0b9",
   "metadata": {},
   "source": [
    "#### Resolver el problema"
   ]
  },
  {
   "cell_type": "markdown",
   "id": "d120a7d9",
   "metadata": {},
   "source": [
    "Invoca el optimizador. Este paso le asigna un valor a las variables incluidas en las restricciones o función objetivo del modelo."
   ]
  },
  {
   "cell_type": "code",
   "execution_count": 20,
   "id": "b572d1ef",
   "metadata": {},
   "outputs": [
    {
     "name": "stdout",
     "output_type": "stream",
     "text": [
      "Welcome to the CBC MILP Solver \n",
      "Version: 2.10.8 \n",
      "Build Date: May  6 2022 \n",
      "\n",
      "command line - cbc /tmp/8daab9dc7fc64b4f8fb7f3d6f4b18d28-pulp.mps timeMode elapsed branch printingOptions all solution /tmp/8daab9dc7fc64b4f8fb7f3d6f4b18d28-pulp.sol (default strategy 1)\n",
      "At line 2 NAME          MODEL\n",
      "At line 3 ROWS\n",
      "At line 45 COLUMNS\n",
      "At line 298 RHS\n",
      "At line 339 BOUNDS\n",
      "At line 376 ENDATA\n",
      "Problem MODEL has 40 rows, 72 columns and 108 elements\n",
      "Coin0008I MODEL read with 0 errors\n",
      "Option for timeMode changed from cpu to elapsed\n",
      "Continuous objective value is 39266.3 - 0.00 seconds\n",
      "Cgl0004I processed model has 35 rows, 67 columns (31 integer (31 of which binary)) and 98 elements\n",
      "Cbc0038I Initial state - 3 integers unsatisfied sum - 0.980279\n",
      "Cbc0038I Pass   1: suminf.    0.21196 (1) obj. 40605.9 iterations 3\n",
      "Cbc0038I Solution found of 40918\n",
      "Cbc0038I Relaxing continuous gives 40328\n",
      "Cbc0038I Before mini branch and bound, 27 integers at bound fixed and 17 continuous\n",
      "Cbc0038I Full problem 35 rows 67 columns, reduced to 5 rows 16 columns\n",
      "Cbc0038I Mini branch and bound improved solution from 40328 to 39488 (0.00 seconds)\n",
      "Cbc0038I Round again with cutoff of 39468.7\n",
      "Cbc0038I Reduced cost fixing fixed 11 variables on major pass 2\n",
      "Cbc0038I Pass   2: suminf.    0.24243 (2) obj. 39468.7 iterations 3\n",
      "Cbc0038I Pass   3: suminf.    0.30267 (1) obj. 39468.7 iterations 1\n",
      "Cbc0038I Pass   4: suminf.    1.24478 (4) obj. 39468.7 iterations 4\n",
      "Cbc0038I Pass   5: suminf.    0.81088 (3) obj. 39468.7 iterations 2\n",
      "Cbc0038I Pass   6: suminf.    0.31260 (2) obj. 39468.7 iterations 2\n",
      "Cbc0038I Pass   7: suminf.    0.80858 (4) obj. 39468.7 iterations 5\n",
      "Cbc0038I Pass   8: suminf.    0.80858 (4) obj. 39468.7 iterations 0\n",
      "Cbc0038I Pass   9: suminf.    0.83938 (3) obj. 39468.7 iterations 3\n",
      "Cbc0038I Pass  10: suminf.    0.83938 (3) obj. 39468.7 iterations 1\n",
      "Cbc0038I Pass  11: suminf.    0.62277 (3) obj. 39468.7 iterations 3\n",
      "Cbc0038I Pass  12: suminf.    0.08054 (1) obj. 39468.7 iterations 3\n",
      "Cbc0038I Pass  13: suminf.    0.53305 (2) obj. 39468.7 iterations 4\n",
      "Cbc0038I Pass  14: suminf.    0.30386 (2) obj. 39468.7 iterations 4\n",
      "Cbc0038I Pass  15: suminf.    0.24243 (2) obj. 39468.7 iterations 1\n",
      "Cbc0038I Pass  16: suminf.    0.30267 (1) obj. 39468.7 iterations 1\n",
      "Cbc0038I Pass  17: suminf.    0.31300 (2) obj. 39468.7 iterations 1\n",
      "Cbc0038I Pass  18: suminf.    0.74938 (2) obj. 39468.7 iterations 2\n",
      "Cbc0038I Pass  19: suminf.    0.80858 (4) obj. 39468.7 iterations 3\n",
      "Cbc0038I Pass  20: suminf.    0.80858 (4) obj. 39468.7 iterations 0\n",
      "Cbc0038I Pass  21: suminf.    0.83938 (3) obj. 39468.7 iterations 2\n",
      "Cbc0038I Pass  22: suminf.    0.83938 (3) obj. 39468.7 iterations 0\n",
      "Cbc0038I Pass  23: suminf.    0.62277 (3) obj. 39468.7 iterations 4\n",
      "Cbc0038I Pass  24: suminf.    0.08054 (1) obj. 39468.7 iterations 4\n",
      "Cbc0038I Pass  25: suminf.    0.53305 (2) obj. 39468.7 iterations 3\n",
      "Cbc0038I Pass  26: suminf.    1.13452 (4) obj. 39468.7 iterations 6\n",
      "Cbc0038I Pass  27: suminf.    1.13452 (4) obj. 39468.7 iterations 0\n",
      "Cbc0038I Pass  28: suminf.    0.32169 (2) obj. 39468.7 iterations 6\n",
      "Cbc0038I Pass  29: suminf.    0.83938 (3) obj. 39468.7 iterations 4\n",
      "Cbc0038I Pass  30: suminf.    0.83938 (3) obj. 39468.7 iterations 0\n",
      "Cbc0038I Pass  31: suminf.    0.62277 (3) obj. 39468.7 iterations 4\n",
      "Cbc0038I No solution found this major pass\n",
      "Cbc0038I Before mini branch and bound, 17 integers at bound fixed and 12 continuous\n",
      "Cbc0038I Full problem 35 rows 67 columns, reduced to 14 rows 31 columns\n",
      "Cbc0038I Mini branch and bound did not improve solution (0.01 seconds)\n",
      "Cbc0038I After 0.01 seconds - Feasibility pump exiting with objective of 39488 - took 0.02 seconds\n",
      "Cbc0012I Integer solution of 39488 found by feasibility pump after 0 iterations and 0 nodes (0.01 seconds)\n",
      "Cbc0038I Full problem 35 rows 67 columns, reduced to 4 rows 18 columns\n",
      "Cbc0031I 4 added rows had average density of 6\n",
      "Cbc0013I At root node, 10 cuts changed objective from 39294.715 to 39488 in 1 passes\n",
      "Cbc0014I Cut generator 0 (Probing) - 0 row cuts average 0.0 elements, 0 column cuts (0 active)  in 0.000 seconds - new frequency is -100\n",
      "Cbc0014I Cut generator 1 (Gomory) - 3 row cuts average 6.7 elements, 0 column cuts (0 active)  in 0.000 seconds - new frequency is 1\n",
      "Cbc0014I Cut generator 2 (Knapsack) - 4 row cuts average 6.0 elements, 0 column cuts (0 active)  in 0.000 seconds - new frequency is 1\n",
      "Cbc0014I Cut generator 3 (Clique) - 0 row cuts average 0.0 elements, 0 column cuts (0 active)  in 0.000 seconds - new frequency is -100\n",
      "Cbc0014I Cut generator 4 (MixedIntegerRounding2) - 0 row cuts average 0.0 elements, 0 column cuts (0 active)  in 0.000 seconds - new frequency is -100\n",
      "Cbc0014I Cut generator 5 (FlowCover) - 0 row cuts average 0.0 elements, 0 column cuts (0 active)  in 0.000 seconds - new frequency is -100\n",
      "Cbc0014I Cut generator 6 (TwoMirCuts) - 3 row cuts average 6.7 elements, 0 column cuts (0 active)  in 0.000 seconds - new frequency is -100\n",
      "Cbc0001I Search completed - best objective 39488, took 6 iterations and 0 nodes (0.01 seconds)\n",
      "Cbc0035I Maximum depth 0, 11 variables fixed on reduced cost\n",
      "Cuts at root node changed objective from 39294.7 to 39488\n",
      "Probing was tried 1 times and created 0 cuts of which 0 were active after adding rounds of cuts (0.000 seconds)\n",
      "Gomory was tried 1 times and created 3 cuts of which 0 were active after adding rounds of cuts (0.000 seconds)\n",
      "Knapsack was tried 1 times and created 4 cuts of which 0 were active after adding rounds of cuts (0.000 seconds)\n",
      "Clique was tried 1 times and created 0 cuts of which 0 were active after adding rounds of cuts (0.000 seconds)\n",
      "MixedIntegerRounding2 was tried 1 times and created 0 cuts of which 0 were active after adding rounds of cuts (0.000 seconds)\n",
      "FlowCover was tried 1 times and created 0 cuts of which 0 were active after adding rounds of cuts (0.000 seconds)\n",
      "TwoMirCuts was tried 1 times and created 3 cuts of which 0 were active after adding rounds of cuts (0.000 seconds)\n",
      "ZeroHalf was tried 1 times and created 0 cuts of which 0 were active after adding rounds of cuts (0.000 seconds)\n",
      "\n",
      "Result - Optimal solution found\n",
      "\n",
      "Objective value:                39488.00000000\n",
      "Enumerated nodes:               0\n",
      "Total iterations:               6\n",
      "Time (CPU seconds):             0.03\n",
      "Time (Wallclock seconds):       0.01\n",
      "\n",
      "Option for printingOptions changed from normal to all\n",
      "Total time (CPU seconds):       0.03   (Wallclock seconds):       0.02\n",
      "\n"
     ]
    },
    {
     "data": {
      "text/plain": [
       "1"
      ]
     },
     "execution_count": 20,
     "metadata": {},
     "output_type": "execute_result"
    }
   ],
   "source": [
    "problema.solve()"
   ]
  },
  {
   "cell_type": "markdown",
   "id": "465fa2de",
   "metadata": {},
   "source": [
    "#### Imprimir resultados"
   ]
  },
  {
   "cell_type": "markdown",
   "id": "1c5b9be1",
   "metadata": {},
   "source": [
    "Antes de estudiar el óptimo del modelo, identifica en el estado del optimizador si pudo resolver el problema."
   ]
  },
  {
   "cell_type": "code",
   "execution_count": 21,
   "id": "ace80682",
   "metadata": {},
   "outputs": [
    {
     "data": {
      "text/plain": [
       "'Estado del optimizador: Optimal'"
      ]
     },
     "execution_count": 21,
     "metadata": {},
     "output_type": "execute_result"
    }
   ],
   "source": [
    "f\"Estado del optimizador: {lp.LpStatus[problema.status]}\""
   ]
  },
  {
   "cell_type": "markdown",
   "id": "6d814536",
   "metadata": {},
   "source": [
    "Identifica también el valor de la función objetivo."
   ]
  },
  {
   "cell_type": "code",
   "execution_count": 22,
   "id": "7842bb93",
   "metadata": {},
   "outputs": [
    {
     "data": {
      "text/plain": [
       "'Costo total: 39488.0'"
      ]
     },
     "execution_count": 22,
     "metadata": {},
     "output_type": "execute_result"
    }
   ],
   "source": [
    "f\"Costo total: {lp.value(problema.objective)}\""
   ]
  },
  {
   "cell_type": "markdown",
   "id": "dbe41a5d",
   "metadata": {},
   "source": [
    "Por último, imprime de manera estructurada el valor de las variables de decisión y otras expresiones de interés."
   ]
  },
  {
   "cell_type": "code",
   "execution_count": 23,
   "id": "d7ad02aa",
   "metadata": {},
   "outputs": [
    {
     "name": "stdout",
     "output_type": "stream",
     "text": [
      "1: 189.0 toneladas de Hulla\n",
      "2: 196.0 toneladas de Hulla\n",
      "3: 103.0 toneladas de Turba\n",
      "4: 136.0 toneladas de Turba\n",
      "5: 106.0 toneladas de Hulla\n",
      "7: 123.0 toneladas de Hulla\n",
      "10: 122.0 toneladas de Antracita\n",
      "11: 146.0 toneladas de Hulla\n",
      "12: 190.0 toneladas de Turba\n",
      "15: 133.0 toneladas de Turba\n",
      "17: 138.0 toneladas de Hulla\n",
      "19: 117.0 toneladas de Antracita\n",
      "20: 150.0 toneladas de Lignito\n",
      "22: 39.0 toneladas de Antracita\n",
      "23: 157.0 toneladas de Antracita\n",
      "24: 143.0 toneladas de Antracita\n",
      "25: 170.0 toneladas de Antracita\n",
      "28: 114.0 toneladas de Lignito\n",
      "29: 180.0 toneladas de Lignito\n",
      "30: 153.0 toneladas de Lignito\n",
      "35: 145.0 toneladas de Lignito\n",
      "36: 114.0 toneladas de Antracita\n"
     ]
    }
   ],
   "source": [
    "for i in M:\n",
    "    if lp.value(x[i]) >= 0.1:\n",
    "        for j in K:\n",
    "            if a[i, j] == 1:\n",
    "                print(f\"{i}: {lp.value(x[i])} toneladas de {j}\")"
   ]
  },
  {
   "cell_type": "markdown",
   "id": "2c390f8b",
   "metadata": {},
   "source": [
    "## Créditos"
   ]
  },
  {
   "cell_type": "markdown",
   "id": "hired-insulation",
   "metadata": {},
   "source": [
    "Equipo Principios de Optimización<br>\n",
    "Autores: Alfaima Solano, Alejandro Mantilla<br>\n",
    "Desarrollo:Alfaima Solano, Alejandro Mantilla, Juan Felipe Rengifo<br>\n",
    "Última fecha de modificación: 08/04/2023"
   ]
  }
 ],
 "metadata": {
  "kernelspec": {
   "display_name": "Python 3 (ipykernel)",
   "language": "python",
   "name": "python3"
  },
  "language_info": {
   "codemirror_mode": {
    "name": "ipython",
    "version": 3
   },
   "file_extension": ".py",
   "mimetype": "text/x-python",
   "name": "python",
   "nbconvert_exporter": "python",
   "pygments_lexer": "ipython3",
   "version": "3.11.3"
  }
 },
 "nbformat": 4,
 "nbformat_minor": 5
}
