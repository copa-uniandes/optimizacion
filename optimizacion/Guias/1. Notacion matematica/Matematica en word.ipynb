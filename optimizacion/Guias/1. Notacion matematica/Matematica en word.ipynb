{
 "cells": [
  {
   "cell_type": "markdown",
   "metadata": {},
   "source": [
    "# Matemáticas en MS Office"
   ]
  },
  {
   "cell_type": "markdown",
   "metadata": {},
   "source": [
    "## Motivación"
   ]
  },
  {
   "cell_type": "markdown",
   "metadata": {},
   "source": [
    "Por medio de herramientas de *Microsoft Office* como *Word* y *PowerPoint* podemos construir documentos convencionales como ensayos, cartas, contratos o presentaciones. ¿Qué hacemos cuando nuestro contenido a desarrollar debe incluir expresiones matemáticas elaboradas? Podriamos expresarlas de forma primitiva, sin prestar atención al estilo, como la siguiente fórmula cuadrática: x=(-b±√(b^2-4ac))/2a, pero, por lo general, esta forma es poco amistosa con el lector ya que es dificil de interpretar y con el autor ya que es dificil de identificar si está escrita de forma correcta. Preferiblemente, quisieramos expresar ecuaciones embebidas en el texto, como $x=\\frac{-b\\pm\\sqrt{b^2-4ac}}{2a}$, o en su propio renglón para dar énfasis:"
   ]
  },
  {
   "cell_type": "markdown",
   "metadata": {},
   "source": [
    "$$\n",
    "\tx=\\frac{-b\\pm\\sqrt{b^2-4ac}}{2a}\\text{.}\n",
    "$$"
   ]
  },
  {
   "cell_type": "markdown",
   "metadata": {},
   "source": [
    "Mejor aún, esta forma tipográfica de expresiones matemáticas nos permite más flexibilidad en cuanto a los símbolos que podremos utilizar. Particularmente nos interesan las operaciones sobre conjuntos como la sumatoria,"
   ]
  },
  {
   "cell_type": "markdown",
   "metadata": {},
   "source": [
    "$$\n",
    "\t\\sum_{i\\in I}a_{i}x_{i}=b\\text{.}\n",
    "$$"
   ]
  },
  {
   "cell_type": "markdown",
   "metadata": {},
   "source": [
    "Esta guía busca fijar convenciones para el desarrollo de informes con contenido matemático para el curso, así como dar instrucciones para trabajar de forma eficiente y dominar la composición tipográfica con *MS Office*."
   ]
  },
  {
   "cell_type": "markdown",
   "metadata": {},
   "source": [
    "## Primeros pasos"
   ]
  },
  {
   "cell_type": "markdown",
   "metadata": {},
   "source": [
    "Asegurese de tener instalado la suite de *MS Office*. El procedimiento para insertar ecuaciones es aplicable en la mayoría de los programas del paquete, pero nosotros nos enfocaremos en la composición de documentos con *Word*."
   ]
  },
  {
   "cell_type": "markdown",
   "metadata": {},
   "source": [
    "Ejecute *Word* y dirijase a la pestaña del *Ribbon*, **Insertar**. Allí, coloque su cursor sobre el elemento **Ecuación**. Al tener el cursor sobre el botón, debería desplegarse una caja de texto explicando su uso. Verifique que *Word* le haya asignado un atajo de teclado (para el autor, el atajo es `Alt` + `=`)."
   ]
  },
  {
   "cell_type": "markdown",
   "metadata": {},
   "source": [
    "![](./imagenes/Ecuaciones-TextBox.png)"
   ]
  },
  {
   "cell_type": "markdown",
   "metadata": {},
   "source": [
    "Si no tiene un atajo asignado, puede hacerlo dirijiendose a la pestaña del *Ribbon*, **Archivo** >> **Opciones** >> **Personalizar cinta de opciones** >> **Personalizar**. Al especificar un comando, seleccione la categoría *Todos los comandos* y en comandos, *InsertarEcuación*. Teclée un atajo y verifique que haya quedado asignado. Tener un atajo asignado es importante para tener un flujo de trabajo eficiente, ya que, en el proceso de desarrollar un informe, deberá insertar muchas expresiones matemáticas."
   ]
  },
  {
   "cell_type": "markdown",
   "metadata": {},
   "source": [
    "## Estructura de informe"
   ]
  },
  {
   "cell_type": "markdown",
   "metadata": {},
   "source": [
    "Por lo general, las evaluaciones del curso consisten del planteamiento de un escenario a optimizar para el cual el estudiante debe construir un modelo de programación matemática lineal o lineal-entero. Para plantear modelos generalizados, utilizamos conjuntos, símbolos representativos de parámetros, arreglos de variables y conjuntos de restricciones. Por conveniencia para la evaluación de su entrega, recomendamos enunciar cada uno de estos componentes explicitamente. A continuación, una vista de como debe quedar su documento."
   ]
  },
  {
   "cell_type": "markdown",
   "metadata": {},
   "source": [
    "**Conjuntos**"
   ]
  },
  {
   "cell_type": "markdown",
   "metadata": {},
   "source": [
    "- $I$: primer conjunto del ejemplo.\n",
    "- $J$: segundo conjunto del ejemplo."
   ]
  },
  {
   "cell_type": "markdown",
   "metadata": {},
   "source": [
    "**Parámetros**"
   ]
  },
  {
   "cell_type": "markdown",
   "metadata": {},
   "source": [
    "- $a_{ij}$: primer parámetro del ejemplo. Elemento $a$ para todo $i\\in I$,$j\\in J$.\n",
    "\n",
    "- $b_{i}$: segundo parámetro del ejemplo. Elemento $b$ para todo $i\\in I$.\n",
    "\n",
    "- $c_{j}$: costos del ejemplo. Elemento $c$ para todo $j\\in J$."
   ]
  },
  {
   "cell_type": "markdown",
   "metadata": {},
   "source": [
    "````{margin}\n",
    "```{admonition} Nota\n",
    "Si $x_{j}$ son variables binarias, podemos expresarlas con una función a trozos.\n",
    "```\n",
    "**Variables**\n",
    "\n",
    "$$\n",
    "\tx_{j}=\\begin{cases}\n",
    "\t\t\t\t\t1 & \\text{se cumple un criterio} \\\\\n",
    "\t\t\t\t\t0 & \\text{d.l.c.}\n",
    "   \\end{cases}\n",
    "$$\n",
    "````"
   ]
  },
  {
   "cell_type": "markdown",
   "metadata": {},
   "source": [
    "**Variables**"
   ]
  },
  {
   "cell_type": "markdown",
   "metadata": {},
   "source": [
    "- $x_{j}$: primeras variables del ejemplo. Decisión $x$ para todo $j\\in J$."
   ]
  },
  {
   "cell_type": "markdown",
   "metadata": {},
   "source": [
    "**Restricciones**"
   ]
  },
  {
   "cell_type": "markdown",
   "metadata": {},
   "source": [
    "$$\n",
    "\\begin{gather*}\n",
    "\t\t\\sum_{j\\in J}a_{ij}x_{j}=b_{i} & \\forall i\\in I\n",
    "\\end{gather*}\n",
    "$$"
   ]
  },
  {
   "cell_type": "markdown",
   "metadata": {},
   "source": [
    "> Este arreglo de restricciones nos permite identificar la región factible del problema. Este parrafo, idealmente, contendría una breve descripción de lo que representa o logra su respectivo arreglo de restricciónes."
   ]
  },
  {
   "cell_type": "markdown",
   "metadata": {},
   "source": [
    "````{margin}\n",
    "```{admonition} Nota\n",
    "NUNCA puede faltar una expresión explicita del dominio del problema (Naturaleza). Las variables pueden tomar valores en conjuntos predeterminados:\n",
    "```\n",
    "$$\n",
    "\\begin{gather*}\n",
    "\tx_{j}\\in\\mathbb{R_{\\geq 0}} & \\forall j \\in J \\\\\n",
    "\tx_{j}\\in\\mathbb{N} & \\forall j \\in J \\\\\n",
    "\tx_{j}\\in\\{0,1\\} & \\forall j \\in J\n",
    "\\end{gather*}\n",
    "$$\n",
    "\n",
    "````"
   ]
  },
  {
   "cell_type": "markdown",
   "metadata": {},
   "source": [
    "**Naturaleza**"
   ]
  },
  {
   "cell_type": "markdown",
   "metadata": {},
   "source": [
    "$$\n",
    "\\begin{gather*}\n",
    "\tx_{j}\\in\\mathbb{R} & \\forall j \\in J\n",
    "\\end{gather*}\n",
    "$$"
   ]
  },
  {
   "cell_type": "markdown",
   "metadata": {},
   "source": [
    "**Función Objetivo**"
   ]
  },
  {
   "cell_type": "markdown",
   "metadata": {},
   "source": [
    "$$\n",
    "    \\operatorname{máx}\\ {\\sum_{j\\in J}c_{j}x_{j}}\n",
    "$$"
   ]
  },
  {
   "cell_type": "markdown",
   "metadata": {},
   "source": [
    "> Esta sumatoria nos permite identificar los valores de las variables de decisión que maximizan el problema según el criterio escogido. Este parrafo, idealmente, contendría una breve descripción de lo que representa o logra su respectiva función objetivo."
   ]
  },
  {
   "cell_type": "markdown",
   "metadata": {},
   "source": [
    "## Expresiones matemáticas"
   ]
  },
  {
   "cell_type": "markdown",
   "metadata": {},
   "source": [
    "````{margin}\n",
    "```{admonition} Nota\n",
    "Las siguientes son tan solo sugerencias y convenciones para la composición tipográfica de matemática. Recomendamos adaptarlas a sus preferencias.\n",
    "```\n",
    "````"
   ]
  },
  {
   "cell_type": "markdown",
   "metadata": {},
   "source": [
    "Veremos ahora cómo escribir ecuaciones matemáticas en *Word*. En general, los símbolos tienen nombres y el programa tiene tres criterios para identificar cuando queremos insertarlos. Primero, debemos estar escribiendo dentro de un bloque de **Ecuación**; segundo, el nombre del símbolo debe indicarse con el caracter '`\\`'; tercero, debemos insertar un espacio despues del comando referente a la expresión matemática deseada (por ejemplo, para insertar un simbolo $\\alpha$, escribiriamos en el bloque de ecuación el código `\\alpha` e insertariamos un espacio para producir el símbolo)."
   ]
  },
  {
   "cell_type": "markdown",
   "metadata": {},
   "source": [
    "![](./imagenes/alpha+beta=gamma.gif)"
   ]
  },
  {
   "cell_type": "markdown",
   "metadata": {},
   "source": [
    "### Símbolos comunes"
   ]
  },
  {
   "cell_type": "markdown",
   "metadata": {},
   "source": [
    "Especificamente para el curso, utilizamos símbolos representativos de conjuntos y operaciones sobre conjuntos. *Word* ofrece una paleta de símbolos extensa y podemos consultarla bajo la pestaña **Ecuación** que aparece una vez ubicamos el cursor sobre un bloque de ecuación. Colocar nuestro cursor de mouse sobre alguno de los símbolos de la paleta, habilita un texto flotante con el nombre del comando que utilizaría uno para insertarlo. Por ejemplo, en la imagen a continuación se puede observar que al ubicar el cursor sobre el símbolo de infinito, nos muestra un texto flotante con el comando `\\infty`."
   ]
  },
  {
   "cell_type": "markdown",
   "metadata": {},
   "source": [
    "![](./imagenes/Hover-Text.png)"
   ]
  },
  {
   "cell_type": "markdown",
   "metadata": {},
   "source": [
    "Los comandos son fáciles de memorizar ya que, por lo general, son el nombre del símbolo o una abreviación. A continuación, un listado de los símbolos más comunes como referencia rápida."
   ]
  },
  {
   "cell_type": "markdown",
   "metadata": {},
   "source": [
    "| Símbolo | Comando |  | Símbolo | Comando |\n",
    "| :-: | :-: | :-: | :-: | :-: |\n",
    "| $\\alpha$ | `\\alpha` |  | $\\mathbb{R}$ | `\\doubleR` |\n",
    "| $\\beta$ | `\\beta` |  | $\\mathbb{N}$ | `\\doubleN` |\n",
    "| $\\gamma$ | `\\gamma` |  | $\\Gamma$ | `\\Gamma` |\n",
    "| $\\theta$ | `\\theta` |  | $\\sigma$ | `\\sigma` |\n",
    "| $\\phi$ | `\\phi` |  | $\\tau$ | `\\tau` |\n",
    "| $\\lambda$ | `\\lambda` |  | $\\Lambda$ | `\\Lambda` |\n",
    "| $\\mu$ | `\\mu` |  | $\\chi$ | `\\chi` |\n",
    "| $\\infty$ | `\\infty` |  | $\\varepsilon$ | `\\varepsilon` |\n",
    "| $\\forall$ | `\\forall` |  | $\\in$ | `\\in` |\n",
    "| $\\cdots$ | `\\cdots` |  | $\\times$ | `\\times` |\n",
    "| $\\cdot$ | `\\cdot` |  | $\\pm$ | `\\pm` |\n",
    "| $\\neq$ | `\\neq` |  | $\\approx$ | `\\approx` |\n",
    "| $\\rightarrow$ | `\\rightarrow` |  | $\\leftarrow$ | `\\leftarrow` |\n",
    "| $\\Rightarrow$ | `\\Rightarrow` |  | $\\Leftarrow$ | `\\Leftarrow` |\n",
    "| $\\cup$ | `\\cup` |  | $\\cap$ | `\\cap` |"
   ]
  },
  {
   "cell_type": "markdown",
   "metadata": {},
   "source": [
    "Algunos símbolos (como $>$, $<$, $=$, $/$, $*$, etc.) pueden insertarse directamente desde el teclado y, por lo tanto, no tienen comando. Otros (como $\\geq$ o $\\leq$) son el resultado de la composición de los símbolos básicos. Por ejemplo, `...` produce $\\ldots$ o `>` con `=` que juntos producen $\\geq$."
   ]
  },
  {
   "cell_type": "markdown",
   "metadata": {},
   "source": [
    "### Paréntesis, corchetes, llaves y fracciones"
   ]
  },
  {
   "cell_type": "markdown",
   "metadata": {},
   "source": [
    "Aunque utilizar paréntesis, corchetes y llaves puede parecer trivial, en la composición de tipografía matemática es esperado que el autor los ajuste al tamaño de su contenido. Particularmente en *Word*, existe el componente de corchetes que contiene una o varias celdas sobre las que se pueden escribir ecuaciones. El comando `()` seguido de la tecla espacio inserta una celda de ecuación encerrada por paréntesis de tamaño dinámico a ambos lados. La siguiente tabla muestra algunos comandos que insertan celdas de ecuaciones con propiedades peculiares, así como ejemplos de como estos signos de puntuación pueden combinarse."
   ]
  },
  {
   "cell_type": "markdown",
   "metadata": {},
   "source": [
    "| Celdas | Comando |  | Celdas | Comando |\n",
    "| :-: | :-: | :-: | :-: | :-: |\n",
    "| ![](./imagenes/rdrd.png) | `()` |  | ![](./imagenes/sqrd.png) | `[)` |\n",
    "| ![](./imagenes/sqsq.png) | `[]` |  | ![](./imagenes/sq.png) | `[\\close` $\\rightarrow$ `[┤` |\n",
    "| ![](./imagenes/kyky.png) | `{}` |  | ![](./imagenes/abs.png) | `\\|\\|` |\n",
    "| ![](./imagenes/sqflsq.png) | `[\\|]` |  | ![](./imagenes/frac.png) | `/` |"
   ]
  },
  {
   "cell_type": "markdown",
   "metadata": {},
   "source": [
    "Note que para cerrar los paréntesis sin el símbolo de la derecha, debe insertar el símbolo del comando `\\close`, '┤'."
   ]
  },
  {
   "cell_type": "markdown",
   "metadata": {},
   "source": [
    "### Acentos e índices "
   ]
  },
  {
   "cell_type": "markdown",
   "metadata": {},
   "source": [
    "De forma similar a los paréntesis y las fracciones, los acentos pueden producir celdas de ecuación en las cuales escribiremos el contenido que deben cubrir. Debemos ser cuidadosos al insertar acentos, ya que, si seguimos escribiendo dentro de sus respectivas casillas, podemos terminar cubriendo toda una expresión matemática en un acento."
   ]
  },
  {
   "cell_type": "markdown",
   "metadata": {},
   "source": [
    "| Bien | Mal |\n",
    "| :-: | :-: |\n",
    "| $\\bar{X}=\\frac{\\sum_{i=1}^{n}x_i}{n}$ | $\\overline{X=\\frac{\\sum_{i=1}^{n}x_i}{n}}$ | "
   ]
  },
  {
   "cell_type": "markdown",
   "metadata": {},
   "source": [
    "````{margin}\n",
    "```{admonition} Nota\n",
    "Las casillas de los acentos aparecen luego de oprimir dos veces la tecla espacio.\n",
    "\n",
    "El primer tecleo inserta el acento y el segundo se lo pone al caracter que tenga detrás. Si no hay caracter alguno, se inserta la celda vacía.\n",
    "```\n",
    "````"
   ]
  },
  {
   "cell_type": "markdown",
   "metadata": {},
   "source": [
    "A continuación, unos acentos de uso frecuentes y unos ejemplos de como usar subindices y superindices (comandos `_` y `^` respectivamente)."
   ]
  },
  {
   "cell_type": "markdown",
   "metadata": {},
   "source": [
    "| Celdas | Comando |  | Celdas | Comando |\n",
    "| :-: | :-: | :-: | :-: | :-: |\n",
    "| ![](./imagenes/bar.png) | `\\bar` |  | ![](./imagenes/dot.png) | `\\dot` |\n",
    "| ![](./imagenes/hat.png) | `\\hat` |  | ![](./imagenes/sup.png) | `^` |\n",
    "| ![](./imagenes/vec.png) | `\\vec` |  | ![](./imagenes/sub.png) | `_` |"
   ]
  },
  {
   "cell_type": "markdown",
   "metadata": {},
   "source": [
    "Note que para insertar un subíndice o un superíndice (o potencia) debe primero insertar una caracter cualquiera sobre el cual actua el índice (por ejemplo `a^` o `a_`). Este caracter puede editarlo luego."
   ]
  },
  {
   "cell_type": "markdown",
   "metadata": {},
   "source": [
    "### Matrices"
   ]
  },
  {
   "cell_type": "markdown",
   "metadata": {},
   "source": [
    "Las matrices son los elementos más complicados de editar una vez insertadas y pobldas, por lo que recomendamos planear bien las dimensiones con anterioridad. Para insertar una matriz debe primero utilizar el comando `\\matrix`, seguido de una combinación de `&`s y `@`s. Cada `&` implica una columna nueva y cada `@` una fila nueva."
   ]
  },
  {
   "cell_type": "markdown",
   "metadata": {},
   "source": [
    "Si está insertando una matriz vacía para luego llenarla (recomendable), basta con insertar la siguiente secuencia de comandos. `\\matrix` $\\rightarrow$ `■` $\\rightarrow$ `■(&&@)`. Esto produciría una matriz 2x3, pero usted puede insertar cuantas filas y columnas desée. Adicionalmente, una vez haya insertado la matriz definitiva, puede hacer clic derecho sobre alguna celda de la matriz y agregar o remover filas o columnas."
   ]
  },
  {
   "cell_type": "markdown",
   "metadata": {},
   "source": [
    "![](./imagenes/matrices.gif)"
   ]
  },
  {
   "cell_type": "markdown",
   "metadata": {},
   "source": [
    "Note que, como cualquier otra expresión matemática en *Word*, las matrices pueden insertarse en celdas de ecuación de otras expresiones, lo que nos permite encerrarlas en paréntesis, darles acentos y asignarles índices y potencias como a cualquier otro eleménto matemático."
   ]
  },
  {
   "cell_type": "markdown",
   "metadata": {},
   "source": [
    "### Operadores generalizados"
   ]
  },
  {
   "cell_type": "markdown",
   "metadata": {},
   "source": [
    "Tenemos también operaciones sobre conjuntos que podemos insertar según su hogar en el catálogo de la pestaña **Ecuación**, o por comandos si los conocemos. Identifique en la siguiente tabla algunos comandos importantes."
   ]
  },
  {
   "cell_type": "markdown",
   "metadata": {},
   "source": [
    "| Operación | Comando | Con índices | Composición |\n",
    "| :-: | :-: | :-: | :-: |\n",
    "| $\\sum$ | `\\sum` | $\\sum_{i=1}^{n}$ | `\\sum_(i=1)^(n)` |\n",
    "| $\\bigcup$ | `\\bigcup` | $\\bigcup_{i=1}^{n}$ | `\\bigcup_(i=1)^(n)` |\n",
    "| $\\int$ | `\\int` | $\\int_{0}^{\\infty}$ | `\\int_(0)^(\\infty)` |\n",
    "| $\\iint$ | `\\iint` | $\\iint_{D}$ | `\\iint_(D)` |\n",
    "| $\\prod$ | `\\prod` | $\\prod_{i\\in I}$ | `\\prod_(i\\in I)` |"
   ]
  },
  {
   "cell_type": "markdown",
   "metadata": {},
   "source": [
    "Los operadores generalizados siempre se insertan con una celda de ecuación a su derecha para que se les asignen los elementos sobre los que actúan. Esto quiere decir que podemos anidarlos indefinidamente y así obtener expresiones como a las que estamos acostumbrados para funciones objetivo o restricciones en los modelos de programación matemática. Vea el siguiente ejemplo de como componer una doble sumatoria representativa de una restricción general. Preste atención a como se anidan las expresiones y como la desigualdad se inserta en la celda exterior."
   ]
  },
  {
   "cell_type": "markdown",
   "metadata": {},
   "source": [
    "![](./imagenes/doblesum.gif)"
   ]
  },
  {
   "cell_type": "markdown",
   "metadata": {},
   "source": [
    "## Ejemplo: Family Knapsack"
   ]
  },
  {
   "cell_type": "markdown",
   "metadata": {},
   "source": [
    "En esta sección encontrará una posible formulación para el problema al que se habrá enfrentado en sus complementarias del knapsack familiar, donde una familia de excursionistas debe decidir qué objetos lleva cada integrante de la familia de acuerdo con ciertas restricciones adicionales. Lo importante de la siguiente formulación son los mensajes desplegables que contienen el texto tal y como se escribiría en *Word*. El texto en `esta forma`, se refiere al código que uno escribiría en los bloques de ecuación. Puede descargar este desarrollo en *Word* [aquí](https://github.com/copa-uniandes/optimizacion/raw/master/optimizacion/Guias/MS%20Office/samples/Ejemplo%20uso%20de%20ecuaciones%20y%20formato%20en%20MS%20Word.docx)."
   ]
  },
  {
   "cell_type": "markdown",
   "metadata": {},
   "source": [
    "**Conjuntos**"
   ]
  },
  {
   "cell_type": "markdown",
   "metadata": {},
   "source": [
    "- $E$: conjunto de excursionistas\n",
    "- $O$: conjunto de objetos"
   ]
  },
  {
   "cell_type": "markdown",
   "metadata": {},
   "source": [
    "```{admonition} ¡Click acá!\n",
    ":class: tip, dropdown \n",
    "`E`: conjunto de excursionistas.\n",
    "\n",
    "`O`: conjunto de objetos.\n",
    "```"
   ]
  },
  {
   "cell_type": "markdown",
   "metadata": {},
   "source": [
    "**Parámetros**"
   ]
  },
  {
   "cell_type": "markdown",
   "metadata": {},
   "source": [
    "- $b_{j}$: peso máximo que puede cargar el excursionista $j\\in E$\n",
    "\n",
    "- $p_{i}$: peso del objeto $i\\in O$\n",
    "\n",
    "- $q_{ij}$: preferencia sobre el objeto $i\\in O$ del excursionista $j\\in E$"
   ]
  },
  {
   "cell_type": "markdown",
   "metadata": {},
   "source": [
    "```{admonition} ¡Click acá!\n",
    ":class: tip, dropdown\n",
    "`b_(j)`: peso máximo que puede cargar el excursionista `j\\in E`\n",
    "\n",
    "`p_(i)`: peso del objeto `i\\in O`\n",
    "\n",
    "`q_(ij)`: preferencia sobre el objeto `i\\in O` del excursionista `j\\in E`\n",
    "```"
   ]
  },
  {
   "cell_type": "markdown",
   "metadata": {},
   "source": [
    "**Variables**"
   ]
  },
  {
   "cell_type": "markdown",
   "metadata": {},
   "source": [
    "$$\n",
    "\tx_{ij}=\\begin{cases}\n",
    "\t\t\t\t\t1 & \\text{el objeto }i \\in O\\text{ es llevado por el excursionista } j\\in E \\\\\n",
    "\t\t\t\t\t0 & \\text{d.l.c.}\n",
    "   \\end{cases}\n",
    "$$"
   ]
  },
  {
   "cell_type": "markdown",
   "metadata": {},
   "source": [
    "```{admonition} ¡Click acá!\n",
    ":class: tip, dropdown\n",
    "`x_ij={■(1&el objeto i∈O es llevado por el excursionista j∈E@0&d.l.c.)┤`\n",
    "\n",
    "Note que para esta función a trozos, el contenido de la llave es una matriz.\n",
    "```"
   ]
  },
  {
   "cell_type": "markdown",
   "metadata": {},
   "source": [
    "**Restricciones**"
   ]
  },
  {
   "cell_type": "markdown",
   "metadata": {},
   "source": [
    "$$\n",
    "\\begin{gather*}\n",
    "\t\t\\sum_{i\\in O}p_{ij}x_{ij}\\leq b_{j} & \\forall j\\in E\n",
    "\\end{gather*}\n",
    "$$"
   ]
  },
  {
   "cell_type": "markdown",
   "metadata": {},
   "source": [
    "> Estas restricciones evitan que los objetos cargados por cada excursionista, $j\\in E$, excedan su peso máximo tolerable, $b_{j}$."
   ]
  },
  {
   "cell_type": "markdown",
   "metadata": {},
   "source": [
    "```{admonition} ¡Click acá!\n",
    ":class: tip, dropdown\n",
    "`\\sum_(i\\in O)p_(ij) x_(ij) <= b_(j) \\forall j\\in E`\n",
    "\n",
    "Estas restricciones evitan que los objetos cargados por cada excursionista, `j\\in E`, excedan su peso máximo tolerable, `b_{j}`.\n",
    "```"
   ]
  },
  {
   "cell_type": "markdown",
   "metadata": {},
   "source": [
    "$$\n",
    "\\begin{gather*}\n",
    "\t\t\\sum_{j\\in E}x_{ij}=1 & \\forall i\\in O\n",
    "\\end{gather*}\n",
    "$$"
   ]
  },
  {
   "cell_type": "markdown",
   "metadata": {},
   "source": [
    "> Estas restricciones garantizan que cada objeto, $i\\in O$, se lleve exactamente una vez entre los excursionistas. Evita objetos repetidos o que falte algún objeto."
   ]
  },
  {
   "cell_type": "markdown",
   "metadata": {},
   "source": [
    "```{admonition} ¡Click acá!\n",
    ":class: tip, dropdown\n",
    "`\\sum_(j\\in E) x_(ij) =1\\forall i\\in O`\n",
    "\n",
    "Estas restricciones garantizan que cada objeto, `i\\in O`, se lleve exactamente una vez entre los excursionistas. Evita objetos repetidos o que falte algún objeto.\n",
    "```"
   ]
  },
  {
   "cell_type": "markdown",
   "metadata": {},
   "source": [
    "**Naturaleza**"
   ]
  },
  {
   "cell_type": "markdown",
   "metadata": {},
   "source": [
    "$$\n",
    "\\begin{gather*}\n",
    "\tx_{ij}\\in\\{0,1\\} & \\forall i \\in O, j \\in E\n",
    "\\end{gather*}\n",
    "$$"
   ]
  },
  {
   "cell_type": "markdown",
   "metadata": {},
   "source": [
    "```{admonition} ¡Click acá!\n",
    ":class: tip, dropdown\n",
    "`x_ij\\in{0,1}\\forall i\\in E, j\\in O`\n",
    "```"
   ]
  },
  {
   "cell_type": "markdown",
   "metadata": {},
   "source": [
    "**Función Objetivo**"
   ]
  },
  {
   "cell_type": "markdown",
   "metadata": {},
   "source": [
    "$$\n",
    "\\operatorname{máx}\\ {\\sum_{i\\in O}\\sum_{j\\in E}q_{ij}x_{ij}}\n",
    "$$"
   ]
  },
  {
   "cell_type": "markdown",
   "metadata": {},
   "source": [
    "> Esta función objetivo nos permite identificar la satisfacción total alcanzada por la familia por los objetos respectivos de cada integrante. Al maximizar la expresión, obtenemos la política óptima en cuanto a satisfacción total."
   ]
  },
  {
   "cell_type": "markdown",
   "metadata": {},
   "source": [
    "```{admonition} ¡Click acá!\n",
    ":class: tip, dropdown\n",
    "`max \\sum_(i∈O) \\sum_(j∈E) (q_ij x_ij ) `\n",
    "\n",
    "Esta función objetivo nos permite identificar la satisfacción total alcanzada por la familia por los objetos respectivos de cada integrante. Al maximizar la expresión, obtenemos la política óptima en cuanto a satisfacción total.\n",
    "```"
   ]
  },
  {
   "cell_type": "markdown",
   "metadata": {},
   "source": [
    "## Siguientes pasos"
   ]
  },
  {
   "cell_type": "markdown",
   "metadata": {},
   "source": [
    "Aunque *Word* es una herramienta muy versatil para la composición de documentos, puede tener limitaciones para la tipografía matemática o en la composición de documentos de investigación más formales. Para quienes buscan mayor rigor matemático, flexibilidad en el diseño de sus documentos y están dispuestos a explorar las tecnologías con las que los académicos construyen sus articulos de investigación, recomendamos aprender [*LaTeX*](https://www.overleaf.com/)."
   ]
  },
  {
   "cell_type": "markdown",
   "metadata": {},
   "source": [
    "## Créditos"
   ]
  },
  {
   "cell_type": "markdown",
   "metadata": {},
   "source": [
    "Equipo Principios de Optimización<br>\n",
    "Autores: Alejandro Mantilla<br>\n",
    "Desarrollo: Alejandro Mantilla y Alfaima Solano<br>\n",
    "Última fecha de modificación: 10/04/2023"
   ]
  }
 ],
 "metadata": {
  "kernelspec": {
   "display_name": "Python 3 (ipykernel)",
   "language": "python",
   "name": "python3"
  },
  "language_info": {
   "codemirror_mode": {
    "name": "ipython",
    "version": 3
   },
   "file_extension": ".py",
   "mimetype": "text/x-python",
   "name": "python",
   "nbconvert_exporter": "python",
   "pygments_lexer": "ipython3",
   "version": "3.11.3"
  }
 },
 "nbformat": 4,
 "nbformat_minor": 4
}
