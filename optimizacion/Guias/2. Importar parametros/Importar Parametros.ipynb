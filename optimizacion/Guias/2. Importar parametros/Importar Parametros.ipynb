{
 "cells": [
  {
   "cell_type": "markdown",
   "metadata": {},
   "source": [
    "# Importar parámetros de MS Excel\n",
    "\n",
    "## Librería\n",
    "\n",
    "Para empezar, la guía se realizará en base al problema de Family Knapsack que se introdujo como ejemplo en la guía *Matemáticas en MS Office*. El primer paso es importar la libreria **openpyxl** con la siguiente línea de código:"
   ]
  },
  {
   "cell_type": "code",
   "execution_count": 3,
   "metadata": {},
   "outputs": [],
   "source": [
    "from openpyxl import*"
   ]
  },
  {
   "cell_type": "markdown",
   "metadata": {},
   "source": [
    "````{margin}\n",
    "```{admonition} Nota\n",
    ":class: dropdown\n",
    "\n",
    "De forma que la línea de código funcione en cualquier computador sin tener que actualizarla, se recomienda guardar el archivo con los parámetros en la misma carpeta en la que se encuentra el archivo de la implementación del problema. Para lograr esto, la ruta se escribe con un punto seguido de un slash *./* y el nombre del archivo con los parámetros. El punto hace automaticamente la referencia a la misma carpeta donde se encuentra el archivo en el que se esta realizando la implementación.\n",
    "\n",
    "````\n",
    "\n",
    "## Libro de MS Excel y hojas\n",
    "Luego, es necesario importar el libro de MS Excel donde se encuentran los parámetros del problema de optimización a resolver. En este caso, el libro de parámetros se llama *parametros.xlsx*. El archivo se importa con la función *load_wokbook()* que recibe como parámetro la ruta donde se encuentra el archivo. Además, para poder realizar operaciones con el libro más adelante, se guardará el archivo en una nueva variable que se llamará *book*."
   ]
  },
  {
   "cell_type": "code",
   "execution_count": 4,
   "metadata": {},
   "outputs": [],
   "source": [
    "book = load_workbook(\"./parametros.xlsx\")"
   ]
  },
  {
   "cell_type": "markdown",
   "metadata": {},
   "source": [
    "Ahora, se debe guardar cada una de las hojas que tiene el libro de Excel. En el ejemplo que estamos usando, el libro con los parámetros tiene tres hojas.\n",
    "\n",
    "![](./imagenes/fotoHojasLibro.png)\n",
    "\n",
    "A continuación se ilustra como guardar cada hoja."
   ]
  },
  {
   "cell_type": "markdown",
   "metadata": {},
   "source": [
    "````{margin}\n",
    "```{admonition} Nota\n",
    ":class: dropdown\n",
    "\n",
    "En caso de que solo exista una hoja se puede utilizar únicamente la siguiente línea de código:\n",
    "\n",
    "sheet = book.active\n",
    "\n",
    "````"
   ]
  },
  {
   "cell_type": "code",
   "execution_count": 5,
   "metadata": {},
   "outputs": [],
   "source": [
    "sheet1 = book[\"pesoObjetos\"]\n",
    "sheet2 = book[\"pesoMaxExcursionistas\"]\n",
    "sheet3 = book[\"preferencias\"]"
   ]
  },
  {
   "cell_type": "markdown",
   "metadata": {},
   "source": [
    "## Parámetros\n",
    "````{margin}\n",
    "```{admonition} Nota\n",
    ":class: dropdown\n",
    "\n",
    "El número de recorridos depende del número de conjuntos en los que esta indexado el parámetro en cuestión. En caso de que este indexado en tres o más conjuntos, se deberan construir varias tablas con ciertos índices fijos y se tendrán máximo dos recorridos (filas y columnas). \n",
    "\n",
    "````\n",
    "````{margin}\n",
    "```{admonition} Nota\n",
    ":class: dropdown\n",
    "\n",
    "Cada recorrido se definirá según dónde se encuentre la información en el archivo de excel. \n",
    "\n",
    "````\n",
    "Con lo anterior, se procede a guardar los parámetros en diccionarios. Para cada parámetro se debe seguir el siguiente procedimiento: \n",
    "1. Crear el diccionario donde se guardará su información.\n",
    "2. Realizar uno o dos recorridos para pasar por los valores de cada uno de los índices del parámetro.\n",
    "3. Dentro del recorrido se guarda cada índice del parámetro en una variable.\n",
    "4. Dentro del recorrido se guarda el valor del índice en el diccionario donde los índices seran las llaves.\n",
    "\n",
    "En la primera hoja se encuentra el parámetro $p_i$ que hace referencia al peso de cada uno de los objetos.\n",
    "\n",
    "![](./imagenes/foto-p_i.png)\n",
    "\n",
    "Como este parámetro esta indexado únicamente en el conjunto de objetos, solo se debe realizar un recorrido. Este recorrido se definirá entre 3 y 14, pues estas son las filas donde se encuentran los valores de este parámetro para cada uno de los objetos. Para extraer el valor de una celda de Excel se utilizará el comando *.value*.\n",
    "\n",
    "````{margin}\n",
    "```{admonition} Nota\n",
    ":class: dropdown\n",
    "  \n",
    "Es importante recordar que la función range(i,j) define una serie de números desde i hasta j-1. Es por esto que, en este caso, se utiliza el número 15 como j.\n",
    "\n",
    "````\n",
    "````{margin}\n",
    "```{admonition} Nota\n",
    ":class: dropdown\n",
    "  \n",
    "Es importante recordar que en la función cell(i,j), i hace referencia a la fila y j a la columna. En este caso, como los índices (nombre de cada objeto) se encuentran en la segunda columna, se utiliza el número 2 como j para todas las iteraciones.\n",
    "\n",
    "````"
   ]
  },
  {
   "cell_type": "code",
   "execution_count": 52,
   "metadata": {},
   "outputs": [
    {
     "name": "stdout",
     "output_type": "stream",
     "text": [
      "{'Botella de agua': 2, 'Carpa': 8, 'Lata de atún': 2, 'Botiquín': 2, 'Protector solar': 1, 'Lata de salchichas': 2, 'Bolsa de dormir': 4, 'Linterna': 3, 'Repelente': 2, 'Brújula': 1, 'Cobija': 6, 'Balón': 3}\n"
     ]
    }
   ],
   "source": [
    "# 1. Se crea el diccionario para guardar la información del parámetro\n",
    "p = {}  #Peso de los objetos\n",
    "\n",
    "# 2. Se realiza el recorrido para guardar todos los valores necesarios\n",
    "for i in range(3,15):\n",
    "    objeto = sheet1.cell(i,2).value       # 3. Se guarda cada índice para luego utilizarlo como llave en el diccionario\n",
    "    p[objeto] = sheet1.cell(i,3).value    # 4. Se guarda el valor del índice correspondiente a la iteración\n",
    "\n",
    "# Se imprime el diccionario para verificar que se hayan importado correctamente los datos\n",
    "print(p)"
   ]
  },
  {
   "cell_type": "markdown",
   "metadata": {},
   "source": [
    "Los siguientes parámetros se encuentra en la segunda y tercera hoja. En la segunda hoja está el parámetro $b_j$ que hace referencia al peso máximo que puede cargar cada excursionista.\n",
    "\n",
    "![](./imagenes/foto-b_j.png)\n",
    "\n",
    "En la tercera hoja está el parámetro $q_{ij}$ que hace referencia a la preferencia que tiene cada excursionista sobre cada objeto.\n",
    "\n",
    "![](./imagenes/foto-q_ij.png)\n",
    "\n",
    "Para cargar estos parámetro se realiza lo mismo que para $p_i$ teniendo en cuenta el cambio de rango donde esta la información. Además, como $q_{ij}$ esta indexado en dos conjuntos, se deben realizar dos recorridos y las llaves del diccionario serán tuplas."
   ]
  },
  {
   "cell_type": "code",
   "execution_count": 53,
   "metadata": {},
   "outputs": [
    {
     "name": "stdout",
     "output_type": "stream",
     "text": [
      "b:\n",
      "{'Papá': 12, 'Mamá': 12, 'Hijo': 6, 'Hija': 6}\n",
      "\n",
      "q:\n",
      "{('Botella de agua', 'Papá'): 8, ('Botella de agua', 'Mamá'): 2, ('Botella de agua', 'Hijo'): 11, ('Botella de agua', 'Hija'): 8, ('Carpa', 'Papá'): 2, ('Carpa', 'Mamá'): 9, ('Carpa', 'Hijo'): 5, ('Carpa', 'Hija'): 4, ('Lata de atún', 'Papá'): 6, ('Lata de atún', 'Mamá'): 12, ('Lata de atún', 'Hijo'): 7, ('Lata de atún', 'Hija'): 3, ('Botiquín', 'Papá'): 12, ('Botiquín', 'Mamá'): 4, ('Botiquín', 'Hijo'): 6, ('Botiquín', 'Hija'): 12, ('Protector solar', 'Papá'): 11, ('Protector solar', 'Mamá'): 1, ('Protector solar', 'Hijo'): 12, ('Protector solar', 'Hija'): 7, ('Lata de salchichas', 'Papá'): 7, ('Lata de salchichas', 'Mamá'): 10, ('Lata de salchichas', 'Hijo'): 10, ('Lata de salchichas', 'Hija'): 6, ('Bolsa de dormir', 'Papá'): 3, ('Bolsa de dormir', 'Mamá'): 7, ('Bolsa de dormir', 'Hijo'): 3, ('Bolsa de dormir', 'Hija'): 10, ('Linterna', 'Papá'): 10, ('Linterna', 'Mamá'): 8, ('Linterna', 'Hijo'): 2, ('Linterna', 'Hija'): 2, ('Repelente', 'Papá'): 9, ('Repelente', 'Mamá'): 3, ('Repelente', 'Hijo'): 9, ('Repelente', 'Hija'): 9, ('Brújula', 'Papá'): 5, ('Brújula', 'Mamá'): 5, ('Brújula', 'Hijo'): 1, ('Brújula', 'Hija'): 1, ('Cobija', 'Papá'): 4, ('Cobija', 'Mamá'): 11, ('Cobija', 'Hijo'): 4, ('Cobija', 'Hija'): 11, ('Balón', 'Papá'): 1, ('Balón', 'Mamá'): 6, ('Balón', 'Hijo'): 8, ('Balón', 'Hija'): 5}\n"
     ]
    }
   ],
   "source": [
    "b = {} #Peso máximo por excursionista\n",
    "\n",
    "for i in range(3,7):\n",
    "    excursionista = sheet2.cell(i,2).value       \n",
    "    b[excursionista] = sheet2.cell(i,3).value    \n",
    "\n",
    "print(\"b:\")\n",
    "print(b)\n",
    "\n",
    "\n",
    "q = {} #Preferencia por cada excursionista de cada objeto\n",
    "\n",
    "for i in range(3,15):\n",
    "    for j in range(3,7):\n",
    "        objeto = sheet3.cell(i,2).value\n",
    "        excursionista = sheet3.cell(2,j).value\n",
    "        q[(objeto,excursionista)]=sheet3.cell(i,j).value\n",
    "\n",
    "print()\n",
    "print(\"q:\")\n",
    "print(q)"
   ]
  },
  {
   "cell_type": "markdown",
   "metadata": {},
   "source": [
    "## Conjuntos\n",
    "\n",
    "Finalmente, se construyen los conjuntos a partir de las llaves de los diccionarios que ya se crearon para los parámetros. Como el parametro $p_i$ esta indexado en el conjunto de objetos, éste tiene como llaves a todos los objetos. Por lo tanto, el conjunto de objetos, que se declarará como una lista, se construye con la siguiente línea de código:"
   ]
  },
  {
   "cell_type": "code",
   "execution_count": 54,
   "metadata": {},
   "outputs": [
    {
     "name": "stdout",
     "output_type": "stream",
     "text": [
      "['Botella de agua', 'Carpa', 'Lata de atún', 'Botiquín', 'Protector solar', 'Lata de salchichas', 'Bolsa de dormir', 'Linterna', 'Repelente', 'Brújula', 'Cobija', 'Balón']\n"
     ]
    }
   ],
   "source": [
    "O = list(p.keys())\n",
    "\n",
    "# Se imprime la lista para verificar que se haya construido correctamente el conjunto\n",
    "print(O)"
   ]
  },
  {
   "cell_type": "markdown",
   "metadata": {},
   "source": [
    "Lo mismo se realiza para construir el conjunto de excursionistas, pero en este caso a partir del parametro $b_j$ ya que éste esta indexado en el conjunto deseado."
   ]
  },
  {
   "cell_type": "code",
   "execution_count": 55,
   "metadata": {},
   "outputs": [
    {
     "name": "stdout",
     "output_type": "stream",
     "text": [
      "['Papá', 'Mamá', 'Hijo', 'Hija']\n"
     ]
    }
   ],
   "source": [
    "E = list(b.keys())\n",
    "\n",
    "# Se imprime la lista para verificar que se haya construido correctamente el conjunto\n",
    "print(E)"
   ]
  },
  {
   "cell_type": "markdown",
   "metadata": {},
   "source": [
    "## Siguiente paso\n",
    "\n",
    "Con los parámetros importados y los conjuntos construidos se puede proceder a la implementación y solución del problema de optimización."
   ]
  },
  {
   "cell_type": "markdown",
   "metadata": {},
   "source": [
    "## Créditos\n",
    "\n",
    "Equipo de Optimización<br>\n",
    "Desarrollo: Daniel Yamin, Juan F. Rengifo<br>\n",
    "Fecha: 25/11/2020<br>"
   ]
  }
 ],
 "metadata": {
  "kernelspec": {
   "display_name": "Python 3",
   "language": "python",
   "name": "python3"
  },
  "language_info": {
   "codemirror_mode": {
    "name": "ipython",
    "version": 3
   },
   "file_extension": ".py",
   "mimetype": "text/x-python",
   "name": "python",
   "nbconvert_exporter": "python",
   "pygments_lexer": "ipython3",
   "version": "3.8.8"
  }
 },
 "nbformat": 4,
 "nbformat_minor": 4
}
