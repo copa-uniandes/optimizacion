{
 "cells": [
  {
   "cell_type": "markdown",
   "metadata": {},
   "source": [
    "# Producción de cemento Visualización"
   ]
  },
  {
   "cell_type": "markdown",
   "metadata": {},
   "source": [
    "<b><i style=\"font-size:13px\">Tags: </i></b><i style=\"font-size:11px\">Inventario, Visualización, Matplotlib</i>"
   ]
  },
  {
   "cell_type": "markdown",
   "metadata": {},
   "source": [
    "## Enunciado\n",
    "Artos S.A. es una empresa dedicada a la producción de cemento que cuenta con una única planta en la ciudad de Barranquilla. La empresa debe determinar la cantidad de toneladas de cemento a producir en cada una de las siguientes 12 semanas. Los costos de producción, costos de almacenamiento, así como la demanda y el precio por tonelada de cemento, varían semana a semana y se presentan en la siguiente tabla. \n",
    "\n"
   ]
  },
  {
   "cell_type": "markdown",
   "metadata": {},
   "source": [
    "|Semana|Costo de producción \\[Miles de COP/ton\\]|Costo de almacenamiento \\[Miles de COP/ton\\]|Demanda \\[ton\\]|Precio \\[Miles de COP/ton\\]|\n",
    "|:---:|:---:|:---:|:---:|:---:|\n",
    "|1|172.8|6.9|95,000|432.0|\n",
    "|2|178.7|7.2|99,750|440.6|\n",
    "|3|174.6|8.0|104,738|449.5|\n",
    "|4|181.4|8.9|109,974|458.4|\n",
    "|5|183.0|9.0|109,974|467.6|\n",
    "|6|177.7|7.8|109,974|477.0|\n",
    "|7|182.8|6.7|120,972|486.5|\n",
    "|8|186.8|7.3|120,972|496.2|\n",
    "|9|181.8|7.8|108,875|506.2|\n",
    "|10|178.3|8.8|97,987|516.3|\n",
    "|11|173.4|9.2|78,390|526.6|\n",
    "|12|168.8|8.4|94,068|537.1|"
   ]
  },
  {
   "cell_type": "markdown",
   "metadata": {},
   "source": [
    "Tenga en cuenta que, al inicio de la planeación, se cuenta con 12,000 toneladas de cemento y que, por especificaciones de la maquinaria, no se puede producir más de 110,000 toneladas ni menos de 85,000 toneladas en una semana cualquiera.\n",
    "\n",
    "## Formulación \n",
    "**1.** Formule el problema de optimización lineal con el fin de determinar la producción semanal de Artos y lograr la mayor utilidad posible. Para esto usted debe seguir los siguientes pasos: <br>\n"
   ]
  },
  {
   "cell_type": "markdown",
   "metadata": {},
   "source": [
    "\n",
    "**a.** Escriba lo(s) conjunto(s), parámetro(s) y variable(s) de decisión que utilizará en el modelo.\n",
    "\n",
    "### Conjuntos\n",
    "- $S$: Conjunto de semanas\n",
    "\n",
    "### Parámetros\n",
    "- $d_{i}$: demanda de la semana $i\\in S$\n",
    "- $p_{i}$: precio por tonelada de cemento en la semana $i\\in S$\n",
    "- $c_i$: costo de producir una tonelada de cemento en la semana $i\\in S$\n",
    "- $h_i$: costo de almacenamiento de una tonelada de cemento en la semana $i\\in S$\n",
    "- $I_0$: inventario inicial de toneladas de cemento\n",
    "\n",
    "### Variables de decisión\n",
    "- $x_{i}$: toneladas de cemento a producir en la semana $i\\in S$\n",
    "- $I_i$: toneladas de cemento que se tienen en inventario al final de la semana $i\\in S$\n"
   ]
  },
  {
   "cell_type": "markdown",
   "metadata": {},
   "source": [
    "### Restricciones\n",
    "**b.** Escriba la(s) restricción(es) lineal(es) que describe(n) que se deben respetar los límites de producción\n",
    "\n",
    "$$\n",
    "\\begin{align*}\n",
    "x_i&\\leq 110000, &&\\forall i \\in S\\\\\n",
    "x_i&\\geq 85000, &&\\forall i \\in S\\\\\n",
    "\\end{align*}\n",
    "$$"
   ]
  },
  {
   "cell_type": "markdown",
   "metadata": {},
   "source": [
    "**c.** Escriba la(s) restricción(es) lineal(es) que contabiliza(n) el inventario de cada semana\n",
    "\n",
    "$$\n",
    "\\begin{align*}\n",
    "I_1&=I_0+x_1-d_1\\\\\n",
    "I_i&=I_{i-1}+x_i-d_i,  &&\\forall i \\in S|i\\ge 1\n",
    "\\end{align*}\n",
    "$$"
   ]
  },
  {
   "cell_type": "markdown",
   "metadata": {},
   "source": [
    "### Naturaleza de las variables\n",
    "**d.** Escriba la(s) restricción(es) que describe(n) matemáticamente el tipo de variable(s) que está utilizando dentro del modelo\n",
    "\n",
    "$$\n",
    "\\begin{align*}\n",
    "x_i&\\geq 0,&&\\forall i \\in S\\\\\n",
    "I_i&\\geq 0,&&\\forall i \\in S\n",
    "\\end{align*}\n",
    "$$"
   ]
  },
  {
   "cell_type": "markdown",
   "metadata": {},
   "source": [
    "### Función Objetivo\n",
    "**e.** Escriba la función objetivo\n",
    "\n",
    "$$\n",
    "\\begin{equation*}\n",
    "    max \\sum_{i\\in S}d_ip_i-x_ic_i-I_ih_i\n",
    "\\end{equation*}\n",
    "$$"
   ]
  },
  {
   "cell_type": "markdown",
   "metadata": {},
   "source": [
    "## Formulación matemática completa"
   ]
  },
  {
   "cell_type": "markdown",
   "metadata": {},
   "source": [
    "**Conjuntos:**\n",
    "- $S$: Conjunto de semanas\n",
    "\n",
    "**Parámetros:**\n",
    "- $d_{i}$: demanda de la semana $i\\in S$\n",
    "- $p_{i}$: precio por tonelada de cemento en la semana $i\\in S$\n",
    "- $c_i$: costo de producir una tonelada de cemento en la semana $i\\in S$\n",
    "- $h_i$: costo de almacenamiento de una tonelada de cemento en la semana $i\\in S$\n",
    "- $I_0$: inventario inicial de toneladas de cemento\n",
    "\n",
    "**Variables de decisión:**\n",
    "- $x_{i}$: toneladas de cemento a producir en la semana $i\\in S$\n",
    "- $I_i$: toneladas de cemento que se tienen en inventario al final de la semana $i\\in S$\n",
    "\n",
    "$$\n",
    "\\begin{equation*}\n",
    "    max \\sum_{i\\in S}d_ip_i-x_ic_i-I_ih_i\\text{ (1)}\n",
    "\\end{equation*}\n",
    "$$\n",
    "\n",
    "Sujeto a,\n",
    "\n",
    "$$\n",
    "\\begin{align*}\n",
    "x_i&\\leq 110000, &&\\forall i \\in S; &(2)\\\\\n",
    "x_i&\\geq 85000, &&\\forall i \\in S; &(3)\\\\\n",
    "I_1&=I_0+x_1-d_1,&& &(4)\\\\\n",
    "I_i&=I_{i-1}+x_i-d_i,  &&\\forall i \\in S|i\\ge 1;  &(5)\\\\\n",
    "x_i&\\geq 0,&&\\forall i \\in S; &(6)\\\\\n",
    "I_i&\\geq 0,&&\\forall i \\in S; &(7)\n",
    "\\end{align*}\n",
    "$$"
   ]
  },
  {
   "cell_type": "markdown",
   "metadata": {},
   "source": [
    "La función objetivo (1) maximiza las utilidades totales. Las restricciones (2) y (3) garantizan que para cada semana $i\\in S$ la producción $x_i$ respete los límites de producción. Las restricciones (4) y (5) contabilizan los inventarios para cada semana $i \\in S$. Las restricciones (6) y (7) describen la naturaleza de las variables $x_i$ y $I_i$."
   ]
  },
  {
   "cell_type": "markdown",
   "metadata": {},
   "source": [
    "## Implementación\n",
    "**2.** Resuelva su modelo. Reporte sus resultados de una manera amigable"
   ]
  },
  {
   "cell_type": "code",
   "execution_count": 2,
   "metadata": {},
   "outputs": [
    {
     "name": "stdout",
     "output_type": "stream",
     "text": [
      "Estado (optimizador): Optimal\n",
      "\n",
      "Inventarios - Utilidades totales = $ 380356850800.0\n",
      "\n",
      "Variables de decisión\n",
      "Semana\t\tProducción (ton)\t\tInventario (ton)\n",
      "1\t\t89354.0 \t\t\t6354.0\n",
      "2\t\t110000.0 \t\t\t16604.0\n",
      "3\t\t110000.0 \t\t\t21866.0\n",
      "4\t\t110000.0 \t\t\t21892.0\n",
      "5\t\t110000.0 \t\t\t21918.0\n",
      "6\t\t110000.0 \t\t\t21944.0\n",
      "7\t\t110000.0 \t\t\t10972.0\n",
      "8\t\t110000.0 \t\t\t0.0\n",
      "9\t\t108875.0 \t\t\t0.0\n",
      "10\t\t97987.0 \t\t\t0.0\n",
      "11\t\t85000.0 \t\t\t6610.0\n",
      "12\t\t87458.0 \t\t\t0.0\n"
     ]
    }
   ],
   "source": [
    "#%%se importa la libreria de PulP\n",
    "import pulp as lp\n",
    "\n",
    "#-----------------\n",
    "# Conjuntos\n",
    "#-----------------\n",
    "#Semanas\n",
    "S=[i for i in range(1,13)]\n",
    "\n",
    "#-----------------\n",
    "# Parámetros\n",
    "#-----------------\n",
    "#Se cargan todos los parámetros del modelo\n",
    "parametros={# Semana: (costo producción,costo almacenamiento,demanda,precio)\n",
    "    1:(172.8,6.9,95000,432.0),\n",
    "    2:(178.7,7.2,99750,440.6),\n",
    "    3:(174.6,8.0,104738,449.5),\n",
    "    4:(181.4,8.9,109974,458.4),\n",
    "    5:(183.0,9.0,109974,467.6),\n",
    "    6:(177.7,7.8,109974,477.0),\n",
    "    7:(182.8,6.7,120972,486.5),\n",
    "    8:(186.8,7.3,120972,496.2),\n",
    "    9:(181.8,7.8,108875,506.2),\n",
    "    10:(178.3,8.8,97987,516.3),\n",
    "    11:(173.4,9.2,78390,526.6),\n",
    "    12:(168.8,8.4,94068,537.1)}\n",
    "\n",
    "#Se separan los parámetros del diccionario general\n",
    "#Semana: costo de producción por tonelada en la semana i\n",
    "c={i:parametros[i][0] for i in parametros.keys()}\n",
    "\n",
    "#Semana: costo de almacenamiento por tonelada en la semana i\n",
    "h={i:parametros[i][1] for i in parametros.keys()}\n",
    "\n",
    "#Semana: demanda de la semana i\n",
    "d={i:parametros[i][2] for i in parametros.keys()}\n",
    "\n",
    "#Semana: precio por tonelada en la semana i\n",
    "p={i:parametros[i][3] for i in parametros.keys()}\n",
    "\n",
    "\n",
    "#Inventario inicial de toneladas de cemento\n",
    "I0=12000\n",
    "\n",
    "#%%\n",
    "#-------------------------------------\n",
    "# Creación del objeto problema en PuLP\n",
    "#-------------------------------------\n",
    "#Crea el problema para cargarlo con la instancia \n",
    "problema=lp.LpProblem(\"Inventarios\",lp.LpMaximize)\n",
    "\n",
    "#-----------------------------\n",
    "# Variables de Decisión\n",
    "#-----------------------------\n",
    "x=lp.LpVariable.dicts('x',S,lowBound=0,cat='Continuous') #toneladas de cemento a producir en cada semana\n",
    "I=lp.LpVariable.dicts('I',S,lowBound=0,cat='Continuous') #toneladas de cemento en inventario en cada semana\n",
    "\n",
    "#-----------------------------\n",
    "# Función objetivo\n",
    "#-----------------------------\n",
    "#Crea la expresión de maximización de utilidades\n",
    "problema+=lp.lpSum(d[i]*p[i]-x[i]*c[i]-I[i]*h[i] for i in S), \"Utilidades Totales\"\n",
    "\n",
    "#-----------------------------\n",
    "# Restricciones\n",
    "#-----------------------------\n",
    "for i in S:\n",
    "    #Se garantiza que se respeten los limites de producción\n",
    "    problema+=x[i]<=110000, \"Límite superior de producción en la semana \"+ str(i)\n",
    "    problema+=x[i]>=85000, \"Límite inferior de producción en la semana \"+ str(i)\n",
    "    \n",
    "    \n",
    "#Contabilizar los inventarios de cada semana  \n",
    "problema+=I[1]==I0+x[1]-d[1], \"Inventario en la semana 1\"\n",
    "for i in S:\n",
    "    if i > 1:\n",
    "        problema+=I[i]==I[i-1]+x[i]-d[i], \"Inventario en la semana \"+ str(i)\n",
    "\n",
    "        \n",
    "#-----------------------------\n",
    "# Invocar el optimizador\n",
    "#-----------------------------\n",
    "#Optimizar el modelo con CBC (default de PuLP)\n",
    "problema.solve()\n",
    "\n",
    "#%%\n",
    "#-----------------------------\n",
    "# Imprimir formato LP\n",
    "#-----------------------------\n",
    "#Escribe el problema en un archivo con formato LP \n",
    "problema.writeLP(\"Inventarios.lp\")\n",
    "\n",
    "\n",
    "#-----------------------------\n",
    "#    Imprimir resultados\n",
    "#-----------------------------\n",
    "#Imprimir estado final del optimizador\n",
    "print(\"Estado (optimizador):\", lp.LpStatus[problema.status],end='\\n')\n",
    "\n",
    "#Valor óptimo del portafolio de Petroco    \n",
    "print(\"\\nInventarios - Utilidades totales = $\", round(lp.value(problema.objective),2)*1000)\n",
    "print()\n",
    "\n",
    "#Imprimir variables de decisión\n",
    "print(\"Variables de decisión\")\n",
    "print(\"Semana\",\"Producción (ton)\", \"Inventario (ton)\",sep='\\t\\t')\n",
    "for i in S:\n",
    "    print(i,str(round(x[i].value(),2))+ \" \\t\",round(I[i].value(),2),sep='\\t\\t')\n"
   ]
  },
  {
   "cell_type": "markdown",
   "metadata": {},
   "source": [
    "### Visualización de resultados"
   ]
  },
  {
   "cell_type": "code",
   "execution_count": 7,
   "metadata": {},
   "outputs": [
    {
     "data": {
      "image/png": "[encoded data removed]",
      "text/plain": [
       "<Figure size 1080x576 with 1 Axes>"
      ]
     },
     "metadata": {
      "needs_background": "light"
     },
     "output_type": "display_data"
    },
    {
     "data": {
      "image/png": "[encoded data removed]",
      "text/plain": [
       "<Figure size 1080x576 with 1 Axes>"
      ]
     },
     "metadata": {
      "needs_background": "light"
     },
     "output_type": "display_data"
    },
    {
     "data": {
      "image/png": "[encoded data removed]",
      "text/plain": [
       "<Figure size 1080x576 with 1 Axes>"
      ]
     },
     "metadata": {
      "needs_background": "light"
     },
     "output_type": "display_data"
    }
   ],
   "source": [
    "#se importa la libreria que se utilizará para la visualización\n",
    "import matplotlib.pyplot as plt\n",
    "\n",
    "#se guarda en una lista los valores de producción, de inventario final e  inventario inicial de cada semana\n",
    "Prod=[x[i].value() for i in S] #producción de cada semana\n",
    "Inv_F=[I[i].value() for i in S] #inventario al final de cada semana\n",
    "Inv_I=[] #inventario al inicio de cada semana\n",
    "Inv_I.append(I0) #se define el inventario inicial en el primer mes\n",
    "for i in S:\n",
    "    if i>=2:\n",
    "        Inv_I.append(I[i-1].value()) #inventario al inicio de la semana i\n",
    "\n",
    "\n",
    "#------------------------------------------------------------------------\n",
    "#    Gráfica conjunta (producción + inventario inicial & demanda)\n",
    "#------------------------------------------------------------------------\n",
    "fig3, ax1 = plt.subplots(figsize=(15,8)) #se crea la gráfica donde se va a visualizar el plan de producción conjunto con la demanda y el inventario al inicio de cada semana\n",
    "p1 = ax1.bar(S, Prod, width=0.6, tick_label=S) #se añaden las barras de producción a la gráfica\n",
    "p2 = ax1.bar(S, Inv_I, bottom=Prod, width=0.6, tick_label=S) #se añaden las barras de inventario inicial a la gráfica (encima de las de producción)\n",
    "l1 = ax1.plot(S, d.values(), color=\"black\") #se añaden una línea, que representa la demanda, a la gráfica que representa la demanda\n",
    "ax1.fill_between(S,d.values(),color=\"black\",alpha=0.1) #se rellena el área bajo la curva de demanda\n",
    "\n",
    "ax1.set_title('Plan de producción') #se añade el titulo de la gráfica\n",
    "ax1.set_xlabel('Semana') #se añade el label del eje x\n",
    "ax1.set_ylabel('Toneladas de cemento') #se añade el label del eje y\n",
    "ax1.set_ylim([0,150000]) #se establece el rango del eje y \n",
    "ax1.legend((l1[0],p1[0], p2[0]), ('Demanda','Producción', 'Inventario Inicial')) #se añaden los labels de cada componente de la gráfica \n",
    "\n",
    "\n",
    "#-----------------------------\n",
    "#    Plan de producción\n",
    "#-----------------------------\n",
    "fig1, ax2 = plt.subplots(figsize=(15,8)) #se crea la gráfica donde se va a visualizar el plan de producción\n",
    "rects1=ax2.bar(S, Prod, width=0.6, tick_label=S) #se añaden las barras a la gráfica\n",
    "\n",
    "#se añaden los labels a cada barra con el número de toneladas de cemento producidas cada semana\n",
    "for rect in rects1:\n",
    "    height = rect.get_height()\n",
    "    ax2.text(rect.get_x() + rect.get_width()/2., 1.05*height,'%d' % int(height), ha='center', va='bottom')\n",
    "\n",
    "ax2.set_title('Producción de cemento en cada semana') #se añade el titulo de la gráfica\n",
    "ax2.set_xlabel('Semana') #se añade el label del eje x\n",
    "ax2.set_ylabel('Toneladas de cemento') #se añade el label del eje y\n",
    "ax2.set_ylim([0,150000]) #se establece el rango del eje y \n",
    "ax2.set_yticks([]) #se eliminan los números del eje y\n",
    "\n",
    "#-----------------------------\n",
    "#    Inventario Final\n",
    "#-----------------------------\n",
    "fig2, ax3 = plt.subplots(figsize=(15,8)) #se crea la gráfica donde se va a visualizar el inventario al final de cada semana\n",
    "rects2=ax3.bar(S, Inv_F, width=0.6, tick_label=S, color=\"orange\") #se añaden las barras a la gráfica\n",
    "\n",
    "#se añaden los labels a cada barra con el número de toneladas de cemento en inventario al final de cada semana\n",
    "for rect in rects2:\n",
    "    height = rect.get_height()\n",
    "    ax3.text(rect.get_x() + rect.get_width()/2., 1.05*height,'%d' % int(height), ha='center', va='bottom')\n",
    "\n",
    "ax3.set_title('Inventario de cemento al final de cada semana') #se añade el titulo de la gráfica\n",
    "ax3.set_xlabel('Semana') #se añade el label del eje x\n",
    "ax3.set_ylabel('Toneladas de cemento') #se añade el label del eje y\n",
    "ax3.set_ylim([0,150000]) #se establece el rango del eje y \n",
    "ax3.set_yticks([]) #se eliminan los números del eje y\n",
    "\n",
    "#se muestran las gráficas\n",
    "plt.show()"
   ]
  },
  {
   "cell_type": "markdown",
   "metadata": {},
   "source": [
    "## Créditos\n",
    "\n",
    "Equipo de Optimización<br>\n",
    "Instancia: Camilo Aguilar León, Juan Felipe Rengifo<br>\n",
    "Fecha: 25/09/2020"
   ]
  }
 ],
 "metadata": {
  "kernelspec": {
   "display_name": "Python 3",
   "language": "python",
   "name": "python3"
  },
  "language_info": {
   "codemirror_mode": {
    "name": "ipython",
    "version": 3
   },
   "file_extension": ".py",
   "mimetype": "text/x-python",
   "name": "python",
   "nbconvert_exporter": "python",
   "pygments_lexer": "ipython3",
   "version": "3.8.8"
  }
 },
 "nbformat": 4,
 "nbformat_minor": 4
}
