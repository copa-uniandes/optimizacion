{
 "cells": [
  {
   "cell_type": "markdown",
   "metadata": {},
   "source": [
    "# Chocolatería Solución"
   ]
  },
  {
   "cell_type": "markdown",
   "metadata": {},
   "source": [
    "<b><i style=\"font-size:13px\">Tags: </i></b><i style=\"font-size:11px\">Introducción, Dos variables</i>"
   ]
  },
  {
   "cell_type": "markdown",
   "metadata": {},
   "source": [
    "## Enunciado\n",
    "\n",
    "La chocolatería Perla Caribe es un pequeño emprendimiento que fabrica y comercializa chocolates artesanales con cacao de distintas variedades comprado directamente a agricultores locales. Actualmente producen dos tipos de chocolates: chocolate oscuro y chocolate blanco. Una unidad de cualquier tipo de chocolate pesa 60g. Una unidad de chocolate oscuro se vende a 7,000 COP y una unidad de chocolate blanco se vende a 6,000 COP. Los costos asociados a materia prima, mano de obra y demás costos operacionales equivalen a 3,500 COP por cada unidad de chocolate oscuro y 2,000 COP por cada unidad de chocolate blanco. \n",
    "\n",
    "La producción de estos chocolates requiere de dos ingredientes en común: manteca de cacao y azúcar. Por cada unidad de chocolate oscuro se requiere 6g de manteca de cacao y 21 g de azúcar. Por cada unidad de chocolate blanco se requiere 22g de manteca de cacao y 18g de azúcar. Cada semana, la chocolatería Perla Caribe tiene disponible 12kg de manteca de cacao y 20kg de azúcar. La demanda de chocolate oscuro es ilimitada, pero a lo sumo le demandan 315 unidades de chocolate blanco por semana.\n",
    "\n",
    "La chocolatería Perla Caribe quiere maximizar su utilidad (ingresos menos costos). Formule un modelo matemático que represente la situación y que les permita cumplir con su objetivo. "
   ]
  },
  {
   "cell_type": "markdown",
   "metadata": {},
   "source": [
    "## Formulación\n",
    "\n",
    "**a.** Escriba término a término la(s) variable(s) de decisión que utilizará en el modelo. \n",
    "\n",
    "$$\n",
    "\\begin{align*}\n",
    "x_1: \\text{unidades de chocolate oscuro producidos cada semana} \\\\\n",
    "x_2: \\text{unidades de chocolate blanco producidos cada semana}\n",
    "\\end{align*}\n",
    "$$"
   ]
  },
  {
   "cell_type": "markdown",
   "metadata": {},
   "source": [
    "\n",
    "**b.** Escriba término a término la(s) restricción(es) lineal(es) y descríbala(s)\n",
    "\n",
    "Restricciones asociadas a la disponibilidad de recursos: \n",
    "\n",
    "$$\n",
    "\\begin{align*}\n",
    "6x_1 + 22x_2 \\leq 12,000\\\\\n",
    "21x_1 + 18x_2 \\leq 20,000\n",
    "\\end{align*}\n",
    "$$\n",
    "\n",
    "\n",
    "Restricciones asociadas a la demanda de productos: \n",
    "\n",
    "$$\n",
    "\\begin{align*}\n",
    "x_2 \\leq 315\n",
    "\\end{align*}\n",
    "$$\n",
    "\n",
    "Restricciones asociadas a tipo de variables: \n",
    "\n",
    "$$\n",
    "\\begin{align*}\n",
    "x_1 \\geq 0\\\\\n",
    "x_2 \\geq 0\n",
    "\\end{align*}\n",
    "$$"
   ]
  },
  {
   "cell_type": "markdown",
   "metadata": {},
   "source": [
    "**c.** Escriba término a término la función objetivo que maximiza la utilidad.\n",
    "\n",
    "$$\n",
    "\\text{maximizar }  (\\$7,000 - \\$3,500)x_1 + (\\$6,000-\\$2,000)x_2\n",
    "$$"
   ]
  },
  {
   "cell_type": "markdown",
   "metadata": {},
   "source": [
    "## Formulación matemática"
   ]
  },
  {
   "cell_type": "markdown",
   "metadata": {},
   "source": [
    "**Variables de decisión:**\n",
    "\n",
    "- $x_1$: unidades de chocolate oscuro producidos cada semana\n",
    "- $x_2$: unidades de chocolate blanco producidos cada semana\n",
    "\n",
    "\n",
    "**Modelo:**\n",
    "\n",
    "$$\n",
    "\\text{maximizar }  \\$3,500x_1 + \\$4,000x_2 \\text{ (1)} \n",
    "$$\n",
    "\n",
    "Sujeto a,\n",
    "\n",
    "$$\n",
    "\\begin{align*}\n",
    "6x_1 + 22x_2 &\\leq 12,000; &(2)\\\\\n",
    "21x_1 + 18x_2 &\\leq 20,000; &(3)\\\\\n",
    "x_2 &\\leq 315; &(4)\\\\\n",
    "x_1 &\\geq 0; &(5)\\\\\n",
    "x_2 & \\geq 0. &(6)\n",
    "\\end{align*}\n",
    "$$\n",
    "\n",
    "La función objetivo (1) maximiza las utilidades. Las restricciones (2) y (3) describen que se debe respetar la disponibilidad de manteca de cacao y azúcar, respectivamente. La restricción (4) garantiza no se sobrepase la demanda máxima de chocolate blanco. La restricciones (5) y (6) describen la naturaleza de la variables $x_1$ y $x_2$, respectivamente. "
   ]
  },
  {
   "cell_type": "markdown",
   "metadata": {},
   "source": [
    "## Implementación\n",
    "\n",
    "**e.** Resuelva el modelo planteado utilizando la librería de PulP en Python. ¿Cuál es la solución\n",
    "óptima del problema? "
   ]
  },
  {
   "cell_type": "code",
   "execution_count": 1,
   "metadata": {},
   "outputs": [
    {
     "name": "stdout",
     "output_type": "stream",
     "text": [
      "Estado (optimizador): Optimal\n",
      "\n",
      "Función objetivo = $ 3648333.5\n",
      "Fabricar  682.381 \t unidades de chocolate oscuro\n",
      "Fabricar  315.0 \t unidades de chocolate blanco\n"
     ]
    }
   ],
   "source": [
    "#se importa la libreria de PulP\n",
    "import pulp as lp\n",
    "\n",
    "#-------------------------------------\n",
    "# Creación del objeto problema en PuLP\n",
    "#-------------------------------------\n",
    "problema = lp.LpProblem(\"Perla\",       #Nombre\n",
    "                        lp.LpMaximize) #Sentido de la optimización\n",
    "\n",
    "#-----------------------------\n",
    "# Variables de Decisión\n",
    "#-----------------------------\n",
    "#Unidades de chocolate oscuro producidas cada semana\n",
    "x_1 = lp.LpVariable(\"C_oscuro\",            #Nombre\n",
    "                    lowBound = 0,          #Cota inferior\n",
    "                    upBound = None,        #Cota superior\n",
    "                    cat = lp.LpContinuous) #Tipo de variable\n",
    "#Unidades de chocolate blanco producidas cada semana\n",
    "x_2 = lp.LpVariable(\"C_blanco\",            #Nombre\n",
    "                    lowBound = 0,          #Cota inferior\n",
    "                    upBound = None,        #Cota superior\n",
    "                    cat = lp.LpContinuous) #Tipo de variable\n",
    "\n",
    "#-----------------------------\n",
    "# Función objetivo\n",
    "#-----------------------------\n",
    "#(1) Crea la expresión de maximización de utilidades \n",
    "problema += 3500*x_1 + 4000*x_2, \"Utilidades Totales\"\n",
    "\n",
    "#-----------------------------\n",
    "# Restricciones\n",
    "#-----------------------------\n",
    "#(2) Respeta la disponibilidad de manteca de cacao \n",
    "problema += 6*x_1 + 22*x_2 <= 12000, \"Manteca_cacao\"\n",
    "#(3) Respeta la disponibilidad de azucar\n",
    "problema += 21*x_1 +18*x_2 <= 20000, \"Azucar\"\n",
    "#(4) Garantiza que la producción no sobrepase a lo demandado\n",
    "problema += x_2 <= 315, \"Demanda\"\n",
    "\n",
    "#-----------------------------\n",
    "# Imprimir formato LP\n",
    "#-----------------------------\n",
    "#Escribe el problema en un archivo con formato LP \n",
    "problema.writeLP(\"Perla.lp\")\n",
    "\n",
    "#-----------------------------\n",
    "# Invocar el optimizador\n",
    "#-----------------------------\n",
    "#Optimizar el modelo con CBC (default de PuLP)\n",
    "problema.solve()\n",
    "\n",
    "#-----------------------------\n",
    "#    Imprimir resultados\n",
    "#-----------------------------\n",
    "#Imprimir estado final del optimizador\n",
    "print(\"Estado (optimizador):\", lp.LpStatus[problema.status],end='\\n')\n",
    "#Imprimir el valor de la función objetivo\n",
    "print(\"\\nFunción objetivo = $\", round(lp.value(problema.objective),2))\n",
    "#Imprimir el valor de las variables\n",
    "print(\"Fabricar \",x_1.value(),\"\\t unidades de chocolate oscuro\")\n",
    "print(\"Fabricar \",x_2.value(),\"\\t unidades de chocolate blanco\")"
   ]
  },
  {
   "cell_type": "markdown",
   "metadata": {},
   "source": [
    "## Créditos\n",
    "\n",
    "Equipo de Optimización<br>\n",
    "Instancia: Alfaima Solano<br>\n",
    "Fecha actualización: 04/03/2021"
   ]
  }
 ],
 "metadata": {
  "kernelspec": {
   "display_name": "Python 3",
   "language": "python",
   "name": "python3"
  },
  "language_info": {
   "codemirror_mode": {
    "name": "ipython",
    "version": 3
   },
   "file_extension": ".py",
   "mimetype": "text/x-python",
   "name": "python",
   "nbconvert_exporter": "python",
   "pygments_lexer": "ipython3",
   "version": "3.8.8"
  }
 },
 "nbformat": 4,
 "nbformat_minor": 4
}
