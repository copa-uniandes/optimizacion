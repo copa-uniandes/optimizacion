{
 "cells": [
  {
   "cell_type": "markdown",
   "id": "inclusive-manufacturer",
   "metadata": {},
   "source": [
    "# Selección de proyectos civiles - Solución"
   ]
  },
  {
   "cell_type": "markdown",
   "id": "curious-spiritual",
   "metadata": {},
   "source": [
    "<b><i style=\"font-size:13px\">Tags: </i></b><i style=\"font-size:11px\">Subconjuntos, Variable Binaria, Mezcla, Cota</i>"
   ]
  },
  {
   "cell_type": "markdown",
   "id": "respective-consultation",
   "metadata": {},
   "source": [
    "## Enunciado\n",
    "\n",
    "\n",
    "La empresa KPCG es una constructora que opera a lo largo del territorio nacional en diferentes proyectos de obra civil. Actualmente KPCG tiene un conjunto de proyectos de obra civil ($O$) localizados en diferentes zonas del país ($Z$ = {norte, sur, oriente, occidente}) que puede decidir si ejecutar o no. Cada zona es disyunta de las otras, es decir, que cada proyecto sólo pertenece a una zona. En cada zona, $O_{k}$ representa el subconjunto de proyectos ($O_{k} ⊆ O$) que pertenecen a la zona $k \\in Z$. Dada la magnitud del contrato y su impacto para el país, KPCG quiere planear el manejo de sus insumos para ejecutar sin contratiempos los proyectos del contrato.\n",
    "\n",
    "Cada proyecto tiene un ingreso esperado ($b_{i}$), y para su ejecución es necesario utilizar una serie de insumos ($R$). Todos los insumos se encuentran almacenados en Bogotá y se envían a las diferentes zonas en donde se ejecuten proyectos. El costo unitario de envió depende del tipo de insumo $j \\in R$ y de la zona $k \\in Z$ a la que se envía ($c_{ij}$). Para cada proyecto $i \\in O$, se conoce la cantidad de cada insumo $j \\in R$ que se requiere para su ejecución ($r_{ij}$). Asimismo, la disponibilidad de cada insumo $j \\in R$ en la bodega de Bogotá es conocida ($d_{j}$).\n",
    "\n",
    "Teniendo en cuenta la limitada flota de camiones para transportar los insumos, KPCG calculó que estos sólo pueden atender máximo 3 de las 4 zonas del país. En este orden de ideas, si una zona no es atendida por la flota de vehículos, los proyectos de la misma no se pueden ejecutar. No obstante, en las zonas que se pueda atender, KPCG debe asegurar que se ejecute un mínimo de $e_{k}$% de los proyectos de la zona.\n",
    "\n",
    "Finalmente, es necesario considerar la alta dependencia que existe entre los proyectos. El subconjunto $N_{i}$ ($N_{i} ⊆ O$) contiene los proyectos que tienen una alta dependencia con el proyecto $i \\in O$. En este sentido, si el proyecto $i \\in O$ se ejecuta, todos los proyectos que pertenecen $N_{i}$ se deben ejecutar. En caso contrario (el proyecto $i \\in O$ no se ejecuta) se podrían ejecutar a lo sumo el 50% de los proyectos que pertenecen al subconjunto $N_{i}$.\n",
    "\n",
    "Usted debe ayudar a KPCG a decidir el manejo de los insumos según los proyectos que se ejecuten con el objetivo de maximizar la utilidad del negocio. La utilidad de KPCG es la diferencia entre los ingresos de cada proyecto ejecutado y el costo de transporte de los insumos. Para esto, usted debe proponer un modelo de optimización lineal que cumpla todas las condiciones anteriormente especificadas."
   ]
  },
  {
   "cell_type": "markdown",
   "id": "bulgarian-garbage",
   "metadata": {},
   "source": [
    "## Formulación\n",
    "\n",
    "### Variables de Decisión\n",
    "\n",
    "**a.** Describa la(s) variable(s) de decisión que utilizará en el modelo.\n",
    "\n",
    "$$\n",
    "z_{k}: \\begin{cases}1\\text{,}&\\text{ si la zona }i\\in O\\text{ es atendida}\\text{;}\\\\ 0\\text{,} & \\text{ d.l.c.}  \\end{cases}\n",
    "$$\n",
    "\n",
    "$$\n",
    "y_{i}: \\begin{cases}1\\text{,}&\\text{ si la obra }i\\in O\\text{ se ejecuta}\\text{;}\\\\ 0\\text{,} & \\text{ d.l.c.}  \\end{cases}\n",
    "$$\n",
    "\n",
    "$$\n",
    "\\begin{align}\n",
    "x_{jk}: \\text{unidades del insumo $j\\in R$ que se envían a la zona $k\\in Z$}\\\\\n",
    "\\end{align}\n",
    "$$"
   ]
  },
  {
   "cell_type": "markdown",
   "id": "superb-essence",
   "metadata": {},
   "source": [
    "### Restricciones\n",
    "**b.** Escriba la(s) restricción(es) que garantiza(n) que los proyectos ejecutados respeten la disponibilidad de recursos por zona.  \n",
    "\n",
    "$$\n",
    "\\begin{align*}\n",
    "    \\sum_{i \\in O_k}r_{ij}y_{i} & \\leq x_{jk}, \\forall j \\in R, k \\in Z\n",
    "\\end{align*}\n",
    "$$"
   ]
  },
  {
   "cell_type": "markdown",
   "id": "nasty-indonesian",
   "metadata": {},
   "source": [
    "**c.** Escriba la(s) restricción(es) que garantiza(n) que la disponibilidad de recursos que se envía a cada zona respeta la disponibilidad en la bodega de Bogotá.\n",
    "\n",
    "$$\n",
    "\\begin{align*}\n",
    "    \\sum_{k \\in Z}x_{jk} & \\leq d_{j}, \\forall j \\in R\n",
    "\\end{align*}\n",
    "$$"
   ]
  },
  {
   "cell_type": "markdown",
   "id": "german-lloyd",
   "metadata": {},
   "source": [
    "**d.** Escriba la(s) restricción(es) que garantiza(n) que la flota de vehículos solo puede atender máximo 3 de las 4 zonas del país.\n",
    "\n",
    "$$\n",
    "\\begin{align*}\n",
    "    \\sum_{k \\in Z}z_{k} & \\leq 3\n",
    "\\end{align*}\n",
    "$$"
   ]
  },
  {
   "cell_type": "markdown",
   "id": "recorded-instrumentation",
   "metadata": {},
   "source": [
    "**e.** Escriba la(s) restricción(es) que describe(n) que si una zona no es atendida por la flota de camiones, no se puede realizar ninguno de los proyectos de la misma, y que si ésta es atendida, se deben realizar mínimo $e_{k}$% de los proyectos ubicados allí (en la zona).\n",
    "\n",
    "$$\n",
    "\\begin{align*}\n",
    "    \\sum_{i \\in O_k}y_{i} & \\leq |O_k|z_k, \\forall k \\in Z\n",
    "\\end{align*}\n",
    "$$\n",
    "\n",
    "$$\n",
    "\\begin{align*}\n",
    "    \\sum_{i \\in O_k}y_{i} & \\geq e_k|O_k|z_k, \\forall k \\in Z\n",
    "\\end{align*}\n",
    "$$"
   ]
  },
  {
   "cell_type": "markdown",
   "id": "integral-ferry",
   "metadata": {},
   "source": [
    "**f.** Escriba la(s) restricción(es) que describe(n) que si un proyecto se realiza, todos los proyectos relacionados ($N_i$) se deben realizar, pero en caso contrario, a lo sumo el 50% de los proyectos relacionados ($N_i$) se pueden realizar.\n",
    "\n",
    "\n",
    "$$\n",
    "\\begin{align*}\n",
    "    \\sum_{n \\in N_i}y_n & \\geq |N_i|y_i, \\forall i \\in O\n",
    "\\end{align*}\n",
    "$$\n",
    "\n",
    "$$\n",
    "\\begin{align*}\n",
    "    \\sum_{n \\in N_i}y_n & \\leq 0.5|N_i|(1-y_i)+My_i, \\forall i \\in O\n",
    "\\end{align*}\n",
    "$$"
   ]
  },
  {
   "cell_type": "markdown",
   "id": "innovative-tanzania",
   "metadata": {},
   "source": [
    "### Naturaleza de las Variables\n",
    "**g.** Escriba la(s) restricción(es) que describe(n) matemáticamente el tipo de variable(s) que está utilizando dentro del modelo. \n",
    "\n",
    "$$\n",
    "\\begin{align}\n",
    "z_{k}\\in\\{0,1\\},\\forall k\\in Z\n",
    "\\end{align}\n",
    "$$\n",
    "\n",
    "$$\n",
    "\\begin{align}\n",
    "y_{i}\\in\\{0,1\\},\\forall i\\in O\n",
    "\\end{align}\n",
    "$$\n",
    "\n",
    "$$\n",
    "\\begin{align}\n",
    "x_{ij} &\\geq 0,\\forall i\\in O, j \\in R\n",
    "\\end{align}\n",
    "$$"
   ]
  },
  {
   "cell_type": "markdown",
   "id": "sized-peace",
   "metadata": {},
   "source": [
    "### Función Objetivo\n",
    "**h.** Escriba la función objetivo. "
   ]
  },
  {
   "cell_type": "markdown",
   "id": "finite-stopping",
   "metadata": {},
   "source": [
    "## Formulación matemática"
   ]
  },
  {
   "cell_type": "markdown",
   "id": "brave-television",
   "metadata": {},
   "source": [
    "## Implementación\n",
    "\n",
    "**i.** Resuelva el modelo planteado utilizando la librería de PulP en Python. ¿Cuál es la solución\n",
    "óptima del problema? "
   ]
  },
  {
   "cell_type": "markdown",
   "id": "military-conjunction",
   "metadata": {},
   "source": [
    "## Créditos\n",
    "\n",
    "Equipo de Optimización<br>\n",
    "Instancia: Juan Felipe Rengifo<br>\n",
    "Fecha: 05/05/2021"
   ]
  }
 ],
 "metadata": {
  "kernelspec": {
   "display_name": "Python 3",
   "language": "python",
   "name": "python3"
  },
  "language_info": {
   "codemirror_mode": {
    "name": "ipython",
    "version": 3
   },
   "file_extension": ".py",
   "mimetype": "text/x-python",
   "name": "python",
   "nbconvert_exporter": "python",
   "pygments_lexer": "ipython3",
   "version": "3.7.9"
  }
 },
 "nbformat": 4,
 "nbformat_minor": 5
}
