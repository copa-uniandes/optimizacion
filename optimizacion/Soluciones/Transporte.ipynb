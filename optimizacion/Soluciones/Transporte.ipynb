{
 "cells": [
  {
   "cell_type": "markdown",
   "metadata": {},
   "source": [
    "# Transporte de productos lácteos Solución"
   ]
  },
  {
   "cell_type": "markdown",
   "metadata": {},
   "source": [
    "<b><i style=\"font-size:13px\">Tags: </i></b><i style=\"font-size:11px\">Transporte</i>"
   ]
  },
  {
   "cell_type": "markdown",
   "metadata": {},
   "source": [
    "## Enunciado\n",
    "La Lechera Ramírez S.A. es una empresa que produce productos lácteos y cuenta con cuatro plantas de producción en Colombia cuyas capacidades de producción mensuales de leche son 1,500, 1,200, 1,400, y 1,000 litros, respectivamente. Estas cuatro plantas suministran leche a los ocho clientes que actualmente tienen, los cuales son distribuidores minoristas de productos. Las demandas mensuales de leche de estos distribuidores son 930, 600, 460, 610, 830, 460, 640 y 240 litros, respectivamente. La Tabla 1 presenta el costo en el que incurre la compañía al enviar un litro de leche desde cada planta hacia cada distribuidor. "
   ]
  },
  {
   "cell_type": "markdown",
   "metadata": {},
   "source": [
    "<p style=\"text-align: center;\"><b>Tabla 1. Costos de distribución</b></p>\n",
    "\n",
    "|            |**Dist. 1**|Dist. 2|Dist. 3|Dist. 4|Dist. 5|Dist. 6|Dist. 7|Dist. 8|\n",
    "|:----------:|----------:|------:|------:|------:|------:|------:|------:|------:|\n",
    "|**Planta 1**|650        |125    |1200   |340    |150    |260    |350    |800    |\n",
    "|**Planta 2**|250        |200    |250    |600    |150    |950    |1050   |1000   |\n",
    "|**Planta 3**|600        |350    |400    |260    |150    |300    |450    |600    |\n",
    "|**Planta 4**|450        |800    |650    |250    |340    |700    |600    |620    |"
   ]
  },
  {
   "cell_type": "markdown",
   "metadata": {},
   "source": [
    "<div style=\"text-align:justify\">\n",
    "Formule un modelo general de optimización lineal que le permita a La Lechera Ramírez satisfacer la demanda de sus clientes, al menor costo posible. Para esto usted debe seguir los siguientes pasos: "
   ]
  },
  {
   "cell_type": "markdown",
   "metadata": {},
   "source": [
    "## Formulación\n",
    "\n",
    "**1.** Escriba lo(s) conjunto(s), parámetro(s) y variable(s) de decisión que utilizará en el modelo.  \n",
    "\n",
    "### Conjuntos\n",
    "- $P$: Plantas\n",
    "- $D$: Distribuidores\n",
    "\n",
    "### Parámetros\n",
    "- $b_i$: oferta de leche de la planta $i\\in P$\n",
    "- $t_j$: demanda de leche del distribuidor $j\\in D$ \n",
    "- $c_{ij}$: costo de envío de un litro de leche de la planta $i\\in P$ al distribuidor $j\\in D$\n",
    "\n",
    "### Variables de decisión\n",
    "- $x_{ij}$: cantidad (en litros) de leche que van de la planta $i\\in P$ al distribuidor $j\\in D$"
   ]
  },
  {
   "cell_type": "markdown",
   "metadata": {},
   "source": [
    "### Restricciones\n",
    "**2.** Escriba la(s) restricción(es) lineal(es) que garantiza(n) que se debe respetar la oferta de las plantas. \n"
   ]
  },
  {
   "cell_type": "markdown",
   "metadata": {},
   "source": [
    "$$\n",
    "\\begin{align}\n",
    "\\sum_{j\\in D}x_{ij} &\\le b_i, &&\\forall i\\in P.\n",
    "\\end{align}\n",
    "$$"
   ]
  },
  {
   "cell_type": "markdown",
   "metadata": {},
   "source": [
    "**3.** Escriba la(s) restricción(es) lineal(es) que garantiza(n) que se debe satisfacer la demanda de los distribuidores.  \n",
    "\n",
    "$$\n",
    "\\begin{align}\n",
    "\\sum_{i\\in P}x_{ij} &\\ge t_j, &&\\forall j\\in D.\n",
    "\\end{align}\n",
    "$$"
   ]
  },
  {
   "cell_type": "markdown",
   "metadata": {},
   "source": [
    "**4.** Escriba la(s) restricción(es) que describe(n) matemáticamente el tipo de variable(s) que está utilizando dentro del modelo. \n",
    "\n",
    "$$\n",
    "\\begin{align}\n",
    "x_{ij} & \\ge 0, &&\\forall i\\in P,j\\in D.\n",
    "\\end{align}\n",
    "$$"
   ]
  },
  {
   "cell_type": "markdown",
   "metadata": {},
   "source": [
    "### Función Objetivo\n",
    "**5.** Escriba la función objetivo.\n",
    "\n",
    "$$\n",
    "\\text{minimizar }  \\sum_{i\\in P}\\sum_{j\\in D}x_{ij}c_{ij}\n",
    "$$"
   ]
  },
  {
   "cell_type": "markdown",
   "metadata": {},
   "source": [
    "## Formulación matemática completa"
   ]
  },
  {
   "cell_type": "markdown",
   "metadata": {},
   "source": [
    "**Conjuntos:**\n",
    "- $P$: Plantas\n",
    "- $D$: Distribuidores\n",
    "\n",
    "**Parámetros:**\n",
    "- $b_i$: oferta de leche de la planta $i\\in P$\n",
    "- $t_j$: demanda de leche del distribuidor $j\\in D$ \n",
    "- $c_{ij}$: costo de envío de un litro de leche de la planta $i\\in P$ al distribuidor $j\\in D$\n",
    "\n",
    "**Variables de decisión:**\n",
    "- $x_{ij}$: cantidad (en litros) de leche que van de la planta $i\\in P$ al distribuidor $j\\in D$\n",
    "\n",
    "**Modelo:**\n",
    "\n",
    "$$\n",
    "\\text{minimizar }  \\sum_{i\\in P}\\sum_{j\\in D}x_{ij}c_{ij} \\text{ (1)} \n",
    "$$\n",
    "\n",
    "Sujeto a,\n",
    "\n",
    "$$\n",
    "\\begin{align*}\n",
    "\\sum_{j\\in D}x_{ij} &\\le b_i, &&\\forall i\\in P; &(2)\\\\\n",
    "\\sum_{i\\in P}x_{ij} &\\ge t_j, &&\\forall j\\in D; &(3)\\\\\n",
    "x_{ij} & \\ge 0, &&\\forall i\\in P,j\\in D. &(4)\n",
    "\\end{align*}\n",
    "$$"
   ]
  },
  {
   "cell_type": "markdown",
   "metadata": {},
   "source": [
    "La función objetivo (1) minimiza los costos totales. Las restricciones (2) garantizan que se debe respetar la oferta de las plantas. Las restricciones (3) garantizan que se debe satisfacer la demanda de los distribuidores. Las restricciones (4) describe la naturaleza de la variable $x_{ij}$. "
   ]
  },
  {
   "cell_type": "markdown",
   "metadata": {},
   "source": [
    "## Implementación\n",
    "**6.** Resuelva el modelo planteado utilizando la librería de PulP en Python. ¿Cuál es la solución\n",
    "óptima del problema? "
   ]
  },
  {
   "cell_type": "code",
   "execution_count": 1,
   "metadata": {
    "scrolled": true
   },
   "outputs": [
    {
     "name": "stdout",
     "output_type": "stream",
     "text": [
      "Estado (optimizador): Optimal\n",
      "\n",
      "Transporte - Costos totales = $ 1224800.0\n",
      "\n",
      "Variables de decisión\n",
      "              \tD1\tD2\tD3\tD4\tD5\tD6\tD7\tD8\n",
      "Planta 1\t0\t600\t0\t0\t0\t260\t640\t0\t\n",
      "Planta 2\t930\t0\t270\t0\t0\t0\t0\t0\t\n",
      "Planta 3\t0\t0\t190\t0\t830\t200\t0\t180\t\n",
      "Planta 4\t0\t0\t0\t610\t0\t0\t0\t60\t\n"
     ]
    }
   ],
   "source": [
    "#se importa la libreria de PulP\n",
    "import pulp as lp\n",
    "\n",
    "#-----------------\n",
    "# Conjuntos\n",
    "#-----------------\n",
    "#Plantas\n",
    "P=[\"Planta 1\",\n",
    "   \"Planta 2\",\n",
    "   \"Planta 3\",\n",
    "   \"Planta 4\"]\n",
    "\n",
    "#Distribuidores\n",
    "D=[\"Distribuidor 1\",\n",
    "   \"Distribuidor 2\",\n",
    "   \"Distribuidor 3\",\n",
    "   \"Distribuidor 4\",\n",
    "   \"Distribuidor 5\",\n",
    "   \"Distribuidor 6\",\n",
    "   \"Distribuidor 7\",\n",
    "   \"Distribuidor 8\"]\n",
    "\n",
    "# Conjunto con todas las duplas (planta, distribuidor)\n",
    "P_x_D = [(planta, distribuidor) for planta in P for distribuidor in D] \n",
    "\n",
    "#-----------------\n",
    "# Parámetros\n",
    "#-----------------\n",
    "b={#planta: oferta de la planta i\n",
    "   \"Planta 1\":1500,\n",
    "   \"Planta 2\":1200,\n",
    "   \"Planta 3\":1400,\n",
    "   \"Planta 4\":1000} \n",
    "\n",
    "t={#distribuidor: demanda del distribuidor j\n",
    "   \"Distribuidor 1\":930,\n",
    "   \"Distribuidor 2\":600,\n",
    "   \"Distribuidor 3\":460,\n",
    "   \"Distribuidor 4\":610,\n",
    "   \"Distribuidor 5\":830,\n",
    "   \"Distribuidor 6\":460,\n",
    "   \"Distribuidor 7\":640,\n",
    "   \"Distribuidor 8\":240} \n",
    "\n",
    "c={#(planta, distribuidor): costo de envio de un litro de leche desde la planta i al distribuidor j\n",
    "   (\"Planta 1\",\"Distribuidor 1\"):650,\n",
    "   (\"Planta 1\",\"Distribuidor 2\"):125,\n",
    "   (\"Planta 1\",\"Distribuidor 3\"):1200,\n",
    "   (\"Planta 1\",\"Distribuidor 4\"):340,\n",
    "   (\"Planta 1\",\"Distribuidor 5\"):150,\n",
    "   (\"Planta 1\",\"Distribuidor 6\"):260,\n",
    "   (\"Planta 1\",\"Distribuidor 7\"):350,\n",
    "   (\"Planta 1\",\"Distribuidor 8\"):800,\n",
    "   (\"Planta 2\",\"Distribuidor 1\"):250,\n",
    "   (\"Planta 2\",\"Distribuidor 2\"):200,\n",
    "   (\"Planta 2\",\"Distribuidor 3\"):250,\n",
    "   (\"Planta 2\",\"Distribuidor 4\"):600,\n",
    "   (\"Planta 2\",\"Distribuidor 5\"):150,\n",
    "   (\"Planta 2\",\"Distribuidor 6\"):950,\n",
    "   (\"Planta 2\",\"Distribuidor 7\"):1050,\n",
    "   (\"Planta 2\",\"Distribuidor 8\"):1000,\n",
    "   (\"Planta 3\",\"Distribuidor 1\"):600,\n",
    "   (\"Planta 3\",\"Distribuidor 2\"):350,\n",
    "   (\"Planta 3\",\"Distribuidor 3\"):400,\n",
    "   (\"Planta 3\",\"Distribuidor 4\"):260,\n",
    "   (\"Planta 3\",\"Distribuidor 5\"):150,\n",
    "   (\"Planta 3\",\"Distribuidor 6\"):300,\n",
    "   (\"Planta 3\",\"Distribuidor 7\"):450,\n",
    "   (\"Planta 3\",\"Distribuidor 8\"):600,\n",
    "   (\"Planta 4\",\"Distribuidor 1\"):450,\n",
    "   (\"Planta 4\",\"Distribuidor 2\"):800,\n",
    "   (\"Planta 4\",\"Distribuidor 3\"):650,\n",
    "   (\"Planta 4\",\"Distribuidor 4\"):250,\n",
    "   (\"Planta 4\",\"Distribuidor 5\"):340,\n",
    "   (\"Planta 4\",\"Distribuidor 6\"):700,\n",
    "   (\"Planta 4\",\"Distribuidor 7\"):600,\n",
    "   (\"Planta 4\",\"Distribuidor 8\"):620} \n",
    "\n",
    "#-------------------------------------\n",
    "# Creación del objeto problema en PuLP\n",
    "#-------------------------------------\n",
    "#Crea el problema para cargarlo con la instancia \n",
    "problema=lp.LpProblem(\"Transporte\",lp.LpMinimize)\n",
    "\n",
    "#-----------------------------\n",
    "# Variables de Decisión\n",
    "#-----------------------------\n",
    "x=lp.LpVariable.dicts('x',P_x_D,lowBound=0,cat='Continuous') #litros de leche que van de la planta i al distribuidor j;\n",
    "                                                             #aca se añade de una vez la naturaleza de las variables\n",
    "\n",
    "#-----------------------------\n",
    "# Función objetivo\n",
    "#-----------------------------\n",
    "#Crea la expresión de minimización de costos\n",
    "problema+=lp.lpSum(x[i,j]*c[i,j] for i in P for j in D), \"Costos Totales\"\n",
    "\n",
    "#-----------------------------\n",
    "# Restricciones\n",
    "#-----------------------------\n",
    "#sum(j in D)x_ij <= b_i forall i in P\n",
    "for i in P:\n",
    "    problema+= lp.lpSum(x[i,j] for j in D) <= b[i], \"Oferta de la planta \"+i   #se respeta la oferta de cada planta \n",
    "\n",
    "#sum(i in P)x_ij >= t_j forall j in D\n",
    "for j in D:\n",
    "    problema+= lp.lpSum(x[i,j] for i in P) >= t[j], \"Demanda del distribuidor \"+j #se satisface la demanda de cada distribuidor \n",
    "    \n",
    "#-----------------------------\n",
    "# Imprimir formato LP\n",
    "#-----------------------------\n",
    "#Escribe el problema en un archivo con formato LP \n",
    "problema.writeLP(\"Transporte.lp\")\n",
    "\n",
    "#-----------------------------\n",
    "# Invocar el optimizador\n",
    "#-----------------------------\n",
    "#Optimizar el modelo con CBC (default de PuLP)\n",
    "problema.solve()\n",
    "\n",
    "#-----------------------------\n",
    "#    Imprimir resultados\n",
    "#-----------------------------\n",
    "#Imprimir estado final del optimizador\n",
    "print(\"Estado (optimizador):\", lp.LpStatus[problema.status],end='\\n')\n",
    "\n",
    "#Valor óptimo del plan de transporte  \n",
    "print(\"\\nTransporte - Costos totales = $\", round(lp.value(problema.objective),2))\n",
    "print()\n",
    "\n",
    "#Imprimir variables de decisión\n",
    "print(\"Variables de decisión\")\n",
    "print(\"              \",\"D1\",\"D2\",\"D3\",\"D4\",\"D5\",\"D6\",\"D7\",\"D8\",sep='\\t')\n",
    "for i in P:\n",
    "    print(i,end='\\t')\n",
    "    for j in D: \n",
    "        print(round(x[i,j].value()),end='\\t')\n",
    "    print()"
   ]
  },
  {
   "cell_type": "markdown",
   "metadata": {},
   "source": [
    "## Créditos\n",
    "\n",
    "Equipo de Optimización<br>\n",
    "Instancia: Camilo Aguilar, Juan Felipe Rengifo<br>\n",
    "Fecha: 20/09/2020"
   ]
  }
 ],
 "metadata": {
  "kernelspec": {
   "display_name": "Python 3",
   "language": "python",
   "name": "python3"
  },
  "language_info": {
   "codemirror_mode": {
    "name": "ipython",
    "version": 3
   },
   "file_extension": ".py",
   "mimetype": "text/x-python",
   "name": "python",
   "nbconvert_exporter": "python",
   "pygments_lexer": "ipython3",
   "version": "3.7.9"
  }
 },
 "nbformat": 4,
 "nbformat_minor": 4
}
