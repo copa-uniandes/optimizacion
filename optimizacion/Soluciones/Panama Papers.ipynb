{
 "cells": [
  {
   "cell_type": "markdown",
   "metadata": {},
   "source": [
    "# Lista ordenada, panama papers - Solución"
   ]
  },
  {
   "cell_type": "markdown",
   "metadata": {},
   "source": [
    "<b><i style=\"font-size:13px\">Tags: </i></b><i style=\"font-size:11px\">TO DO...</i>"
   ]
  },
  {
   "cell_type": "markdown",
   "metadata": {},
   "source": [
    "## Enunciado\n",
    "\n",
    "Recientemente la firma de abogados Mossack Fonseca fue hackeada, dejando una fuga de 11.5 millones de transacciones bancarias relacionas con empresas offshore en Panamá. El escándalo conocido como “The Panama Papers” ha revelado cientos de nombres de multimillonarios alrededor del mundo que al parecer utilizaban dichas empresas para evadir impuestos. Actualmente, la firma *International Consortium of Investigative Journalists* (ICIJ) es quien está adelantando las primeras investigaciones, no obstante, procesar ese volumen de información requiere de una organización y planeación importante. En particular, ICIJ quiere construir una lista **ordenada** de 100 personas que se encuentren involucrados en estos documentos de tal forma que las agencias oficiales las investiguen primero."
   ]
  },
  {
   "cell_type": "markdown",
   "metadata": {},
   "source": [
    "En la base de datos se ha identificado una serie de personas involucradas ($I$), así como una lista de empresas offshore ($O$).\n",
    "Además, ICIJ ha categorizado a las empresas en los subconjuntos $E_{i}$, que representan las empresas que están relacionadas con cada persona $i\\in I$. De cada empresa $j\\in O$ en la base de datos, se conoce el valor de sus activos financieros en cada año desde su creación hasta el 2021 ($a_{j\\ t}$) y el año en el que fue creada ($c_{j}$). De igual forma, de cada persona se conoce su país de procedencia ($p_{i}$)."
   ]
  },
  {
   "cell_type": "markdown",
   "metadata": {},
   "source": [
    "Con la información anterior, se debe construir una lista **ordenada** que cumpla con una serie de condiciones. Dado que la lista deseada es de tamaño 100, no todas las personas estarán en la lista (es decir, $|I|>100$). Por otro lado, algunos países (conjunto $P$) son más eficientes en el proceso de enjuiciamiento de sus criminales. En este sentido, se quiere garantizar que al menos el 80% de la lista esté compuesta por personas oriundas de dichos países. Además, se sabe que muchas de las personas involucradas son familia entre sí, haciendo necesario entonces que si una persona se agrega a la lista, entonces todos sus familiares deben estar en la lista. El parámetro $f_{i\\ k}$ es un indicador binario que toma el valor de 1 si la persona $i\\in I$ es familiar de la persona $k\\in I$."
   ]
  },
  {
   "cell_type": "markdown",
   "metadata": {},
   "source": [
    "En cuanto al **orden** de la lista de personas, se requiere que sea **ascendiente** con respecto al año de la compañía más antigua con la cual estén relacionados. Para romper posibles empates, el **orden** de la lista debe ser **descendiente** de acuerdo al promedio sobre los años de los activos de cada persona. El promedio sobre los años de los activos de cada persona corresponde a la suma del promedio anual de los activos de cada empresa que con la que esté relacionada. Asuma que se ignora el valor del dinero en el tiempo."
   ]
  },
  {
   "cell_type": "markdown",
   "metadata": {},
   "source": [
    "Usted es el nuevo consultor de ICIJ experto en optimización y le han pedido que formule un modelo de optimización lineal para encontrar dicha lista ordenada que respete el primer criterio de ordenamiento y que busque mediante la función ojetivo romper posibles empates del primer criterio."
   ]
  },
  {
   "cell_type": "markdown",
   "metadata": {},
   "source": [
    "## TO.DO: Tablas\n",
    "\n",
    "|Col 1|Col 2|\n",
    "|:---:|:---:|\n",
    "|1,1|1,2|\n",
    "|2,1|2,2|"
   ]
  },
  {
   "cell_type": "markdown",
   "metadata": {},
   "source": [
    "## Formulación matemática"
   ]
  },
  {
   "cell_type": "markdown",
   "metadata": {},
   "source": [
    "### Conjuntos:\n",
    "\n",
    "$$\n",
    "\\begin{align}\n",
    "    I:& \\text{ conjunto de empresas involucradas.}\\\\\n",
    "    O:& \\text{ conjunto de empresas }\\textit{offshore.}\\\\\n",
    "    P:& \\text{ conjunto de paises eficientes en procesos de enjuiciamiento.}\\\\\n",
    "    T:& \\text{ conjunto de años desde la creación de la empresa más antigua hasta el 2021.}\\\\\n",
    "    L:& \\text{ conjunto de posiciones de la lista definitiva. } L = \\{1,\\cdots,100\\}.\n",
    "\\end{align}\n",
    "$$\n",
    "\n",
    "### Subconjuntos:\n",
    "\n",
    "$$\n",
    "\\begin{align}\n",
    "    E_{i}:& \\text{ conjunto de empresas relacionadas a la persona } i \\in I.\\\\\n",
    "\\end{align}\n",
    "$$"
   ]
  },
  {
   "cell_type": "markdown",
   "metadata": {},
   "source": [
    "### Parámetros:\n",
    "\n",
    "$$\n",
    "\\begin{align}\n",
    "    c_{j}:& \\text{ año de creación de la empresa } j\\in O.\\\\\n",
    "    a_{j\\ t}:& \\text{ activos financieros en cada año } t\\in T \\text{ de la empresa } j \\in E \\text{ tal que }t\\geq c_{j}.\\\\\n",
    "    p_{i}:& \\text{ país de procedencia de la persona } i\\in I.\\\\\n",
    "    f_{i\\ k}:& \\text{ indicador binario de valor 1 si la persona } i\\in I \\text{ es familiar de la persona } k\\in I\\text{. 0 de lo contrario.}\\\\\n",
    "    por:& \\text{ porcentaje de personas en la lista cuyo país de origen pertenece al conjunto }P.\n",
    "\\end{align}\n",
    "$$"
   ]
  },
  {
   "cell_type": "markdown",
   "metadata": {},
   "source": [
    "### Variables de decisión:\n",
    "\n",
    "$$\n",
    "\\begin{align}\n",
    "x_{i\\ l}:&\\begin{cases}1\\text{,}&\\text{ si se asigna a la persona }i\\in I\\text{ a la posición de la lista}l\\in L .\\\\ 0\\text{,}& \\text{ d.l.c.}  \\end{cases}\n",
    "\\end{align}\n",
    "$$"
   ]
  },
  {
   "cell_type": "markdown",
   "metadata": {},
   "source": [
    "### Restricciones:\n",
    "\n",
    "Cada posición en la lista solo puede tener una persona asignada.\n",
    "\n",
    "$$\n",
    "\\begin{align}\n",
    "    \\sum_{i\\in I}x_{i\\ l} &= 1, &\\forall l\\in L.\n",
    "\\end{align}\n",
    "$$"
   ]
  },
  {
   "cell_type": "markdown",
   "metadata": {},
   "source": [
    "Cada persona puede tener a lo sumo una posición en la lista.\n",
    "\n",
    "$$\n",
    "\\begin{align}\n",
    "    \\sum_{l\\in L}x_{i\\ l} &\\leq 1, &\\forall i\\in I.\n",
    "\\end{align}\n",
    "$$"
   ]
  },
  {
   "cell_type": "markdown",
   "metadata": {},
   "source": [
    "El porcentaje de personas oriundas de paises pertenecientes a $P$ asignadas a la lista debe ser mayor al 80%.\n",
    "\n",
    "$$\n",
    "\\begin{align}\n",
    "    \\sum_{i\\in I|p_{i}\\in P}\\sum_{l\\in L}x_{i\\ l} &\\geq por\\% \\cdot \\sum_{i\\in I}\\sum_{l\\in L}x_{i\\ l}.\n",
    "\\end{align}\n",
    "$$"
   ]
  },
  {
   "cell_type": "markdown",
   "metadata": {},
   "source": [
    "Si una persona se agrega a la lista, entonces todos sus familiares deben estar en la lista.\n",
    "\n",
    "$$\n",
    "\\begin{align}\n",
    "    \\sum_{k\\in I}f_{i\\ k} \\cdot \\sum_{l\\in L}x_{i\\ l} &\\leq \\sum_{k\\in I}\\sum_{l\\in L}f_{i\\ k} x_{k\\ l} , &\\forall i\\in I.\n",
    "\\end{align}\n",
    "$$"
   ]
  },
  {
   "cell_type": "markdown",
   "metadata": {},
   "source": [
    "El orden de la lista debe ser ascendiente según el año en que se creó la compañía más antigua relacionada con la persona asignada.\n",
    "\n",
    "$$\n",
    "\\begin{align}\n",
    "    \\sum_{i\\in I}\\min_{j\\in E_{i}}\\{ c_{j} \\}\\cdot x_{i\\ l} &\\leq \\sum_{i\\in I}\\min_{j\\in E_{i}}\\{ c_{j} \\}\\cdot x_{i\\ l+1} , &\\forall l\\in L | l < |L|.\n",
    "\\end{align}\n",
    "$$"
   ]
  },
  {
   "cell_type": "markdown",
   "metadata": {},
   "source": [
    "#### Naturaleza de las variables\n",
    "La naturaleza de las variables es en este caso binaria.\n",
    "\n",
    "$$\n",
    "\\begin{align}\n",
    "    x_{i\\ l} &\\in \\{0,1\\}, &\\forall i\\in I,\\ l\\in L.\n",
    "\\end{align}\n",
    "$$"
   ]
  },
  {
   "cell_type": "markdown",
   "metadata": {},
   "source": [
    "#### Función Objetivo\n",
    "\n",
    "El orden de la lista es descendiente según el promedio sobre los años de los activos de la persona asignada.\n",
    "\n",
    "$$\n",
    "      \\min \\sum_{i\\in I}\\sum_{l\\in L}\\left(l \\cdot x_{i\\ l} \\cdot \\sum_{j\\in E_{i}}\\frac{\\sum_{t\\in T|t\\geq c_{j}}a_{j\\ t}}{2021 - c_{j}}\\right ).\n",
    "$$\n",
    "\n",
    "Alternativamente, puede plantearse la siguiene función objetivo:\n",
    "\n",
    "$$\n",
    "    \\min \\sum_{l\\in L|l<|L|}\\left(\\sum_{i\\in I}x_{i\\ l+1} \\cdot \\sum_{j\\in E_{i}}\\frac{\\sum_{t\\in T|t\\geq c_{j}}a_{j\\ t}}{2021 - c_{j}} - \\sum_{i\\in I}x_{i\\ l} \\cdot \\sum_{j\\in E_{i}}\\frac{\\sum_{t\\in T|t\\geq c_{j}}a_{j\\ t}}{2021 - c_{j}}\\right ).\n",
    "$$"
   ]
  },
  {
   "cell_type": "markdown",
   "metadata": {},
   "source": [
    "## Formulación matemática completa"
   ]
  },
  {
   "cell_type": "markdown",
   "metadata": {},
   "source": [
    "\n",
    "$$\n",
    "\\begin{align}\n",
    "    I:& \\text{ conjunto de empresas involucradas.}\\\\\n",
    "    O:& \\text{ conjunto de empresas }\\textit{offshore.}\\\\\n",
    "    P:& \\text{ conjunto de paises eficientes en procesos de enjuiciamiento.}\\\\\n",
    "    T:& \\text{ conjunto de años desde la creación de la empresa más antigua hasta el 2021.}\\\\\n",
    "    L:& \\text{ conjunto de posiciones de la lista definitiva. } L = \\{1,\\cdots,100\\}.\n",
    "\\end{align}\n",
    "$$\n",
    "\n",
    "$$\n",
    "\\begin{align}\n",
    "    E_{i}:& \\text{ conjunto de empresas relacionadas a la persona } i \\in I.\\\\\n",
    "\\end{align}\n",
    "$$\n",
    "\n",
    "$$\n",
    "\\begin{align}\n",
    "    c_{j}:& \\text{ año de creación de la empresa } j\\in O.\\\\\n",
    "    a_{j\\ t}:& \\text{ activos financieros en cada año } t\\in T \\text{ de la empresa } j \\in E \\text{ tal que }t\\geq c_{j}.\\\\\n",
    "    p_{i}:& \\text{ país de procedencia de la persona } i\\in I.\\\\\n",
    "    f_{i\\ k}:& \\text{ indicador binario de valor 1 si la persona } i\\in I \\text{ es familiar de la persona } k\\in I\\text{. 0 de lo contrario.}\\\\\n",
    "    por:& \\text{ porcentaje de personas en la lista cuyo país de origen pertenece al conjunto }P.\n",
    "\\end{align}\n",
    "$$\n",
    "\n",
    "$$\n",
    "\\begin{align}\n",
    "    \\sum_{i\\in I}x_{i\\ l} &= 1, &\\forall l\\in L.\n",
    "\\end{align}\n",
    "$$\n",
    "\n",
    "$$\n",
    "\\begin{align}\n",
    "    \\sum_{l\\in L}x_{i\\ l} &\\leq 1, &\\forall i\\in I.\n",
    "\\end{align}\n",
    "$$\n",
    "\n",
    "$$\n",
    "\\begin{align}\n",
    "    \\sum_{i\\in I|p_{i}\\in P}\\sum_{l\\in L}x_{i\\ l} &\\geq por\\% \\cdot \\sum_{i\\in I}\\sum_{l\\in L}x_{i\\ l}.\n",
    "\\end{align}\n",
    "$$\n",
    "\n",
    "$$\n",
    "\\begin{align}\n",
    "    \\sum_{k\\in I}f_{i\\ k} \\cdot \\sum_{l\\in L}x_{i\\ l} &\\leq \\sum_{k\\in I}\\sum_{l\\in L}f_{i\\ k} x_{k\\ l} , &\\forall i\\in I.\n",
    "\\end{align}\n",
    "$$\n",
    "\n",
    "$$\n",
    "\\begin{align}\n",
    "    \\sum_{i\\in I}\\min_{j\\in E_{i}}\\{ c_{j} \\}\\cdot x_{i\\ l} &\\leq \\sum_{i\\in I}\\min_{j\\in E_{i}}\\{ c_{j} \\}\\cdot x_{i\\ l+1} , &\\forall l\\in L | l < |L|.\n",
    "\\end{align}\n",
    "$$\n",
    "\n",
    "$$\n",
    "\\begin{align}\n",
    "    x_{i\\ l} &\\in \\{0,1\\}, &\\forall i\\in I,\\ l\\in L.\n",
    "\\end{align}\n",
    "$$\n",
    "\n",
    "$$\n",
    "      \\min \\sum_{i\\in I}\\sum_{l\\in L}\\left(l \\cdot x_{i\\ l} \\cdot \\sum_{j\\in E_{i}}\\frac{\\sum_{t\\in T|t\\geq c_{j}}a_{j\\ t}}{2021 - c_{j}}\\right ).\n",
    "$$"
   ]
  },
  {
   "cell_type": "markdown",
   "metadata": {},
   "source": [
    "## Implementación\n",
    "\n",
    "Se resuelve el modelo planteado utilizando la librería de PulP en Python."
   ]
  },
  {
   "cell_type": "code",
   "execution_count": 7,
   "metadata": {},
   "outputs": [
    {
     "ename": "ValueError",
     "evalue": "min() arg is an empty sequence",
     "output_type": "error",
     "traceback": [
      "\u001b[0;31m---------------------------------------------------------------------------\u001b[0m",
      "\u001b[0;31mValueError\u001b[0m                                Traceback (most recent call last)",
      "\u001b[0;32m<ipython-input-7-395793aa8ffb>\u001b[0m in \u001b[0;36m<module>\u001b[0;34m\u001b[0m\n\u001b[1;32m     83\u001b[0m \u001b[0;32mfor\u001b[0m \u001b[0ml\u001b[0m \u001b[0;32min\u001b[0m \u001b[0mL\u001b[0m\u001b[0;34m:\u001b[0m\u001b[0;34m\u001b[0m\u001b[0;34m\u001b[0m\u001b[0m\n\u001b[1;32m     84\u001b[0m     \u001b[0;32mif\u001b[0m \u001b[0ml\u001b[0m \u001b[0;34m<\u001b[0m \u001b[0mlen\u001b[0m\u001b[0;34m(\u001b[0m\u001b[0mL\u001b[0m\u001b[0;34m)\u001b[0m\u001b[0;34m:\u001b[0m\u001b[0;34m\u001b[0m\u001b[0;34m\u001b[0m\u001b[0m\n\u001b[0;32m---> 85\u001b[0;31m         \u001b[0mprob\u001b[0m \u001b[0;34m+=\u001b[0m \u001b[0mlp\u001b[0m\u001b[0;34m.\u001b[0m\u001b[0mlpSum\u001b[0m\u001b[0;34m(\u001b[0m\u001b[0mmin\u001b[0m\u001b[0;34m(\u001b[0m\u001b[0;34m[\u001b[0m\u001b[0mc\u001b[0m\u001b[0;34m[\u001b[0m\u001b[0mj\u001b[0m\u001b[0;34m]\u001b[0m \u001b[0;32mfor\u001b[0m \u001b[0mj\u001b[0m \u001b[0;32min\u001b[0m \u001b[0mE\u001b[0m\u001b[0;34m[\u001b[0m\u001b[0mi\u001b[0m\u001b[0;34m]\u001b[0m\u001b[0;34m]\u001b[0m\u001b[0;34m)\u001b[0m \u001b[0;34m*\u001b[0m \u001b[0mx\u001b[0m\u001b[0;34m[\u001b[0m\u001b[0mi\u001b[0m\u001b[0;34m,\u001b[0m \u001b[0ml\u001b[0m\u001b[0;34m]\u001b[0m \u001b[0;32mfor\u001b[0m \u001b[0mi\u001b[0m \u001b[0;32min\u001b[0m \u001b[0mI\u001b[0m\u001b[0;34m)\u001b[0m \u001b[0;34m<=\u001b[0m \u001b[0mlp\u001b[0m\u001b[0;34m.\u001b[0m\u001b[0mlpSum\u001b[0m\u001b[0;34m(\u001b[0m\u001b[0mmin\u001b[0m\u001b[0;34m(\u001b[0m\u001b[0;34m[\u001b[0m\u001b[0mc\u001b[0m\u001b[0;34m[\u001b[0m\u001b[0mj\u001b[0m\u001b[0;34m]\u001b[0m \u001b[0;32mfor\u001b[0m \u001b[0mj\u001b[0m \u001b[0;32min\u001b[0m \u001b[0mE\u001b[0m\u001b[0;34m[\u001b[0m\u001b[0mi\u001b[0m\u001b[0;34m]\u001b[0m\u001b[0;34m]\u001b[0m\u001b[0;34m)\u001b[0m \u001b[0;34m*\u001b[0m \u001b[0mx\u001b[0m\u001b[0;34m[\u001b[0m\u001b[0mi\u001b[0m\u001b[0;34m,\u001b[0m \u001b[0ml\u001b[0m \u001b[0;34m+\u001b[0m \u001b[0;36m1\u001b[0m\u001b[0;34m]\u001b[0m \u001b[0;32mfor\u001b[0m \u001b[0mi\u001b[0m \u001b[0;32min\u001b[0m \u001b[0mI\u001b[0m\u001b[0;34m)\u001b[0m\u001b[0;34m\u001b[0m\u001b[0;34m\u001b[0m\u001b[0m\n\u001b[0m\u001b[1;32m     86\u001b[0m \u001b[0;34m\u001b[0m\u001b[0m\n\u001b[1;32m     87\u001b[0m \u001b[0;31m#-----------------------------\u001b[0m\u001b[0;34m\u001b[0m\u001b[0;34m\u001b[0m\u001b[0;34m\u001b[0m\u001b[0m\n",
      "\u001b[0;32m~/miniconda3/envs/JupyEnv/lib/python3.7/site-packages/pulp/pulp.py\u001b[0m in \u001b[0;36mlpSum\u001b[0;34m(vector)\u001b[0m\n\u001b[1;32m   2073\u001b[0m     \u001b[0;34m:\u001b[0m\u001b[0mparam\u001b[0m \u001b[0mvector\u001b[0m\u001b[0;34m:\u001b[0m \u001b[0mA\u001b[0m \u001b[0mlist\u001b[0m \u001b[0mof\u001b[0m \u001b[0mlinear\u001b[0m \u001b[0mexpressions\u001b[0m\u001b[0;34m\u001b[0m\u001b[0;34m\u001b[0m\u001b[0m\n\u001b[1;32m   2074\u001b[0m     \"\"\"\n\u001b[0;32m-> 2075\u001b[0;31m     \u001b[0;32mreturn\u001b[0m \u001b[0mLpAffineExpression\u001b[0m\u001b[0;34m(\u001b[0m\u001b[0;34m)\u001b[0m\u001b[0;34m.\u001b[0m\u001b[0maddInPlace\u001b[0m\u001b[0;34m(\u001b[0m\u001b[0mvector\u001b[0m\u001b[0;34m)\u001b[0m\u001b[0;34m\u001b[0m\u001b[0;34m\u001b[0m\u001b[0m\n\u001b[0m\u001b[1;32m   2076\u001b[0m \u001b[0;34m\u001b[0m\u001b[0m\n\u001b[1;32m   2077\u001b[0m \u001b[0;34m\u001b[0m\u001b[0m\n",
      "\u001b[0;32m~/miniconda3/envs/JupyEnv/lib/python3.7/site-packages/pulp/pulp.py\u001b[0m in \u001b[0;36maddInPlace\u001b[0;34m(self, other)\u001b[0m\n\u001b[1;32m    763\u001b[0m         elif (isinstance(other,list)\n\u001b[1;32m    764\u001b[0m               or isinstance(other, Iterable)):\n\u001b[0;32m--> 765\u001b[0;31m            \u001b[0;32mfor\u001b[0m \u001b[0me\u001b[0m \u001b[0;32min\u001b[0m \u001b[0mother\u001b[0m\u001b[0;34m:\u001b[0m\u001b[0;34m\u001b[0m\u001b[0;34m\u001b[0m\u001b[0m\n\u001b[0m\u001b[1;32m    766\u001b[0m                 \u001b[0mself\u001b[0m\u001b[0;34m.\u001b[0m\u001b[0maddInPlace\u001b[0m\u001b[0;34m(\u001b[0m\u001b[0me\u001b[0m\u001b[0;34m)\u001b[0m\u001b[0;34m\u001b[0m\u001b[0;34m\u001b[0m\u001b[0m\n\u001b[1;32m    767\u001b[0m         \u001b[0;32melse\u001b[0m\u001b[0;34m:\u001b[0m\u001b[0;34m\u001b[0m\u001b[0;34m\u001b[0m\u001b[0m\n",
      "\u001b[0;32m<ipython-input-7-395793aa8ffb>\u001b[0m in \u001b[0;36m<genexpr>\u001b[0;34m(.0)\u001b[0m\n\u001b[1;32m     83\u001b[0m \u001b[0;32mfor\u001b[0m \u001b[0ml\u001b[0m \u001b[0;32min\u001b[0m \u001b[0mL\u001b[0m\u001b[0;34m:\u001b[0m\u001b[0;34m\u001b[0m\u001b[0;34m\u001b[0m\u001b[0m\n\u001b[1;32m     84\u001b[0m     \u001b[0;32mif\u001b[0m \u001b[0ml\u001b[0m \u001b[0;34m<\u001b[0m \u001b[0mlen\u001b[0m\u001b[0;34m(\u001b[0m\u001b[0mL\u001b[0m\u001b[0;34m)\u001b[0m\u001b[0;34m:\u001b[0m\u001b[0;34m\u001b[0m\u001b[0;34m\u001b[0m\u001b[0m\n\u001b[0;32m---> 85\u001b[0;31m         \u001b[0mprob\u001b[0m \u001b[0;34m+=\u001b[0m \u001b[0mlp\u001b[0m\u001b[0;34m.\u001b[0m\u001b[0mlpSum\u001b[0m\u001b[0;34m(\u001b[0m\u001b[0mmin\u001b[0m\u001b[0;34m(\u001b[0m\u001b[0;34m[\u001b[0m\u001b[0mc\u001b[0m\u001b[0;34m[\u001b[0m\u001b[0mj\u001b[0m\u001b[0;34m]\u001b[0m \u001b[0;32mfor\u001b[0m \u001b[0mj\u001b[0m \u001b[0;32min\u001b[0m \u001b[0mE\u001b[0m\u001b[0;34m[\u001b[0m\u001b[0mi\u001b[0m\u001b[0;34m]\u001b[0m\u001b[0;34m]\u001b[0m\u001b[0;34m)\u001b[0m \u001b[0;34m*\u001b[0m \u001b[0mx\u001b[0m\u001b[0;34m[\u001b[0m\u001b[0mi\u001b[0m\u001b[0;34m,\u001b[0m \u001b[0ml\u001b[0m\u001b[0;34m]\u001b[0m \u001b[0;32mfor\u001b[0m \u001b[0mi\u001b[0m \u001b[0;32min\u001b[0m \u001b[0mI\u001b[0m\u001b[0;34m)\u001b[0m \u001b[0;34m<=\u001b[0m \u001b[0mlp\u001b[0m\u001b[0;34m.\u001b[0m\u001b[0mlpSum\u001b[0m\u001b[0;34m(\u001b[0m\u001b[0mmin\u001b[0m\u001b[0;34m(\u001b[0m\u001b[0;34m[\u001b[0m\u001b[0mc\u001b[0m\u001b[0;34m[\u001b[0m\u001b[0mj\u001b[0m\u001b[0;34m]\u001b[0m \u001b[0;32mfor\u001b[0m \u001b[0mj\u001b[0m \u001b[0;32min\u001b[0m \u001b[0mE\u001b[0m\u001b[0;34m[\u001b[0m\u001b[0mi\u001b[0m\u001b[0;34m]\u001b[0m\u001b[0;34m]\u001b[0m\u001b[0;34m)\u001b[0m \u001b[0;34m*\u001b[0m \u001b[0mx\u001b[0m\u001b[0;34m[\u001b[0m\u001b[0mi\u001b[0m\u001b[0;34m,\u001b[0m \u001b[0ml\u001b[0m \u001b[0;34m+\u001b[0m \u001b[0;36m1\u001b[0m\u001b[0;34m]\u001b[0m \u001b[0;32mfor\u001b[0m \u001b[0mi\u001b[0m \u001b[0;32min\u001b[0m \u001b[0mI\u001b[0m\u001b[0;34m)\u001b[0m\u001b[0;34m\u001b[0m\u001b[0;34m\u001b[0m\u001b[0m\n\u001b[0m\u001b[1;32m     86\u001b[0m \u001b[0;34m\u001b[0m\u001b[0m\n\u001b[1;32m     87\u001b[0m \u001b[0;31m#-----------------------------\u001b[0m\u001b[0;34m\u001b[0m\u001b[0;34m\u001b[0m\u001b[0;34m\u001b[0m\u001b[0m\n",
      "\u001b[0;31mValueError\u001b[0m: min() arg is an empty sequence"
     ]
    }
   ],
   "source": [
    "# Implemente en esta celda su formulación del problema\n",
    "# se importa la libreria de PulP\n",
    "import pulp as lp\n",
    "\n",
    "#-----------------\n",
    "# Conjuntos\n",
    "#-----------------\n",
    "# Personas involucradas\n",
    "I = [ \"Alfaima\", \"Juanfe\", \"Sofia\", \"Valentina\" ]\n",
    "\n",
    "# Empresas Offshore\n",
    "O = [ ]\n",
    "\n",
    "# Paises eficientes\n",
    "P = [ ]\n",
    "\n",
    "# Años desde la creación de la empresa más antigua\n",
    "T = [ ]\n",
    "\n",
    "# Posiciones en la lista\n",
    "L = [i for i in range(1,101)]\n",
    "\n",
    "#-----------------\n",
    "# Subconjuntos\n",
    "#-----------------\n",
    "# Empresas relacionadas a la persona i en I\n",
    "E = {i: [] for i in I}\n",
    "\n",
    "#-----------------\n",
    "# Parámetros\n",
    "#-----------------\n",
    "# Año de creación de la empresa j en O\n",
    "c = {j: 0 for j in O}\n",
    "\n",
    "# Activos de la empresa j en O para el año t en T tal que t >= c_j\n",
    "a = {(j, t): 0 for j in O for t in T if t >= c[j]}\n",
    "\n",
    "# Pais de origen de la persona i en I\n",
    "p = {i: \"\" for i in I}\n",
    "\n",
    "# 1 si la persona i en I es familiar de la persona k en K. 0 d.l.c.\n",
    "f = {(i, k): 0 for i in I for k in I}\n",
    "\n",
    "# porcentaje de personas en la lista cuyo país de origen debe pertenecer al conjunto P\n",
    "por = 80\n",
    "\n",
    "#-------------------------------------\n",
    "# Creación del objeto problema en PuLP\n",
    "#-------------------------------------\n",
    "#Crea el problema para cargarlo con la instancia \n",
    "prob = lp.LpProblem(\"Listado-Panama-Papers\", lp.const.LpMinimize)\n",
    "\n",
    "#-----------------------------\n",
    "# Variables de Decisión\n",
    "#-----------------------------\n",
    "x = lp.LpVariable.dicts('x',[(i, l) for i in I for l in L], cat = lp.const.LpBinary) #si la persona i en I es asignada a la lista en la posición l in L\n",
    "\n",
    "#-----------------------------\n",
    "# Función objetivo\n",
    "#-----------------------------\n",
    "# Crea la expresión que busca ordenar de forma ascendiente los activos promedios anuales.\n",
    "prob += lp.lpSum(l * x[(i, l)] * lp.lpSum(a[(j, t)] * 1 / (2021 - c[j]) for j in E[i] for t in T if t >= c[j]) for i in I for l in L)\n",
    "\n",
    "#-----------------------------\n",
    "# Restricciones\n",
    "#-----------------------------\n",
    "# Expresión que solo permite a una persona por posición en la lista\n",
    "for l in L:\n",
    "    prob += lp.lpSum(x[(i, l)] for i in I) == 1\n",
    "\n",
    "# Expresión que permite máximo una posición en la lista por persona\n",
    "for i in I:\n",
    "    prob += lp.lpSum(x[(i, l)] for l in L) <= 1\n",
    "    \n",
    "# El porcentaje de personas oriundas de paises pertenecientes a P asignadas a la lista debe ser mayor al 80%\n",
    "prob += lp.lpSum(x[(i, l)] for i in I for l in L if p[i] in P) >= por/100 * lp.lpSum(x[(i, l)] for i in I for l in L)\n",
    "\n",
    "# Si una persona se agrega a la lista, entonces todos sus familiares deben estar en la lista.\n",
    "for i in I:\n",
    "    prob += lp.lpSum(f[(i, k)] * lp.lpSum(x[(i, l)] for l in L) for k in I) <= lp.lpSum(f[(i, k)] * x[k, l] for k in I for l in L)\n",
    "\n",
    "# El orden de la lista debe ser ascendiente según el año en que se creó la compañía más antigua relacionada con la persona asignada.\n",
    "for l in L:\n",
    "    if l < len(L):\n",
    "        prob += lp.lpSum(min([c[j] for j in E[i]]) * x[i, l] for i in I) <= lp.lpSum(min([c[j] for j in E[i]]) * x[i, l + 1] for i in I)\n",
    "\n",
    "#-----------------------------\n",
    "# Invocar el optimizador\n",
    "#-----------------------------\n",
    "# Optimizar el modelo con CBC (default de PuLP)\n",
    "prob.solve()\n",
    "\n",
    "#-----------------------------\n",
    "# Imprimir resultados\n",
    "#-----------------------------\n",
    "# Imprimir estado final del optimizador.\n",
    "print(f\"Estado (optimizador): {lp.LpStatus[prob.status]}\")\n",
    "\n",
    "# Imprimir la lista de personas a investigar.\n",
    "for l in L:\n",
    "    for i in I:\n",
    "        if x[i, l].value() == 1:\n",
    "            print(f\"{l}: {i}\")"
   ]
  },
  {
   "cell_type": "markdown",
   "metadata": {},
   "source": [
    "## Créditos\n",
    "\n",
    "Equipo de Optimización<br>\n",
    "Autor: Jorge Huertas, Alejandro Mantilla<br>\n",
    "Edición: Alfaima Solano<br>\n",
    "Instancias: Alejandro Mantilla<br>\n",
    "Fecha: 05/05/2021"
   ]
  }
 ],
 "metadata": {
  "celltoolbar": "Raw Cell Format",
  "kernelspec": {
   "display_name": "Python 3",
   "language": "python",
   "name": "python3"
  },
  "language_info": {
   "codemirror_mode": {
    "name": "ipython",
    "version": 3
   },
   "file_extension": ".py",
   "mimetype": "text/x-python",
   "name": "python",
   "nbconvert_exporter": "python",
   "pygments_lexer": "ipython3",
   "version": "3.7.10"
  }
 },
 "nbformat": 4,
 "nbformat_minor": 4
}
