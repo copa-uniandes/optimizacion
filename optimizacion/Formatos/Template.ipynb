{
 "cells": [
  {
   "cell_type": "markdown",
   "id": "specific-boulder",
   "metadata": {},
   "source": [
    "# Título \n",
    "\n",
    "\n",
    "<!--  \n",
    "Si el notebook es de tipo solución, visualización, entre otros, se pone un guion después del título y luego el tipo. Ejemplo:\n",
    "# Título - Solución\n",
    "-->"
   ]
  },
  {
   "cell_type": "markdown",
   "id": "written-elephant",
   "metadata": {},
   "source": [
    "<b><i style=\"font-size:13px\">Tags: </i></b><i style=\"font-size:11px\">Tag 1, Tag 2, ...</i>\n",
    "\n",
    "<!--  \n",
    "Basarse en el arcchivo de Excel \"Matriz de conceptos y casos.xlsx\".\n",
    "-->"
   ]
  },
  {
   "cell_type": "code",
   "execution_count": null,
   "id": "fe8c0d77",
   "metadata": {
    "tags": [
     "hide-input",
     "thebe-init"
    ]
   },
   "outputs": [],
   "source": [
    "import os\n",
    "# Los metadatos de esta celda deben ser los mismos para todos los notebook.\n",
    "# Por precaución, cambiamos el directorio activo de Python a aquel que contenga este notebook\n",
    "if \"optimizacion\" in os.listdir():\n",
    "    os.chdir(r\"optimizacion/Formatos/\")"
   ]
  },
  {
   "cell_type": "markdown",
   "id": "annoying-circus",
   "metadata": {},
   "source": [
    "## Enunciado\n",
    "\n",
    "<!--  \n",
    "Conjuntos: $Conjunto$\n",
    "Indices: $indice \\in Conjunto$\n",
    "Parámetros/variables: $parametro_{ij}$\n",
    "Tablas: En HTML y los textos de elementos del conjunto en la parte izquierda con alineado a la izquierda. Además a cada tabla se le pone un nombre y su respectiva descripción.\n",
    "-->"
   ]
  },
  {
   "cell_type": "markdown",
   "id": "linear-shadow",
   "metadata": {},
   "source": [
    "## Formulación\n",
    "\n",
    "<!--  \n",
    "Enumeración alfabetica y en negrilla. En caso de que hayan subliterales, estos van identados, en negrilla y se utiliza \"i.\", \"ii.\", ... \n",
    "Ejemplo:\n",
    "**a.**\n",
    "    **i.**\n",
    "    **ii.**\n",
    "**b.**\n",
    "-->"
   ]
  },
  {
   "cell_type": "markdown",
   "id": "6af5479a",
   "metadata": {},
   "source": [
    "### Conjuntos"
   ]
  },
  {
   "cell_type": "markdown",
   "id": "c475ff6e",
   "metadata": {},
   "source": [
    "### Parámetros"
   ]
  },
  {
   "cell_type": "markdown",
   "id": "loaded-equipment",
   "metadata": {},
   "source": [
    "### Variables de decisión"
   ]
  },
  {
   "cell_type": "markdown",
   "id": "north-language",
   "metadata": {},
   "source": [
    "### Restricciones"
   ]
  },
  {
   "cell_type": "markdown",
   "id": "descending-testament",
   "metadata": {},
   "source": [
    "### Naturaleza de las Variables"
   ]
  },
  {
   "cell_type": "markdown",
   "id": "voluntary-couple",
   "metadata": {},
   "source": [
    "### Función objetivo"
   ]
  },
  {
   "cell_type": "markdown",
   "id": "833063bc",
   "metadata": {},
   "source": [
    "## Formulación matemática completa"
   ]
  },
  {
   "cell_type": "markdown",
   "id": "2af5cd41",
   "metadata": {},
   "source": [
    "### Conjuntos"
   ]
  },
  {
   "cell_type": "markdown",
   "id": "d13363ef",
   "metadata": {},
   "source": [
    "- $Conjunto1$: descripción conjunto 1.\n",
    "- $Conjunto2$: descripción conjunto 2. "
   ]
  },
  {
   "cell_type": "markdown",
   "id": "112df238",
   "metadata": {},
   "source": [
    "### Parámetros"
   ]
  },
  {
   "cell_type": "markdown",
   "id": "44f01a4a",
   "metadata": {},
   "source": [
    "- $parametro1_{i}$: descripción parámetro 1.\n",
    "- $parametro2_{ij}$: descripción parámetro 2."
   ]
  },
  {
   "cell_type": "markdown",
   "id": "e8218771",
   "metadata": {},
   "source": [
    "### Variables de decisión"
   ]
  },
  {
   "cell_type": "markdown",
   "id": "e2f707a0",
   "metadata": {},
   "source": [
    "- $variable1_{i}$: descripción variable 1.\n",
    "- $variableBinaria_{ij}: \\begin{cases}1\\text{,}&\\text{ condición}\\text{;}\\\\ 0\\text{,} & \\text{ d.l.c.}  \\end{cases}$"
   ]
  },
  {
   "cell_type": "markdown",
   "id": "8031db2e",
   "metadata": {},
   "source": [
    "### Modelo"
   ]
  },
  {
   "cell_type": "markdown",
   "id": "61bda6b2",
   "metadata": {},
   "source": [
    "<!--  \n",
    "Lo que sigue es un ejemplo.\n",
    "-->\n",
    "\n",
    "$$\n",
    "\\text{maximizar }  \\sum_{k\\in K}\\sum_{i\\in R}p_kx_{ki} \\text{ (1)} \n",
    "$$"
   ]
  },
  {
   "cell_type": "markdown",
   "id": "051fcabd",
   "metadata": {},
   "source": [
    "sujeto a,"
   ]
  },
  {
   "cell_type": "markdown",
   "id": "configured-protection",
   "metadata": {},
   "source": [
    "$$\n",
    "\\begin{align*}\n",
    "x_{ki} &\\ge l_{ki}\\%\\sum_{j\\in R} x_{kj}, &&\\forall k\\in K,i\\in R; &(2)\\\\\n",
    "x_{ki} &\\le u_{ki}\\%\\sum_{j\\in R} x_{kj}, &&\\forall k\\in K,i\\in R; &(3)\\\\\n",
    "\\sum_{k\\in K} x_{ki} &\\le b_i, &&\\forall i\\in R; &(4)\\\\\n",
    "\\sum_{i\\in R} x_{ki} &\\ge d_k, &&\\forall k\\in K; &(5)\\\\\n",
    "x_{ki} & \\ge 0, &&\\forall k\\in K,i\\in R. &(6)\n",
    "\\end{align*}\n",
    "$$\n",
    "\n",
    "<!--  \n",
    "Luego de esta formulación completa se debe escribir un parrafo corto describiendo la función objetivo y las restricciones.\n",
    "-->"
   ]
  },
  {
   "cell_type": "markdown",
   "id": "geographic-header",
   "metadata": {},
   "source": [
    "## Implementación"
   ]
  },
  {
   "cell_type": "markdown",
   "id": "2a1a82c3",
   "metadata": {},
   "source": [
    "### Librerías"
   ]
  },
  {
   "cell_type": "markdown",
   "id": "f597d592",
   "metadata": {},
   "source": [
    "Importa la librería `pulp` para crear y resolver el modelo y la librería ... para ..."
   ]
  },
  {
   "cell_type": "code",
   "execution_count": null,
   "id": "323a0476",
   "metadata": {},
   "outputs": [],
   "source": [
    "import pulp as lp"
   ]
  },
  {
   "cell_type": "markdown",
   "id": "837873b4",
   "metadata": {},
   "source": [
    "### Conjuntos"
   ]
  },
  {
   "cell_type": "markdown",
   "id": "48fddac0",
   "metadata": {},
   "source": [
    "Define los conjuntos `I`, `J`, ... que representan respectivamente ...\n",
    "\n",
    "Recuerda que por conveniencia de preservar el orden de los elementos de los conjuntos, no siempre deberás definirlos con el tipo `set`."
   ]
  },
  {
   "cell_type": "code",
   "execution_count": null,
   "id": "d9209bb7",
   "metadata": {},
   "outputs": [],
   "source": [
    "# ...\n",
    "I = ...\n",
    "\n",
    "# ...\n",
    "J = ..."
   ]
  },
  {
   "cell_type": "markdown",
   "id": "8c58ff99",
   "metadata": {},
   "source": [
    "### Parámetros"
   ]
  },
  {
   "cell_type": "markdown",
   "id": "d981d80d",
   "metadata": {},
   "source": [
    "Define o importa los parámetros del modelo."
   ]
  },
  {
   "cell_type": "code",
   "execution_count": null,
   "id": "16df6fb4",
   "metadata": {},
   "outputs": [],
   "source": [
    "# ...\n",
    "c = {...:...,\n",
    "     ...:...,}\n",
    "\n",
    "# ...\n",
    "b = {...:...,\n",
    "     ...:...,}"
   ]
  },
  {
   "cell_type": "markdown",
   "id": "70fd6598",
   "metadata": {},
   "source": [
    "### Objeto del modelo"
   ]
  },
  {
   "cell_type": "markdown",
   "id": "aa975e80",
   "metadata": {},
   "source": [
    "Construye un problema al que luego agregarás las restricciones y la función objetivo."
   ]
  },
  {
   "cell_type": "code",
   "execution_count": null,
   "id": "a1501b81",
   "metadata": {},
   "outputs": [],
   "source": [
    "problema = lp.LpProblem(name=\"<nombre_del_problema>\", sense=lp.LpMinimize)"
   ]
  },
  {
   "cell_type": "markdown",
   "id": "970af788",
   "metadata": {},
   "source": [
    "### Variables de decisión"
   ]
  },
  {
   "cell_type": "markdown",
   "id": "1e670ec8",
   "metadata": {},
   "source": [
    "Define las variables del problema de manera que estén contenidas en diccionarios indexados en los conjuntos de sus variables respectivas."
   ]
  },
  {
   "cell_type": "code",
   "execution_count": null,
   "id": "e1febe93",
   "metadata": {},
   "outputs": [],
   "source": [
    "# ...\n",
    "x = {\n",
    "    (i, j): lp.LpVariable(\n",
    "        name=f\"<nombre_variable>_{i}\", lowBound=0, upBound=None, cat=lp.LpContinuous\n",
    "    )\n",
    "    for i in I\n",
    "    for j in J\n",
    "}"
   ]
  },
  {
   "cell_type": "markdown",
   "id": "f843462c",
   "metadata": {},
   "source": [
    "### Función objetivo"
   ]
  },
  {
   "cell_type": "markdown",
   "id": "97df9059",
   "metadata": {},
   "source": [
    "Agrega al problema la función objetivo. Recuerda que al definir el problema, ya definiste si este es de maximización o minimización."
   ]
  },
  {
   "cell_type": "code",
   "execution_count": null,
   "id": "2fd8a365",
   "metadata": {},
   "outputs": [],
   "source": [
    "problema += sum(c[i,j] * x[i,j] for i in I for j in J), \"funcion_objetivo\""
   ]
  },
  {
   "cell_type": "markdown",
   "id": "89f524db",
   "metadata": {},
   "source": [
    "### Restricciones"
   ]
  },
  {
   "cell_type": "markdown",
   "id": "77e7e409",
   "metadata": {},
   "source": [
    "Agrega al problema las restricciones del modelo."
   ]
  },
  {
   "cell_type": "code",
   "execution_count": null,
   "id": "f986d5ee",
   "metadata": {},
   "outputs": [],
   "source": [
    "for j in J:\n",
    "    problema += sum(x[i, j] for i in I) >= b[j], f\"<nombre_de_la_restriccion_{j}>\""
   ]
  },
  {
   "cell_type": "markdown",
   "id": "265a2a10",
   "metadata": {},
   "source": [
    "### Resolver el problema"
   ]
  },
  {
   "cell_type": "markdown",
   "id": "d7661201",
   "metadata": {},
   "source": [
    "Invoca el optimizador. Este paso le asigna un valor a las variables incluidas en las restricciones o función objetivo del modelo."
   ]
  },
  {
   "cell_type": "code",
   "execution_count": null,
   "id": "ae811704",
   "metadata": {},
   "outputs": [],
   "source": [
    "problema.solve()"
   ]
  },
  {
   "cell_type": "markdown",
   "id": "655b238a",
   "metadata": {},
   "source": [
    "### Imprimir resultados"
   ]
  },
  {
   "cell_type": "markdown",
   "id": "8a7a8a35",
   "metadata": {},
   "source": [
    "Antes de estudiar el óptimo del modelo, identifica en el estado del optimizador si pudo resolver el problema."
   ]
  },
  {
   "cell_type": "code",
   "execution_count": null,
   "id": "whole-trust",
   "metadata": {},
   "outputs": [],
   "source": [
    "f\"Estado del optimizador: {lp.LpStatus[problema.status]}\""
   ]
  },
  {
   "cell_type": "markdown",
   "id": "ea6fe01e",
   "metadata": {},
   "source": [
    "Identifica también el valor de la función objetivo."
   ]
  },
  {
   "cell_type": "code",
   "execution_count": null,
   "id": "11b75d2c",
   "metadata": {},
   "outputs": [],
   "source": [
    "f\"<Significado FO>: {lp.value(problema.objective)}\""
   ]
  },
  {
   "cell_type": "markdown",
   "id": "6e59d608",
   "metadata": {},
   "source": [
    "Por último, imprimime de manera estructurada el valor de las variables de decisión y otras expresiones de interés."
   ]
  },
  {
   "cell_type": "code",
   "execution_count": null,
   "id": "ad53e1be",
   "metadata": {},
   "outputs": [],
   "source": [
    "for i in I:\n",
    "    print(f\"\\t{i}\", end=\"\")\n",
    "\n",
    "for j in J:\n",
    "    print(j, end=\"\\t\")\n",
    "    for i in I:\n",
    "        print(lp.value(x[i, j]), end=\"\\t\")\n",
    "    print()\n",
    "    \n",
    "f\"Una expresión: {lp.value(sum(c[i,j] * x[i, j] for i in I for j in J))}\""
   ]
  },
  {
   "cell_type": "markdown",
   "id": "hired-insulation",
   "metadata": {},
   "source": [
    "## Créditos\n",
    "\n",
    "Equipo Principios de Optimización<br>\n",
    "Autores: <!--Se define como autores a la(s) persona(s) que crearon el problema/enunciado.--><br>\n",
    "Desarrollo: <!--Se define como desarrolladores a la(s) persona(s) que crearon el notebook y la instancia que se implemento en el mismo.--><br>\n",
    "Última fecha de modificación: "
   ]
  }
 ],
 "metadata": {
  "kernelspec": {
   "display_name": "Python 3 (ipykernel)",
   "language": "python",
   "name": "python3"
  },
  "language_info": {
   "codemirror_mode": {
    "name": "ipython",
    "version": 3
   },
   "file_extension": ".py",
   "mimetype": "text/x-python",
   "name": "python",
   "nbconvert_exporter": "python",
   "pygments_lexer": "ipython3",
   "version": "3.11.3"
  }
 },
 "nbformat": 4,
 "nbformat_minor": 5
}
